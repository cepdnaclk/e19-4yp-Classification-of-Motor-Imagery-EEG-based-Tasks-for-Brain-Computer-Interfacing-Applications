{
 "cells": [
  {
   "cell_type": "code",
   "execution_count": null,
   "id": "eb83eee7-fb6e-47a7-b6a4-d842e4c3b8c3",
   "metadata": {},
   "outputs": [
    {
     "name": "stdout",
     "output_type": "stream",
     "text": [
      "\n",
      "Processing: /storage/projects1/e19-4yp-mi-eeg-for-bci/rawdata/session2_sub14_twist_MI.vhdr\n",
      "Extracting parameters from /storage/projects1/e19-4yp-mi-eeg-for-bci/rawdata/session2_sub14_twist_MI.vhdr...\n",
      "Setting channel info structure...\n",
      "Reading 0 ... 2564199  =      0.000 ...  1025.680 secs...\n"
     ]
    },
    {
     "name": "stderr",
     "output_type": "stream",
     "text": [
      "/tmp/ipykernel_24872/1726901494.py:33: RuntimeWarning: Online software filter detected. Using software filter settings and ignoring hardware values\n",
      "  raw = mne.io.read_raw_brainvision(vhdr_path, preload=True)\n",
      "/tmp/ipykernel_24872/1726901494.py:33: RuntimeWarning: Channels contain different highpass filters. Lowest (weakest) filter setting (0.00 Hz) will be stored.\n",
      "  raw = mne.io.read_raw_brainvision(vhdr_path, preload=True)\n",
      "/tmp/ipykernel_24872/1726901494.py:33: RuntimeWarning: Channels contain different lowpass filters. Highest (weakest) filter setting (1250.00 Hz, Nyquist limit) will be stored.\n",
      "  raw = mne.io.read_raw_brainvision(vhdr_path, preload=True)\n"
     ]
    },
    {
     "name": "stdout",
     "output_type": "stream",
     "text": [
      "Filtering raw data in 1 contiguous segment\n",
      "Setting up band-stop filter from 59 - 61 Hz\n",
      "\n",
      "FIR filter parameters\n",
      "---------------------\n",
      "Designing a one-pass, zero-phase, non-causal bandstop filter:\n",
      "- Windowed time-domain design (firwin) method\n",
      "- Hamming window with 0.0194 passband ripple and 53 dB stopband attenuation\n",
      "- Lower passband edge: 59.35\n",
      "- Lower transition bandwidth: 0.50 Hz (-6 dB cutoff frequency: 59.10 Hz)\n",
      "- Upper passband edge: 60.65 Hz\n",
      "- Upper transition bandwidth: 0.50 Hz (-6 dB cutoff frequency: 60.90 Hz)\n",
      "- Filter length: 1691 samples (6.605 s)\n",
      "\n",
      "Filtering raw data in 1 contiguous segment\n",
      "Setting up band-pass filter from 8 - 30 Hz\n",
      "\n",
      "FIR filter parameters\n",
      "---------------------\n",
      "Designing a one-pass, zero-phase, non-causal bandpass filter:\n",
      "- Windowed time-domain design (firwin) method\n",
      "- Hamming window with 0.0194 passband ripple and 53 dB stopband attenuation\n",
      "- Lower passband edge: 8.00\n",
      "- Lower transition bandwidth: 2.00 Hz (-6 dB cutoff frequency: 7.00 Hz)\n",
      "- Upper passband edge: 30.00 Hz\n",
      "- Upper transition bandwidth: 7.50 Hz (-6 dB cutoff frequency: 33.75 Hz)\n",
      "- Filter length: 423 samples (1.652 s)\n",
      "\n"
     ]
    },
    {
     "name": "stderr",
     "output_type": "stream",
     "text": [
      "[Parallel(n_jobs=1)]: Done  17 tasks      | elapsed:    0.1s\n",
      "[Parallel(n_jobs=1)]: Done  60 out of  60 | elapsed:    0.2s finished\n"
     ]
    },
    {
     "name": "stdout",
     "output_type": "stream",
     "text": [
      "Fitting ICA to data using 60 channels (please be patient, this may take a while)\n"
     ]
    },
    {
     "name": "stderr",
     "output_type": "stream",
     "text": [
      "[Parallel(n_jobs=1)]: Done  17 tasks      | elapsed:    0.1s\n",
      "[Parallel(n_jobs=1)]: Done  60 out of  60 | elapsed:    0.2s finished\n"
     ]
    },
    {
     "name": "stdout",
     "output_type": "stream",
     "text": [
      "Selecting by number: 10 components\n",
      "Fitting ICA took 0.2s.\n",
      "Fitting ICA to data using 60 channels (please be patient, this may take a while)\n",
      "Selecting by number: 15 components\n",
      "Fitting ICA took 2.5s.\n",
      "Applying ICA to Raw instance\n",
      "    Transforming to ICA space (15 components)\n",
      "    Zeroing out 0 ICA components\n",
      "    Projecting back using 60 PCA components\n",
      "Used Annotations descriptions: [np.str_('Comment/actiCAP Active Shield On'), np.str_('New Segment/'), np.str_('Stimulus/S  8'), np.str_('Stimulus/S  9'), np.str_('Stimulus/S 10'), np.str_('Stimulus/S 13'), np.str_('Stimulus/S 14'), np.str_('Stimulus/S 91'), np.str_('Stimulus/S101')]\n",
      "Not setting metadata\n",
      "100 matching events found\n",
      "Setting baseline interval to [-0.19921875, 0.0] s\n",
      "Applying baseline correction (mode: mean)\n",
      "0 projection items activated\n",
      "Using data from preloaded Raw for 100 events and 564 original time points ...\n",
      "0 bad epochs dropped\n",
      "0 bad epochs dropped\n",
      "Saved: /storage/projects1/e19-4yp-mi-eeg-for-bci/ashan/processed_data3/session2_sub14_twist_MI.npz (X=(100, 60, 564), y=(100,))\n",
      "\n",
      "Processing: /storage/projects1/e19-4yp-mi-eeg-for-bci/rawdata/session1_sub15_twist_MI.vhdr\n",
      "Extracting parameters from /storage/projects1/e19-4yp-mi-eeg-for-bci/rawdata/session1_sub15_twist_MI.vhdr...\n",
      "Setting channel info structure...\n",
      "Reading 0 ... 2565699  =      0.000 ...  1026.280 secs...\n"
     ]
    },
    {
     "name": "stderr",
     "output_type": "stream",
     "text": [
      "/tmp/ipykernel_24872/1726901494.py:33: RuntimeWarning: Online software filter detected. Using software filter settings and ignoring hardware values\n",
      "  raw = mne.io.read_raw_brainvision(vhdr_path, preload=True)\n",
      "/tmp/ipykernel_24872/1726901494.py:33: RuntimeWarning: Channels contain different highpass filters. Lowest (weakest) filter setting (0.00 Hz) will be stored.\n",
      "  raw = mne.io.read_raw_brainvision(vhdr_path, preload=True)\n",
      "/tmp/ipykernel_24872/1726901494.py:33: RuntimeWarning: Channels contain different lowpass filters. Highest (weakest) filter setting (1250.00 Hz, Nyquist limit) will be stored.\n",
      "  raw = mne.io.read_raw_brainvision(vhdr_path, preload=True)\n"
     ]
    },
    {
     "name": "stdout",
     "output_type": "stream",
     "text": [
      "Filtering raw data in 1 contiguous segment\n",
      "Setting up band-stop filter from 59 - 61 Hz\n",
      "\n",
      "FIR filter parameters\n",
      "---------------------\n",
      "Designing a one-pass, zero-phase, non-causal bandstop filter:\n",
      "- Windowed time-domain design (firwin) method\n",
      "- Hamming window with 0.0194 passband ripple and 53 dB stopband attenuation\n",
      "- Lower passband edge: 59.35\n",
      "- Lower transition bandwidth: 0.50 Hz (-6 dB cutoff frequency: 59.10 Hz)\n",
      "- Upper passband edge: 60.65 Hz\n",
      "- Upper transition bandwidth: 0.50 Hz (-6 dB cutoff frequency: 60.90 Hz)\n",
      "- Filter length: 1691 samples (6.605 s)\n",
      "\n"
     ]
    },
    {
     "name": "stderr",
     "output_type": "stream",
     "text": [
      "[Parallel(n_jobs=1)]: Done  17 tasks      | elapsed:    0.1s\n"
     ]
    },
    {
     "name": "stdout",
     "output_type": "stream",
     "text": [
      "Filtering raw data in 1 contiguous segment\n",
      "Setting up band-pass filter from 8 - 30 Hz\n",
      "\n",
      "FIR filter parameters\n",
      "---------------------\n",
      "Designing a one-pass, zero-phase, non-causal bandpass filter:\n",
      "- Windowed time-domain design (firwin) method\n",
      "- Hamming window with 0.0194 passband ripple and 53 dB stopband attenuation\n",
      "- Lower passband edge: 8.00\n",
      "- Lower transition bandwidth: 2.00 Hz (-6 dB cutoff frequency: 7.00 Hz)\n",
      "- Upper passband edge: 30.00 Hz\n",
      "- Upper transition bandwidth: 7.50 Hz (-6 dB cutoff frequency: 33.75 Hz)\n",
      "- Filter length: 423 samples (1.652 s)\n",
      "\n"
     ]
    },
    {
     "name": "stderr",
     "output_type": "stream",
     "text": [
      "[Parallel(n_jobs=1)]: Done  60 out of  60 | elapsed:    0.3s finished\n",
      "[Parallel(n_jobs=1)]: Done  17 tasks      | elapsed:    0.1s\n"
     ]
    },
    {
     "name": "stdout",
     "output_type": "stream",
     "text": [
      "Fitting ICA to data using 60 channels (please be patient, this may take a while)\n",
      "Selecting by number: 10 components\n",
      "Fitting ICA took 0.1s.\n",
      "Fitting ICA to data using 60 channels (please be patient, this may take a while)\n"
     ]
    },
    {
     "name": "stderr",
     "output_type": "stream",
     "text": [
      "[Parallel(n_jobs=1)]: Done  60 out of  60 | elapsed:    0.3s finished\n"
     ]
    },
    {
     "name": "stdout",
     "output_type": "stream",
     "text": [
      "Selecting by number: 15 components\n",
      "Fitting ICA took 2.9s.\n",
      "Applying ICA to Raw instance\n",
      "    Transforming to ICA space (15 components)\n",
      "    Zeroing out 0 ICA components\n",
      "    Projecting back using 60 PCA components\n",
      "Used Annotations descriptions: [np.str_('Comment/actiCAP Data On'), np.str_('New Segment/'), np.str_('Stimulus/S  8'), np.str_('Stimulus/S  9'), np.str_('Stimulus/S 10'), np.str_('Stimulus/S 13'), np.str_('Stimulus/S 14'), np.str_('Stimulus/S 91'), np.str_('Stimulus/S101')]\n",
      "Not setting metadata\n",
      "100 matching events found\n",
      "Setting baseline interval to [-0.19921875, 0.0] s\n",
      "Applying baseline correction (mode: mean)\n",
      "0 projection items activated\n",
      "Using data from preloaded Raw for 100 events and 564 original time points ...\n",
      "0 bad epochs dropped\n",
      "0 bad epochs dropped\n",
      "Saved: /storage/projects1/e19-4yp-mi-eeg-for-bci/ashan/processed_data3/session1_sub15_twist_MI.npz (X=(100, 60, 564), y=(100,))\n",
      "\n",
      "Processing: /storage/projects1/e19-4yp-mi-eeg-for-bci/rawdata/session2_sub3_twist_MI.vhdr\n",
      "Extracting parameters from /storage/projects1/e19-4yp-mi-eeg-for-bci/rawdata/session2_sub3_twist_MI.vhdr...\n",
      "Setting channel info structure...\n",
      "Reading 0 ... 2579699  =      0.000 ...  1031.880 secs...\n"
     ]
    },
    {
     "name": "stderr",
     "output_type": "stream",
     "text": [
      "/tmp/ipykernel_24872/1726901494.py:33: RuntimeWarning: Online software filter detected. Using software filter settings and ignoring hardware values\n",
      "  raw = mne.io.read_raw_brainvision(vhdr_path, preload=True)\n",
      "/tmp/ipykernel_24872/1726901494.py:33: RuntimeWarning: Channels contain different highpass filters. Lowest (weakest) filter setting (0.00 Hz) will be stored.\n",
      "  raw = mne.io.read_raw_brainvision(vhdr_path, preload=True)\n",
      "/tmp/ipykernel_24872/1726901494.py:33: RuntimeWarning: Channels contain different lowpass filters. Highest (weakest) filter setting (1250.00 Hz, Nyquist limit) will be stored.\n",
      "  raw = mne.io.read_raw_brainvision(vhdr_path, preload=True)\n"
     ]
    },
    {
     "name": "stdout",
     "output_type": "stream",
     "text": [
      "Filtering raw data in 1 contiguous segment\n",
      "Setting up band-stop filter from 59 - 61 Hz\n",
      "\n",
      "FIR filter parameters\n",
      "---------------------\n",
      "Designing a one-pass, zero-phase, non-causal bandstop filter:\n",
      "- Windowed time-domain design (firwin) method\n",
      "- Hamming window with 0.0194 passband ripple and 53 dB stopband attenuation\n",
      "- Lower passband edge: 59.35\n",
      "- Lower transition bandwidth: 0.50 Hz (-6 dB cutoff frequency: 59.10 Hz)\n",
      "- Upper passband edge: 60.65 Hz\n",
      "- Upper transition bandwidth: 0.50 Hz (-6 dB cutoff frequency: 60.90 Hz)\n",
      "- Filter length: 1691 samples (6.605 s)\n",
      "\n",
      "Filtering raw data in 1 contiguous segment\n",
      "Setting up band-pass filter from 8 - 30 Hz\n",
      "\n",
      "FIR filter parameters\n",
      "---------------------\n",
      "Designing a one-pass, zero-phase, non-causal bandpass filter:\n",
      "- Windowed time-domain design (firwin) method\n",
      "- Hamming window with 0.0194 passband ripple and 53 dB stopband attenuation\n",
      "- Lower passband edge: 8.00\n",
      "- Lower transition bandwidth: 2.00 Hz (-6 dB cutoff frequency: 7.00 Hz)\n",
      "- Upper passband edge: 30.00 Hz\n",
      "- Upper transition bandwidth: 7.50 Hz (-6 dB cutoff frequency: 33.75 Hz)\n",
      "- Filter length: 423 samples (1.652 s)\n",
      "\n"
     ]
    },
    {
     "name": "stderr",
     "output_type": "stream",
     "text": [
      "[Parallel(n_jobs=1)]: Done  17 tasks      | elapsed:    0.0s\n",
      "[Parallel(n_jobs=1)]: Done  60 out of  60 | elapsed:    0.2s finished\n",
      "[Parallel(n_jobs=1)]: Done  17 tasks      | elapsed:    0.0s\n"
     ]
    },
    {
     "name": "stdout",
     "output_type": "stream",
     "text": [
      "Fitting ICA to data using 60 channels (please be patient, this may take a while)\n",
      "Selecting by number: 10 components\n",
      "Fitting ICA took 0.1s.\n",
      "Fitting ICA to data using 60 channels (please be patient, this may take a while)\n"
     ]
    },
    {
     "name": "stderr",
     "output_type": "stream",
     "text": [
      "[Parallel(n_jobs=1)]: Done  60 out of  60 | elapsed:    0.2s finished\n"
     ]
    },
    {
     "name": "stdout",
     "output_type": "stream",
     "text": [
      "Selecting by number: 15 components\n",
      "Fitting ICA took 3.2s.\n",
      "Applying ICA to Raw instance\n",
      "    Transforming to ICA space (15 components)\n",
      "    Zeroing out 0 ICA components\n",
      "    Projecting back using 60 PCA components\n",
      "Used Annotations descriptions: [np.str_('Comment/actiCAP Active Shield On'), np.str_('New Segment/'), np.str_('Stimulus/S  8'), np.str_('Stimulus/S  9'), np.str_('Stimulus/S 10'), np.str_('Stimulus/S 13'), np.str_('Stimulus/S 14'), np.str_('Stimulus/S 91'), np.str_('Stimulus/S101')]\n",
      "Not setting metadata\n",
      "100 matching events found\n",
      "Setting baseline interval to [-0.19921875, 0.0] s\n",
      "Applying baseline correction (mode: mean)\n",
      "0 projection items activated\n",
      "Using data from preloaded Raw for 100 events and 564 original time points ...\n",
      "0 bad epochs dropped\n",
      "    Rejecting  epoch based on EEG : ['FT8']\n",
      "1 bad epochs dropped\n",
      "Saved: /storage/projects1/e19-4yp-mi-eeg-for-bci/ashan/processed_data3/session2_sub3_twist_MI.npz (X=(99, 60, 564), y=(99,))\n",
      "\n",
      "Processing: /storage/projects1/e19-4yp-mi-eeg-for-bci/rawdata/session1_sub17_twist_MI.vhdr\n",
      "Extracting parameters from /storage/projects1/e19-4yp-mi-eeg-for-bci/rawdata/session1_sub17_twist_MI.vhdr...\n",
      "Setting channel info structure...\n",
      "Reading 0 ... 12126799  =      0.000 ...  4850.720 secs...\n"
     ]
    },
    {
     "name": "stderr",
     "output_type": "stream",
     "text": [
      "/tmp/ipykernel_24872/1726901494.py:33: RuntimeWarning: Online software filter detected. Using software filter settings and ignoring hardware values\n",
      "  raw = mne.io.read_raw_brainvision(vhdr_path, preload=True)\n",
      "/tmp/ipykernel_24872/1726901494.py:33: RuntimeWarning: Channels contain different highpass filters. Lowest (weakest) filter setting (0.00 Hz) will be stored.\n",
      "  raw = mne.io.read_raw_brainvision(vhdr_path, preload=True)\n",
      "/tmp/ipykernel_24872/1726901494.py:33: RuntimeWarning: Channels contain different lowpass filters. Highest (weakest) filter setting (1250.00 Hz, Nyquist limit) will be stored.\n",
      "  raw = mne.io.read_raw_brainvision(vhdr_path, preload=True)\n"
     ]
    },
    {
     "name": "stdout",
     "output_type": "stream",
     "text": [
      "Filtering raw data in 1 contiguous segment\n",
      "Setting up band-stop filter from 59 - 61 Hz\n",
      "\n",
      "FIR filter parameters\n",
      "---------------------\n",
      "Designing a one-pass, zero-phase, non-causal bandstop filter:\n",
      "- Windowed time-domain design (firwin) method\n",
      "- Hamming window with 0.0194 passband ripple and 53 dB stopband attenuation\n",
      "- Lower passband edge: 59.35\n",
      "- Lower transition bandwidth: 0.50 Hz (-6 dB cutoff frequency: 59.10 Hz)\n",
      "- Upper passband edge: 60.65 Hz\n",
      "- Upper transition bandwidth: 0.50 Hz (-6 dB cutoff frequency: 60.90 Hz)\n",
      "- Filter length: 1691 samples (6.605 s)\n",
      "\n"
     ]
    },
    {
     "name": "stderr",
     "output_type": "stream",
     "text": [
      "[Parallel(n_jobs=1)]: Done  17 tasks      | elapsed:    0.2s\n"
     ]
    },
    {
     "name": "stdout",
     "output_type": "stream",
     "text": [
      "Filtering raw data in 1 contiguous segment\n",
      "Setting up band-pass filter from 8 - 30 Hz\n",
      "\n",
      "FIR filter parameters\n",
      "---------------------\n",
      "Designing a one-pass, zero-phase, non-causal bandpass filter:\n",
      "- Windowed time-domain design (firwin) method\n",
      "- Hamming window with 0.0194 passband ripple and 53 dB stopband attenuation\n",
      "- Lower passband edge: 8.00\n",
      "- Lower transition bandwidth: 2.00 Hz (-6 dB cutoff frequency: 7.00 Hz)\n",
      "- Upper passband edge: 30.00 Hz\n",
      "- Upper transition bandwidth: 7.50 Hz (-6 dB cutoff frequency: 33.75 Hz)\n",
      "- Filter length: 423 samples (1.652 s)\n",
      "\n"
     ]
    },
    {
     "name": "stderr",
     "output_type": "stream",
     "text": [
      "[Parallel(n_jobs=1)]: Done  60 out of  60 | elapsed:    0.8s finished\n",
      "[Parallel(n_jobs=1)]: Done  17 tasks      | elapsed:    0.2s\n"
     ]
    },
    {
     "name": "stdout",
     "output_type": "stream",
     "text": [
      "Fitting ICA to data using 60 channels (please be patient, this may take a while)\n",
      "Selecting by number: 10 components\n"
     ]
    },
    {
     "name": "stderr",
     "output_type": "stream",
     "text": [
      "[Parallel(n_jobs=1)]: Done  60 out of  60 | elapsed:    0.9s finished\n"
     ]
    },
    {
     "name": "stdout",
     "output_type": "stream",
     "text": [
      "Fitting ICA took 0.2s.\n",
      "Fitting ICA to data using 60 channels (please be patient, this may take a while)\n",
      "Selecting by number: 15 components\n",
      "Fitting ICA took 13.2s.\n",
      "Applying ICA to Raw instance\n",
      "    Transforming to ICA space (15 components)\n",
      "    Zeroing out 0 ICA components\n",
      "    Projecting back using 60 PCA components\n",
      "Used Annotations descriptions: [np.str_('Comment/actiCAP Data On'), np.str_('New Segment/'), np.str_('Stimulus/S  8'), np.str_('Stimulus/S  9'), np.str_('Stimulus/S 10'), np.str_('Stimulus/S 11'), np.str_('Stimulus/S 12'), np.str_('Stimulus/S 13'), np.str_('Stimulus/S 14'), np.str_('Stimulus/S 91'), np.str_('Stimulus/S101'), np.str_('Stimulus/S111'), np.str_('Stimulus/S121')]\n",
      "Not setting metadata\n",
      "100 matching events found\n",
      "Setting baseline interval to [-0.19921875, 0.0] s\n",
      "Applying baseline correction (mode: mean)\n",
      "0 projection items activated\n",
      "Using data from preloaded Raw for 100 events and 564 original time points ...\n",
      "0 bad epochs dropped\n",
      "    Rejecting  epoch based on EEG : ['AF8', 'F8']\n",
      "    Rejecting  epoch based on EEG : ['PO7']\n",
      "    Rejecting  epoch based on EEG : ['PO7']\n",
      "    Rejecting  epoch based on EEG : ['PO7']\n",
      "    Rejecting  epoch based on EEG : ['PO7']\n",
      "    Rejecting  epoch based on EEG : ['F7', 'FT7', 'FC5', 'T7', 'TP7', 'CP5', 'P7', 'P5', 'PO7', 'PO3', 'F8', 'FC4', 'FC6', 'FT8', 'C4', 'C6', 'T8', 'TP8', 'P8', 'O1', 'Oz', 'Iz']\n",
      "    Rejecting  epoch based on EEG : ['PO7']\n",
      "    Rejecting  epoch based on EEG : ['PO7']\n",
      "    Rejecting  epoch based on EEG : ['PO7']\n",
      "    Rejecting  epoch based on EEG : ['PO7']\n",
      "10 bad epochs dropped\n",
      "Saved: /storage/projects1/e19-4yp-mi-eeg-for-bci/ashan/processed_data3/session1_sub17_twist_MI.npz (X=(90, 60, 564), y=(90,))\n",
      "\n",
      "Processing: /storage/projects1/e19-4yp-mi-eeg-for-bci/rawdata/session2_sub24_twist_MI.vhdr\n",
      "Extracting parameters from /storage/projects1/e19-4yp-mi-eeg-for-bci/rawdata/session2_sub24_twist_MI.vhdr...\n",
      "Setting channel info structure...\n",
      "Reading 0 ... 2588899  =      0.000 ...  1035.560 secs...\n"
     ]
    },
    {
     "name": "stderr",
     "output_type": "stream",
     "text": [
      "/tmp/ipykernel_24872/1726901494.py:33: RuntimeWarning: Online software filter detected. Using software filter settings and ignoring hardware values\n",
      "  raw = mne.io.read_raw_brainvision(vhdr_path, preload=True)\n",
      "/tmp/ipykernel_24872/1726901494.py:33: RuntimeWarning: Channels contain different highpass filters. Lowest (weakest) filter setting (0.00 Hz) will be stored.\n",
      "  raw = mne.io.read_raw_brainvision(vhdr_path, preload=True)\n",
      "/tmp/ipykernel_24872/1726901494.py:33: RuntimeWarning: Channels contain different lowpass filters. Highest (weakest) filter setting (1250.00 Hz, Nyquist limit) will be stored.\n",
      "  raw = mne.io.read_raw_brainvision(vhdr_path, preload=True)\n"
     ]
    },
    {
     "name": "stdout",
     "output_type": "stream",
     "text": [
      "Filtering raw data in 1 contiguous segment\n",
      "Setting up band-stop filter from 59 - 61 Hz\n",
      "\n",
      "FIR filter parameters\n",
      "---------------------\n",
      "Designing a one-pass, zero-phase, non-causal bandstop filter:\n",
      "- Windowed time-domain design (firwin) method\n",
      "- Hamming window with 0.0194 passband ripple and 53 dB stopband attenuation\n",
      "- Lower passband edge: 59.35\n",
      "- Lower transition bandwidth: 0.50 Hz (-6 dB cutoff frequency: 59.10 Hz)\n",
      "- Upper passband edge: 60.65 Hz\n",
      "- Upper transition bandwidth: 0.50 Hz (-6 dB cutoff frequency: 60.90 Hz)\n",
      "- Filter length: 1691 samples (6.605 s)\n",
      "\n",
      "Filtering raw data in 1 contiguous segment\n",
      "Setting up band-pass filter from 8 - 30 Hz\n",
      "\n",
      "FIR filter parameters\n",
      "---------------------\n",
      "Designing a one-pass, zero-phase, non-causal bandpass filter:\n",
      "- Windowed time-domain design (firwin) method\n",
      "- Hamming window with 0.0194 passband ripple and 53 dB stopband attenuation\n",
      "- Lower passband edge: 8.00\n",
      "- Lower transition bandwidth: 2.00 Hz (-6 dB cutoff frequency: 7.00 Hz)\n",
      "- Upper passband edge: 30.00 Hz\n",
      "- Upper transition bandwidth: 7.50 Hz (-6 dB cutoff frequency: 33.75 Hz)\n",
      "- Filter length: 423 samples (1.652 s)\n",
      "\n"
     ]
    },
    {
     "name": "stderr",
     "output_type": "stream",
     "text": [
      "[Parallel(n_jobs=1)]: Done  17 tasks      | elapsed:    0.1s\n",
      "[Parallel(n_jobs=1)]: Done  60 out of  60 | elapsed:    0.2s finished\n",
      "[Parallel(n_jobs=1)]: Done  17 tasks      | elapsed:    0.0s\n"
     ]
    },
    {
     "name": "stdout",
     "output_type": "stream",
     "text": [
      "Fitting ICA to data using 60 channels (please be patient, this may take a while)\n",
      "Selecting by number: 10 components\n",
      "Fitting ICA took 0.1s.\n",
      "Fitting ICA to data using 60 channels (please be patient, this may take a while)\n"
     ]
    },
    {
     "name": "stderr",
     "output_type": "stream",
     "text": [
      "[Parallel(n_jobs=1)]: Done  60 out of  60 | elapsed:    0.2s finished\n"
     ]
    },
    {
     "name": "stdout",
     "output_type": "stream",
     "text": [
      "Selecting by number: 15 components\n",
      "Fitting ICA took 1.6s.\n",
      "Applying ICA to Raw instance\n",
      "    Transforming to ICA space (15 components)\n",
      "    Zeroing out 0 ICA components\n",
      "    Projecting back using 60 PCA components\n",
      "Used Annotations descriptions: [np.str_('Comment/actiCAP Active Shield On'), np.str_('New Segment/'), np.str_('Stimulus/S  8'), np.str_('Stimulus/S  9'), np.str_('Stimulus/S 10'), np.str_('Stimulus/S 13'), np.str_('Stimulus/S 14'), np.str_('Stimulus/S 91'), np.str_('Stimulus/S101')]\n",
      "Not setting metadata\n",
      "100 matching events found\n",
      "Setting baseline interval to [-0.19921875, 0.0] s\n",
      "Applying baseline correction (mode: mean)\n",
      "0 projection items activated\n",
      "Using data from preloaded Raw for 100 events and 564 original time points ...\n",
      "0 bad epochs dropped\n",
      "    Rejecting  epoch based on EEG : ['Fp1', 'AF7', 'AF3', 'F7', 'F5', 'FC3', 'Fp2', 'AF8', 'F4']\n",
      "1 bad epochs dropped\n",
      "Saved: /storage/projects1/e19-4yp-mi-eeg-for-bci/ashan/processed_data3/session2_sub24_twist_MI.npz (X=(99, 60, 564), y=(99,))\n",
      "\n",
      "Processing: /storage/projects1/e19-4yp-mi-eeg-for-bci/rawdata/session1_sub1_twist_MI.vhdr\n",
      "Extracting parameters from /storage/projects1/e19-4yp-mi-eeg-for-bci/rawdata/session1_sub1_twist_MI.vhdr...\n",
      "Setting channel info structure...\n",
      "Reading 0 ... 2605499  =      0.000 ...  1042.200 secs...\n"
     ]
    },
    {
     "name": "stderr",
     "output_type": "stream",
     "text": [
      "/tmp/ipykernel_24872/1726901494.py:33: RuntimeWarning: Online software filter detected. Using software filter settings and ignoring hardware values\n",
      "  raw = mne.io.read_raw_brainvision(vhdr_path, preload=True)\n",
      "/tmp/ipykernel_24872/1726901494.py:33: RuntimeWarning: Channels contain different highpass filters. Lowest (weakest) filter setting (0.00 Hz) will be stored.\n",
      "  raw = mne.io.read_raw_brainvision(vhdr_path, preload=True)\n",
      "/tmp/ipykernel_24872/1726901494.py:33: RuntimeWarning: Channels contain different lowpass filters. Highest (weakest) filter setting (1250.00 Hz, Nyquist limit) will be stored.\n",
      "  raw = mne.io.read_raw_brainvision(vhdr_path, preload=True)\n"
     ]
    },
    {
     "name": "stdout",
     "output_type": "stream",
     "text": [
      "Filtering raw data in 1 contiguous segment\n",
      "Setting up band-stop filter from 59 - 61 Hz\n",
      "\n",
      "FIR filter parameters\n",
      "---------------------\n",
      "Designing a one-pass, zero-phase, non-causal bandstop filter:\n",
      "- Windowed time-domain design (firwin) method\n",
      "- Hamming window with 0.0194 passband ripple and 53 dB stopband attenuation\n",
      "- Lower passband edge: 59.35\n",
      "- Lower transition bandwidth: 0.50 Hz (-6 dB cutoff frequency: 59.10 Hz)\n",
      "- Upper passband edge: 60.65 Hz\n",
      "- Upper transition bandwidth: 0.50 Hz (-6 dB cutoff frequency: 60.90 Hz)\n",
      "- Filter length: 1691 samples (6.605 s)\n",
      "\n",
      "Filtering raw data in 1 contiguous segment\n",
      "Setting up band-pass filter from 8 - 30 Hz\n",
      "\n",
      "FIR filter parameters\n",
      "---------------------\n",
      "Designing a one-pass, zero-phase, non-causal bandpass filter:\n",
      "- Windowed time-domain design (firwin) method\n",
      "- Hamming window with 0.0194 passband ripple and 53 dB stopband attenuation\n",
      "- Lower passband edge: 8.00\n",
      "- Lower transition bandwidth: 2.00 Hz (-6 dB cutoff frequency: 7.00 Hz)\n",
      "- Upper passband edge: 30.00 Hz\n",
      "- Upper transition bandwidth: 7.50 Hz (-6 dB cutoff frequency: 33.75 Hz)\n",
      "- Filter length: 423 samples (1.652 s)\n",
      "\n"
     ]
    },
    {
     "name": "stderr",
     "output_type": "stream",
     "text": [
      "[Parallel(n_jobs=1)]: Done  17 tasks      | elapsed:    0.1s\n",
      "[Parallel(n_jobs=1)]: Done  60 out of  60 | elapsed:    0.2s finished\n"
     ]
    },
    {
     "name": "stdout",
     "output_type": "stream",
     "text": [
      "Fitting ICA to data using 60 channels (please be patient, this may take a while)\n"
     ]
    },
    {
     "name": "stderr",
     "output_type": "stream",
     "text": [
      "[Parallel(n_jobs=1)]: Done  17 tasks      | elapsed:    0.0s\n",
      "[Parallel(n_jobs=1)]: Done  60 out of  60 | elapsed:    0.2s finished\n"
     ]
    },
    {
     "name": "stdout",
     "output_type": "stream",
     "text": [
      "Selecting by number: 10 components\n",
      "Fitting ICA took 0.1s.\n",
      "Fitting ICA to data using 60 channels (please be patient, this may take a while)\n",
      "Selecting by number: 15 components\n",
      "Fitting ICA took 2.0s.\n",
      "Applying ICA to Raw instance\n",
      "    Transforming to ICA space (15 components)\n",
      "    Zeroing out 0 ICA components\n",
      "    Projecting back using 60 PCA components\n",
      "Used Annotations descriptions: [np.str_('Comment/actiCAP Active Shield On'), np.str_('New Segment/'), np.str_('Stimulus/S  8'), np.str_('Stimulus/S  9'), np.str_('Stimulus/S 10'), np.str_('Stimulus/S 13'), np.str_('Stimulus/S 14'), np.str_('Stimulus/S 91'), np.str_('Stimulus/S101')]\n",
      "Not setting metadata\n",
      "100 matching events found\n",
      "Setting baseline interval to [-0.19921875, 0.0] s\n",
      "Applying baseline correction (mode: mean)\n",
      "0 projection items activated\n",
      "Using data from preloaded Raw for 100 events and 564 original time points ...\n",
      "0 bad epochs dropped\n",
      "    Rejecting  epoch based on EEG : ['Fp2']\n",
      "1 bad epochs dropped\n",
      "Saved: /storage/projects1/e19-4yp-mi-eeg-for-bci/ashan/processed_data3/session1_sub1_twist_MI.npz (X=(99, 60, 564), y=(99,))\n",
      "\n",
      "Processing: /storage/projects1/e19-4yp-mi-eeg-for-bci/rawdata/session3_sub24_twist_MI.vhdr\n",
      "Extracting parameters from /storage/projects1/e19-4yp-mi-eeg-for-bci/rawdata/session3_sub24_twist_MI.vhdr...\n",
      "Setting channel info structure...\n",
      "Reading 0 ... 2567599  =      0.000 ...  1027.040 secs...\n"
     ]
    },
    {
     "name": "stderr",
     "output_type": "stream",
     "text": [
      "/tmp/ipykernel_24872/1726901494.py:33: RuntimeWarning: Online software filter detected. Using software filter settings and ignoring hardware values\n",
      "  raw = mne.io.read_raw_brainvision(vhdr_path, preload=True)\n",
      "/tmp/ipykernel_24872/1726901494.py:33: RuntimeWarning: Channels contain different highpass filters. Lowest (weakest) filter setting (0.00 Hz) will be stored.\n",
      "  raw = mne.io.read_raw_brainvision(vhdr_path, preload=True)\n",
      "/tmp/ipykernel_24872/1726901494.py:33: RuntimeWarning: Channels contain different lowpass filters. Highest (weakest) filter setting (1250.00 Hz, Nyquist limit) will be stored.\n",
      "  raw = mne.io.read_raw_brainvision(vhdr_path, preload=True)\n"
     ]
    },
    {
     "name": "stdout",
     "output_type": "stream",
     "text": [
      "Filtering raw data in 1 contiguous segment\n",
      "Setting up band-stop filter from 59 - 61 Hz\n",
      "\n",
      "FIR filter parameters\n",
      "---------------------\n",
      "Designing a one-pass, zero-phase, non-causal bandstop filter:\n",
      "- Windowed time-domain design (firwin) method\n",
      "- Hamming window with 0.0194 passband ripple and 53 dB stopband attenuation\n",
      "- Lower passband edge: 59.35\n",
      "- Lower transition bandwidth: 0.50 Hz (-6 dB cutoff frequency: 59.10 Hz)\n",
      "- Upper passband edge: 60.65 Hz\n",
      "- Upper transition bandwidth: 0.50 Hz (-6 dB cutoff frequency: 60.90 Hz)\n",
      "- Filter length: 1691 samples (6.605 s)\n",
      "\n",
      "Filtering raw data in 1 contiguous segment\n",
      "Setting up band-pass filter from 8 - 30 Hz\n",
      "\n",
      "FIR filter parameters\n",
      "---------------------\n",
      "Designing a one-pass, zero-phase, non-causal bandpass filter:\n",
      "- Windowed time-domain design (firwin) method\n",
      "- Hamming window with 0.0194 passband ripple and 53 dB stopband attenuation\n",
      "- Lower passband edge: 8.00\n",
      "- Lower transition bandwidth: 2.00 Hz (-6 dB cutoff frequency: 7.00 Hz)\n",
      "- Upper passband edge: 30.00 Hz\n",
      "- Upper transition bandwidth: 7.50 Hz (-6 dB cutoff frequency: 33.75 Hz)\n",
      "- Filter length: 423 samples (1.652 s)\n",
      "\n"
     ]
    },
    {
     "name": "stderr",
     "output_type": "stream",
     "text": [
      "[Parallel(n_jobs=1)]: Done  17 tasks      | elapsed:    0.1s\n",
      "[Parallel(n_jobs=1)]: Done  60 out of  60 | elapsed:    0.2s finished\n"
     ]
    },
    {
     "name": "stdout",
     "output_type": "stream",
     "text": [
      "Fitting ICA to data using 60 channels (please be patient, this may take a while)\n",
      "Selecting by number: 10 components\n"
     ]
    },
    {
     "name": "stderr",
     "output_type": "stream",
     "text": [
      "[Parallel(n_jobs=1)]: Done  17 tasks      | elapsed:    0.0s\n",
      "[Parallel(n_jobs=1)]: Done  60 out of  60 | elapsed:    0.2s finished\n"
     ]
    },
    {
     "name": "stdout",
     "output_type": "stream",
     "text": [
      "Fitting ICA took 0.1s.\n",
      "Fitting ICA to data using 60 channels (please be patient, this may take a while)\n",
      "Selecting by number: 15 components\n",
      "Fitting ICA took 3.6s.\n",
      "Applying ICA to Raw instance\n",
      "    Transforming to ICA space (15 components)\n",
      "    Zeroing out 0 ICA components\n",
      "    Projecting back using 60 PCA components\n",
      "Used Annotations descriptions: [np.str_('Comment/actiCAP Active Shield On'), np.str_('New Segment/'), np.str_('Stimulus/S  8'), np.str_('Stimulus/S  9'), np.str_('Stimulus/S 10'), np.str_('Stimulus/S 13'), np.str_('Stimulus/S 14'), np.str_('Stimulus/S 91'), np.str_('Stimulus/S101')]\n",
      "Not setting metadata\n",
      "100 matching events found\n",
      "Setting baseline interval to [-0.19921875, 0.0] s\n",
      "Applying baseline correction (mode: mean)\n",
      "0 projection items activated\n",
      "Using data from preloaded Raw for 100 events and 564 original time points ...\n",
      "0 bad epochs dropped\n",
      "    Rejecting  epoch based on EEG : ['FT7', 'T7', 'F8', 'FC6', 'FT8', 'C6', 'T8', 'CP6', 'TP8']\n",
      "    Rejecting  epoch based on EEG : ['T7', 'T8']\n",
      "2 bad epochs dropped\n",
      "Saved: /storage/projects1/e19-4yp-mi-eeg-for-bci/ashan/processed_data3/session3_sub24_twist_MI.npz (X=(98, 60, 564), y=(98,))\n",
      "\n",
      "Processing: /storage/projects1/e19-4yp-mi-eeg-for-bci/rawdata/session3_sub7_twist_MI.vhdr\n",
      "Extracting parameters from /storage/projects1/e19-4yp-mi-eeg-for-bci/rawdata/session3_sub7_twist_MI.vhdr...\n",
      "Setting channel info structure...\n",
      "Reading 0 ... 2547999  =      0.000 ...  1019.200 secs...\n"
     ]
    },
    {
     "name": "stderr",
     "output_type": "stream",
     "text": [
      "/tmp/ipykernel_24872/1726901494.py:33: RuntimeWarning: Online software filter detected. Using software filter settings and ignoring hardware values\n",
      "  raw = mne.io.read_raw_brainvision(vhdr_path, preload=True)\n",
      "/tmp/ipykernel_24872/1726901494.py:33: RuntimeWarning: Channels contain different highpass filters. Lowest (weakest) filter setting (0.00 Hz) will be stored.\n",
      "  raw = mne.io.read_raw_brainvision(vhdr_path, preload=True)\n",
      "/tmp/ipykernel_24872/1726901494.py:33: RuntimeWarning: Channels contain different lowpass filters. Highest (weakest) filter setting (1250.00 Hz, Nyquist limit) will be stored.\n",
      "  raw = mne.io.read_raw_brainvision(vhdr_path, preload=True)\n"
     ]
    },
    {
     "name": "stdout",
     "output_type": "stream",
     "text": [
      "Filtering raw data in 1 contiguous segment\n",
      "Setting up band-stop filter from 59 - 61 Hz\n",
      "\n",
      "FIR filter parameters\n",
      "---------------------\n",
      "Designing a one-pass, zero-phase, non-causal bandstop filter:\n",
      "- Windowed time-domain design (firwin) method\n",
      "- Hamming window with 0.0194 passband ripple and 53 dB stopband attenuation\n",
      "- Lower passband edge: 59.35\n",
      "- Lower transition bandwidth: 0.50 Hz (-6 dB cutoff frequency: 59.10 Hz)\n",
      "- Upper passband edge: 60.65 Hz\n",
      "- Upper transition bandwidth: 0.50 Hz (-6 dB cutoff frequency: 60.90 Hz)\n",
      "- Filter length: 1691 samples (6.605 s)\n",
      "\n",
      "Filtering raw data in 1 contiguous segment\n",
      "Setting up band-pass filter from 8 - 30 Hz\n",
      "\n",
      "FIR filter parameters\n",
      "---------------------\n",
      "Designing a one-pass, zero-phase, non-causal bandpass filter:\n",
      "- Windowed time-domain design (firwin) method\n",
      "- Hamming window with 0.0194 passband ripple and 53 dB stopband attenuation\n",
      "- Lower passband edge: 8.00\n",
      "- Lower transition bandwidth: 2.00 Hz (-6 dB cutoff frequency: 7.00 Hz)\n",
      "- Upper passband edge: 30.00 Hz\n",
      "- Upper transition bandwidth: 7.50 Hz (-6 dB cutoff frequency: 33.75 Hz)\n",
      "- Filter length: 423 samples (1.652 s)\n",
      "\n"
     ]
    },
    {
     "name": "stderr",
     "output_type": "stream",
     "text": [
      "[Parallel(n_jobs=1)]: Done  17 tasks      | elapsed:    0.0s\n",
      "[Parallel(n_jobs=1)]: Done  60 out of  60 | elapsed:    0.2s finished\n",
      "[Parallel(n_jobs=1)]: Done  17 tasks      | elapsed:    0.0s\n"
     ]
    },
    {
     "name": "stdout",
     "output_type": "stream",
     "text": [
      "Fitting ICA to data using 60 channels (please be patient, this may take a while)\n",
      "Selecting by number: 10 components\n",
      "Fitting ICA took 0.1s.\n",
      "Fitting ICA to data using 60 channels (please be patient, this may take a while)\n"
     ]
    },
    {
     "name": "stderr",
     "output_type": "stream",
     "text": [
      "[Parallel(n_jobs=1)]: Done  60 out of  60 | elapsed:    0.2s finished\n"
     ]
    },
    {
     "name": "stdout",
     "output_type": "stream",
     "text": [
      "Selecting by number: 15 components\n",
      "Fitting ICA took 4.0s.\n",
      "Applying ICA to Raw instance\n",
      "    Transforming to ICA space (15 components)\n",
      "    Zeroing out 0 ICA components\n",
      "    Projecting back using 60 PCA components\n",
      "Used Annotations descriptions: [np.str_('Comment/actiCAP Data On'), np.str_('New Segment/'), np.str_('Stimulus/S  8'), np.str_('Stimulus/S  9'), np.str_('Stimulus/S 10'), np.str_('Stimulus/S 13'), np.str_('Stimulus/S 14'), np.str_('Stimulus/S 91'), np.str_('Stimulus/S101')]\n",
      "Not setting metadata\n",
      "100 matching events found\n",
      "Setting baseline interval to [-0.19921875, 0.0] s\n",
      "Applying baseline correction (mode: mean)\n",
      "0 projection items activated\n",
      "Using data from preloaded Raw for 100 events and 564 original time points ...\n",
      "0 bad epochs dropped\n",
      "0 bad epochs dropped\n",
      "Saved: /storage/projects1/e19-4yp-mi-eeg-for-bci/ashan/processed_data3/session3_sub7_twist_MI.npz (X=(100, 60, 564), y=(100,))\n",
      "\n",
      "Processing: /storage/projects1/e19-4yp-mi-eeg-for-bci/rawdata/session3_sub18_twist_MI.vhdr\n",
      "Extracting parameters from /storage/projects1/e19-4yp-mi-eeg-for-bci/rawdata/session3_sub18_twist_MI.vhdr...\n",
      "Setting channel info structure...\n",
      "Reading 0 ... 2565099  =      0.000 ...  1026.040 secs...\n"
     ]
    },
    {
     "name": "stderr",
     "output_type": "stream",
     "text": [
      "/tmp/ipykernel_24872/1726901494.py:33: RuntimeWarning: Online software filter detected. Using software filter settings and ignoring hardware values\n",
      "  raw = mne.io.read_raw_brainvision(vhdr_path, preload=True)\n",
      "/tmp/ipykernel_24872/1726901494.py:33: RuntimeWarning: Channels contain different highpass filters. Lowest (weakest) filter setting (0.00 Hz) will be stored.\n",
      "  raw = mne.io.read_raw_brainvision(vhdr_path, preload=True)\n",
      "/tmp/ipykernel_24872/1726901494.py:33: RuntimeWarning: Channels contain different lowpass filters. Highest (weakest) filter setting (1250.00 Hz, Nyquist limit) will be stored.\n",
      "  raw = mne.io.read_raw_brainvision(vhdr_path, preload=True)\n"
     ]
    },
    {
     "name": "stdout",
     "output_type": "stream",
     "text": [
      "Filtering raw data in 1 contiguous segment\n",
      "Setting up band-stop filter from 59 - 61 Hz\n",
      "\n",
      "FIR filter parameters\n",
      "---------------------\n",
      "Designing a one-pass, zero-phase, non-causal bandstop filter:\n",
      "- Windowed time-domain design (firwin) method\n",
      "- Hamming window with 0.0194 passband ripple and 53 dB stopband attenuation\n",
      "- Lower passband edge: 59.35\n",
      "- Lower transition bandwidth: 0.50 Hz (-6 dB cutoff frequency: 59.10 Hz)\n",
      "- Upper passband edge: 60.65 Hz\n",
      "- Upper transition bandwidth: 0.50 Hz (-6 dB cutoff frequency: 60.90 Hz)\n",
      "- Filter length: 1691 samples (6.605 s)\n",
      "\n",
      "Filtering raw data in 1 contiguous segment\n",
      "Setting up band-pass filter from 8 - 30 Hz\n",
      "\n",
      "FIR filter parameters\n",
      "---------------------\n",
      "Designing a one-pass, zero-phase, non-causal bandpass filter:\n",
      "- Windowed time-domain design (firwin) method\n",
      "- Hamming window with 0.0194 passband ripple and 53 dB stopband attenuation\n",
      "- Lower passband edge: 8.00\n",
      "- Lower transition bandwidth: 2.00 Hz (-6 dB cutoff frequency: 7.00 Hz)\n",
      "- Upper passband edge: 30.00 Hz\n",
      "- Upper transition bandwidth: 7.50 Hz (-6 dB cutoff frequency: 33.75 Hz)\n",
      "- Filter length: 423 samples (1.652 s)\n",
      "\n"
     ]
    },
    {
     "name": "stderr",
     "output_type": "stream",
     "text": [
      "[Parallel(n_jobs=1)]: Done  17 tasks      | elapsed:    0.1s\n",
      "[Parallel(n_jobs=1)]: Done  60 out of  60 | elapsed:    0.2s finished\n"
     ]
    },
    {
     "name": "stdout",
     "output_type": "stream",
     "text": [
      "Fitting ICA to data using 60 channels (please be patient, this may take a while)\n"
     ]
    },
    {
     "name": "stderr",
     "output_type": "stream",
     "text": [
      "[Parallel(n_jobs=1)]: Done  17 tasks      | elapsed:    0.0s\n",
      "[Parallel(n_jobs=1)]: Done  60 out of  60 | elapsed:    0.2s finished\n"
     ]
    },
    {
     "name": "stdout",
     "output_type": "stream",
     "text": [
      "Selecting by number: 10 components\n",
      "Fitting ICA took 0.2s.\n",
      "Fitting ICA to data using 60 channels (please be patient, this may take a while)\n",
      "Selecting by number: 15 components\n",
      "Fitting ICA took 3.1s.\n",
      "Applying ICA to Raw instance\n",
      "    Transforming to ICA space (15 components)\n",
      "    Zeroing out 0 ICA components\n",
      "    Projecting back using 60 PCA components\n",
      "Used Annotations descriptions: [np.str_('Comment/actiCAP Active Shield On'), np.str_('New Segment/'), np.str_('Stimulus/S  8'), np.str_('Stimulus/S  9'), np.str_('Stimulus/S 10'), np.str_('Stimulus/S 13'), np.str_('Stimulus/S 14'), np.str_('Stimulus/S 91'), np.str_('Stimulus/S101')]\n",
      "Not setting metadata\n",
      "100 matching events found\n",
      "Setting baseline interval to [-0.19921875, 0.0] s\n",
      "Applying baseline correction (mode: mean)\n",
      "0 projection items activated\n",
      "Using data from preloaded Raw for 100 events and 564 original time points ...\n",
      "0 bad epochs dropped\n",
      "    Rejecting  epoch based on EEG : ['FT8', 'T8', 'TP8']\n",
      "    Rejecting  epoch based on EEG : ['F8', 'FC4', 'FC6', 'FT8', 'T8', 'TP8']\n",
      "    Rejecting  epoch based on EEG : ['PO4', 'PO8', 'O1', 'Oz', 'O2', 'Iz']\n",
      "    Rejecting  epoch based on EEG : ['PO8', 'O2']\n",
      "    Rejecting  epoch based on EEG : ['PO8', 'Oz', 'O2']\n",
      "    Rejecting  epoch based on EEG : ['P7', 'PO7', 'F6', 'FC4', 'FC6', 'FT8', 'T8', 'PO8', 'O1']\n",
      "    Rejecting  epoch based on EEG : ['FC4', 'FC6', 'FT8', 'C4', 'C6', 'T8', 'CP4', 'TP8']\n",
      "    Rejecting  epoch based on EEG : ['T8']\n",
      "    Rejecting  epoch based on EEG : ['C6', 'T8', 'CP4', 'TP8', 'P6']\n",
      "    Rejecting  epoch based on EEG : ['FT8', 'C6', 'T8', 'TP8']\n",
      "    Rejecting  epoch based on EEG : ['PO8']\n",
      "    Rejecting  epoch based on EEG : ['T7', 'C3', 'TP7', 'CP3', 'P5']\n",
      "    Rejecting  epoch based on EEG : ['FT7', 'T7', 'C3', 'TP7', 'CP3']\n",
      "    Rejecting  epoch based on EEG : ['Oz', 'O2', 'Iz']\n",
      "    Rejecting  epoch based on EEG : ['O2']\n",
      "15 bad epochs dropped\n",
      "Saved: /storage/projects1/e19-4yp-mi-eeg-for-bci/ashan/processed_data3/session3_sub18_twist_MI.npz (X=(85, 60, 564), y=(85,))\n",
      "\n",
      "Processing: /storage/projects1/e19-4yp-mi-eeg-for-bci/rawdata/session3_sub16_twist_MI.vhdr\n",
      "Extracting parameters from /storage/projects1/e19-4yp-mi-eeg-for-bci/rawdata/session3_sub16_twist_MI.vhdr...\n",
      "Setting channel info structure...\n",
      "Reading 0 ... 2613699  =      0.000 ...  1045.480 secs...\n"
     ]
    },
    {
     "name": "stderr",
     "output_type": "stream",
     "text": [
      "/tmp/ipykernel_24872/1726901494.py:33: RuntimeWarning: Online software filter detected. Using software filter settings and ignoring hardware values\n",
      "  raw = mne.io.read_raw_brainvision(vhdr_path, preload=True)\n",
      "/tmp/ipykernel_24872/1726901494.py:33: RuntimeWarning: Channels contain different highpass filters. Lowest (weakest) filter setting (0.00 Hz) will be stored.\n",
      "  raw = mne.io.read_raw_brainvision(vhdr_path, preload=True)\n",
      "/tmp/ipykernel_24872/1726901494.py:33: RuntimeWarning: Channels contain different lowpass filters. Highest (weakest) filter setting (1250.00 Hz, Nyquist limit) will be stored.\n",
      "  raw = mne.io.read_raw_brainvision(vhdr_path, preload=True)\n"
     ]
    },
    {
     "name": "stdout",
     "output_type": "stream",
     "text": [
      "Filtering raw data in 1 contiguous segment\n",
      "Setting up band-stop filter from 59 - 61 Hz\n",
      "\n",
      "FIR filter parameters\n",
      "---------------------\n",
      "Designing a one-pass, zero-phase, non-causal bandstop filter:\n",
      "- Windowed time-domain design (firwin) method\n",
      "- Hamming window with 0.0194 passband ripple and 53 dB stopband attenuation\n",
      "- Lower passband edge: 59.35\n",
      "- Lower transition bandwidth: 0.50 Hz (-6 dB cutoff frequency: 59.10 Hz)\n",
      "- Upper passband edge: 60.65 Hz\n",
      "- Upper transition bandwidth: 0.50 Hz (-6 dB cutoff frequency: 60.90 Hz)\n",
      "- Filter length: 1691 samples (6.605 s)\n",
      "\n",
      "Filtering raw data in 1 contiguous segment\n",
      "Setting up band-pass filter from 8 - 30 Hz\n",
      "\n",
      "FIR filter parameters\n",
      "---------------------\n",
      "Designing a one-pass, zero-phase, non-causal bandpass filter:\n",
      "- Windowed time-domain design (firwin) method\n",
      "- Hamming window with 0.0194 passband ripple and 53 dB stopband attenuation\n",
      "- Lower passband edge: 8.00\n",
      "- Lower transition bandwidth: 2.00 Hz (-6 dB cutoff frequency: 7.00 Hz)\n",
      "- Upper passband edge: 30.00 Hz\n",
      "- Upper transition bandwidth: 7.50 Hz (-6 dB cutoff frequency: 33.75 Hz)\n",
      "- Filter length: 423 samples (1.652 s)\n",
      "\n"
     ]
    },
    {
     "name": "stderr",
     "output_type": "stream",
     "text": [
      "[Parallel(n_jobs=1)]: Done  17 tasks      | elapsed:    0.0s\n",
      "[Parallel(n_jobs=1)]: Done  60 out of  60 | elapsed:    0.2s finished\n",
      "[Parallel(n_jobs=1)]: Done  17 tasks      | elapsed:    0.0s\n"
     ]
    },
    {
     "name": "stdout",
     "output_type": "stream",
     "text": [
      "Fitting ICA to data using 60 channels (please be patient, this may take a while)\n",
      "Selecting by number: 10 components\n",
      "Fitting ICA took 0.1s.\n",
      "Fitting ICA to data using 60 channels (please be patient, this may take a while)\n"
     ]
    },
    {
     "name": "stderr",
     "output_type": "stream",
     "text": [
      "[Parallel(n_jobs=1)]: Done  60 out of  60 | elapsed:    0.2s finished\n"
     ]
    },
    {
     "name": "stdout",
     "output_type": "stream",
     "text": [
      "Selecting by number: 15 components\n",
      "Fitting ICA took 3.6s.\n",
      "Applying ICA to Raw instance\n",
      "    Transforming to ICA space (15 components)\n",
      "    Zeroing out 0 ICA components\n",
      "    Projecting back using 60 PCA components\n",
      "Used Annotations descriptions: [np.str_('Comment/actiCAP Active Shield On'), np.str_('New Segment/'), np.str_('Stimulus/S  8'), np.str_('Stimulus/S  9'), np.str_('Stimulus/S 10'), np.str_('Stimulus/S 13'), np.str_('Stimulus/S 14'), np.str_('Stimulus/S 91'), np.str_('Stimulus/S101')]\n",
      "Not setting metadata\n",
      "100 matching events found\n",
      "Setting baseline interval to [-0.19921875, 0.0] s\n",
      "Applying baseline correction (mode: mean)\n",
      "0 projection items activated\n",
      "Using data from preloaded Raw for 100 events and 564 original time points ...\n",
      "0 bad epochs dropped\n",
      "    Rejecting  epoch based on EEG : ['PO8']\n",
      "    Rejecting  epoch based on EEG : ['PO8']\n",
      "    Rejecting  epoch based on EEG : ['AF8', 'F4', 'F6', 'F8', 'FC4', 'FC6', 'FT8', 'T8', 'PO8']\n",
      "    Rejecting  epoch based on EEG : ['PO4', 'PO8']\n",
      "    Rejecting  epoch based on EEG : ['F7', 'FC5', 'T7', 'FC6']\n",
      "    Rejecting  epoch based on EEG : ['P8', 'PO4', 'PO8', 'O2']\n",
      "    Rejecting  epoch based on EEG : ['PO7', 'PO8']\n",
      "    Rejecting  epoch based on EEG : ['PO7', 'PO3', 'PO4', 'PO8', 'O2']\n",
      "    Rejecting  epoch based on EEG : ['PO4', 'PO8']\n",
      "    Rejecting  epoch based on EEG : ['PO7']\n",
      "    Rejecting  epoch based on EEG : ['PO8']\n",
      "    Rejecting  epoch based on EEG : ['PO8']\n",
      "    Rejecting  epoch based on EEG : ['PO7', 'PO3', 'O1']\n",
      "    Rejecting  epoch based on EEG : ['PO8']\n",
      "    Rejecting  epoch based on EEG : ['F7', 'FC5']\n",
      "    Rejecting  epoch based on EEG : ['FC6']\n",
      "    Rejecting  epoch based on EEG : ['FC4', 'FC6', 'FT8', 'T8']\n",
      "17 bad epochs dropped\n",
      "Saved: /storage/projects1/e19-4yp-mi-eeg-for-bci/ashan/processed_data3/session3_sub16_twist_MI.npz (X=(83, 60, 564), y=(83,))\n",
      "\n",
      "Processing: /storage/projects1/e19-4yp-mi-eeg-for-bci/rawdata/session3_sub6_twist_MI.vhdr\n",
      "Extracting parameters from /storage/projects1/e19-4yp-mi-eeg-for-bci/rawdata/session3_sub6_twist_MI.vhdr...\n",
      "Setting channel info structure...\n",
      "Reading 0 ... 2601999  =      0.000 ...  1040.800 secs...\n"
     ]
    },
    {
     "name": "stderr",
     "output_type": "stream",
     "text": [
      "/tmp/ipykernel_24872/1726901494.py:33: RuntimeWarning: Online software filter detected. Using software filter settings and ignoring hardware values\n",
      "  raw = mne.io.read_raw_brainvision(vhdr_path, preload=True)\n",
      "/tmp/ipykernel_24872/1726901494.py:33: RuntimeWarning: Channels contain different highpass filters. Lowest (weakest) filter setting (0.00 Hz) will be stored.\n",
      "  raw = mne.io.read_raw_brainvision(vhdr_path, preload=True)\n",
      "/tmp/ipykernel_24872/1726901494.py:33: RuntimeWarning: Channels contain different lowpass filters. Highest (weakest) filter setting (1250.00 Hz, Nyquist limit) will be stored.\n",
      "  raw = mne.io.read_raw_brainvision(vhdr_path, preload=True)\n"
     ]
    },
    {
     "name": "stdout",
     "output_type": "stream",
     "text": [
      "Filtering raw data in 1 contiguous segment\n",
      "Setting up band-stop filter from 59 - 61 Hz\n",
      "\n",
      "FIR filter parameters\n",
      "---------------------\n",
      "Designing a one-pass, zero-phase, non-causal bandstop filter:\n",
      "- Windowed time-domain design (firwin) method\n",
      "- Hamming window with 0.0194 passband ripple and 53 dB stopband attenuation\n",
      "- Lower passband edge: 59.35\n",
      "- Lower transition bandwidth: 0.50 Hz (-6 dB cutoff frequency: 59.10 Hz)\n",
      "- Upper passband edge: 60.65 Hz\n",
      "- Upper transition bandwidth: 0.50 Hz (-6 dB cutoff frequency: 60.90 Hz)\n",
      "- Filter length: 1691 samples (6.605 s)\n",
      "\n",
      "Filtering raw data in 1 contiguous segment\n",
      "Setting up band-pass filter from 8 - 30 Hz\n",
      "\n",
      "FIR filter parameters\n",
      "---------------------\n",
      "Designing a one-pass, zero-phase, non-causal bandpass filter:\n",
      "- Windowed time-domain design (firwin) method\n",
      "- Hamming window with 0.0194 passband ripple and 53 dB stopband attenuation\n",
      "- Lower passband edge: 8.00\n",
      "- Lower transition bandwidth: 2.00 Hz (-6 dB cutoff frequency: 7.00 Hz)\n",
      "- Upper passband edge: 30.00 Hz\n",
      "- Upper transition bandwidth: 7.50 Hz (-6 dB cutoff frequency: 33.75 Hz)\n",
      "- Filter length: 423 samples (1.652 s)\n",
      "\n"
     ]
    },
    {
     "name": "stderr",
     "output_type": "stream",
     "text": [
      "[Parallel(n_jobs=1)]: Done  17 tasks      | elapsed:    0.0s\n",
      "[Parallel(n_jobs=1)]: Done  60 out of  60 | elapsed:    0.2s finished\n",
      "[Parallel(n_jobs=1)]: Done  17 tasks      | elapsed:    0.0s\n"
     ]
    },
    {
     "name": "stdout",
     "output_type": "stream",
     "text": [
      "Fitting ICA to data using 60 channels (please be patient, this may take a while)\n",
      "Selecting by number: 10 components\n",
      "Fitting ICA took 0.1s.\n",
      "Fitting ICA to data using 60 channels (please be patient, this may take a while)\n"
     ]
    },
    {
     "name": "stderr",
     "output_type": "stream",
     "text": [
      "[Parallel(n_jobs=1)]: Done  60 out of  60 | elapsed:    0.2s finished\n"
     ]
    },
    {
     "name": "stdout",
     "output_type": "stream",
     "text": [
      "Selecting by number: 15 components\n",
      "Fitting ICA took 2.7s.\n",
      "Applying ICA to Raw instance\n",
      "    Transforming to ICA space (15 components)\n",
      "    Zeroing out 0 ICA components\n",
      "    Projecting back using 60 PCA components\n",
      "Used Annotations descriptions: [np.str_('Comment/actiCAP Active Shield On'), np.str_('New Segment/'), np.str_('Stimulus/S  8'), np.str_('Stimulus/S  9'), np.str_('Stimulus/S 10'), np.str_('Stimulus/S 13'), np.str_('Stimulus/S 14'), np.str_('Stimulus/S 91'), np.str_('Stimulus/S101')]\n",
      "Not setting metadata\n",
      "100 matching events found\n",
      "Setting baseline interval to [-0.19921875, 0.0] s\n",
      "Applying baseline correction (mode: mean)\n",
      "0 projection items activated\n",
      "Using data from preloaded Raw for 100 events and 564 original time points ...\n",
      "0 bad epochs dropped\n",
      "    Rejecting  epoch based on EEG : ['PO8', 'O1']\n",
      "1 bad epochs dropped\n",
      "Saved: /storage/projects1/e19-4yp-mi-eeg-for-bci/ashan/processed_data3/session3_sub6_twist_MI.npz (X=(99, 60, 564), y=(99,))\n",
      "\n",
      "Processing: /storage/projects1/e19-4yp-mi-eeg-for-bci/rawdata/session2_sub1_twist_MI.vhdr\n",
      "Extracting parameters from /storage/projects1/e19-4yp-mi-eeg-for-bci/rawdata/session2_sub1_twist_MI.vhdr...\n",
      "Setting channel info structure...\n",
      "Reading 0 ... 2558099  =      0.000 ...  1023.240 secs...\n"
     ]
    },
    {
     "name": "stderr",
     "output_type": "stream",
     "text": [
      "/tmp/ipykernel_24872/1726901494.py:33: RuntimeWarning: Online software filter detected. Using software filter settings and ignoring hardware values\n",
      "  raw = mne.io.read_raw_brainvision(vhdr_path, preload=True)\n",
      "/tmp/ipykernel_24872/1726901494.py:33: RuntimeWarning: Channels contain different highpass filters. Lowest (weakest) filter setting (0.00 Hz) will be stored.\n",
      "  raw = mne.io.read_raw_brainvision(vhdr_path, preload=True)\n",
      "/tmp/ipykernel_24872/1726901494.py:33: RuntimeWarning: Channels contain different lowpass filters. Highest (weakest) filter setting (1250.00 Hz, Nyquist limit) will be stored.\n",
      "  raw = mne.io.read_raw_brainvision(vhdr_path, preload=True)\n"
     ]
    },
    {
     "name": "stdout",
     "output_type": "stream",
     "text": [
      "Filtering raw data in 1 contiguous segment\n",
      "Setting up band-stop filter from 59 - 61 Hz\n",
      "\n",
      "FIR filter parameters\n",
      "---------------------\n",
      "Designing a one-pass, zero-phase, non-causal bandstop filter:\n",
      "- Windowed time-domain design (firwin) method\n",
      "- Hamming window with 0.0194 passband ripple and 53 dB stopband attenuation\n",
      "- Lower passband edge: 59.35\n",
      "- Lower transition bandwidth: 0.50 Hz (-6 dB cutoff frequency: 59.10 Hz)\n",
      "- Upper passband edge: 60.65 Hz\n",
      "- Upper transition bandwidth: 0.50 Hz (-6 dB cutoff frequency: 60.90 Hz)\n",
      "- Filter length: 1691 samples (6.605 s)\n",
      "\n",
      "Filtering raw data in 1 contiguous segment\n",
      "Setting up band-pass filter from 8 - 30 Hz\n",
      "\n",
      "FIR filter parameters\n",
      "---------------------\n",
      "Designing a one-pass, zero-phase, non-causal bandpass filter:\n",
      "- Windowed time-domain design (firwin) method\n",
      "- Hamming window with 0.0194 passband ripple and 53 dB stopband attenuation\n",
      "- Lower passband edge: 8.00\n",
      "- Lower transition bandwidth: 2.00 Hz (-6 dB cutoff frequency: 7.00 Hz)\n",
      "- Upper passband edge: 30.00 Hz\n",
      "- Upper transition bandwidth: 7.50 Hz (-6 dB cutoff frequency: 33.75 Hz)\n",
      "- Filter length: 423 samples (1.652 s)\n",
      "\n"
     ]
    },
    {
     "name": "stderr",
     "output_type": "stream",
     "text": [
      "[Parallel(n_jobs=1)]: Done  17 tasks      | elapsed:    0.1s\n",
      "[Parallel(n_jobs=1)]: Done  60 out of  60 | elapsed:    0.2s finished\n"
     ]
    },
    {
     "name": "stdout",
     "output_type": "stream",
     "text": [
      "Fitting ICA to data using 60 channels (please be patient, this may take a while)\n"
     ]
    },
    {
     "name": "stderr",
     "output_type": "stream",
     "text": [
      "[Parallel(n_jobs=1)]: Done  17 tasks      | elapsed:    0.1s\n",
      "[Parallel(n_jobs=1)]: Done  60 out of  60 | elapsed:    0.2s finished\n"
     ]
    },
    {
     "name": "stdout",
     "output_type": "stream",
     "text": [
      "Selecting by number: 10 components\n",
      "Fitting ICA took 0.1s.\n",
      "Fitting ICA to data using 60 channels (please be patient, this may take a while)\n",
      "Selecting by number: 15 components\n",
      "Fitting ICA took 3.2s.\n",
      "Applying ICA to Raw instance\n",
      "    Transforming to ICA space (15 components)\n",
      "    Zeroing out 0 ICA components\n",
      "    Projecting back using 60 PCA components\n",
      "Used Annotations descriptions: [np.str_('Comment/actiCAP Active Shield On'), np.str_('New Segment/'), np.str_('Stimulus/S  8'), np.str_('Stimulus/S  9'), np.str_('Stimulus/S 10'), np.str_('Stimulus/S 13'), np.str_('Stimulus/S 14'), np.str_('Stimulus/S 91'), np.str_('Stimulus/S101')]\n",
      "Not setting metadata\n",
      "100 matching events found\n",
      "Setting baseline interval to [-0.19921875, 0.0] s\n",
      "Applying baseline correction (mode: mean)\n",
      "0 projection items activated\n",
      "Using data from preloaded Raw for 100 events and 564 original time points ...\n",
      "0 bad epochs dropped\n",
      "    Rejecting  epoch based on EEG : ['PO7']\n",
      "    Rejecting  epoch based on EEG : ['PO7']\n",
      "    Rejecting  epoch based on EEG : ['FT7']\n",
      "3 bad epochs dropped\n",
      "Saved: /storage/projects1/e19-4yp-mi-eeg-for-bci/ashan/processed_data3/session2_sub1_twist_MI.npz (X=(97, 60, 564), y=(97,))\n",
      "\n",
      "Processing: /storage/projects1/e19-4yp-mi-eeg-for-bci/rawdata/session1_sub5_twist_MI.vhdr\n",
      "Extracting parameters from /storage/projects1/e19-4yp-mi-eeg-for-bci/rawdata/session1_sub5_twist_MI.vhdr...\n",
      "Setting channel info structure...\n",
      "Reading 0 ... 2601899  =      0.000 ...  1040.760 secs...\n"
     ]
    },
    {
     "name": "stderr",
     "output_type": "stream",
     "text": [
      "/tmp/ipykernel_24872/1726901494.py:33: RuntimeWarning: Online software filter detected. Using software filter settings and ignoring hardware values\n",
      "  raw = mne.io.read_raw_brainvision(vhdr_path, preload=True)\n",
      "/tmp/ipykernel_24872/1726901494.py:33: RuntimeWarning: Channels contain different highpass filters. Lowest (weakest) filter setting (0.00 Hz) will be stored.\n",
      "  raw = mne.io.read_raw_brainvision(vhdr_path, preload=True)\n",
      "/tmp/ipykernel_24872/1726901494.py:33: RuntimeWarning: Channels contain different lowpass filters. Highest (weakest) filter setting (1250.00 Hz, Nyquist limit) will be stored.\n",
      "  raw = mne.io.read_raw_brainvision(vhdr_path, preload=True)\n"
     ]
    },
    {
     "name": "stdout",
     "output_type": "stream",
     "text": [
      "Filtering raw data in 1 contiguous segment\n",
      "Setting up band-stop filter from 59 - 61 Hz\n",
      "\n",
      "FIR filter parameters\n",
      "---------------------\n",
      "Designing a one-pass, zero-phase, non-causal bandstop filter:\n",
      "- Windowed time-domain design (firwin) method\n",
      "- Hamming window with 0.0194 passband ripple and 53 dB stopband attenuation\n",
      "- Lower passband edge: 59.35\n",
      "- Lower transition bandwidth: 0.50 Hz (-6 dB cutoff frequency: 59.10 Hz)\n",
      "- Upper passband edge: 60.65 Hz\n",
      "- Upper transition bandwidth: 0.50 Hz (-6 dB cutoff frequency: 60.90 Hz)\n",
      "- Filter length: 1691 samples (6.605 s)\n",
      "\n",
      "Filtering raw data in 1 contiguous segment\n",
      "Setting up band-pass filter from 8 - 30 Hz\n",
      "\n",
      "FIR filter parameters\n",
      "---------------------\n",
      "Designing a one-pass, zero-phase, non-causal bandpass filter:\n",
      "- Windowed time-domain design (firwin) method\n",
      "- Hamming window with 0.0194 passband ripple and 53 dB stopband attenuation\n",
      "- Lower passband edge: 8.00\n",
      "- Lower transition bandwidth: 2.00 Hz (-6 dB cutoff frequency: 7.00 Hz)\n",
      "- Upper passband edge: 30.00 Hz\n",
      "- Upper transition bandwidth: 7.50 Hz (-6 dB cutoff frequency: 33.75 Hz)\n",
      "- Filter length: 423 samples (1.652 s)\n",
      "\n"
     ]
    },
    {
     "name": "stderr",
     "output_type": "stream",
     "text": [
      "[Parallel(n_jobs=1)]: Done  17 tasks      | elapsed:    0.1s\n",
      "[Parallel(n_jobs=1)]: Done  60 out of  60 | elapsed:    0.2s finished\n",
      "[Parallel(n_jobs=1)]: Done  17 tasks      | elapsed:    0.1s\n",
      "[Parallel(n_jobs=1)]: Done  60 out of  60 | elapsed:    0.2s finished\n"
     ]
    },
    {
     "name": "stdout",
     "output_type": "stream",
     "text": [
      "Fitting ICA to data using 60 channels (please be patient, this may take a while)\n",
      "Selecting by number: 10 components\n",
      "Fitting ICA took 0.2s.\n",
      "Fitting ICA to data using 60 channels (please be patient, this may take a while)\n",
      "Selecting by number: 15 components\n",
      "Fitting ICA took 2.1s.\n",
      "Applying ICA to Raw instance\n",
      "    Transforming to ICA space (15 components)\n",
      "    Zeroing out 0 ICA components\n",
      "    Projecting back using 60 PCA components\n",
      "Used Annotations descriptions: [np.str_('Comment/actiCAP Active Shield On'), np.str_('New Segment/'), np.str_('Stimulus/S  8'), np.str_('Stimulus/S  9'), np.str_('Stimulus/S 10'), np.str_('Stimulus/S 13'), np.str_('Stimulus/S 14'), np.str_('Stimulus/S 91'), np.str_('Stimulus/S101')]\n",
      "Not setting metadata\n",
      "100 matching events found\n",
      "Setting baseline interval to [-0.19921875, 0.0] s\n",
      "Applying baseline correction (mode: mean)\n",
      "0 projection items activated\n",
      "Using data from preloaded Raw for 100 events and 564 original time points ...\n",
      "0 bad epochs dropped\n",
      "    Rejecting  epoch based on EEG : ['F7', 'FT7']\n",
      "    Rejecting  epoch based on EEG : ['AF7', 'F8', 'FC6', 'FT8', 'T8']\n",
      "2 bad epochs dropped\n",
      "Saved: /storage/projects1/e19-4yp-mi-eeg-for-bci/ashan/processed_data3/session1_sub5_twist_MI.npz (X=(98, 60, 564), y=(98,))\n",
      "\n",
      "Processing: /storage/projects1/e19-4yp-mi-eeg-for-bci/rawdata/session1_sub25_twist_MI.vhdr\n",
      "Extracting parameters from /storage/projects1/e19-4yp-mi-eeg-for-bci/rawdata/session1_sub25_twist_MI.vhdr...\n",
      "Setting channel info structure...\n",
      "Reading 0 ... 2568799  =      0.000 ...  1027.520 secs...\n"
     ]
    },
    {
     "name": "stderr",
     "output_type": "stream",
     "text": [
      "/tmp/ipykernel_24872/1726901494.py:33: RuntimeWarning: Online software filter detected. Using software filter settings and ignoring hardware values\n",
      "  raw = mne.io.read_raw_brainvision(vhdr_path, preload=True)\n",
      "/tmp/ipykernel_24872/1726901494.py:33: RuntimeWarning: Channels contain different highpass filters. Lowest (weakest) filter setting (0.00 Hz) will be stored.\n",
      "  raw = mne.io.read_raw_brainvision(vhdr_path, preload=True)\n",
      "/tmp/ipykernel_24872/1726901494.py:33: RuntimeWarning: Channels contain different lowpass filters. Highest (weakest) filter setting (1250.00 Hz, Nyquist limit) will be stored.\n",
      "  raw = mne.io.read_raw_brainvision(vhdr_path, preload=True)\n"
     ]
    },
    {
     "name": "stdout",
     "output_type": "stream",
     "text": [
      "Filtering raw data in 1 contiguous segment\n",
      "Setting up band-stop filter from 59 - 61 Hz\n",
      "\n",
      "FIR filter parameters\n",
      "---------------------\n",
      "Designing a one-pass, zero-phase, non-causal bandstop filter:\n",
      "- Windowed time-domain design (firwin) method\n",
      "- Hamming window with 0.0194 passband ripple and 53 dB stopband attenuation\n",
      "- Lower passband edge: 59.35\n",
      "- Lower transition bandwidth: 0.50 Hz (-6 dB cutoff frequency: 59.10 Hz)\n",
      "- Upper passband edge: 60.65 Hz\n",
      "- Upper transition bandwidth: 0.50 Hz (-6 dB cutoff frequency: 60.90 Hz)\n",
      "- Filter length: 1691 samples (6.605 s)\n",
      "\n",
      "Filtering raw data in 1 contiguous segment\n",
      "Setting up band-pass filter from 8 - 30 Hz\n",
      "\n",
      "FIR filter parameters\n",
      "---------------------\n",
      "Designing a one-pass, zero-phase, non-causal bandpass filter:\n",
      "- Windowed time-domain design (firwin) method\n",
      "- Hamming window with 0.0194 passband ripple and 53 dB stopband attenuation\n",
      "- Lower passband edge: 8.00\n",
      "- Lower transition bandwidth: 2.00 Hz (-6 dB cutoff frequency: 7.00 Hz)\n",
      "- Upper passband edge: 30.00 Hz\n",
      "- Upper transition bandwidth: 7.50 Hz (-6 dB cutoff frequency: 33.75 Hz)\n",
      "- Filter length: 423 samples (1.652 s)\n",
      "\n"
     ]
    },
    {
     "name": "stderr",
     "output_type": "stream",
     "text": [
      "[Parallel(n_jobs=1)]: Done  17 tasks      | elapsed:    0.1s\n",
      "[Parallel(n_jobs=1)]: Done  60 out of  60 | elapsed:    0.2s finished\n"
     ]
    },
    {
     "name": "stdout",
     "output_type": "stream",
     "text": [
      "Fitting ICA to data using 60 channels (please be patient, this may take a while)\n"
     ]
    },
    {
     "name": "stderr",
     "output_type": "stream",
     "text": [
      "[Parallel(n_jobs=1)]: Done  17 tasks      | elapsed:    0.0s\n",
      "[Parallel(n_jobs=1)]: Done  60 out of  60 | elapsed:    0.2s finished\n"
     ]
    },
    {
     "name": "stdout",
     "output_type": "stream",
     "text": [
      "Selecting by number: 10 components\n",
      "Fitting ICA took 0.2s.\n",
      "Fitting ICA to data using 60 channels (please be patient, this may take a while)\n",
      "Selecting by number: 15 components\n",
      "Fitting ICA took 2.7s.\n",
      "Applying ICA to Raw instance\n",
      "    Transforming to ICA space (15 components)\n",
      "    Zeroing out 0 ICA components\n",
      "    Projecting back using 60 PCA components\n",
      "Used Annotations descriptions: [np.str_('Comment/actiCAP Active Shield On'), np.str_('New Segment/'), np.str_('Stimulus/S  8'), np.str_('Stimulus/S  9'), np.str_('Stimulus/S 10'), np.str_('Stimulus/S 13'), np.str_('Stimulus/S 14'), np.str_('Stimulus/S 91'), np.str_('Stimulus/S101')]\n",
      "Not setting metadata\n",
      "100 matching events found\n",
      "Setting baseline interval to [-0.19921875, 0.0] s\n",
      "Applying baseline correction (mode: mean)\n",
      "0 projection items activated\n",
      "Using data from preloaded Raw for 100 events and 564 original time points ...\n",
      "0 bad epochs dropped\n",
      "    Rejecting  epoch based on EEG : ['PO8', 'Oz', 'O2', 'Iz']\n",
      "1 bad epochs dropped\n",
      "Saved: /storage/projects1/e19-4yp-mi-eeg-for-bci/ashan/processed_data3/session1_sub25_twist_MI.npz (X=(99, 60, 564), y=(99,))\n",
      "\n",
      "Processing: /storage/projects1/e19-4yp-mi-eeg-for-bci/rawdata/session1_sub10_twist_MI.vhdr\n",
      "Extracting parameters from /storage/projects1/e19-4yp-mi-eeg-for-bci/rawdata/session1_sub10_twist_MI.vhdr...\n",
      "Setting channel info structure...\n",
      "Reading 0 ... 5389799  =      0.000 ...  2155.920 secs...\n",
      "Filtering raw data in 1 contiguous segment\n",
      "Setting up band-stop filter from 59 - 61 Hz\n",
      "\n",
      "FIR filter parameters\n",
      "---------------------\n",
      "Designing a one-pass, zero-phase, non-causal bandstop filter:\n",
      "- Windowed time-domain design (firwin) method\n",
      "- Hamming window with 0.0194 passband ripple and 53 dB stopband attenuation\n",
      "- Lower passband edge: 59.35\n",
      "- Lower transition bandwidth: 0.50 Hz (-6 dB cutoff frequency: 59.10 Hz)\n",
      "- Upper passband edge: 60.65 Hz\n",
      "- Upper transition bandwidth: 0.50 Hz (-6 dB cutoff frequency: 60.90 Hz)\n",
      "- Filter length: 1691 samples (6.605 s)\n",
      "\n"
     ]
    },
    {
     "name": "stderr",
     "output_type": "stream",
     "text": [
      "[Parallel(n_jobs=1)]: Done  17 tasks      | elapsed:    0.1s\n"
     ]
    },
    {
     "name": "stdout",
     "output_type": "stream",
     "text": [
      "Filtering raw data in 1 contiguous segment\n",
      "Setting up band-pass filter from 8 - 30 Hz\n",
      "\n",
      "FIR filter parameters\n",
      "---------------------\n",
      "Designing a one-pass, zero-phase, non-causal bandpass filter:\n",
      "- Windowed time-domain design (firwin) method\n",
      "- Hamming window with 0.0194 passband ripple and 53 dB stopband attenuation\n",
      "- Lower passband edge: 8.00\n",
      "- Lower transition bandwidth: 2.00 Hz (-6 dB cutoff frequency: 7.00 Hz)\n",
      "- Upper passband edge: 30.00 Hz\n",
      "- Upper transition bandwidth: 7.50 Hz (-6 dB cutoff frequency: 33.75 Hz)\n",
      "- Filter length: 423 samples (1.652 s)\n",
      "\n"
     ]
    },
    {
     "name": "stderr",
     "output_type": "stream",
     "text": [
      "[Parallel(n_jobs=1)]: Done  60 out of  60 | elapsed:    0.5s finished\n",
      "[Parallel(n_jobs=1)]: Done  17 tasks      | elapsed:    0.2s\n"
     ]
    },
    {
     "name": "stdout",
     "output_type": "stream",
     "text": [
      "Fitting ICA to data using 60 channels (please be patient, this may take a while)\n",
      "Selecting by number: 10 components\n",
      "Fitting ICA took 0.1s.\n",
      "Fitting ICA to data using 60 channels (please be patient, this may take a while)\n"
     ]
    },
    {
     "name": "stderr",
     "output_type": "stream",
     "text": [
      "[Parallel(n_jobs=1)]: Done  60 out of  60 | elapsed:    0.5s finished\n"
     ]
    },
    {
     "name": "stdout",
     "output_type": "stream",
     "text": [
      "Selecting by number: 15 components\n",
      "Fitting ICA took 5.6s.\n",
      "Applying ICA to Raw instance\n",
      "    Transforming to ICA space (15 components)\n",
      "    Zeroing out 0 ICA components\n",
      "    Projecting back using 60 PCA components\n",
      "Used Annotations descriptions: [np.str_('Comment/ControlBox is not connected via USB'), np.str_('Comment/actiCAP Data On'), np.str_('Comment/actiCAP USB Power On'), np.str_('New Segment/'), np.str_('Stimulus/S  8'), np.str_('Stimulus/S  9'), np.str_('Stimulus/S 10'), np.str_('Stimulus/S 11'), np.str_('Stimulus/S 12'), np.str_('Stimulus/S 13'), np.str_('Stimulus/S 14'), np.str_('Stimulus/S 91'), np.str_('Stimulus/S101'), np.str_('Stimulus/S111'), np.str_('Stimulus/S121')]\n",
      "Not setting metadata\n",
      "100 matching events found\n",
      "Setting baseline interval to [-0.19921875, 0.0] s\n",
      "Applying baseline correction (mode: mean)\n",
      "0 projection items activated\n",
      "Using data from preloaded Raw for 100 events and 564 original time points ...\n",
      "0 bad epochs dropped\n",
      "    Rejecting  epoch based on EEG : ['F4', 'F6', 'F8', 'FC4', 'FC6', 'FT8', 'C6', 'T8', 'CP6']\n",
      "    Rejecting  epoch based on EEG : ['PO8', 'O2']\n",
      "2 bad epochs dropped\n",
      "Saved: /storage/projects1/e19-4yp-mi-eeg-for-bci/ashan/processed_data3/session1_sub10_twist_MI.npz (X=(98, 60, 564), y=(98,))\n",
      "\n",
      "Processing: /storage/projects1/e19-4yp-mi-eeg-for-bci/rawdata/session1_sub7_twist_MI.vhdr\n",
      "Extracting parameters from /storage/projects1/e19-4yp-mi-eeg-for-bci/rawdata/session1_sub7_twist_MI.vhdr...\n",
      "Setting channel info structure...\n",
      "Reading 0 ... 2546099  =      0.000 ...  1018.440 secs...\n"
     ]
    },
    {
     "name": "stderr",
     "output_type": "stream",
     "text": [
      "/tmp/ipykernel_24872/1726901494.py:33: RuntimeWarning: Online software filter detected. Using software filter settings and ignoring hardware values\n",
      "  raw = mne.io.read_raw_brainvision(vhdr_path, preload=True)\n",
      "/tmp/ipykernel_24872/1726901494.py:33: RuntimeWarning: Channels contain different highpass filters. Lowest (weakest) filter setting (0.00 Hz) will be stored.\n",
      "  raw = mne.io.read_raw_brainvision(vhdr_path, preload=True)\n",
      "/tmp/ipykernel_24872/1726901494.py:33: RuntimeWarning: Channels contain different lowpass filters. Highest (weakest) filter setting (1250.00 Hz, Nyquist limit) will be stored.\n",
      "  raw = mne.io.read_raw_brainvision(vhdr_path, preload=True)\n"
     ]
    },
    {
     "name": "stdout",
     "output_type": "stream",
     "text": [
      "Filtering raw data in 1 contiguous segment\n",
      "Setting up band-stop filter from 59 - 61 Hz\n",
      "\n",
      "FIR filter parameters\n",
      "---------------------\n",
      "Designing a one-pass, zero-phase, non-causal bandstop filter:\n",
      "- Windowed time-domain design (firwin) method\n",
      "- Hamming window with 0.0194 passband ripple and 53 dB stopband attenuation\n",
      "- Lower passband edge: 59.35\n",
      "- Lower transition bandwidth: 0.50 Hz (-6 dB cutoff frequency: 59.10 Hz)\n",
      "- Upper passband edge: 60.65 Hz\n",
      "- Upper transition bandwidth: 0.50 Hz (-6 dB cutoff frequency: 60.90 Hz)\n",
      "- Filter length: 1691 samples (6.605 s)\n",
      "\n",
      "Filtering raw data in 1 contiguous segment\n",
      "Setting up band-pass filter from 8 - 30 Hz\n",
      "\n",
      "FIR filter parameters\n",
      "---------------------\n",
      "Designing a one-pass, zero-phase, non-causal bandpass filter:\n",
      "- Windowed time-domain design (firwin) method\n",
      "- Hamming window with 0.0194 passband ripple and 53 dB stopband attenuation\n",
      "- Lower passband edge: 8.00\n",
      "- Lower transition bandwidth: 2.00 Hz (-6 dB cutoff frequency: 7.00 Hz)\n",
      "- Upper passband edge: 30.00 Hz\n",
      "- Upper transition bandwidth: 7.50 Hz (-6 dB cutoff frequency: 33.75 Hz)\n",
      "- Filter length: 423 samples (1.652 s)\n",
      "\n"
     ]
    },
    {
     "name": "stderr",
     "output_type": "stream",
     "text": [
      "[Parallel(n_jobs=1)]: Done  17 tasks      | elapsed:    0.0s\n",
      "[Parallel(n_jobs=1)]: Done  60 out of  60 | elapsed:    0.2s finished\n",
      "[Parallel(n_jobs=1)]: Done  17 tasks      | elapsed:    0.0s\n"
     ]
    },
    {
     "name": "stdout",
     "output_type": "stream",
     "text": [
      "Fitting ICA to data using 60 channels (please be patient, this may take a while)\n",
      "Selecting by number: 10 components\n"
     ]
    },
    {
     "name": "stderr",
     "output_type": "stream",
     "text": [
      "[Parallel(n_jobs=1)]: Done  60 out of  60 | elapsed:    0.3s finished\n"
     ]
    },
    {
     "name": "stdout",
     "output_type": "stream",
     "text": [
      "Fitting ICA took 0.2s.\n",
      "Fitting ICA to data using 60 channels (please be patient, this may take a while)\n",
      "Selecting by number: 15 components\n",
      "Fitting ICA took 2.2s.\n",
      "Applying ICA to Raw instance\n",
      "    Transforming to ICA space (15 components)\n",
      "    Zeroing out 0 ICA components\n",
      "    Projecting back using 60 PCA components\n",
      "Used Annotations descriptions: [np.str_('Comment/actiCAP Active Shield On'), np.str_('New Segment/'), np.str_('Stimulus/S  8'), np.str_('Stimulus/S  9'), np.str_('Stimulus/S 10'), np.str_('Stimulus/S 13'), np.str_('Stimulus/S 14'), np.str_('Stimulus/S 91'), np.str_('Stimulus/S101')]\n",
      "Not setting metadata\n",
      "100 matching events found\n",
      "Setting baseline interval to [-0.19921875, 0.0] s\n",
      "Applying baseline correction (mode: mean)\n",
      "0 projection items activated\n",
      "Using data from preloaded Raw for 100 events and 564 original time points ...\n",
      "0 bad epochs dropped\n",
      "0 bad epochs dropped\n",
      "Saved: /storage/projects1/e19-4yp-mi-eeg-for-bci/ashan/processed_data3/session1_sub7_twist_MI.npz (X=(100, 60, 564), y=(100,))\n",
      "\n",
      "Processing: /storage/projects1/e19-4yp-mi-eeg-for-bci/rawdata/session2_sub4_twist_MI.vhdr\n",
      "Extracting parameters from /storage/projects1/e19-4yp-mi-eeg-for-bci/rawdata/session2_sub4_twist_MI.vhdr...\n",
      "Setting channel info structure...\n",
      "Reading 0 ... 2583099  =      0.000 ...  1033.240 secs...\n"
     ]
    },
    {
     "name": "stderr",
     "output_type": "stream",
     "text": [
      "/tmp/ipykernel_24872/1726901494.py:33: RuntimeWarning: Online software filter detected. Using software filter settings and ignoring hardware values\n",
      "  raw = mne.io.read_raw_brainvision(vhdr_path, preload=True)\n",
      "/tmp/ipykernel_24872/1726901494.py:33: RuntimeWarning: Channels contain different highpass filters. Lowest (weakest) filter setting (0.00 Hz) will be stored.\n",
      "  raw = mne.io.read_raw_brainvision(vhdr_path, preload=True)\n",
      "/tmp/ipykernel_24872/1726901494.py:33: RuntimeWarning: Channels contain different lowpass filters. Highest (weakest) filter setting (1250.00 Hz, Nyquist limit) will be stored.\n",
      "  raw = mne.io.read_raw_brainvision(vhdr_path, preload=True)\n"
     ]
    },
    {
     "name": "stdout",
     "output_type": "stream",
     "text": [
      "Filtering raw data in 1 contiguous segment\n",
      "Setting up band-stop filter from 59 - 61 Hz\n",
      "\n",
      "FIR filter parameters\n",
      "---------------------\n",
      "Designing a one-pass, zero-phase, non-causal bandstop filter:\n",
      "- Windowed time-domain design (firwin) method\n",
      "- Hamming window with 0.0194 passband ripple and 53 dB stopband attenuation\n",
      "- Lower passband edge: 59.35\n",
      "- Lower transition bandwidth: 0.50 Hz (-6 dB cutoff frequency: 59.10 Hz)\n",
      "- Upper passband edge: 60.65 Hz\n",
      "- Upper transition bandwidth: 0.50 Hz (-6 dB cutoff frequency: 60.90 Hz)\n",
      "- Filter length: 1691 samples (6.605 s)\n",
      "\n",
      "Filtering raw data in 1 contiguous segment\n",
      "Setting up band-pass filter from 8 - 30 Hz\n",
      "\n",
      "FIR filter parameters\n",
      "---------------------\n",
      "Designing a one-pass, zero-phase, non-causal bandpass filter:\n",
      "- Windowed time-domain design (firwin) method\n",
      "- Hamming window with 0.0194 passband ripple and 53 dB stopband attenuation\n",
      "- Lower passband edge: 8.00\n",
      "- Lower transition bandwidth: 2.00 Hz (-6 dB cutoff frequency: 7.00 Hz)\n",
      "- Upper passband edge: 30.00 Hz\n",
      "- Upper transition bandwidth: 7.50 Hz (-6 dB cutoff frequency: 33.75 Hz)\n",
      "- Filter length: 423 samples (1.652 s)\n",
      "\n"
     ]
    },
    {
     "name": "stderr",
     "output_type": "stream",
     "text": [
      "[Parallel(n_jobs=1)]: Done  17 tasks      | elapsed:    0.0s\n",
      "[Parallel(n_jobs=1)]: Done  60 out of  60 | elapsed:    0.2s finished\n",
      "[Parallel(n_jobs=1)]: Done  17 tasks      | elapsed:    0.0s\n"
     ]
    },
    {
     "name": "stdout",
     "output_type": "stream",
     "text": [
      "Fitting ICA to data using 60 channels (please be patient, this may take a while)\n",
      "Selecting by number: 10 components\n",
      "Fitting ICA took 0.1s.\n",
      "Fitting ICA to data using 60 channels (please be patient, this may take a while)\n"
     ]
    },
    {
     "name": "stderr",
     "output_type": "stream",
     "text": [
      "[Parallel(n_jobs=1)]: Done  60 out of  60 | elapsed:    0.2s finished\n"
     ]
    },
    {
     "name": "stdout",
     "output_type": "stream",
     "text": [
      "Selecting by number: 15 components\n",
      "Fitting ICA took 2.0s.\n",
      "Applying ICA to Raw instance\n",
      "    Transforming to ICA space (15 components)\n",
      "    Zeroing out 0 ICA components\n",
      "    Projecting back using 60 PCA components\n",
      "Used Annotations descriptions: [np.str_('Comment/actiCAP Active Shield On'), np.str_('New Segment/'), np.str_('Stimulus/S  8'), np.str_('Stimulus/S  9'), np.str_('Stimulus/S 10'), np.str_('Stimulus/S 13'), np.str_('Stimulus/S 14'), np.str_('Stimulus/S 91'), np.str_('Stimulus/S101')]\n",
      "Not setting metadata\n",
      "100 matching events found\n",
      "Setting baseline interval to [-0.19921875, 0.0] s\n",
      "Applying baseline correction (mode: mean)\n",
      "0 projection items activated\n",
      "Using data from preloaded Raw for 100 events and 564 original time points ...\n",
      "0 bad epochs dropped\n",
      "0 bad epochs dropped\n",
      "Saved: /storage/projects1/e19-4yp-mi-eeg-for-bci/ashan/processed_data3/session2_sub4_twist_MI.npz (X=(100, 60, 564), y=(100,))\n",
      "\n",
      "Processing: /storage/projects1/e19-4yp-mi-eeg-for-bci/rawdata/session3_sub3_twist_MI.vhdr\n",
      "Extracting parameters from /storage/projects1/e19-4yp-mi-eeg-for-bci/rawdata/session3_sub3_twist_MI.vhdr...\n",
      "Setting channel info structure...\n",
      "Reading 0 ... 3172899  =      0.000 ...  1269.160 secs...\n"
     ]
    },
    {
     "name": "stderr",
     "output_type": "stream",
     "text": [
      "/tmp/ipykernel_24872/1726901494.py:33: RuntimeWarning: Online software filter detected. Using software filter settings and ignoring hardware values\n",
      "  raw = mne.io.read_raw_brainvision(vhdr_path, preload=True)\n",
      "/tmp/ipykernel_24872/1726901494.py:33: RuntimeWarning: Channels contain different highpass filters. Lowest (weakest) filter setting (0.00 Hz) will be stored.\n",
      "  raw = mne.io.read_raw_brainvision(vhdr_path, preload=True)\n",
      "/tmp/ipykernel_24872/1726901494.py:33: RuntimeWarning: Channels contain different lowpass filters. Highest (weakest) filter setting (1250.00 Hz, Nyquist limit) will be stored.\n",
      "  raw = mne.io.read_raw_brainvision(vhdr_path, preload=True)\n"
     ]
    },
    {
     "name": "stdout",
     "output_type": "stream",
     "text": [
      "Filtering raw data in 1 contiguous segment\n",
      "Setting up band-stop filter from 59 - 61 Hz\n",
      "\n",
      "FIR filter parameters\n",
      "---------------------\n",
      "Designing a one-pass, zero-phase, non-causal bandstop filter:\n",
      "- Windowed time-domain design (firwin) method\n",
      "- Hamming window with 0.0194 passband ripple and 53 dB stopband attenuation\n",
      "- Lower passband edge: 59.35\n",
      "- Lower transition bandwidth: 0.50 Hz (-6 dB cutoff frequency: 59.10 Hz)\n",
      "- Upper passband edge: 60.65 Hz\n",
      "- Upper transition bandwidth: 0.50 Hz (-6 dB cutoff frequency: 60.90 Hz)\n",
      "- Filter length: 1691 samples (6.605 s)\n",
      "\n",
      "Filtering raw data in 1 contiguous segment\n",
      "Setting up band-pass filter from 8 - 30 Hz\n",
      "\n",
      "FIR filter parameters\n",
      "---------------------\n",
      "Designing a one-pass, zero-phase, non-causal bandpass filter:\n",
      "- Windowed time-domain design (firwin) method\n",
      "- Hamming window with 0.0194 passband ripple and 53 dB stopband attenuation\n",
      "- Lower passband edge: 8.00\n",
      "- Lower transition bandwidth: 2.00 Hz (-6 dB cutoff frequency: 7.00 Hz)\n",
      "- Upper passband edge: 30.00 Hz\n",
      "- Upper transition bandwidth: 7.50 Hz (-6 dB cutoff frequency: 33.75 Hz)\n",
      "- Filter length: 423 samples (1.652 s)\n",
      "\n"
     ]
    },
    {
     "name": "stderr",
     "output_type": "stream",
     "text": [
      "[Parallel(n_jobs=1)]: Done  17 tasks      | elapsed:    0.1s\n",
      "[Parallel(n_jobs=1)]: Done  60 out of  60 | elapsed:    0.2s finished\n",
      "[Parallel(n_jobs=1)]: Done  17 tasks      | elapsed:    0.1s\n",
      "[Parallel(n_jobs=1)]: Done  60 out of  60 | elapsed:    0.2s finished\n"
     ]
    },
    {
     "name": "stdout",
     "output_type": "stream",
     "text": [
      "Fitting ICA to data using 60 channels (please be patient, this may take a while)\n",
      "Selecting by number: 10 components\n",
      "Fitting ICA took 0.1s.\n",
      "Fitting ICA to data using 60 channels (please be patient, this may take a while)\n",
      "Selecting by number: 15 components\n",
      "Fitting ICA took 2.8s.\n",
      "Applying ICA to Raw instance\n",
      "    Transforming to ICA space (15 components)\n",
      "    Zeroing out 0 ICA components\n",
      "    Projecting back using 60 PCA components\n",
      "Used Annotations descriptions: [np.str_('Comment/actiCAP Active Shield On'), np.str_('New Segment/'), np.str_('Stimulus/S  8'), np.str_('Stimulus/S  9'), np.str_('Stimulus/S 10'), np.str_('Stimulus/S 13'), np.str_('Stimulus/S 14'), np.str_('Stimulus/S 91'), np.str_('Stimulus/S101')]\n",
      "Not setting metadata\n",
      "100 matching events found\n",
      "Setting baseline interval to [-0.19921875, 0.0] s\n",
      "Applying baseline correction (mode: mean)\n",
      "0 projection items activated\n",
      "Using data from preloaded Raw for 100 events and 564 original time points ...\n",
      "0 bad epochs dropped\n",
      "    Rejecting  epoch based on EEG : ['F7']\n",
      "    Rejecting  epoch based on EEG : ['F7', 'F6', 'F8', 'FT8']\n",
      "    Rejecting  epoch based on EEG : ['F8', 'FC4', 'FT8', 'C4', 'T8', 'CP4', 'CP6']\n",
      "3 bad epochs dropped\n",
      "Saved: /storage/projects1/e19-4yp-mi-eeg-for-bci/ashan/processed_data3/session3_sub3_twist_MI.npz (X=(97, 60, 564), y=(97,))\n",
      "\n",
      "Processing: /storage/projects1/e19-4yp-mi-eeg-for-bci/rawdata/session3_sub15_twist_MI.vhdr\n",
      "Extracting parameters from /storage/projects1/e19-4yp-mi-eeg-for-bci/rawdata/session3_sub15_twist_MI.vhdr...\n",
      "Setting channel info structure...\n",
      "Reading 0 ... 2561199  =      0.000 ...  1024.480 secs...\n"
     ]
    },
    {
     "name": "stderr",
     "output_type": "stream",
     "text": [
      "/tmp/ipykernel_24872/1726901494.py:33: RuntimeWarning: Online software filter detected. Using software filter settings and ignoring hardware values\n",
      "  raw = mne.io.read_raw_brainvision(vhdr_path, preload=True)\n",
      "/tmp/ipykernel_24872/1726901494.py:33: RuntimeWarning: Channels contain different highpass filters. Lowest (weakest) filter setting (0.00 Hz) will be stored.\n",
      "  raw = mne.io.read_raw_brainvision(vhdr_path, preload=True)\n",
      "/tmp/ipykernel_24872/1726901494.py:33: RuntimeWarning: Channels contain different lowpass filters. Highest (weakest) filter setting (1250.00 Hz, Nyquist limit) will be stored.\n",
      "  raw = mne.io.read_raw_brainvision(vhdr_path, preload=True)\n"
     ]
    },
    {
     "name": "stdout",
     "output_type": "stream",
     "text": [
      "Filtering raw data in 1 contiguous segment\n",
      "Setting up band-stop filter from 59 - 61 Hz\n",
      "\n",
      "FIR filter parameters\n",
      "---------------------\n",
      "Designing a one-pass, zero-phase, non-causal bandstop filter:\n",
      "- Windowed time-domain design (firwin) method\n",
      "- Hamming window with 0.0194 passband ripple and 53 dB stopband attenuation\n",
      "- Lower passband edge: 59.35\n",
      "- Lower transition bandwidth: 0.50 Hz (-6 dB cutoff frequency: 59.10 Hz)\n",
      "- Upper passband edge: 60.65 Hz\n",
      "- Upper transition bandwidth: 0.50 Hz (-6 dB cutoff frequency: 60.90 Hz)\n",
      "- Filter length: 1691 samples (6.605 s)\n",
      "\n",
      "Filtering raw data in 1 contiguous segment\n",
      "Setting up band-pass filter from 8 - 30 Hz\n",
      "\n",
      "FIR filter parameters\n",
      "---------------------\n",
      "Designing a one-pass, zero-phase, non-causal bandpass filter:\n",
      "- Windowed time-domain design (firwin) method\n",
      "- Hamming window with 0.0194 passband ripple and 53 dB stopband attenuation\n",
      "- Lower passband edge: 8.00\n",
      "- Lower transition bandwidth: 2.00 Hz (-6 dB cutoff frequency: 7.00 Hz)\n",
      "- Upper passband edge: 30.00 Hz\n",
      "- Upper transition bandwidth: 7.50 Hz (-6 dB cutoff frequency: 33.75 Hz)\n",
      "- Filter length: 423 samples (1.652 s)\n",
      "\n"
     ]
    },
    {
     "name": "stderr",
     "output_type": "stream",
     "text": [
      "[Parallel(n_jobs=1)]: Done  17 tasks      | elapsed:    0.1s\n",
      "[Parallel(n_jobs=1)]: Done  60 out of  60 | elapsed:    0.2s finished\n"
     ]
    },
    {
     "name": "stdout",
     "output_type": "stream",
     "text": [
      "Fitting ICA to data using 60 channels (please be patient, this may take a while)\n"
     ]
    },
    {
     "name": "stderr",
     "output_type": "stream",
     "text": [
      "[Parallel(n_jobs=1)]: Done  17 tasks      | elapsed:    0.0s\n",
      "[Parallel(n_jobs=1)]: Done  60 out of  60 | elapsed:    0.2s finished\n"
     ]
    },
    {
     "name": "stdout",
     "output_type": "stream",
     "text": [
      "Selecting by number: 10 components\n",
      "Fitting ICA took 0.1s.\n",
      "Fitting ICA to data using 60 channels (please be patient, this may take a while)\n",
      "Selecting by number: 15 components\n",
      "Fitting ICA took 2.4s.\n",
      "Applying ICA to Raw instance\n",
      "    Transforming to ICA space (15 components)\n",
      "    Zeroing out 0 ICA components\n",
      "    Projecting back using 60 PCA components\n",
      "Used Annotations descriptions: [np.str_('Comment/actiCAP Active Shield On'), np.str_('New Segment/'), np.str_('Stimulus/S  8'), np.str_('Stimulus/S  9'), np.str_('Stimulus/S 10'), np.str_('Stimulus/S 13'), np.str_('Stimulus/S 14'), np.str_('Stimulus/S 91'), np.str_('Stimulus/S101')]\n",
      "Not setting metadata\n",
      "100 matching events found\n",
      "Setting baseline interval to [-0.19921875, 0.0] s\n",
      "Applying baseline correction (mode: mean)\n",
      "0 projection items activated\n",
      "Using data from preloaded Raw for 100 events and 564 original time points ...\n",
      "0 bad epochs dropped\n",
      "0 bad epochs dropped\n",
      "Saved: /storage/projects1/e19-4yp-mi-eeg-for-bci/ashan/processed_data3/session3_sub15_twist_MI.npz (X=(100, 60, 564), y=(100,))\n",
      "\n",
      "Processing: /storage/projects1/e19-4yp-mi-eeg-for-bci/rawdata/session3_sub8_twist_MI.vhdr\n",
      "Extracting parameters from /storage/projects1/e19-4yp-mi-eeg-for-bci/rawdata/session3_sub8_twist_MI.vhdr...\n",
      "Setting channel info structure...\n",
      "Reading 0 ... 2562799  =      0.000 ...  1025.120 secs...\n"
     ]
    },
    {
     "name": "stderr",
     "output_type": "stream",
     "text": [
      "/tmp/ipykernel_24872/1726901494.py:33: RuntimeWarning: Online software filter detected. Using software filter settings and ignoring hardware values\n",
      "  raw = mne.io.read_raw_brainvision(vhdr_path, preload=True)\n",
      "/tmp/ipykernel_24872/1726901494.py:33: RuntimeWarning: Channels contain different highpass filters. Lowest (weakest) filter setting (0.00 Hz) will be stored.\n",
      "  raw = mne.io.read_raw_brainvision(vhdr_path, preload=True)\n",
      "/tmp/ipykernel_24872/1726901494.py:33: RuntimeWarning: Channels contain different lowpass filters. Highest (weakest) filter setting (1250.00 Hz, Nyquist limit) will be stored.\n",
      "  raw = mne.io.read_raw_brainvision(vhdr_path, preload=True)\n"
     ]
    },
    {
     "name": "stdout",
     "output_type": "stream",
     "text": [
      "Filtering raw data in 1 contiguous segment\n",
      "Setting up band-stop filter from 59 - 61 Hz\n",
      "\n",
      "FIR filter parameters\n",
      "---------------------\n",
      "Designing a one-pass, zero-phase, non-causal bandstop filter:\n",
      "- Windowed time-domain design (firwin) method\n",
      "- Hamming window with 0.0194 passband ripple and 53 dB stopband attenuation\n",
      "- Lower passband edge: 59.35\n",
      "- Lower transition bandwidth: 0.50 Hz (-6 dB cutoff frequency: 59.10 Hz)\n",
      "- Upper passband edge: 60.65 Hz\n",
      "- Upper transition bandwidth: 0.50 Hz (-6 dB cutoff frequency: 60.90 Hz)\n",
      "- Filter length: 1691 samples (6.605 s)\n",
      "\n",
      "Filtering raw data in 1 contiguous segment\n",
      "Setting up band-pass filter from 8 - 30 Hz\n",
      "\n",
      "FIR filter parameters\n",
      "---------------------\n",
      "Designing a one-pass, zero-phase, non-causal bandpass filter:\n",
      "- Windowed time-domain design (firwin) method\n",
      "- Hamming window with 0.0194 passband ripple and 53 dB stopband attenuation\n",
      "- Lower passband edge: 8.00\n",
      "- Lower transition bandwidth: 2.00 Hz (-6 dB cutoff frequency: 7.00 Hz)\n",
      "- Upper passband edge: 30.00 Hz\n",
      "- Upper transition bandwidth: 7.50 Hz (-6 dB cutoff frequency: 33.75 Hz)\n",
      "- Filter length: 423 samples (1.652 s)\n",
      "\n"
     ]
    },
    {
     "name": "stderr",
     "output_type": "stream",
     "text": [
      "[Parallel(n_jobs=1)]: Done  17 tasks      | elapsed:    0.1s\n",
      "[Parallel(n_jobs=1)]: Done  60 out of  60 | elapsed:    0.2s finished\n",
      "[Parallel(n_jobs=1)]: Done  17 tasks      | elapsed:    0.1s\n"
     ]
    },
    {
     "name": "stdout",
     "output_type": "stream",
     "text": [
      "Fitting ICA to data using 60 channels (please be patient, this may take a while)\n"
     ]
    },
    {
     "name": "stderr",
     "output_type": "stream",
     "text": [
      "[Parallel(n_jobs=1)]: Done  60 out of  60 | elapsed:    0.3s finished\n"
     ]
    },
    {
     "name": "stdout",
     "output_type": "stream",
     "text": [
      "Selecting by number: 10 components\n",
      "Fitting ICA took 0.2s.\n",
      "Fitting ICA to data using 60 channels (please be patient, this may take a while)\n",
      "Selecting by number: 15 components\n",
      "Fitting ICA took 1.5s.\n",
      "Applying ICA to Raw instance\n",
      "    Transforming to ICA space (15 components)\n",
      "    Zeroing out 0 ICA components\n",
      "    Projecting back using 60 PCA components\n",
      "Used Annotations descriptions: [np.str_('Comment/actiCAP Active Shield On'), np.str_('New Segment/'), np.str_('Stimulus/S  8'), np.str_('Stimulus/S  9'), np.str_('Stimulus/S 10'), np.str_('Stimulus/S 13'), np.str_('Stimulus/S 14'), np.str_('Stimulus/S 91'), np.str_('Stimulus/S101')]\n",
      "Not setting metadata\n",
      "100 matching events found\n",
      "Setting baseline interval to [-0.19921875, 0.0] s\n",
      "Applying baseline correction (mode: mean)\n",
      "0 projection items activated\n",
      "Using data from preloaded Raw for 100 events and 564 original time points ...\n",
      "0 bad epochs dropped\n",
      "    Rejecting  epoch based on EEG : ['Iz']\n",
      "    Rejecting  epoch based on EEG : ['Fp1', 'F7', 'FT7', 'FC5', 'FC3', 'T7', 'C5', 'CP5', 'AF8']\n",
      "    Rejecting  epoch based on EEG : ['Fp1']\n",
      "    Rejecting  epoch based on EEG : ['Fp1', 'AF7']\n",
      "4 bad epochs dropped\n",
      "Saved: /storage/projects1/e19-4yp-mi-eeg-for-bci/ashan/processed_data3/session3_sub8_twist_MI.npz (X=(96, 60, 564), y=(96,))\n",
      "\n",
      "Processing: /storage/projects1/e19-4yp-mi-eeg-for-bci/rawdata/session2_sub18_twist_MI.vhdr\n",
      "Extracting parameters from /storage/projects1/e19-4yp-mi-eeg-for-bci/rawdata/session2_sub18_twist_MI.vhdr...\n",
      "Setting channel info structure...\n",
      "Reading 0 ... 2797199  =      0.000 ...  1118.880 secs...\n"
     ]
    },
    {
     "name": "stderr",
     "output_type": "stream",
     "text": [
      "/tmp/ipykernel_24872/1726901494.py:33: RuntimeWarning: Online software filter detected. Using software filter settings and ignoring hardware values\n",
      "  raw = mne.io.read_raw_brainvision(vhdr_path, preload=True)\n",
      "/tmp/ipykernel_24872/1726901494.py:33: RuntimeWarning: Channels contain different highpass filters. Lowest (weakest) filter setting (0.00 Hz) will be stored.\n",
      "  raw = mne.io.read_raw_brainvision(vhdr_path, preload=True)\n",
      "/tmp/ipykernel_24872/1726901494.py:33: RuntimeWarning: Channels contain different lowpass filters. Highest (weakest) filter setting (1250.00 Hz, Nyquist limit) will be stored.\n",
      "  raw = mne.io.read_raw_brainvision(vhdr_path, preload=True)\n"
     ]
    },
    {
     "name": "stdout",
     "output_type": "stream",
     "text": [
      "Filtering raw data in 1 contiguous segment\n",
      "Setting up band-stop filter from 59 - 61 Hz\n",
      "\n",
      "FIR filter parameters\n",
      "---------------------\n",
      "Designing a one-pass, zero-phase, non-causal bandstop filter:\n",
      "- Windowed time-domain design (firwin) method\n",
      "- Hamming window with 0.0194 passband ripple and 53 dB stopband attenuation\n",
      "- Lower passband edge: 59.35\n",
      "- Lower transition bandwidth: 0.50 Hz (-6 dB cutoff frequency: 59.10 Hz)\n",
      "- Upper passband edge: 60.65 Hz\n",
      "- Upper transition bandwidth: 0.50 Hz (-6 dB cutoff frequency: 60.90 Hz)\n",
      "- Filter length: 1691 samples (6.605 s)\n",
      "\n",
      "Filtering raw data in 1 contiguous segment\n",
      "Setting up band-pass filter from 8 - 30 Hz\n",
      "\n",
      "FIR filter parameters\n",
      "---------------------\n",
      "Designing a one-pass, zero-phase, non-causal bandpass filter:\n",
      "- Windowed time-domain design (firwin) method\n",
      "- Hamming window with 0.0194 passband ripple and 53 dB stopband attenuation\n",
      "- Lower passband edge: 8.00\n",
      "- Lower transition bandwidth: 2.00 Hz (-6 dB cutoff frequency: 7.00 Hz)\n",
      "- Upper passband edge: 30.00 Hz\n",
      "- Upper transition bandwidth: 7.50 Hz (-6 dB cutoff frequency: 33.75 Hz)\n",
      "- Filter length: 423 samples (1.652 s)\n",
      "\n"
     ]
    },
    {
     "name": "stderr",
     "output_type": "stream",
     "text": [
      "[Parallel(n_jobs=1)]: Done  17 tasks      | elapsed:    0.0s\n",
      "[Parallel(n_jobs=1)]: Done  60 out of  60 | elapsed:    0.2s finished\n"
     ]
    },
    {
     "name": "stdout",
     "output_type": "stream",
     "text": [
      "Fitting ICA to data using 60 channels (please be patient, this may take a while)\n",
      "Selecting by number: 10 components\n"
     ]
    },
    {
     "name": "stderr",
     "output_type": "stream",
     "text": [
      "[Parallel(n_jobs=1)]: Done  17 tasks      | elapsed:    0.1s\n",
      "[Parallel(n_jobs=1)]: Done  60 out of  60 | elapsed:    0.2s finished\n"
     ]
    },
    {
     "name": "stdout",
     "output_type": "stream",
     "text": [
      "Fitting ICA took 0.1s.\n",
      "Fitting ICA to data using 60 channels (please be patient, this may take a while)\n",
      "Selecting by number: 15 components\n",
      "Fitting ICA took 2.5s.\n",
      "Applying ICA to Raw instance\n",
      "    Transforming to ICA space (15 components)\n",
      "    Zeroing out 0 ICA components\n",
      "    Projecting back using 60 PCA components\n",
      "Used Annotations descriptions: [np.str_('Comment/actiCAP Data On'), np.str_('New Segment/'), np.str_('Stimulus/S  8'), np.str_('Stimulus/S  9'), np.str_('Stimulus/S 10'), np.str_('Stimulus/S 13'), np.str_('Stimulus/S 14'), np.str_('Stimulus/S 91'), np.str_('Stimulus/S101')]\n",
      "Not setting metadata\n",
      "100 matching events found\n",
      "Setting baseline interval to [-0.19921875, 0.0] s\n",
      "Applying baseline correction (mode: mean)\n",
      "0 projection items activated\n",
      "Using data from preloaded Raw for 100 events and 564 original time points ...\n",
      "0 bad epochs dropped\n",
      "    Rejecting  epoch based on EEG : ['O2']\n",
      "    Rejecting  epoch based on EEG : ['PO7']\n",
      "    Rejecting  epoch based on EEG : ['O2']\n",
      "    Rejecting  epoch based on EEG : ['O2']\n",
      "    Rejecting  epoch based on EEG : ['PO7', 'P6', 'P8', 'PO8', 'O1', 'O2']\n",
      "5 bad epochs dropped\n",
      "Saved: /storage/projects1/e19-4yp-mi-eeg-for-bci/ashan/processed_data3/session2_sub18_twist_MI.npz (X=(95, 60, 564), y=(95,))\n",
      "\n",
      "Processing: /storage/projects1/e19-4yp-mi-eeg-for-bci/rawdata/session2_sub10_twist_MI.vhdr\n",
      "Extracting parameters from /storage/projects1/e19-4yp-mi-eeg-for-bci/rawdata/session2_sub10_twist_MI.vhdr...\n",
      "Setting channel info structure...\n",
      "Reading 0 ... 2554299  =      0.000 ...  1021.720 secs...\n"
     ]
    },
    {
     "name": "stderr",
     "output_type": "stream",
     "text": [
      "/tmp/ipykernel_24872/1726901494.py:33: RuntimeWarning: Online software filter detected. Using software filter settings and ignoring hardware values\n",
      "  raw = mne.io.read_raw_brainvision(vhdr_path, preload=True)\n",
      "/tmp/ipykernel_24872/1726901494.py:33: RuntimeWarning: Channels contain different highpass filters. Lowest (weakest) filter setting (0.00 Hz) will be stored.\n",
      "  raw = mne.io.read_raw_brainvision(vhdr_path, preload=True)\n",
      "/tmp/ipykernel_24872/1726901494.py:33: RuntimeWarning: Channels contain different lowpass filters. Highest (weakest) filter setting (1250.00 Hz, Nyquist limit) will be stored.\n",
      "  raw = mne.io.read_raw_brainvision(vhdr_path, preload=True)\n"
     ]
    },
    {
     "name": "stdout",
     "output_type": "stream",
     "text": [
      "Filtering raw data in 1 contiguous segment\n",
      "Setting up band-stop filter from 59 - 61 Hz\n",
      "\n",
      "FIR filter parameters\n",
      "---------------------\n",
      "Designing a one-pass, zero-phase, non-causal bandstop filter:\n",
      "- Windowed time-domain design (firwin) method\n",
      "- Hamming window with 0.0194 passband ripple and 53 dB stopband attenuation\n",
      "- Lower passband edge: 59.35\n",
      "- Lower transition bandwidth: 0.50 Hz (-6 dB cutoff frequency: 59.10 Hz)\n",
      "- Upper passband edge: 60.65 Hz\n",
      "- Upper transition bandwidth: 0.50 Hz (-6 dB cutoff frequency: 60.90 Hz)\n",
      "- Filter length: 1691 samples (6.605 s)\n",
      "\n",
      "Filtering raw data in 1 contiguous segment\n",
      "Setting up band-pass filter from 8 - 30 Hz\n",
      "\n",
      "FIR filter parameters\n",
      "---------------------\n",
      "Designing a one-pass, zero-phase, non-causal bandpass filter:\n",
      "- Windowed time-domain design (firwin) method\n",
      "- Hamming window with 0.0194 passband ripple and 53 dB stopband attenuation\n",
      "- Lower passband edge: 8.00\n",
      "- Lower transition bandwidth: 2.00 Hz (-6 dB cutoff frequency: 7.00 Hz)\n",
      "- Upper passband edge: 30.00 Hz\n",
      "- Upper transition bandwidth: 7.50 Hz (-6 dB cutoff frequency: 33.75 Hz)\n",
      "- Filter length: 423 samples (1.652 s)\n",
      "\n"
     ]
    },
    {
     "name": "stderr",
     "output_type": "stream",
     "text": [
      "[Parallel(n_jobs=1)]: Done  17 tasks      | elapsed:    0.1s\n",
      "[Parallel(n_jobs=1)]: Done  60 out of  60 | elapsed:    0.2s finished\n"
     ]
    },
    {
     "name": "stdout",
     "output_type": "stream",
     "text": [
      "Fitting ICA to data using 60 channels (please be patient, this may take a while)\n"
     ]
    },
    {
     "name": "stderr",
     "output_type": "stream",
     "text": [
      "[Parallel(n_jobs=1)]: Done  17 tasks      | elapsed:    0.0s\n",
      "[Parallel(n_jobs=1)]: Done  60 out of  60 | elapsed:    0.2s finished\n"
     ]
    },
    {
     "name": "stdout",
     "output_type": "stream",
     "text": [
      "Selecting by number: 10 components\n",
      "Fitting ICA took 0.1s.\n",
      "Fitting ICA to data using 60 channels (please be patient, this may take a while)\n",
      "Selecting by number: 15 components\n",
      "Fitting ICA took 3.8s.\n",
      "Applying ICA to Raw instance\n",
      "    Transforming to ICA space (15 components)\n",
      "    Zeroing out 0 ICA components\n",
      "    Projecting back using 60 PCA components\n",
      "Used Annotations descriptions: [np.str_('Comment/actiCAP Data On'), np.str_('New Segment/'), np.str_('Stimulus/S  8'), np.str_('Stimulus/S  9'), np.str_('Stimulus/S 10'), np.str_('Stimulus/S 13'), np.str_('Stimulus/S 14'), np.str_('Stimulus/S 91'), np.str_('Stimulus/S101')]\n",
      "Not setting metadata\n",
      "100 matching events found\n",
      "Setting baseline interval to [-0.19921875, 0.0] s\n",
      "Applying baseline correction (mode: mean)\n",
      "0 projection items activated\n",
      "Using data from preloaded Raw for 100 events and 564 original time points ...\n",
      "0 bad epochs dropped\n",
      "0 bad epochs dropped\n",
      "Saved: /storage/projects1/e19-4yp-mi-eeg-for-bci/ashan/processed_data3/session2_sub10_twist_MI.npz (X=(100, 60, 564), y=(100,))\n",
      "\n",
      "Processing: /storage/projects1/e19-4yp-mi-eeg-for-bci/rawdata/session2_sub23_twist_MI.vhdr\n",
      "Extracting parameters from /storage/projects1/e19-4yp-mi-eeg-for-bci/rawdata/session2_sub23_twist_MI.vhdr...\n",
      "Setting channel info structure...\n",
      "Reading 0 ... 2761399  =      0.000 ...  1104.560 secs...\n"
     ]
    },
    {
     "name": "stderr",
     "output_type": "stream",
     "text": [
      "/tmp/ipykernel_24872/1726901494.py:33: RuntimeWarning: Online software filter detected. Using software filter settings and ignoring hardware values\n",
      "  raw = mne.io.read_raw_brainvision(vhdr_path, preload=True)\n",
      "/tmp/ipykernel_24872/1726901494.py:33: RuntimeWarning: Channels contain different highpass filters. Lowest (weakest) filter setting (0.00 Hz) will be stored.\n",
      "  raw = mne.io.read_raw_brainvision(vhdr_path, preload=True)\n",
      "/tmp/ipykernel_24872/1726901494.py:33: RuntimeWarning: Channels contain different lowpass filters. Highest (weakest) filter setting (1250.00 Hz, Nyquist limit) will be stored.\n",
      "  raw = mne.io.read_raw_brainvision(vhdr_path, preload=True)\n"
     ]
    },
    {
     "name": "stdout",
     "output_type": "stream",
     "text": [
      "Filtering raw data in 1 contiguous segment\n",
      "Setting up band-stop filter from 59 - 61 Hz\n",
      "\n",
      "FIR filter parameters\n",
      "---------------------\n",
      "Designing a one-pass, zero-phase, non-causal bandstop filter:\n",
      "- Windowed time-domain design (firwin) method\n",
      "- Hamming window with 0.0194 passband ripple and 53 dB stopband attenuation\n",
      "- Lower passband edge: 59.35\n",
      "- Lower transition bandwidth: 0.50 Hz (-6 dB cutoff frequency: 59.10 Hz)\n",
      "- Upper passband edge: 60.65 Hz\n",
      "- Upper transition bandwidth: 0.50 Hz (-6 dB cutoff frequency: 60.90 Hz)\n",
      "- Filter length: 1691 samples (6.605 s)\n",
      "\n",
      "Filtering raw data in 1 contiguous segment\n",
      "Setting up band-pass filter from 8 - 30 Hz\n",
      "\n",
      "FIR filter parameters\n",
      "---------------------\n",
      "Designing a one-pass, zero-phase, non-causal bandpass filter:\n",
      "- Windowed time-domain design (firwin) method\n",
      "- Hamming window with 0.0194 passband ripple and 53 dB stopband attenuation\n",
      "- Lower passband edge: 8.00\n",
      "- Lower transition bandwidth: 2.00 Hz (-6 dB cutoff frequency: 7.00 Hz)\n",
      "- Upper passband edge: 30.00 Hz\n",
      "- Upper transition bandwidth: 7.50 Hz (-6 dB cutoff frequency: 33.75 Hz)\n",
      "- Filter length: 423 samples (1.652 s)\n",
      "\n"
     ]
    },
    {
     "name": "stderr",
     "output_type": "stream",
     "text": [
      "[Parallel(n_jobs=1)]: Done  17 tasks      | elapsed:    0.0s\n",
      "[Parallel(n_jobs=1)]: Done  60 out of  60 | elapsed:    0.2s finished\n",
      "[Parallel(n_jobs=1)]: Done  17 tasks      | elapsed:    0.1s\n"
     ]
    },
    {
     "name": "stdout",
     "output_type": "stream",
     "text": [
      "Fitting ICA to data using 60 channels (please be patient, this may take a while)\n",
      "Selecting by number: 10 components\n",
      "Fitting ICA took 0.1s.\n",
      "Fitting ICA to data using 60 channels (please be patient, this may take a while)\n"
     ]
    },
    {
     "name": "stderr",
     "output_type": "stream",
     "text": [
      "[Parallel(n_jobs=1)]: Done  60 out of  60 | elapsed:    0.4s finished\n"
     ]
    },
    {
     "name": "stdout",
     "output_type": "stream",
     "text": [
      "Selecting by number: 15 components\n",
      "Fitting ICA took 2.8s.\n",
      "Applying ICA to Raw instance\n",
      "    Transforming to ICA space (15 components)\n",
      "    Zeroing out 0 ICA components\n",
      "    Projecting back using 60 PCA components\n",
      "Used Annotations descriptions: [np.str_('Comment/actiCAP Data On'), np.str_('New Segment/'), np.str_('Stimulus/S  8'), np.str_('Stimulus/S  9'), np.str_('Stimulus/S 10'), np.str_('Stimulus/S 13'), np.str_('Stimulus/S 14'), np.str_('Stimulus/S 91'), np.str_('Stimulus/S101')]\n",
      "Not setting metadata\n",
      "100 matching events found\n",
      "Setting baseline interval to [-0.19921875, 0.0] s\n",
      "Applying baseline correction (mode: mean)\n",
      "0 projection items activated\n",
      "Using data from preloaded Raw for 100 events and 564 original time points ...\n",
      "0 bad epochs dropped\n",
      "    Rejecting  epoch based on EEG : ['AF8']\n",
      "1 bad epochs dropped\n",
      "Saved: /storage/projects1/e19-4yp-mi-eeg-for-bci/ashan/processed_data3/session2_sub23_twist_MI.npz (X=(99, 60, 564), y=(99,))\n",
      "\n",
      "Processing: /storage/projects1/e19-4yp-mi-eeg-for-bci/rawdata/session1_sub3_twist_MI.vhdr\n",
      "Extracting parameters from /storage/projects1/e19-4yp-mi-eeg-for-bci/rawdata/session1_sub3_twist_MI.vhdr...\n",
      "Setting channel info structure...\n",
      "Reading 0 ... 2603999  =      0.000 ...  1041.600 secs...\n"
     ]
    },
    {
     "name": "stderr",
     "output_type": "stream",
     "text": [
      "/tmp/ipykernel_24872/1726901494.py:33: RuntimeWarning: Online software filter detected. Using software filter settings and ignoring hardware values\n",
      "  raw = mne.io.read_raw_brainvision(vhdr_path, preload=True)\n",
      "/tmp/ipykernel_24872/1726901494.py:33: RuntimeWarning: Channels contain different highpass filters. Lowest (weakest) filter setting (0.00 Hz) will be stored.\n",
      "  raw = mne.io.read_raw_brainvision(vhdr_path, preload=True)\n",
      "/tmp/ipykernel_24872/1726901494.py:33: RuntimeWarning: Channels contain different lowpass filters. Highest (weakest) filter setting (1250.00 Hz, Nyquist limit) will be stored.\n",
      "  raw = mne.io.read_raw_brainvision(vhdr_path, preload=True)\n"
     ]
    },
    {
     "name": "stdout",
     "output_type": "stream",
     "text": [
      "Filtering raw data in 1 contiguous segment\n",
      "Setting up band-stop filter from 59 - 61 Hz\n",
      "\n",
      "FIR filter parameters\n",
      "---------------------\n",
      "Designing a one-pass, zero-phase, non-causal bandstop filter:\n",
      "- Windowed time-domain design (firwin) method\n",
      "- Hamming window with 0.0194 passband ripple and 53 dB stopband attenuation\n",
      "- Lower passband edge: 59.35\n",
      "- Lower transition bandwidth: 0.50 Hz (-6 dB cutoff frequency: 59.10 Hz)\n",
      "- Upper passband edge: 60.65 Hz\n",
      "- Upper transition bandwidth: 0.50 Hz (-6 dB cutoff frequency: 60.90 Hz)\n",
      "- Filter length: 1691 samples (6.605 s)\n",
      "\n",
      "Filtering raw data in 1 contiguous segment\n",
      "Setting up band-pass filter from 8 - 30 Hz\n",
      "\n",
      "FIR filter parameters\n",
      "---------------------\n",
      "Designing a one-pass, zero-phase, non-causal bandpass filter:\n",
      "- Windowed time-domain design (firwin) method\n",
      "- Hamming window with 0.0194 passband ripple and 53 dB stopband attenuation\n",
      "- Lower passband edge: 8.00\n",
      "- Lower transition bandwidth: 2.00 Hz (-6 dB cutoff frequency: 7.00 Hz)\n",
      "- Upper passband edge: 30.00 Hz\n",
      "- Upper transition bandwidth: 7.50 Hz (-6 dB cutoff frequency: 33.75 Hz)\n",
      "- Filter length: 423 samples (1.652 s)\n",
      "\n"
     ]
    },
    {
     "name": "stderr",
     "output_type": "stream",
     "text": [
      "[Parallel(n_jobs=1)]: Done  17 tasks      | elapsed:    0.0s\n",
      "[Parallel(n_jobs=1)]: Done  60 out of  60 | elapsed:    0.2s finished\n",
      "[Parallel(n_jobs=1)]: Done  17 tasks      | elapsed:    0.0s\n"
     ]
    },
    {
     "name": "stdout",
     "output_type": "stream",
     "text": [
      "Fitting ICA to data using 60 channels (please be patient, this may take a while)\n",
      "Selecting by number: 10 components\n",
      "Fitting ICA took 0.1s.\n",
      "Fitting ICA to data using 60 channels (please be patient, this may take a while)\n"
     ]
    },
    {
     "name": "stderr",
     "output_type": "stream",
     "text": [
      "[Parallel(n_jobs=1)]: Done  60 out of  60 | elapsed:    0.2s finished\n"
     ]
    },
    {
     "name": "stdout",
     "output_type": "stream",
     "text": [
      "Selecting by number: 15 components\n",
      "Fitting ICA took 2.6s.\n",
      "Applying ICA to Raw instance\n",
      "    Transforming to ICA space (15 components)\n",
      "    Zeroing out 0 ICA components\n",
      "    Projecting back using 60 PCA components\n",
      "Used Annotations descriptions: [np.str_('Comment/actiCAP Active Shield On'), np.str_('New Segment/'), np.str_('Stimulus/S  8'), np.str_('Stimulus/S  9'), np.str_('Stimulus/S 10'), np.str_('Stimulus/S 13'), np.str_('Stimulus/S 14'), np.str_('Stimulus/S 91'), np.str_('Stimulus/S101')]\n",
      "Not setting metadata\n",
      "100 matching events found\n",
      "Setting baseline interval to [-0.19921875, 0.0] s\n",
      "Applying baseline correction (mode: mean)\n",
      "0 projection items activated\n",
      "Using data from preloaded Raw for 100 events and 564 original time points ...\n",
      "0 bad epochs dropped\n",
      "    Rejecting  epoch based on EEG : ['T8']\n",
      "    Rejecting  epoch based on EEG : ['FT7', 'T7', 'T8']\n",
      "    Rejecting  epoch based on EEG : ['AF8', 'F6']\n",
      "    Rejecting  epoch based on EEG : ['F6']\n",
      "4 bad epochs dropped\n",
      "Saved: /storage/projects1/e19-4yp-mi-eeg-for-bci/ashan/processed_data3/session1_sub3_twist_MI.npz (X=(96, 60, 564), y=(96,))\n",
      "\n",
      "Processing: /storage/projects1/e19-4yp-mi-eeg-for-bci/rawdata/session2_sub5_twist_MI.vhdr\n",
      "Extracting parameters from /storage/projects1/e19-4yp-mi-eeg-for-bci/rawdata/session2_sub5_twist_MI.vhdr...\n",
      "Setting channel info structure...\n",
      "Reading 0 ... 2574499  =      0.000 ...  1029.800 secs...\n"
     ]
    },
    {
     "name": "stderr",
     "output_type": "stream",
     "text": [
      "/tmp/ipykernel_24872/1726901494.py:33: RuntimeWarning: Online software filter detected. Using software filter settings and ignoring hardware values\n",
      "  raw = mne.io.read_raw_brainvision(vhdr_path, preload=True)\n",
      "/tmp/ipykernel_24872/1726901494.py:33: RuntimeWarning: Channels contain different highpass filters. Lowest (weakest) filter setting (0.00 Hz) will be stored.\n",
      "  raw = mne.io.read_raw_brainvision(vhdr_path, preload=True)\n",
      "/tmp/ipykernel_24872/1726901494.py:33: RuntimeWarning: Channels contain different lowpass filters. Highest (weakest) filter setting (1250.00 Hz, Nyquist limit) will be stored.\n",
      "  raw = mne.io.read_raw_brainvision(vhdr_path, preload=True)\n"
     ]
    },
    {
     "name": "stdout",
     "output_type": "stream",
     "text": [
      "Filtering raw data in 1 contiguous segment\n",
      "Setting up band-stop filter from 59 - 61 Hz\n",
      "\n",
      "FIR filter parameters\n",
      "---------------------\n",
      "Designing a one-pass, zero-phase, non-causal bandstop filter:\n",
      "- Windowed time-domain design (firwin) method\n",
      "- Hamming window with 0.0194 passband ripple and 53 dB stopband attenuation\n",
      "- Lower passband edge: 59.35\n",
      "- Lower transition bandwidth: 0.50 Hz (-6 dB cutoff frequency: 59.10 Hz)\n",
      "- Upper passband edge: 60.65 Hz\n",
      "- Upper transition bandwidth: 0.50 Hz (-6 dB cutoff frequency: 60.90 Hz)\n",
      "- Filter length: 1691 samples (6.605 s)\n",
      "\n",
      "Filtering raw data in 1 contiguous segment\n",
      "Setting up band-pass filter from 8 - 30 Hz\n",
      "\n",
      "FIR filter parameters\n",
      "---------------------\n",
      "Designing a one-pass, zero-phase, non-causal bandpass filter:\n",
      "- Windowed time-domain design (firwin) method\n",
      "- Hamming window with 0.0194 passband ripple and 53 dB stopband attenuation\n",
      "- Lower passband edge: 8.00\n",
      "- Lower transition bandwidth: 2.00 Hz (-6 dB cutoff frequency: 7.00 Hz)\n",
      "- Upper passband edge: 30.00 Hz\n",
      "- Upper transition bandwidth: 7.50 Hz (-6 dB cutoff frequency: 33.75 Hz)\n",
      "- Filter length: 423 samples (1.652 s)\n",
      "\n"
     ]
    },
    {
     "name": "stderr",
     "output_type": "stream",
     "text": [
      "[Parallel(n_jobs=1)]: Done  17 tasks      | elapsed:    0.0s\n",
      "[Parallel(n_jobs=1)]: Done  60 out of  60 | elapsed:    0.2s finished\n",
      "[Parallel(n_jobs=1)]: Done  17 tasks      | elapsed:    0.0s\n"
     ]
    },
    {
     "name": "stdout",
     "output_type": "stream",
     "text": [
      "Fitting ICA to data using 60 channels (please be patient, this may take a while)\n",
      "Selecting by number: 10 components\n",
      "Fitting ICA took 0.1s.\n",
      "Fitting ICA to data using 60 channels (please be patient, this may take a while)\n"
     ]
    },
    {
     "name": "stderr",
     "output_type": "stream",
     "text": [
      "[Parallel(n_jobs=1)]: Done  60 out of  60 | elapsed:    0.2s finished\n"
     ]
    },
    {
     "name": "stdout",
     "output_type": "stream",
     "text": [
      "Selecting by number: 15 components\n",
      "Fitting ICA took 2.4s.\n",
      "Applying ICA to Raw instance\n",
      "    Transforming to ICA space (15 components)\n",
      "    Zeroing out 0 ICA components\n",
      "    Projecting back using 60 PCA components\n",
      "Used Annotations descriptions: [np.str_('Comment/actiCAP Active Shield On'), np.str_('New Segment/'), np.str_('Stimulus/S  8'), np.str_('Stimulus/S  9'), np.str_('Stimulus/S 10'), np.str_('Stimulus/S 13'), np.str_('Stimulus/S 14'), np.str_('Stimulus/S 91'), np.str_('Stimulus/S101')]\n",
      "Not setting metadata\n",
      "100 matching events found\n",
      "Setting baseline interval to [-0.19921875, 0.0] s\n",
      "Applying baseline correction (mode: mean)\n",
      "0 projection items activated\n",
      "Using data from preloaded Raw for 100 events and 564 original time points ...\n",
      "0 bad epochs dropped\n",
      "    Rejecting  epoch based on EEG : ['AF7', 'AF8']\n",
      "    Rejecting  epoch based on EEG : ['CP3']\n",
      "    Rejecting  epoch based on EEG : ['CP3']\n",
      "    Rejecting  epoch based on EEG : ['CP3']\n",
      "    Rejecting  epoch based on EEG : ['CP3']\n",
      "    Rejecting  epoch based on EEG : ['PO7']\n",
      "    Rejecting  epoch based on EEG : ['CP3']\n",
      "    Rejecting  epoch based on EEG : ['CP3', 'Fp2']\n",
      "    Rejecting  epoch based on EEG : ['CP3']\n",
      "    Rejecting  epoch based on EEG : ['CP3']\n",
      "    Rejecting  epoch based on EEG : ['CP3']\n",
      "    Rejecting  epoch based on EEG : ['CP3', 'Fp2']\n",
      "    Rejecting  epoch based on EEG : ['CP3']\n",
      "    Rejecting  epoch based on EEG : ['FT7', 'CP3']\n",
      "    Rejecting  epoch based on EEG : ['CP3']\n",
      "    Rejecting  epoch based on EEG : ['CP3']\n",
      "    Rejecting  epoch based on EEG : ['CP3']\n",
      "17 bad epochs dropped\n",
      "Saved: /storage/projects1/e19-4yp-mi-eeg-for-bci/ashan/processed_data3/session2_sub5_twist_MI.npz (X=(83, 60, 564), y=(83,))\n",
      "\n",
      "Processing: /storage/projects1/e19-4yp-mi-eeg-for-bci/rawdata/session3_sub10_twist_MI.vhdr\n",
      "Extracting parameters from /storage/projects1/e19-4yp-mi-eeg-for-bci/rawdata/session3_sub10_twist_MI.vhdr...\n",
      "Setting channel info structure...\n",
      "Reading 0 ... 2580299  =      0.000 ...  1032.120 secs...\n"
     ]
    },
    {
     "name": "stderr",
     "output_type": "stream",
     "text": [
      "/tmp/ipykernel_24872/1726901494.py:33: RuntimeWarning: Online software filter detected. Using software filter settings and ignoring hardware values\n",
      "  raw = mne.io.read_raw_brainvision(vhdr_path, preload=True)\n",
      "/tmp/ipykernel_24872/1726901494.py:33: RuntimeWarning: Channels contain different highpass filters. Lowest (weakest) filter setting (0.00 Hz) will be stored.\n",
      "  raw = mne.io.read_raw_brainvision(vhdr_path, preload=True)\n",
      "/tmp/ipykernel_24872/1726901494.py:33: RuntimeWarning: Channels contain different lowpass filters. Highest (weakest) filter setting (1250.00 Hz, Nyquist limit) will be stored.\n",
      "  raw = mne.io.read_raw_brainvision(vhdr_path, preload=True)\n"
     ]
    },
    {
     "name": "stdout",
     "output_type": "stream",
     "text": [
      "Filtering raw data in 1 contiguous segment\n",
      "Setting up band-stop filter from 59 - 61 Hz\n",
      "\n",
      "FIR filter parameters\n",
      "---------------------\n",
      "Designing a one-pass, zero-phase, non-causal bandstop filter:\n",
      "- Windowed time-domain design (firwin) method\n",
      "- Hamming window with 0.0194 passband ripple and 53 dB stopband attenuation\n",
      "- Lower passband edge: 59.35\n",
      "- Lower transition bandwidth: 0.50 Hz (-6 dB cutoff frequency: 59.10 Hz)\n",
      "- Upper passband edge: 60.65 Hz\n",
      "- Upper transition bandwidth: 0.50 Hz (-6 dB cutoff frequency: 60.90 Hz)\n",
      "- Filter length: 1691 samples (6.605 s)\n",
      "\n",
      "Filtering raw data in 1 contiguous segment\n",
      "Setting up band-pass filter from 8 - 30 Hz\n",
      "\n",
      "FIR filter parameters\n",
      "---------------------\n",
      "Designing a one-pass, zero-phase, non-causal bandpass filter:\n",
      "- Windowed time-domain design (firwin) method\n",
      "- Hamming window with 0.0194 passband ripple and 53 dB stopband attenuation\n",
      "- Lower passband edge: 8.00\n",
      "- Lower transition bandwidth: 2.00 Hz (-6 dB cutoff frequency: 7.00 Hz)\n",
      "- Upper passband edge: 30.00 Hz\n",
      "- Upper transition bandwidth: 7.50 Hz (-6 dB cutoff frequency: 33.75 Hz)\n",
      "- Filter length: 423 samples (1.652 s)\n",
      "\n"
     ]
    },
    {
     "name": "stderr",
     "output_type": "stream",
     "text": [
      "[Parallel(n_jobs=1)]: Done  17 tasks      | elapsed:    0.1s\n",
      "[Parallel(n_jobs=1)]: Done  60 out of  60 | elapsed:    0.2s finished\n",
      "[Parallel(n_jobs=1)]: Done  17 tasks      | elapsed:    0.1s\n"
     ]
    },
    {
     "name": "stdout",
     "output_type": "stream",
     "text": [
      "Fitting ICA to data using 60 channels (please be patient, this may take a while)\n"
     ]
    },
    {
     "name": "stderr",
     "output_type": "stream",
     "text": [
      "[Parallel(n_jobs=1)]: Done  60 out of  60 | elapsed:    0.3s finished\n"
     ]
    },
    {
     "name": "stdout",
     "output_type": "stream",
     "text": [
      "Selecting by number: 10 components\n",
      "Fitting ICA took 0.3s.\n",
      "Fitting ICA to data using 60 channels (please be patient, this may take a while)\n",
      "Selecting by number: 15 components\n",
      "Fitting ICA took 3.8s.\n",
      "Applying ICA to Raw instance\n",
      "    Transforming to ICA space (15 components)\n",
      "    Zeroing out 0 ICA components\n",
      "    Projecting back using 60 PCA components\n",
      "Used Annotations descriptions: [np.str_('Comment/actiCAP Active Shield On'), np.str_('New Segment/'), np.str_('Stimulus/S  8'), np.str_('Stimulus/S  9'), np.str_('Stimulus/S 10'), np.str_('Stimulus/S 13'), np.str_('Stimulus/S 14'), np.str_('Stimulus/S 91'), np.str_('Stimulus/S101')]\n",
      "Not setting metadata\n",
      "100 matching events found\n",
      "Setting baseline interval to [-0.19921875, 0.0] s\n",
      "Applying baseline correction (mode: mean)\n",
      "0 projection items activated\n",
      "Using data from preloaded Raw for 100 events and 564 original time points ...\n",
      "0 bad epochs dropped\n",
      "0 bad epochs dropped\n",
      "Saved: /storage/projects1/e19-4yp-mi-eeg-for-bci/ashan/processed_data3/session3_sub10_twist_MI.npz (X=(100, 60, 564), y=(100,))\n",
      "\n",
      "Processing: /storage/projects1/e19-4yp-mi-eeg-for-bci/rawdata/session1_sub21_twist_MI.vhdr\n",
      "Extracting parameters from /storage/projects1/e19-4yp-mi-eeg-for-bci/rawdata/session1_sub21_twist_MI.vhdr...\n",
      "Setting channel info structure...\n",
      "Reading 0 ... 2923499  =      0.000 ...  1169.400 secs...\n"
     ]
    },
    {
     "name": "stderr",
     "output_type": "stream",
     "text": [
      "/tmp/ipykernel_24872/1726901494.py:33: RuntimeWarning: Online software filter detected. Using software filter settings and ignoring hardware values\n",
      "  raw = mne.io.read_raw_brainvision(vhdr_path, preload=True)\n",
      "/tmp/ipykernel_24872/1726901494.py:33: RuntimeWarning: Channels contain different highpass filters. Lowest (weakest) filter setting (0.00 Hz) will be stored.\n",
      "  raw = mne.io.read_raw_brainvision(vhdr_path, preload=True)\n",
      "/tmp/ipykernel_24872/1726901494.py:33: RuntimeWarning: Channels contain different lowpass filters. Highest (weakest) filter setting (1250.00 Hz, Nyquist limit) will be stored.\n",
      "  raw = mne.io.read_raw_brainvision(vhdr_path, preload=True)\n"
     ]
    },
    {
     "name": "stdout",
     "output_type": "stream",
     "text": [
      "Filtering raw data in 1 contiguous segment\n",
      "Setting up band-stop filter from 59 - 61 Hz\n",
      "\n",
      "FIR filter parameters\n",
      "---------------------\n",
      "Designing a one-pass, zero-phase, non-causal bandstop filter:\n",
      "- Windowed time-domain design (firwin) method\n",
      "- Hamming window with 0.0194 passband ripple and 53 dB stopband attenuation\n",
      "- Lower passband edge: 59.35\n",
      "- Lower transition bandwidth: 0.50 Hz (-6 dB cutoff frequency: 59.10 Hz)\n",
      "- Upper passband edge: 60.65 Hz\n",
      "- Upper transition bandwidth: 0.50 Hz (-6 dB cutoff frequency: 60.90 Hz)\n",
      "- Filter length: 1691 samples (6.605 s)\n",
      "\n",
      "Filtering raw data in 1 contiguous segment\n",
      "Setting up band-pass filter from 8 - 30 Hz\n",
      "\n",
      "FIR filter parameters\n",
      "---------------------\n",
      "Designing a one-pass, zero-phase, non-causal bandpass filter:\n",
      "- Windowed time-domain design (firwin) method\n",
      "- Hamming window with 0.0194 passband ripple and 53 dB stopband attenuation\n",
      "- Lower passband edge: 8.00\n",
      "- Lower transition bandwidth: 2.00 Hz (-6 dB cutoff frequency: 7.00 Hz)\n",
      "- Upper passband edge: 30.00 Hz\n",
      "- Upper transition bandwidth: 7.50 Hz (-6 dB cutoff frequency: 33.75 Hz)\n",
      "- Filter length: 423 samples (1.652 s)\n",
      "\n"
     ]
    },
    {
     "name": "stderr",
     "output_type": "stream",
     "text": [
      "[Parallel(n_jobs=1)]: Done  17 tasks      | elapsed:    0.1s\n",
      "[Parallel(n_jobs=1)]: Done  60 out of  60 | elapsed:    0.2s finished\n"
     ]
    },
    {
     "name": "stdout",
     "output_type": "stream",
     "text": [
      "Fitting ICA to data using 60 channels (please be patient, this may take a while)\n"
     ]
    },
    {
     "name": "stderr",
     "output_type": "stream",
     "text": [
      "[Parallel(n_jobs=1)]: Done  17 tasks      | elapsed:    0.1s\n",
      "[Parallel(n_jobs=1)]: Done  60 out of  60 | elapsed:    0.2s finished\n"
     ]
    },
    {
     "name": "stdout",
     "output_type": "stream",
     "text": [
      "Selecting by number: 10 components\n",
      "Fitting ICA took 0.2s.\n",
      "Fitting ICA to data using 60 channels (please be patient, this may take a while)\n",
      "Selecting by number: 15 components\n",
      "Fitting ICA took 4.0s.\n",
      "Applying ICA to Raw instance\n",
      "    Transforming to ICA space (15 components)\n",
      "    Zeroing out 0 ICA components\n",
      "    Projecting back using 60 PCA components\n",
      "Used Annotations descriptions: [np.str_('Comment/actiCAP Active Shield On'), np.str_('Comment/actiCAP Data On'), np.str_('New Segment/'), np.str_('Stimulus/S  8'), np.str_('Stimulus/S  9'), np.str_('Stimulus/S 10'), np.str_('Stimulus/S 13'), np.str_('Stimulus/S 14'), np.str_('Stimulus/S 91'), np.str_('Stimulus/S101')]\n",
      "Not setting metadata\n",
      "100 matching events found\n",
      "Setting baseline interval to [-0.19921875, 0.0] s\n",
      "Applying baseline correction (mode: mean)\n",
      "0 projection items activated\n",
      "Using data from preloaded Raw for 100 events and 564 original time points ...\n",
      "0 bad epochs dropped\n",
      "    Rejecting  epoch based on EEG : ['C6']\n",
      "    Rejecting  epoch based on EEG : ['AF7']\n",
      "2 bad epochs dropped\n",
      "Saved: /storage/projects1/e19-4yp-mi-eeg-for-bci/ashan/processed_data3/session1_sub21_twist_MI.npz (X=(98, 60, 564), y=(98,))\n",
      "\n",
      "Processing: /storage/projects1/e19-4yp-mi-eeg-for-bci/rawdata/session3_sub19_twist_MI.vhdr\n",
      "Extracting parameters from /storage/projects1/e19-4yp-mi-eeg-for-bci/rawdata/session3_sub19_twist_MI.vhdr...\n",
      "Setting channel info structure...\n",
      "Reading 0 ... 2620299  =      0.000 ...  1048.120 secs...\n"
     ]
    },
    {
     "name": "stderr",
     "output_type": "stream",
     "text": [
      "/tmp/ipykernel_24872/1726901494.py:33: RuntimeWarning: Online software filter detected. Using software filter settings and ignoring hardware values\n",
      "  raw = mne.io.read_raw_brainvision(vhdr_path, preload=True)\n",
      "/tmp/ipykernel_24872/1726901494.py:33: RuntimeWarning: Channels contain different highpass filters. Lowest (weakest) filter setting (0.00 Hz) will be stored.\n",
      "  raw = mne.io.read_raw_brainvision(vhdr_path, preload=True)\n",
      "/tmp/ipykernel_24872/1726901494.py:33: RuntimeWarning: Channels contain different lowpass filters. Highest (weakest) filter setting (1250.00 Hz, Nyquist limit) will be stored.\n",
      "  raw = mne.io.read_raw_brainvision(vhdr_path, preload=True)\n"
     ]
    },
    {
     "name": "stdout",
     "output_type": "stream",
     "text": [
      "Filtering raw data in 1 contiguous segment\n",
      "Setting up band-stop filter from 59 - 61 Hz\n",
      "\n",
      "FIR filter parameters\n",
      "---------------------\n",
      "Designing a one-pass, zero-phase, non-causal bandstop filter:\n",
      "- Windowed time-domain design (firwin) method\n",
      "- Hamming window with 0.0194 passband ripple and 53 dB stopband attenuation\n",
      "- Lower passband edge: 59.35\n",
      "- Lower transition bandwidth: 0.50 Hz (-6 dB cutoff frequency: 59.10 Hz)\n",
      "- Upper passband edge: 60.65 Hz\n",
      "- Upper transition bandwidth: 0.50 Hz (-6 dB cutoff frequency: 60.90 Hz)\n",
      "- Filter length: 1691 samples (6.605 s)\n",
      "\n",
      "Filtering raw data in 1 contiguous segment\n",
      "Setting up band-pass filter from 8 - 30 Hz\n",
      "\n",
      "FIR filter parameters\n",
      "---------------------\n",
      "Designing a one-pass, zero-phase, non-causal bandpass filter:\n",
      "- Windowed time-domain design (firwin) method\n",
      "- Hamming window with 0.0194 passband ripple and 53 dB stopband attenuation\n",
      "- Lower passband edge: 8.00\n",
      "- Lower transition bandwidth: 2.00 Hz (-6 dB cutoff frequency: 7.00 Hz)\n",
      "- Upper passband edge: 30.00 Hz\n",
      "- Upper transition bandwidth: 7.50 Hz (-6 dB cutoff frequency: 33.75 Hz)\n",
      "- Filter length: 423 samples (1.652 s)\n",
      "\n"
     ]
    },
    {
     "name": "stderr",
     "output_type": "stream",
     "text": [
      "[Parallel(n_jobs=1)]: Done  17 tasks      | elapsed:    0.1s\n",
      "[Parallel(n_jobs=1)]: Done  60 out of  60 | elapsed:    0.2s finished\n",
      "[Parallel(n_jobs=1)]: Done  17 tasks      | elapsed:    0.1s\n"
     ]
    },
    {
     "name": "stdout",
     "output_type": "stream",
     "text": [
      "Fitting ICA to data using 60 channels (please be patient, this may take a while)\n"
     ]
    },
    {
     "name": "stderr",
     "output_type": "stream",
     "text": [
      "[Parallel(n_jobs=1)]: Done  60 out of  60 | elapsed:    0.3s finished\n"
     ]
    },
    {
     "name": "stdout",
     "output_type": "stream",
     "text": [
      "Selecting by number: 10 components\n",
      "Fitting ICA took 0.3s.\n",
      "Fitting ICA to data using 60 channels (please be patient, this may take a while)\n",
      "Selecting by number: 15 components\n",
      "Fitting ICA took 2.8s.\n",
      "Applying ICA to Raw instance\n",
      "    Transforming to ICA space (15 components)\n",
      "    Zeroing out 0 ICA components\n",
      "    Projecting back using 60 PCA components\n",
      "Used Annotations descriptions: [np.str_('Comment/actiCAP Active Shield On'), np.str_('New Segment/'), np.str_('Stimulus/S  8'), np.str_('Stimulus/S  9'), np.str_('Stimulus/S 10'), np.str_('Stimulus/S 13'), np.str_('Stimulus/S 14'), np.str_('Stimulus/S 91'), np.str_('Stimulus/S101')]\n",
      "Not setting metadata\n",
      "100 matching events found\n",
      "Setting baseline interval to [-0.19921875, 0.0] s\n",
      "Applying baseline correction (mode: mean)\n",
      "0 projection items activated\n",
      "Using data from preloaded Raw for 100 events and 564 original time points ...\n",
      "0 bad epochs dropped\n",
      "0 bad epochs dropped\n",
      "Saved: /storage/projects1/e19-4yp-mi-eeg-for-bci/ashan/processed_data3/session3_sub19_twist_MI.npz (X=(100, 60, 564), y=(100,))\n",
      "\n",
      "Processing: /storage/projects1/e19-4yp-mi-eeg-for-bci/rawdata/session3_sub2_twist_MI.vhdr\n",
      "Extracting parameters from /storage/projects1/e19-4yp-mi-eeg-for-bci/rawdata/session3_sub2_twist_MI.vhdr...\n",
      "Setting channel info structure...\n",
      "Reading 0 ... 3116399  =      0.000 ...  1246.560 secs...\n"
     ]
    },
    {
     "name": "stderr",
     "output_type": "stream",
     "text": [
      "/tmp/ipykernel_24872/1726901494.py:33: RuntimeWarning: Online software filter detected. Using software filter settings and ignoring hardware values\n",
      "  raw = mne.io.read_raw_brainvision(vhdr_path, preload=True)\n",
      "/tmp/ipykernel_24872/1726901494.py:33: RuntimeWarning: Channels contain different highpass filters. Lowest (weakest) filter setting (0.00 Hz) will be stored.\n",
      "  raw = mne.io.read_raw_brainvision(vhdr_path, preload=True)\n",
      "/tmp/ipykernel_24872/1726901494.py:33: RuntimeWarning: Channels contain different lowpass filters. Highest (weakest) filter setting (1250.00 Hz, Nyquist limit) will be stored.\n",
      "  raw = mne.io.read_raw_brainvision(vhdr_path, preload=True)\n"
     ]
    },
    {
     "name": "stdout",
     "output_type": "stream",
     "text": [
      "Filtering raw data in 1 contiguous segment\n",
      "Setting up band-stop filter from 59 - 61 Hz\n",
      "\n",
      "FIR filter parameters\n",
      "---------------------\n",
      "Designing a one-pass, zero-phase, non-causal bandstop filter:\n",
      "- Windowed time-domain design (firwin) method\n",
      "- Hamming window with 0.0194 passband ripple and 53 dB stopband attenuation\n",
      "- Lower passband edge: 59.35\n",
      "- Lower transition bandwidth: 0.50 Hz (-6 dB cutoff frequency: 59.10 Hz)\n",
      "- Upper passband edge: 60.65 Hz\n",
      "- Upper transition bandwidth: 0.50 Hz (-6 dB cutoff frequency: 60.90 Hz)\n",
      "- Filter length: 1691 samples (6.605 s)\n",
      "\n",
      "Filtering raw data in 1 contiguous segment\n",
      "Setting up band-pass filter from 8 - 30 Hz\n",
      "\n",
      "FIR filter parameters\n",
      "---------------------\n",
      "Designing a one-pass, zero-phase, non-causal bandpass filter:\n",
      "- Windowed time-domain design (firwin) method\n",
      "- Hamming window with 0.0194 passband ripple and 53 dB stopband attenuation\n",
      "- Lower passband edge: 8.00\n",
      "- Lower transition bandwidth: 2.00 Hz (-6 dB cutoff frequency: 7.00 Hz)\n",
      "- Upper passband edge: 30.00 Hz\n",
      "- Upper transition bandwidth: 7.50 Hz (-6 dB cutoff frequency: 33.75 Hz)\n",
      "- Filter length: 423 samples (1.652 s)\n",
      "\n"
     ]
    },
    {
     "name": "stderr",
     "output_type": "stream",
     "text": [
      "[Parallel(n_jobs=1)]: Done  17 tasks      | elapsed:    0.1s\n",
      "[Parallel(n_jobs=1)]: Done  60 out of  60 | elapsed:    0.2s finished\n"
     ]
    },
    {
     "name": "stdout",
     "output_type": "stream",
     "text": [
      "Fitting ICA to data using 60 channels (please be patient, this may take a while)\n"
     ]
    },
    {
     "name": "stderr",
     "output_type": "stream",
     "text": [
      "[Parallel(n_jobs=1)]: Done  17 tasks      | elapsed:    0.1s\n",
      "[Parallel(n_jobs=1)]: Done  60 out of  60 | elapsed:    0.2s finished\n"
     ]
    },
    {
     "name": "stdout",
     "output_type": "stream",
     "text": [
      "Selecting by number: 10 components\n",
      "Fitting ICA took 0.1s.\n",
      "Fitting ICA to data using 60 channels (please be patient, this may take a while)\n",
      "Selecting by number: 15 components\n",
      "Fitting ICA took 3.6s.\n",
      "Applying ICA to Raw instance\n",
      "    Transforming to ICA space (15 components)\n",
      "    Zeroing out 0 ICA components\n",
      "    Projecting back using 60 PCA components\n",
      "Used Annotations descriptions: [np.str_('Comment/actiCAP Active Shield On'), np.str_('New Segment/'), np.str_('Stimulus/S  8'), np.str_('Stimulus/S  9'), np.str_('Stimulus/S 10'), np.str_('Stimulus/S 13'), np.str_('Stimulus/S 14'), np.str_('Stimulus/S 91'), np.str_('Stimulus/S101')]\n",
      "Not setting metadata\n",
      "100 matching events found\n",
      "Setting baseline interval to [-0.19921875, 0.0] s\n",
      "Applying baseline correction (mode: mean)\n",
      "0 projection items activated\n",
      "Using data from preloaded Raw for 100 events and 564 original time points ...\n",
      "0 bad epochs dropped\n",
      "    Rejecting  epoch based on EEG : ['AF7', 'F7', 'F5', 'F3', 'FT7', 'FC5', 'FC3', 'T7', 'C5', 'C3', 'TP7', 'CP5', 'CP3', 'P7', 'P5', 'PO7', 'PO3', 'POz', 'AF8', 'F4', 'F6', 'F8', 'FC4', 'FC6', 'FT8', 'C4', 'C6', 'T8', 'CP6', 'TP8', 'P8', 'PO8', 'O1', 'Oz', 'O2', 'Iz']\n",
      "    Rejecting  epoch based on EEG : ['F7', 'FT7', 'AF8', 'F4', 'F8', 'FC4', 'FC6', 'FT8', 'C6', 'T8', 'TP8']\n",
      "    Rejecting  epoch based on EEG : ['FC6']\n",
      "    Rejecting  epoch based on EEG : ['AF7', 'F7', 'FT7', 'FC5', 'FC3', 'T7', 'C5', 'C3', 'TP7', 'AF8', 'F4', 'F6', 'F8', 'FC4', 'FC6', 'FT8', 'C6', 'T8', 'TP8', 'Iz']\n",
      "    Rejecting  epoch based on EEG : ['AF7', 'F7', 'F5', 'F3', 'FT7', 'FC5', 'FC3', 'T7', 'C5', 'C3', 'TP7', 'P7', 'PO7', 'PO3', 'POz', 'AF8', 'F6', 'F8', 'FC4', 'FC6', 'FT8', 'C4', 'C6', 'T8', 'TP8', 'P8', 'PO8', 'O1', 'Oz', 'O2', 'Iz']\n",
      "5 bad epochs dropped\n",
      "Saved: /storage/projects1/e19-4yp-mi-eeg-for-bci/ashan/processed_data3/session3_sub2_twist_MI.npz (X=(95, 60, 564), y=(95,))\n",
      "\n",
      "Processing: /storage/projects1/e19-4yp-mi-eeg-for-bci/rawdata/session1_sub9_twist_MI.vhdr\n",
      "Extracting parameters from /storage/projects1/e19-4yp-mi-eeg-for-bci/rawdata/session1_sub9_twist_MI.vhdr...\n",
      "Setting channel info structure...\n",
      "Reading 0 ... 2752399  =      0.000 ...  1100.960 secs...\n"
     ]
    },
    {
     "name": "stderr",
     "output_type": "stream",
     "text": [
      "/tmp/ipykernel_24872/1726901494.py:33: RuntimeWarning: Online software filter detected. Using software filter settings and ignoring hardware values\n",
      "  raw = mne.io.read_raw_brainvision(vhdr_path, preload=True)\n",
      "/tmp/ipykernel_24872/1726901494.py:33: RuntimeWarning: Channels contain different highpass filters. Lowest (weakest) filter setting (0.00 Hz) will be stored.\n",
      "  raw = mne.io.read_raw_brainvision(vhdr_path, preload=True)\n",
      "/tmp/ipykernel_24872/1726901494.py:33: RuntimeWarning: Channels contain different lowpass filters. Highest (weakest) filter setting (1250.00 Hz, Nyquist limit) will be stored.\n",
      "  raw = mne.io.read_raw_brainvision(vhdr_path, preload=True)\n"
     ]
    },
    {
     "name": "stdout",
     "output_type": "stream",
     "text": [
      "Filtering raw data in 1 contiguous segment\n",
      "Setting up band-stop filter from 59 - 61 Hz\n",
      "\n",
      "FIR filter parameters\n",
      "---------------------\n",
      "Designing a one-pass, zero-phase, non-causal bandstop filter:\n",
      "- Windowed time-domain design (firwin) method\n",
      "- Hamming window with 0.0194 passband ripple and 53 dB stopband attenuation\n",
      "- Lower passband edge: 59.35\n",
      "- Lower transition bandwidth: 0.50 Hz (-6 dB cutoff frequency: 59.10 Hz)\n",
      "- Upper passband edge: 60.65 Hz\n",
      "- Upper transition bandwidth: 0.50 Hz (-6 dB cutoff frequency: 60.90 Hz)\n",
      "- Filter length: 1691 samples (6.605 s)\n",
      "\n",
      "Filtering raw data in 1 contiguous segment\n",
      "Setting up band-pass filter from 8 - 30 Hz\n",
      "\n",
      "FIR filter parameters\n",
      "---------------------\n",
      "Designing a one-pass, zero-phase, non-causal bandpass filter:\n",
      "- Windowed time-domain design (firwin) method\n",
      "- Hamming window with 0.0194 passband ripple and 53 dB stopband attenuation\n",
      "- Lower passband edge: 8.00\n",
      "- Lower transition bandwidth: 2.00 Hz (-6 dB cutoff frequency: 7.00 Hz)\n",
      "- Upper passband edge: 30.00 Hz\n",
      "- Upper transition bandwidth: 7.50 Hz (-6 dB cutoff frequency: 33.75 Hz)\n",
      "- Filter length: 423 samples (1.652 s)\n",
      "\n"
     ]
    },
    {
     "name": "stderr",
     "output_type": "stream",
     "text": [
      "[Parallel(n_jobs=1)]: Done  17 tasks      | elapsed:    0.1s\n",
      "[Parallel(n_jobs=1)]: Done  60 out of  60 | elapsed:    0.2s finished\n"
     ]
    },
    {
     "name": "stdout",
     "output_type": "stream",
     "text": [
      "Fitting ICA to data using 60 channels (please be patient, this may take a while)\n"
     ]
    },
    {
     "name": "stderr",
     "output_type": "stream",
     "text": [
      "[Parallel(n_jobs=1)]: Done  17 tasks      | elapsed:    0.1s\n",
      "[Parallel(n_jobs=1)]: Done  60 out of  60 | elapsed:    0.2s finished\n"
     ]
    },
    {
     "name": "stdout",
     "output_type": "stream",
     "text": [
      "Selecting by number: 10 components\n",
      "Fitting ICA took 0.2s.\n",
      "Fitting ICA to data using 60 channels (please be patient, this may take a while)\n",
      "Selecting by number: 15 components\n",
      "Fitting ICA took 4.3s.\n",
      "Applying ICA to Raw instance\n",
      "    Transforming to ICA space (15 components)\n",
      "    Zeroing out 0 ICA components\n",
      "    Projecting back using 60 PCA components\n",
      "Used Annotations descriptions: [np.str_('Comment/actiCAP Data On'), np.str_('New Segment/'), np.str_('Stimulus/S  8'), np.str_('Stimulus/S  9'), np.str_('Stimulus/S 10'), np.str_('Stimulus/S 13'), np.str_('Stimulus/S 14'), np.str_('Stimulus/S 91'), np.str_('Stimulus/S101')]\n",
      "Not setting metadata\n",
      "100 matching events found\n",
      "Setting baseline interval to [-0.19921875, 0.0] s\n",
      "Applying baseline correction (mode: mean)\n",
      "0 projection items activated\n",
      "Using data from preloaded Raw for 100 events and 564 original time points ...\n",
      "0 bad epochs dropped\n",
      "0 bad epochs dropped\n",
      "Saved: /storage/projects1/e19-4yp-mi-eeg-for-bci/ashan/processed_data3/session1_sub9_twist_MI.npz (X=(100, 60, 564), y=(100,))\n",
      "\n",
      "Processing: /storage/projects1/e19-4yp-mi-eeg-for-bci/rawdata/session1_sub14_twist_MI.vhdr\n",
      "Extracting parameters from /storage/projects1/e19-4yp-mi-eeg-for-bci/rawdata/session1_sub14_twist_MI.vhdr...\n",
      "Setting channel info structure...\n",
      "Reading 0 ... 6185299  =      0.000 ...  2474.120 secs...\n"
     ]
    },
    {
     "name": "stderr",
     "output_type": "stream",
     "text": [
      "/tmp/ipykernel_24872/1726901494.py:33: RuntimeWarning: Online software filter detected. Using software filter settings and ignoring hardware values\n",
      "  raw = mne.io.read_raw_brainvision(vhdr_path, preload=True)\n",
      "/tmp/ipykernel_24872/1726901494.py:33: RuntimeWarning: Channels contain different highpass filters. Lowest (weakest) filter setting (0.00 Hz) will be stored.\n",
      "  raw = mne.io.read_raw_brainvision(vhdr_path, preload=True)\n",
      "/tmp/ipykernel_24872/1726901494.py:33: RuntimeWarning: Channels contain different lowpass filters. Highest (weakest) filter setting (1250.00 Hz, Nyquist limit) will be stored.\n",
      "  raw = mne.io.read_raw_brainvision(vhdr_path, preload=True)\n"
     ]
    },
    {
     "name": "stdout",
     "output_type": "stream",
     "text": [
      "Filtering raw data in 1 contiguous segment\n",
      "Setting up band-stop filter from 59 - 61 Hz\n",
      "\n",
      "FIR filter parameters\n",
      "---------------------\n",
      "Designing a one-pass, zero-phase, non-causal bandstop filter:\n",
      "- Windowed time-domain design (firwin) method\n",
      "- Hamming window with 0.0194 passband ripple and 53 dB stopband attenuation\n",
      "- Lower passband edge: 59.35\n",
      "- Lower transition bandwidth: 0.50 Hz (-6 dB cutoff frequency: 59.10 Hz)\n",
      "- Upper passband edge: 60.65 Hz\n",
      "- Upper transition bandwidth: 0.50 Hz (-6 dB cutoff frequency: 60.90 Hz)\n",
      "- Filter length: 1691 samples (6.605 s)\n",
      "\n"
     ]
    },
    {
     "name": "stderr",
     "output_type": "stream",
     "text": [
      "[Parallel(n_jobs=1)]: Done  17 tasks      | elapsed:    0.1s\n"
     ]
    },
    {
     "name": "stdout",
     "output_type": "stream",
     "text": [
      "Filtering raw data in 1 contiguous segment\n",
      "Setting up band-pass filter from 8 - 30 Hz\n",
      "\n",
      "FIR filter parameters\n",
      "---------------------\n",
      "Designing a one-pass, zero-phase, non-causal bandpass filter:\n",
      "- Windowed time-domain design (firwin) method\n",
      "- Hamming window with 0.0194 passband ripple and 53 dB stopband attenuation\n",
      "- Lower passband edge: 8.00\n",
      "- Lower transition bandwidth: 2.00 Hz (-6 dB cutoff frequency: 7.00 Hz)\n",
      "- Upper passband edge: 30.00 Hz\n",
      "- Upper transition bandwidth: 7.50 Hz (-6 dB cutoff frequency: 33.75 Hz)\n",
      "- Filter length: 423 samples (1.652 s)\n",
      "\n"
     ]
    },
    {
     "name": "stderr",
     "output_type": "stream",
     "text": [
      "[Parallel(n_jobs=1)]: Done  60 out of  60 | elapsed:    0.6s finished\n"
     ]
    }
   ],
   "source": [
    "# Kernal dead error in this pipeline, go to below implementation\n",
    "import os\n",
    "import glob\n",
    "import numpy as np\n",
    "import mne\n",
    "from sklearn.preprocessing import StandardScaler\n",
    "import gc\n",
    "\n",
    "# Paths\n",
    "eeg_data = '/storage/projects1/e19-4yp-mi-eeg-for-bci/rawdata'\n",
    "output_dir = '/storage/projects1/e19-4yp-mi-eeg-for-bci/ashan/processed_data3'\n",
    "os.makedirs(output_dir, exist_ok=True)\n",
    "\n",
    "# Get .vhdr files\n",
    "all_vhdr_files = glob.glob(os.path.join(eeg_data, '*.vhdr'))\n",
    "\n",
    "# Filter out specific files\n",
    "vhdr_paths = [\n",
    "    f for f in all_vhdr_files\n",
    "    if 'Move' not in os.path.basename(f)\n",
    "    and 'session3_sub13' not in os.path.basename(f)\n",
    "    and 'session1_sub23' not in os.path.basename(f)\n",
    "    and 'session2_sub7' not in os.path.basename(f)\n",
    "    and 'session2_sub12' not in os.path.basename(f)\n",
    "    and 'session2_sub6' not in os.path.basename(f)\n",
    "]\n",
    "\n",
    "wrist_events = {'pronation': 91, 'supination': 101}\n",
    "\n",
    "for i, vhdr_path in enumerate(vhdr_paths):\n",
    "    try:\n",
    "        print(f\"\\nProcessing: {vhdr_path}\")\n",
    "\n",
    "        raw = mne.io.read_raw_brainvision(vhdr_path, preload=True)\n",
    "\n",
    "        # Drop EOG & EMG channels (artifact channels)\n",
    "        raw.drop_channels([ch for ch in raw.ch_names if 'EOG' in ch or 'EMG' in ch])\n",
    "\n",
    "        # Downsample to 256 Hz to reduce memory/computation load\n",
    "        raw.resample(256)\n",
    "\n",
    "        # Notch filter at 60 Hz (remove line noise)\n",
    "        raw.notch_filter(freqs=60)\n",
    "\n",
    "        # Band-pass filter for MI band (8-30 Hz)\n",
    "        raw.filter(8., 30., fir_design='firwin')\n",
    "\n",
    "        # ICA - limit components and fit on cropped data to save memory/time\n",
    "        ica = mne.preprocessing.ICA(n_components=10, random_state=97, max_iter='auto')\n",
    "        ica.fit(raw.copy().crop(tmax=60))  # Use first 60 sec for ICA fitting\n",
    "\n",
    "        # Automatically find components to exclude - e.g. EOG artifacts if EOG present\n",
    "        # (You can customize or manually inspect)\n",
    "        # eog_indices, eog_scores = ica.find_bads_eog(raw)\n",
    "        # ica.exclude = eog_indices\n",
    "\n",
    "        # ICA to remove artifacts\n",
    "        ica = mne.preprocessing.ICA(n_components=15, random_state=97, max_iter='auto')\n",
    "        ica.fit(raw)\n",
    "        ica.exclude = []  # Optional: you can set based on find_bads_* methods\n",
    "        raw = ica.apply(raw)\n",
    "\n",
    "        # Extract events and epochs for pronation/supination\n",
    "        events, event_id = mne.events_from_annotations(raw)\n",
    "\n",
    "        epochs = mne.Epochs(\n",
    "            raw, events, event_id=wrist_events,\n",
    "            tmin=-0.2, tmax=2.0,\n",
    "            baseline=(None, 0),\n",
    "            preload=True\n",
    "        )\n",
    "\n",
    "        # Artifact rejection: drop epochs with peak-to-peak amplitude >150 µV\n",
    "        epochs.drop_bad(reject=dict(eeg=150e-6))\n",
    "\n",
    "        if len(epochs) == 0:\n",
    "            print(f\"All epochs rejected for {vhdr_path}\")\n",
    "            continue\n",
    "\n",
    "        # Extract data and labels\n",
    "        X = epochs.get_data()  # shape: (n_epochs, n_channels, n_times)\n",
    "        y = epochs.events[:, -1]\n",
    "        y = np.array([0 if label == 91 else 1 for label in y])  # Binary labels\n",
    "\n",
    "        # Standardize each epoch (channel-wise)\n",
    "        X_scaled = np.zeros_like(X, dtype=np.float32)\n",
    "        for j in range(X.shape[0]):\n",
    "            scaler = StandardScaler()\n",
    "            # transpose to (n_times, n_channels), scale, then transpose back\n",
    "            X_scaled[j] = scaler.fit_transform(X[j].T).T\n",
    "\n",
    "        # Save processed data\n",
    "        vhdr_name = os.path.splitext(os.path.basename(vhdr_path))[0]\n",
    "        output_path = os.path.join(output_dir, f\"{vhdr_name}.npz\")\n",
    "        np.savez_compressed(output_path, X=X_scaled, y=y)\n",
    "\n",
    "        print(f\"Saved: {output_path} (X={X_scaled.shape}, y={y.shape})\")\n",
    "\n",
    "        # Free memory\n",
    "        del raw, events, event_id, epochs, X, y, X_scaled, ica\n",
    "        gc.collect()\n",
    "\n",
    "    except Exception as e:\n",
    "        print(f\"Failed processing {vhdr_path}: {e}\")\n"
   ]
  },
  {
   "cell_type": "code",
   "execution_count": null,
   "id": "3756cdc5-873e-480e-83af-02a6e480f862",
   "metadata": {},
   "outputs": [
    {
     "name": "stdout",
     "output_type": "stream",
     "text": [
      "\n",
      "Processing: /storage/projects1/e19-4yp-mi-eeg-for-bci/rawdata/session2_sub14_twist_MI.vhdr\n",
      "Extracting parameters from /storage/projects1/e19-4yp-mi-eeg-for-bci/rawdata/session2_sub14_twist_MI.vhdr...\n",
      "Setting channel info structure...\n",
      "Reading 0 ... 2564199  =      0.000 ...  1025.680 secs...\n"
     ]
    },
    {
     "name": "stderr",
     "output_type": "stream",
     "text": [
      "/tmp/ipykernel_26378/2251272052.py:26: RuntimeWarning: Online software filter detected. Using software filter settings and ignoring hardware values\n",
      "  raw = mne.io.read_raw_brainvision(vhdr_path, preload=True)\n",
      "/tmp/ipykernel_26378/2251272052.py:26: RuntimeWarning: Channels contain different highpass filters. Lowest (weakest) filter setting (0.00 Hz) will be stored.\n",
      "  raw = mne.io.read_raw_brainvision(vhdr_path, preload=True)\n",
      "/tmp/ipykernel_26378/2251272052.py:26: RuntimeWarning: Channels contain different lowpass filters. Highest (weakest) filter setting (1250.00 Hz, Nyquist limit) will be stored.\n",
      "  raw = mne.io.read_raw_brainvision(vhdr_path, preload=True)\n"
     ]
    },
    {
     "name": "stdout",
     "output_type": "stream",
     "text": [
      "Filtering raw data in 1 contiguous segment\n",
      "Setting up band-stop filter from 59 - 61 Hz\n",
      "\n",
      "FIR filter parameters\n",
      "---------------------\n",
      "Designing a one-pass, zero-phase, non-causal bandstop filter:\n",
      "- Windowed time-domain design (firwin) method\n",
      "- Hamming window with 0.0194 passband ripple and 53 dB stopband attenuation\n",
      "- Lower passband edge: 59.35\n",
      "- Lower transition bandwidth: 0.50 Hz (-6 dB cutoff frequency: 59.10 Hz)\n",
      "- Upper passband edge: 60.65 Hz\n",
      "- Upper transition bandwidth: 0.50 Hz (-6 dB cutoff frequency: 60.90 Hz)\n",
      "- Filter length: 16501 samples (6.600 s)\n",
      "\n"
     ]
    },
    {
     "name": "stderr",
     "output_type": "stream",
     "text": [
      "[Parallel(n_jobs=1)]: Done  17 tasks      | elapsed:    0.6s\n"
     ]
    },
    {
     "name": "stdout",
     "output_type": "stream",
     "text": [
      "Filtering raw data in 1 contiguous segment\n",
      "Setting up band-pass filter from 8 - 30 Hz\n",
      "\n",
      "FIR filter parameters\n",
      "---------------------\n",
      "Designing a one-pass, zero-phase, non-causal bandpass filter:\n",
      "- Windowed time-domain design (firwin) method\n",
      "- Hamming window with 0.0194 passband ripple and 53 dB stopband attenuation\n",
      "- Lower passband edge: 8.00\n",
      "- Lower transition bandwidth: 2.00 Hz (-6 dB cutoff frequency: 7.00 Hz)\n",
      "- Upper passband edge: 30.00 Hz\n",
      "- Upper transition bandwidth: 7.50 Hz (-6 dB cutoff frequency: 33.75 Hz)\n",
      "- Filter length: 4125 samples (1.650 s)\n",
      "\n"
     ]
    },
    {
     "name": "stderr",
     "output_type": "stream",
     "text": [
      "[Parallel(n_jobs=1)]: Done  60 out of  60 | elapsed:    2.3s finished\n",
      "[Parallel(n_jobs=1)]: Done  17 tasks      | elapsed:    0.6s\n"
     ]
    },
    {
     "name": "stdout",
     "output_type": "stream",
     "text": [
      "Fitting ICA to data using 60 channels (please be patient, this may take a while)\n"
     ]
    },
    {
     "name": "stderr",
     "output_type": "stream",
     "text": [
      "[Parallel(n_jobs=1)]: Done  60 out of  60 | elapsed:    2.3s finished\n"
     ]
    },
    {
     "name": "stdout",
     "output_type": "stream",
     "text": [
      "Selecting by number: 15 components\n",
      "Fitting ICA took 21.6s.\n",
      "Applying ICA to Raw instance\n",
      "    Transforming to ICA space (15 components)\n",
      "    Zeroing out 0 ICA components\n",
      "    Projecting back using 60 PCA components\n",
      "Used Annotations descriptions: [np.str_('Comment/actiCAP Active Shield On'), np.str_('New Segment/'), np.str_('Stimulus/S  8'), np.str_('Stimulus/S  9'), np.str_('Stimulus/S 10'), np.str_('Stimulus/S 13'), np.str_('Stimulus/S 14'), np.str_('Stimulus/S 91'), np.str_('Stimulus/S101')]\n",
      "Not setting metadata\n",
      "100 matching events found\n",
      "Setting baseline interval to [-0.2, 0.0] s\n",
      "Applying baseline correction (mode: mean)\n",
      "0 projection items activated\n",
      "Using data from preloaded Raw for 100 events and 5501 original time points ...\n",
      "0 bad epochs dropped\n",
      "Saved: session2_sub14_twist_MI.npz | Shape: (100, 60, 5501)\n",
      "\n",
      "Processing: /storage/projects1/e19-4yp-mi-eeg-for-bci/rawdata/session1_sub15_twist_MI.vhdr\n",
      "Extracting parameters from /storage/projects1/e19-4yp-mi-eeg-for-bci/rawdata/session1_sub15_twist_MI.vhdr...\n",
      "Setting channel info structure...\n",
      "Reading 0 ... 2565699  =      0.000 ...  1026.280 secs...\n"
     ]
    },
    {
     "name": "stderr",
     "output_type": "stream",
     "text": [
      "/tmp/ipykernel_26378/2251272052.py:26: RuntimeWarning: Online software filter detected. Using software filter settings and ignoring hardware values\n",
      "  raw = mne.io.read_raw_brainvision(vhdr_path, preload=True)\n",
      "/tmp/ipykernel_26378/2251272052.py:26: RuntimeWarning: Channels contain different highpass filters. Lowest (weakest) filter setting (0.00 Hz) will be stored.\n",
      "  raw = mne.io.read_raw_brainvision(vhdr_path, preload=True)\n",
      "/tmp/ipykernel_26378/2251272052.py:26: RuntimeWarning: Channels contain different lowpass filters. Highest (weakest) filter setting (1250.00 Hz, Nyquist limit) will be stored.\n",
      "  raw = mne.io.read_raw_brainvision(vhdr_path, preload=True)\n"
     ]
    },
    {
     "name": "stdout",
     "output_type": "stream",
     "text": [
      "Filtering raw data in 1 contiguous segment\n",
      "Setting up band-stop filter from 59 - 61 Hz\n",
      "\n",
      "FIR filter parameters\n",
      "---------------------\n",
      "Designing a one-pass, zero-phase, non-causal bandstop filter:\n",
      "- Windowed time-domain design (firwin) method\n",
      "- Hamming window with 0.0194 passband ripple and 53 dB stopband attenuation\n",
      "- Lower passband edge: 59.35\n",
      "- Lower transition bandwidth: 0.50 Hz (-6 dB cutoff frequency: 59.10 Hz)\n",
      "- Upper passband edge: 60.65 Hz\n",
      "- Upper transition bandwidth: 0.50 Hz (-6 dB cutoff frequency: 60.90 Hz)\n",
      "- Filter length: 16501 samples (6.600 s)\n",
      "\n"
     ]
    },
    {
     "name": "stderr",
     "output_type": "stream",
     "text": [
      "[Parallel(n_jobs=1)]: Done  17 tasks      | elapsed:    0.9s\n"
     ]
    },
    {
     "name": "stdout",
     "output_type": "stream",
     "text": [
      "Filtering raw data in 1 contiguous segment\n",
      "Setting up band-pass filter from 8 - 30 Hz\n",
      "\n",
      "FIR filter parameters\n",
      "---------------------\n",
      "Designing a one-pass, zero-phase, non-causal bandpass filter:\n",
      "- Windowed time-domain design (firwin) method\n",
      "- Hamming window with 0.0194 passband ripple and 53 dB stopband attenuation\n",
      "- Lower passband edge: 8.00\n",
      "- Lower transition bandwidth: 2.00 Hz (-6 dB cutoff frequency: 7.00 Hz)\n",
      "- Upper passband edge: 30.00 Hz\n",
      "- Upper transition bandwidth: 7.50 Hz (-6 dB cutoff frequency: 33.75 Hz)\n",
      "- Filter length: 4125 samples (1.650 s)\n",
      "\n"
     ]
    },
    {
     "name": "stderr",
     "output_type": "stream",
     "text": [
      "[Parallel(n_jobs=1)]: Done  60 out of  60 | elapsed:    2.4s finished\n",
      "[Parallel(n_jobs=1)]: Done  17 tasks      | elapsed:    0.5s\n"
     ]
    },
    {
     "name": "stdout",
     "output_type": "stream",
     "text": [
      "Fitting ICA to data using 60 channels (please be patient, this may take a while)\n"
     ]
    },
    {
     "name": "stderr",
     "output_type": "stream",
     "text": [
      "[Parallel(n_jobs=1)]: Done  60 out of  60 | elapsed:    1.7s finished\n"
     ]
    },
    {
     "name": "stdout",
     "output_type": "stream",
     "text": [
      "Selecting by number: 15 components\n",
      "Fitting ICA took 25.4s.\n",
      "Applying ICA to Raw instance\n",
      "    Transforming to ICA space (15 components)\n",
      "    Zeroing out 0 ICA components\n",
      "    Projecting back using 60 PCA components\n",
      "Used Annotations descriptions: [np.str_('Comment/actiCAP Data On'), np.str_('New Segment/'), np.str_('Stimulus/S  8'), np.str_('Stimulus/S  9'), np.str_('Stimulus/S 10'), np.str_('Stimulus/S 13'), np.str_('Stimulus/S 14'), np.str_('Stimulus/S 91'), np.str_('Stimulus/S101')]\n",
      "Not setting metadata\n",
      "100 matching events found\n",
      "Setting baseline interval to [-0.2, 0.0] s\n",
      "Applying baseline correction (mode: mean)\n",
      "0 projection items activated\n",
      "Using data from preloaded Raw for 100 events and 5501 original time points ...\n",
      "0 bad epochs dropped\n",
      "Saved: session1_sub15_twist_MI.npz | Shape: (100, 60, 5501)\n",
      "\n",
      "Processing: /storage/projects1/e19-4yp-mi-eeg-for-bci/rawdata/session2_sub3_twist_MI.vhdr\n",
      "Extracting parameters from /storage/projects1/e19-4yp-mi-eeg-for-bci/rawdata/session2_sub3_twist_MI.vhdr...\n",
      "Setting channel info structure...\n",
      "Reading 0 ... 2579699  =      0.000 ...  1031.880 secs...\n"
     ]
    },
    {
     "name": "stderr",
     "output_type": "stream",
     "text": [
      "/tmp/ipykernel_26378/2251272052.py:26: RuntimeWarning: Online software filter detected. Using software filter settings and ignoring hardware values\n",
      "  raw = mne.io.read_raw_brainvision(vhdr_path, preload=True)\n",
      "/tmp/ipykernel_26378/2251272052.py:26: RuntimeWarning: Channels contain different highpass filters. Lowest (weakest) filter setting (0.00 Hz) will be stored.\n",
      "  raw = mne.io.read_raw_brainvision(vhdr_path, preload=True)\n",
      "/tmp/ipykernel_26378/2251272052.py:26: RuntimeWarning: Channels contain different lowpass filters. Highest (weakest) filter setting (1250.00 Hz, Nyquist limit) will be stored.\n",
      "  raw = mne.io.read_raw_brainvision(vhdr_path, preload=True)\n"
     ]
    },
    {
     "name": "stdout",
     "output_type": "stream",
     "text": [
      "Filtering raw data in 1 contiguous segment\n",
      "Setting up band-stop filter from 59 - 61 Hz\n",
      "\n",
      "FIR filter parameters\n",
      "---------------------\n",
      "Designing a one-pass, zero-phase, non-causal bandstop filter:\n",
      "- Windowed time-domain design (firwin) method\n",
      "- Hamming window with 0.0194 passband ripple and 53 dB stopband attenuation\n",
      "- Lower passband edge: 59.35\n",
      "- Lower transition bandwidth: 0.50 Hz (-6 dB cutoff frequency: 59.10 Hz)\n",
      "- Upper passband edge: 60.65 Hz\n",
      "- Upper transition bandwidth: 0.50 Hz (-6 dB cutoff frequency: 60.90 Hz)\n",
      "- Filter length: 16501 samples (6.600 s)\n",
      "\n"
     ]
    },
    {
     "name": "stderr",
     "output_type": "stream",
     "text": [
      "[Parallel(n_jobs=1)]: Done  17 tasks      | elapsed:    0.6s\n"
     ]
    },
    {
     "name": "stdout",
     "output_type": "stream",
     "text": [
      "Filtering raw data in 1 contiguous segment\n",
      "Setting up band-pass filter from 8 - 30 Hz\n",
      "\n",
      "FIR filter parameters\n",
      "---------------------\n",
      "Designing a one-pass, zero-phase, non-causal bandpass filter:\n",
      "- Windowed time-domain design (firwin) method\n",
      "- Hamming window with 0.0194 passband ripple and 53 dB stopband attenuation\n",
      "- Lower passband edge: 8.00\n",
      "- Lower transition bandwidth: 2.00 Hz (-6 dB cutoff frequency: 7.00 Hz)\n",
      "- Upper passband edge: 30.00 Hz\n",
      "- Upper transition bandwidth: 7.50 Hz (-6 dB cutoff frequency: 33.75 Hz)\n",
      "- Filter length: 4125 samples (1.650 s)\n",
      "\n"
     ]
    },
    {
     "name": "stderr",
     "output_type": "stream",
     "text": [
      "[Parallel(n_jobs=1)]: Done  60 out of  60 | elapsed:    2.3s finished\n",
      "[Parallel(n_jobs=1)]: Done  17 tasks      | elapsed:    0.5s\n"
     ]
    },
    {
     "name": "stdout",
     "output_type": "stream",
     "text": [
      "Fitting ICA to data using 60 channels (please be patient, this may take a while)\n"
     ]
    },
    {
     "name": "stderr",
     "output_type": "stream",
     "text": [
      "[Parallel(n_jobs=1)]: Done  60 out of  60 | elapsed:    1.7s finished\n"
     ]
    },
    {
     "name": "stdout",
     "output_type": "stream",
     "text": [
      "Selecting by number: 15 components\n",
      "Fitting ICA took 28.2s.\n",
      "Applying ICA to Raw instance\n",
      "    Transforming to ICA space (15 components)\n",
      "    Zeroing out 0 ICA components\n",
      "    Projecting back using 60 PCA components\n",
      "Used Annotations descriptions: [np.str_('Comment/actiCAP Active Shield On'), np.str_('New Segment/'), np.str_('Stimulus/S  8'), np.str_('Stimulus/S  9'), np.str_('Stimulus/S 10'), np.str_('Stimulus/S 13'), np.str_('Stimulus/S 14'), np.str_('Stimulus/S 91'), np.str_('Stimulus/S101')]\n",
      "Not setting metadata\n",
      "100 matching events found\n",
      "Setting baseline interval to [-0.2, 0.0] s\n",
      "Applying baseline correction (mode: mean)\n",
      "0 projection items activated\n",
      "Using data from preloaded Raw for 100 events and 5501 original time points ...\n",
      "    Rejecting  epoch based on EEG : ['FT8']\n",
      "1 bad epochs dropped\n",
      "Saved: session2_sub3_twist_MI.npz | Shape: (99, 60, 5501)\n",
      "\n",
      "Processing: /storage/projects1/e19-4yp-mi-eeg-for-bci/rawdata/session1_sub17_twist_MI.vhdr\n",
      "Extracting parameters from /storage/projects1/e19-4yp-mi-eeg-for-bci/rawdata/session1_sub17_twist_MI.vhdr...\n",
      "Setting channel info structure...\n",
      "Reading 0 ... 12126799  =      0.000 ...  4850.720 secs...\n"
     ]
    },
    {
     "name": "stderr",
     "output_type": "stream",
     "text": [
      "/tmp/ipykernel_26378/2251272052.py:26: RuntimeWarning: Online software filter detected. Using software filter settings and ignoring hardware values\n",
      "  raw = mne.io.read_raw_brainvision(vhdr_path, preload=True)\n",
      "/tmp/ipykernel_26378/2251272052.py:26: RuntimeWarning: Channels contain different highpass filters. Lowest (weakest) filter setting (0.00 Hz) will be stored.\n",
      "  raw = mne.io.read_raw_brainvision(vhdr_path, preload=True)\n",
      "/tmp/ipykernel_26378/2251272052.py:26: RuntimeWarning: Channels contain different lowpass filters. Highest (weakest) filter setting (1250.00 Hz, Nyquist limit) will be stored.\n",
      "  raw = mne.io.read_raw_brainvision(vhdr_path, preload=True)\n"
     ]
    }
   ],
   "source": [
    "import os\n",
    "import glob\n",
    "import numpy as np\n",
    "import mne\n",
    "from sklearn.preprocessing import StandardScaler\n",
    "import gc\n",
    "\n",
    "# Paths\n",
    "eeg_data = '/storage/projects1/e19-4yp-mi-eeg-for-bci/rawdata'\n",
    "output_dir = '/storage/projects1/e19-4yp-mi-eeg-for-bci/ashan/processed_data3'\n",
    "os.makedirs(output_dir, exist_ok=True)\n",
    "\n",
    "# File list\n",
    "all_vhdr_files = glob.glob(os.path.join(eeg_data, '*.vhdr'))\n",
    "\n",
    "# Exclude corrupted or low-quality files\n",
    "skip_files = ['session3_sub13', 'session1_sub23', 'session2_sub7', 'session2_sub12', 'session2_sub6']\n",
    "vhdr_paths = [f for f in all_vhdr_files if 'Move' not in os.path.basename(f) and all(skip not in f for skip in skip_files)]\n",
    "\n",
    "# Class mapping\n",
    "wrist_events = {'pronation': 91, 'supination': 101}\n",
    "\n",
    "for vhdr_path in vhdr_paths:\n",
    "    try:\n",
    "        print(f\"\\nProcessing: {vhdr_path}\")\n",
    "        raw = mne.io.read_raw_brainvision(vhdr_path, preload=True)\n",
    "\n",
    "        # Drop EOG & EMG channels\n",
    "        raw.drop_channels([ch for ch in raw.ch_names if 'EOG' in ch or 'EMG' in ch])\n",
    "\n",
    "        # Downsample\n",
    "        raw.resample(256, npad=\"auto\")\n",
    "\n",
    "        # Filter\n",
    "        raw.notch_filter(freqs=[60])\n",
    "        raw.filter(8., 30., fir_design='firwin')\n",
    "\n",
    "        # ICA\n",
    "        ica = mne.preprocessing.ICA(n_components=15, random_state=97, max_iter='auto')\n",
    "        ica.fit(raw)\n",
    "        raw = ica.apply(raw)\n",
    "\n",
    "        # Events\n",
    "        events, event_id = mne.events_from_annotations(raw)\n",
    "        epochs = mne.Epochs(\n",
    "            raw, events, event_id=wrist_events,\n",
    "            tmin=-0.2, tmax=2.0,\n",
    "            baseline=(None, 0),\n",
    "            preload=True,\n",
    "            reject=dict(eeg=150e-6)\n",
    "        )\n",
    "\n",
    "        if len(epochs) == 0:\n",
    "            print(f\"All epochs rejected for {vhdr_path}\")\n",
    "            continue\n",
    "\n",
    "        # Data & labels\n",
    "        X = epochs.get_data().astype(np.float32)  # (n_epochs, n_channels, n_times)\n",
    "        y = np.array([0 if ev[-1] == 91 else 1 for ev in epochs.events], dtype=np.int8)\n",
    "\n",
    "        # Standardize (channel-wise per epoch)\n",
    "        for i in range(X.shape[0]):\n",
    "            X[i] = StandardScaler().fit_transform(X[i].T).T\n",
    "\n",
    "        # Save\n",
    "        filename = os.path.splitext(os.path.basename(vhdr_path))[0]\n",
    "        np.savez_compressed(os.path.join(output_dir, f\"{filename}.npz\"), X=X, y=y)\n",
    "\n",
    "        print(f\"Saved: {filename}.npz | Shape: {X.shape}\")\n",
    "\n",
    "        # Cleanup\n",
    "        del raw, epochs, X, y, ica\n",
    "        gc.collect()\n",
    "\n",
    "    except Exception as e:\n",
    "        print(f\"Error processing {vhdr_path}: {e}\")\n"
   ]
  },
  {
   "cell_type": "code",
   "execution_count": 1,
   "id": "88cd67d9-ae01-43d2-9af2-040556f75dff",
   "metadata": {},
   "outputs": [
    {
     "name": "stdout",
     "output_type": "stream",
     "text": [
      "\n",
      "🧠 Processing: /storage/projects1/e19-4yp-mi-eeg-for-bci/rawdata/session2_sub14_twist_MI.vhdr\n",
      "Extracting parameters from /storage/projects1/e19-4yp-mi-eeg-for-bci/rawdata/session2_sub14_twist_MI.vhdr...\n",
      "Setting channel info structure...\n",
      "Reading 0 ... 2564199  =      0.000 ...  1025.680 secs...\n"
     ]
    },
    {
     "name": "stderr",
     "output_type": "stream",
     "text": [
      "/tmp/ipykernel_26682/98459583.py:27: RuntimeWarning: Online software filter detected. Using software filter settings and ignoring hardware values\n",
      "  raw = mne.io.read_raw_brainvision(vhdr_path, preload=True)\n",
      "/tmp/ipykernel_26682/98459583.py:27: RuntimeWarning: Channels contain different highpass filters. Lowest (weakest) filter setting (0.00 Hz) will be stored.\n",
      "  raw = mne.io.read_raw_brainvision(vhdr_path, preload=True)\n",
      "/tmp/ipykernel_26682/98459583.py:27: RuntimeWarning: Channels contain different lowpass filters. Highest (weakest) filter setting (1250.00 Hz, Nyquist limit) will be stored.\n",
      "  raw = mne.io.read_raw_brainvision(vhdr_path, preload=True)\n"
     ]
    },
    {
     "name": "stdout",
     "output_type": "stream",
     "text": [
      "Filtering raw data in 1 contiguous segment\n",
      "Setting up band-stop filter from 59 - 61 Hz\n",
      "\n",
      "FIR filter parameters\n",
      "---------------------\n",
      "Designing a one-pass, zero-phase, non-causal bandstop filter:\n",
      "- Windowed time-domain design (firwin) method\n",
      "- Hamming window with 0.0194 passband ripple and 53 dB stopband attenuation\n",
      "- Lower passband edge: 59.35\n",
      "- Lower transition bandwidth: 0.50 Hz (-6 dB cutoff frequency: 59.10 Hz)\n",
      "- Upper passband edge: 60.65 Hz\n",
      "- Upper transition bandwidth: 0.50 Hz (-6 dB cutoff frequency: 60.90 Hz)\n",
      "- Filter length: 1691 samples (6.605 s)\n",
      "\n",
      "Filtering raw data in 1 contiguous segment\n",
      "Setting up band-pass filter from 8 - 30 Hz\n",
      "\n",
      "FIR filter parameters\n",
      "---------------------\n",
      "Designing a one-pass, zero-phase, non-causal bandpass filter:\n",
      "- Windowed time-domain design (firwin) method\n",
      "- Hamming window with 0.0194 passband ripple and 53 dB stopband attenuation\n",
      "- Lower passband edge: 8.00\n",
      "- Lower transition bandwidth: 2.00 Hz (-6 dB cutoff frequency: 7.00 Hz)\n",
      "- Upper passband edge: 30.00 Hz\n",
      "- Upper transition bandwidth: 7.50 Hz (-6 dB cutoff frequency: 33.75 Hz)\n",
      "- Filter length: 423 samples (1.652 s)\n",
      "\n"
     ]
    },
    {
     "name": "stderr",
     "output_type": "stream",
     "text": [
      "[Parallel(n_jobs=1)]: Done  17 tasks      | elapsed:    0.1s\n",
      "[Parallel(n_jobs=1)]: Done  60 out of  60 | elapsed:    0.2s finished\n"
     ]
    },
    {
     "name": "stdout",
     "output_type": "stream",
     "text": [
      "Fitting ICA to data using 60 channels (please be patient, this may take a while)\n"
     ]
    },
    {
     "name": "stderr",
     "output_type": "stream",
     "text": [
      "[Parallel(n_jobs=1)]: Done  17 tasks      | elapsed:    0.1s\n",
      "[Parallel(n_jobs=1)]: Done  60 out of  60 | elapsed:    0.2s finished\n"
     ]
    },
    {
     "name": "stdout",
     "output_type": "stream",
     "text": [
      "Selecting by number: 15 components\n",
      "Fitting ICA took 0.2s.\n",
      "Applying ICA to Raw instance\n",
      "    Transforming to ICA space (15 components)\n",
      "    Zeroing out 0 ICA components\n",
      "    Projecting back using 60 PCA components\n",
      "Used Annotations descriptions: [np.str_('Comment/actiCAP Active Shield On'), np.str_('New Segment/'), np.str_('Stimulus/S  8'), np.str_('Stimulus/S  9'), np.str_('Stimulus/S 10'), np.str_('Stimulus/S 13'), np.str_('Stimulus/S 14'), np.str_('Stimulus/S 91'), np.str_('Stimulus/S101')]\n",
      "Not setting metadata\n",
      "100 matching events found\n",
      "Setting baseline interval to [-0.19921875, 0.0] s\n",
      "Applying baseline correction (mode: mean)\n",
      "0 projection items activated\n",
      "Using data from preloaded Raw for 100 events and 564 original time points ...\n",
      "0 bad epochs dropped\n",
      "✅ Saved: session2_sub14_twist_MI.npz | Shape: (100, 60, 564)\n",
      "\n",
      "🧠 Processing: /storage/projects1/e19-4yp-mi-eeg-for-bci/rawdata/session1_sub15_twist_MI.vhdr\n",
      "Extracting parameters from /storage/projects1/e19-4yp-mi-eeg-for-bci/rawdata/session1_sub15_twist_MI.vhdr...\n",
      "Setting channel info structure...\n",
      "Reading 0 ... 2565699  =      0.000 ...  1026.280 secs...\n"
     ]
    },
    {
     "name": "stderr",
     "output_type": "stream",
     "text": [
      "/tmp/ipykernel_26682/98459583.py:27: RuntimeWarning: Online software filter detected. Using software filter settings and ignoring hardware values\n",
      "  raw = mne.io.read_raw_brainvision(vhdr_path, preload=True)\n",
      "/tmp/ipykernel_26682/98459583.py:27: RuntimeWarning: Channels contain different highpass filters. Lowest (weakest) filter setting (0.00 Hz) will be stored.\n",
      "  raw = mne.io.read_raw_brainvision(vhdr_path, preload=True)\n",
      "/tmp/ipykernel_26682/98459583.py:27: RuntimeWarning: Channels contain different lowpass filters. Highest (weakest) filter setting (1250.00 Hz, Nyquist limit) will be stored.\n",
      "  raw = mne.io.read_raw_brainvision(vhdr_path, preload=True)\n"
     ]
    },
    {
     "name": "stdout",
     "output_type": "stream",
     "text": [
      "Filtering raw data in 1 contiguous segment\n",
      "Setting up band-stop filter from 59 - 61 Hz\n",
      "\n",
      "FIR filter parameters\n",
      "---------------------\n",
      "Designing a one-pass, zero-phase, non-causal bandstop filter:\n",
      "- Windowed time-domain design (firwin) method\n",
      "- Hamming window with 0.0194 passband ripple and 53 dB stopband attenuation\n",
      "- Lower passband edge: 59.35\n",
      "- Lower transition bandwidth: 0.50 Hz (-6 dB cutoff frequency: 59.10 Hz)\n",
      "- Upper passband edge: 60.65 Hz\n",
      "- Upper transition bandwidth: 0.50 Hz (-6 dB cutoff frequency: 60.90 Hz)\n",
      "- Filter length: 1691 samples (6.605 s)\n",
      "\n",
      "Filtering raw data in 1 contiguous segment\n",
      "Setting up band-pass filter from 8 - 30 Hz\n",
      "\n",
      "FIR filter parameters\n",
      "---------------------\n",
      "Designing a one-pass, zero-phase, non-causal bandpass filter:\n",
      "- Windowed time-domain design (firwin) method\n",
      "- Hamming window with 0.0194 passband ripple and 53 dB stopband attenuation\n",
      "- Lower passband edge: 8.00\n",
      "- Lower transition bandwidth: 2.00 Hz (-6 dB cutoff frequency: 7.00 Hz)\n",
      "- Upper passband edge: 30.00 Hz\n",
      "- Upper transition bandwidth: 7.50 Hz (-6 dB cutoff frequency: 33.75 Hz)\n",
      "- Filter length: 423 samples (1.652 s)\n",
      "\n"
     ]
    },
    {
     "name": "stderr",
     "output_type": "stream",
     "text": [
      "[Parallel(n_jobs=1)]: Done  17 tasks      | elapsed:    0.1s\n",
      "[Parallel(n_jobs=1)]: Done  60 out of  60 | elapsed:    0.2s finished\n"
     ]
    },
    {
     "name": "stdout",
     "output_type": "stream",
     "text": [
      "Fitting ICA to data using 60 channels (please be patient, this may take a while)\n"
     ]
    },
    {
     "name": "stderr",
     "output_type": "stream",
     "text": [
      "[Parallel(n_jobs=1)]: Done  17 tasks      | elapsed:    0.1s\n",
      "[Parallel(n_jobs=1)]: Done  60 out of  60 | elapsed:    0.2s finished\n"
     ]
    },
    {
     "name": "stdout",
     "output_type": "stream",
     "text": [
      "Selecting by number: 15 components\n",
      "Fitting ICA took 0.2s.\n",
      "Applying ICA to Raw instance\n",
      "    Transforming to ICA space (15 components)\n",
      "    Zeroing out 0 ICA components\n",
      "    Projecting back using 60 PCA components\n",
      "Used Annotations descriptions: [np.str_('Comment/actiCAP Data On'), np.str_('New Segment/'), np.str_('Stimulus/S  8'), np.str_('Stimulus/S  9'), np.str_('Stimulus/S 10'), np.str_('Stimulus/S 13'), np.str_('Stimulus/S 14'), np.str_('Stimulus/S 91'), np.str_('Stimulus/S101')]\n",
      "Not setting metadata\n",
      "100 matching events found\n",
      "Setting baseline interval to [-0.19921875, 0.0] s\n",
      "Applying baseline correction (mode: mean)\n",
      "0 projection items activated\n",
      "Using data from preloaded Raw for 100 events and 564 original time points ...\n",
      "0 bad epochs dropped\n",
      "✅ Saved: session1_sub15_twist_MI.npz | Shape: (100, 60, 564)\n",
      "\n",
      "🧠 Processing: /storage/projects1/e19-4yp-mi-eeg-for-bci/rawdata/session2_sub3_twist_MI.vhdr\n",
      "Extracting parameters from /storage/projects1/e19-4yp-mi-eeg-for-bci/rawdata/session2_sub3_twist_MI.vhdr...\n",
      "Setting channel info structure...\n",
      "Reading 0 ... 2579699  =      0.000 ...  1031.880 secs...\n"
     ]
    },
    {
     "name": "stderr",
     "output_type": "stream",
     "text": [
      "/tmp/ipykernel_26682/98459583.py:27: RuntimeWarning: Online software filter detected. Using software filter settings and ignoring hardware values\n",
      "  raw = mne.io.read_raw_brainvision(vhdr_path, preload=True)\n",
      "/tmp/ipykernel_26682/98459583.py:27: RuntimeWarning: Channels contain different highpass filters. Lowest (weakest) filter setting (0.00 Hz) will be stored.\n",
      "  raw = mne.io.read_raw_brainvision(vhdr_path, preload=True)\n",
      "/tmp/ipykernel_26682/98459583.py:27: RuntimeWarning: Channels contain different lowpass filters. Highest (weakest) filter setting (1250.00 Hz, Nyquist limit) will be stored.\n",
      "  raw = mne.io.read_raw_brainvision(vhdr_path, preload=True)\n"
     ]
    },
    {
     "name": "stdout",
     "output_type": "stream",
     "text": [
      "Filtering raw data in 1 contiguous segment\n",
      "Setting up band-stop filter from 59 - 61 Hz\n",
      "\n",
      "FIR filter parameters\n",
      "---------------------\n",
      "Designing a one-pass, zero-phase, non-causal bandstop filter:\n",
      "- Windowed time-domain design (firwin) method\n",
      "- Hamming window with 0.0194 passband ripple and 53 dB stopband attenuation\n",
      "- Lower passband edge: 59.35\n",
      "- Lower transition bandwidth: 0.50 Hz (-6 dB cutoff frequency: 59.10 Hz)\n",
      "- Upper passband edge: 60.65 Hz\n",
      "- Upper transition bandwidth: 0.50 Hz (-6 dB cutoff frequency: 60.90 Hz)\n",
      "- Filter length: 1691 samples (6.605 s)\n",
      "\n",
      "Filtering raw data in 1 contiguous segment\n",
      "Setting up band-pass filter from 8 - 30 Hz\n",
      "\n",
      "FIR filter parameters\n",
      "---------------------\n",
      "Designing a one-pass, zero-phase, non-causal bandpass filter:\n",
      "- Windowed time-domain design (firwin) method\n",
      "- Hamming window with 0.0194 passband ripple and 53 dB stopband attenuation\n",
      "- Lower passband edge: 8.00\n",
      "- Lower transition bandwidth: 2.00 Hz (-6 dB cutoff frequency: 7.00 Hz)\n",
      "- Upper passband edge: 30.00 Hz\n",
      "- Upper transition bandwidth: 7.50 Hz (-6 dB cutoff frequency: 33.75 Hz)\n",
      "- Filter length: 423 samples (1.652 s)\n",
      "\n"
     ]
    },
    {
     "name": "stderr",
     "output_type": "stream",
     "text": [
      "[Parallel(n_jobs=1)]: Done  17 tasks      | elapsed:    0.0s\n",
      "[Parallel(n_jobs=1)]: Done  60 out of  60 | elapsed:    0.2s finished\n",
      "[Parallel(n_jobs=1)]: Done  17 tasks      | elapsed:    0.0s\n"
     ]
    },
    {
     "name": "stdout",
     "output_type": "stream",
     "text": [
      "Fitting ICA to data using 60 channels (please be patient, this may take a while)\n",
      "Selecting by number: 15 components\n"
     ]
    },
    {
     "name": "stderr",
     "output_type": "stream",
     "text": [
      "[Parallel(n_jobs=1)]: Done  60 out of  60 | elapsed:    0.2s finished\n"
     ]
    },
    {
     "name": "stdout",
     "output_type": "stream",
     "text": [
      "Fitting ICA took 0.3s.\n",
      "Applying ICA to Raw instance\n",
      "    Transforming to ICA space (15 components)\n",
      "    Zeroing out 0 ICA components\n",
      "    Projecting back using 60 PCA components\n",
      "Used Annotations descriptions: [np.str_('Comment/actiCAP Active Shield On'), np.str_('New Segment/'), np.str_('Stimulus/S  8'), np.str_('Stimulus/S  9'), np.str_('Stimulus/S 10'), np.str_('Stimulus/S 13'), np.str_('Stimulus/S 14'), np.str_('Stimulus/S 91'), np.str_('Stimulus/S101')]\n",
      "Not setting metadata\n",
      "100 matching events found\n",
      "Setting baseline interval to [-0.19921875, 0.0] s\n",
      "Applying baseline correction (mode: mean)\n",
      "0 projection items activated\n",
      "Using data from preloaded Raw for 100 events and 564 original time points ...\n",
      "    Rejecting  epoch based on EEG : ['FT8']\n",
      "1 bad epochs dropped\n",
      "✅ Saved: session2_sub3_twist_MI.npz | Shape: (99, 60, 564)\n",
      "\n",
      "🧠 Processing: /storage/projects1/e19-4yp-mi-eeg-for-bci/rawdata/session1_sub17_twist_MI.vhdr\n",
      "Extracting parameters from /storage/projects1/e19-4yp-mi-eeg-for-bci/rawdata/session1_sub17_twist_MI.vhdr...\n",
      "Setting channel info structure...\n",
      "Reading 0 ... 12126799  =      0.000 ...  4850.720 secs...\n"
     ]
    },
    {
     "name": "stderr",
     "output_type": "stream",
     "text": [
      "/tmp/ipykernel_26682/98459583.py:27: RuntimeWarning: Online software filter detected. Using software filter settings and ignoring hardware values\n",
      "  raw = mne.io.read_raw_brainvision(vhdr_path, preload=True)\n",
      "/tmp/ipykernel_26682/98459583.py:27: RuntimeWarning: Channels contain different highpass filters. Lowest (weakest) filter setting (0.00 Hz) will be stored.\n",
      "  raw = mne.io.read_raw_brainvision(vhdr_path, preload=True)\n",
      "/tmp/ipykernel_26682/98459583.py:27: RuntimeWarning: Channels contain different lowpass filters. Highest (weakest) filter setting (1250.00 Hz, Nyquist limit) will be stored.\n",
      "  raw = mne.io.read_raw_brainvision(vhdr_path, preload=True)\n"
     ]
    },
    {
     "name": "stdout",
     "output_type": "stream",
     "text": [
      "Filtering raw data in 1 contiguous segment\n",
      "Setting up band-stop filter from 59 - 61 Hz\n",
      "\n",
      "FIR filter parameters\n",
      "---------------------\n",
      "Designing a one-pass, zero-phase, non-causal bandstop filter:\n",
      "- Windowed time-domain design (firwin) method\n",
      "- Hamming window with 0.0194 passband ripple and 53 dB stopband attenuation\n",
      "- Lower passband edge: 59.35\n",
      "- Lower transition bandwidth: 0.50 Hz (-6 dB cutoff frequency: 59.10 Hz)\n",
      "- Upper passband edge: 60.65 Hz\n",
      "- Upper transition bandwidth: 0.50 Hz (-6 dB cutoff frequency: 60.90 Hz)\n",
      "- Filter length: 1691 samples (6.605 s)\n",
      "\n"
     ]
    },
    {
     "name": "stderr",
     "output_type": "stream",
     "text": [
      "[Parallel(n_jobs=1)]: Done  17 tasks      | elapsed:    0.2s\n"
     ]
    },
    {
     "name": "stdout",
     "output_type": "stream",
     "text": [
      "Filtering raw data in 1 contiguous segment\n",
      "Setting up band-pass filter from 8 - 30 Hz\n",
      "\n",
      "FIR filter parameters\n",
      "---------------------\n",
      "Designing a one-pass, zero-phase, non-causal bandpass filter:\n",
      "- Windowed time-domain design (firwin) method\n",
      "- Hamming window with 0.0194 passband ripple and 53 dB stopband attenuation\n",
      "- Lower passband edge: 8.00\n",
      "- Lower transition bandwidth: 2.00 Hz (-6 dB cutoff frequency: 7.00 Hz)\n",
      "- Upper passband edge: 30.00 Hz\n",
      "- Upper transition bandwidth: 7.50 Hz (-6 dB cutoff frequency: 33.75 Hz)\n",
      "- Filter length: 423 samples (1.652 s)\n",
      "\n"
     ]
    },
    {
     "name": "stderr",
     "output_type": "stream",
     "text": [
      "[Parallel(n_jobs=1)]: Done  60 out of  60 | elapsed:    1.0s finished\n",
      "[Parallel(n_jobs=1)]: Done  17 tasks      | elapsed:    0.3s\n"
     ]
    },
    {
     "name": "stdout",
     "output_type": "stream",
     "text": [
      "Fitting ICA to data using 60 channels (please be patient, this may take a while)\n",
      "Selecting by number: 15 components\n"
     ]
    },
    {
     "name": "stderr",
     "output_type": "stream",
     "text": [
      "[Parallel(n_jobs=1)]: Done  60 out of  60 | elapsed:    0.9s finished\n"
     ]
    },
    {
     "name": "stdout",
     "output_type": "stream",
     "text": [
      "Fitting ICA took 0.2s.\n",
      "Applying ICA to Raw instance\n",
      "    Transforming to ICA space (15 components)\n",
      "    Zeroing out 0 ICA components\n",
      "    Projecting back using 60 PCA components\n",
      "Used Annotations descriptions: [np.str_('Comment/actiCAP Data On'), np.str_('New Segment/'), np.str_('Stimulus/S  8'), np.str_('Stimulus/S  9'), np.str_('Stimulus/S 10'), np.str_('Stimulus/S 11'), np.str_('Stimulus/S 12'), np.str_('Stimulus/S 13'), np.str_('Stimulus/S 14'), np.str_('Stimulus/S 91'), np.str_('Stimulus/S101'), np.str_('Stimulus/S111'), np.str_('Stimulus/S121')]\n",
      "Not setting metadata\n",
      "100 matching events found\n",
      "Setting baseline interval to [-0.19921875, 0.0] s\n",
      "Applying baseline correction (mode: mean)\n",
      "0 projection items activated\n",
      "Using data from preloaded Raw for 100 events and 564 original time points ...\n",
      "    Rejecting  epoch based on EEG : ['AF8', 'F8']\n",
      "    Rejecting  epoch based on EEG : ['PO7']\n",
      "    Rejecting  epoch based on EEG : ['PO7']\n",
      "    Rejecting  epoch based on EEG : ['PO7']\n",
      "    Rejecting  epoch based on EEG : ['PO7']\n",
      "    Rejecting  epoch based on EEG : ['F7', 'FT7', 'FC5', 'T7', 'TP7', 'CP5', 'P7', 'P5', 'PO7', 'PO3', 'F8', 'FC4', 'FC6', 'FT8', 'C4', 'C6', 'T8', 'TP8', 'P8', 'O1', 'Oz', 'Iz']\n",
      "    Rejecting  epoch based on EEG : ['PO7']\n",
      "    Rejecting  epoch based on EEG : ['PO7']\n",
      "    Rejecting  epoch based on EEG : ['PO7']\n",
      "    Rejecting  epoch based on EEG : ['PO7']\n",
      "10 bad epochs dropped\n",
      "✅ Saved: session1_sub17_twist_MI.npz | Shape: (90, 60, 564)\n",
      "\n",
      "🧠 Processing: /storage/projects1/e19-4yp-mi-eeg-for-bci/rawdata/session2_sub24_twist_MI.vhdr\n",
      "Extracting parameters from /storage/projects1/e19-4yp-mi-eeg-for-bci/rawdata/session2_sub24_twist_MI.vhdr...\n",
      "Setting channel info structure...\n",
      "Reading 0 ... 2588899  =      0.000 ...  1035.560 secs...\n"
     ]
    },
    {
     "name": "stderr",
     "output_type": "stream",
     "text": [
      "/tmp/ipykernel_26682/98459583.py:27: RuntimeWarning: Online software filter detected. Using software filter settings and ignoring hardware values\n",
      "  raw = mne.io.read_raw_brainvision(vhdr_path, preload=True)\n",
      "/tmp/ipykernel_26682/98459583.py:27: RuntimeWarning: Channels contain different highpass filters. Lowest (weakest) filter setting (0.00 Hz) will be stored.\n",
      "  raw = mne.io.read_raw_brainvision(vhdr_path, preload=True)\n",
      "/tmp/ipykernel_26682/98459583.py:27: RuntimeWarning: Channels contain different lowpass filters. Highest (weakest) filter setting (1250.00 Hz, Nyquist limit) will be stored.\n",
      "  raw = mne.io.read_raw_brainvision(vhdr_path, preload=True)\n"
     ]
    },
    {
     "name": "stdout",
     "output_type": "stream",
     "text": [
      "Filtering raw data in 1 contiguous segment\n",
      "Setting up band-stop filter from 59 - 61 Hz\n",
      "\n",
      "FIR filter parameters\n",
      "---------------------\n",
      "Designing a one-pass, zero-phase, non-causal bandstop filter:\n",
      "- Windowed time-domain design (firwin) method\n",
      "- Hamming window with 0.0194 passband ripple and 53 dB stopband attenuation\n",
      "- Lower passband edge: 59.35\n",
      "- Lower transition bandwidth: 0.50 Hz (-6 dB cutoff frequency: 59.10 Hz)\n",
      "- Upper passband edge: 60.65 Hz\n",
      "- Upper transition bandwidth: 0.50 Hz (-6 dB cutoff frequency: 60.90 Hz)\n",
      "- Filter length: 1691 samples (6.605 s)\n",
      "\n",
      "Filtering raw data in 1 contiguous segment\n",
      "Setting up band-pass filter from 8 - 30 Hz\n",
      "\n",
      "FIR filter parameters\n",
      "---------------------\n",
      "Designing a one-pass, zero-phase, non-causal bandpass filter:\n",
      "- Windowed time-domain design (firwin) method\n",
      "- Hamming window with 0.0194 passband ripple and 53 dB stopband attenuation\n",
      "- Lower passband edge: 8.00\n",
      "- Lower transition bandwidth: 2.00 Hz (-6 dB cutoff frequency: 7.00 Hz)\n",
      "- Upper passband edge: 30.00 Hz\n",
      "- Upper transition bandwidth: 7.50 Hz (-6 dB cutoff frequency: 33.75 Hz)\n",
      "- Filter length: 423 samples (1.652 s)\n",
      "\n"
     ]
    },
    {
     "name": "stderr",
     "output_type": "stream",
     "text": [
      "[Parallel(n_jobs=1)]: Done  17 tasks      | elapsed:    0.1s\n",
      "[Parallel(n_jobs=1)]: Done  60 out of  60 | elapsed:    0.2s finished\n"
     ]
    },
    {
     "name": "stdout",
     "output_type": "stream",
     "text": [
      "Fitting ICA to data using 60 channels (please be patient, this may take a while)\n"
     ]
    },
    {
     "name": "stderr",
     "output_type": "stream",
     "text": [
      "[Parallel(n_jobs=1)]: Done  17 tasks      | elapsed:    0.1s\n",
      "[Parallel(n_jobs=1)]: Done  60 out of  60 | elapsed:    0.2s finished\n"
     ]
    },
    {
     "name": "stdout",
     "output_type": "stream",
     "text": [
      "Selecting by number: 15 components\n",
      "Fitting ICA took 0.2s.\n",
      "Applying ICA to Raw instance\n",
      "    Transforming to ICA space (15 components)\n",
      "    Zeroing out 0 ICA components\n",
      "    Projecting back using 60 PCA components\n",
      "Used Annotations descriptions: [np.str_('Comment/actiCAP Active Shield On'), np.str_('New Segment/'), np.str_('Stimulus/S  8'), np.str_('Stimulus/S  9'), np.str_('Stimulus/S 10'), np.str_('Stimulus/S 13'), np.str_('Stimulus/S 14'), np.str_('Stimulus/S 91'), np.str_('Stimulus/S101')]\n",
      "Not setting metadata\n",
      "100 matching events found\n",
      "Setting baseline interval to [-0.19921875, 0.0] s\n",
      "Applying baseline correction (mode: mean)\n",
      "0 projection items activated\n",
      "Using data from preloaded Raw for 100 events and 564 original time points ...\n",
      "    Rejecting  epoch based on EEG : ['Fp1', 'AF7', 'AF3', 'F7', 'F5', 'FC3', 'Fp2', 'AF8', 'F4']\n",
      "1 bad epochs dropped\n",
      "✅ Saved: session2_sub24_twist_MI.npz | Shape: (99, 60, 564)\n",
      "\n",
      "🧠 Processing: /storage/projects1/e19-4yp-mi-eeg-for-bci/rawdata/session1_sub1_twist_MI.vhdr\n",
      "Extracting parameters from /storage/projects1/e19-4yp-mi-eeg-for-bci/rawdata/session1_sub1_twist_MI.vhdr...\n",
      "Setting channel info structure...\n",
      "Reading 0 ... 2605499  =      0.000 ...  1042.200 secs...\n"
     ]
    },
    {
     "name": "stderr",
     "output_type": "stream",
     "text": [
      "/tmp/ipykernel_26682/98459583.py:27: RuntimeWarning: Online software filter detected. Using software filter settings and ignoring hardware values\n",
      "  raw = mne.io.read_raw_brainvision(vhdr_path, preload=True)\n",
      "/tmp/ipykernel_26682/98459583.py:27: RuntimeWarning: Channels contain different highpass filters. Lowest (weakest) filter setting (0.00 Hz) will be stored.\n",
      "  raw = mne.io.read_raw_brainvision(vhdr_path, preload=True)\n",
      "/tmp/ipykernel_26682/98459583.py:27: RuntimeWarning: Channels contain different lowpass filters. Highest (weakest) filter setting (1250.00 Hz, Nyquist limit) will be stored.\n",
      "  raw = mne.io.read_raw_brainvision(vhdr_path, preload=True)\n"
     ]
    },
    {
     "name": "stdout",
     "output_type": "stream",
     "text": [
      "Filtering raw data in 1 contiguous segment\n",
      "Setting up band-stop filter from 59 - 61 Hz\n",
      "\n",
      "FIR filter parameters\n",
      "---------------------\n",
      "Designing a one-pass, zero-phase, non-causal bandstop filter:\n",
      "- Windowed time-domain design (firwin) method\n",
      "- Hamming window with 0.0194 passband ripple and 53 dB stopband attenuation\n",
      "- Lower passband edge: 59.35\n",
      "- Lower transition bandwidth: 0.50 Hz (-6 dB cutoff frequency: 59.10 Hz)\n",
      "- Upper passband edge: 60.65 Hz\n",
      "- Upper transition bandwidth: 0.50 Hz (-6 dB cutoff frequency: 60.90 Hz)\n",
      "- Filter length: 1691 samples (6.605 s)\n",
      "\n",
      "Filtering raw data in 1 contiguous segment\n",
      "Setting up band-pass filter from 8 - 30 Hz\n",
      "\n",
      "FIR filter parameters\n",
      "---------------------\n",
      "Designing a one-pass, zero-phase, non-causal bandpass filter:\n",
      "- Windowed time-domain design (firwin) method\n",
      "- Hamming window with 0.0194 passband ripple and 53 dB stopband attenuation\n",
      "- Lower passband edge: 8.00\n",
      "- Lower transition bandwidth: 2.00 Hz (-6 dB cutoff frequency: 7.00 Hz)\n",
      "- Upper passband edge: 30.00 Hz\n",
      "- Upper transition bandwidth: 7.50 Hz (-6 dB cutoff frequency: 33.75 Hz)\n",
      "- Filter length: 423 samples (1.652 s)\n",
      "\n"
     ]
    },
    {
     "name": "stderr",
     "output_type": "stream",
     "text": [
      "[Parallel(n_jobs=1)]: Done  17 tasks      | elapsed:    0.0s\n",
      "[Parallel(n_jobs=1)]: Done  60 out of  60 | elapsed:    0.2s finished\n",
      "[Parallel(n_jobs=1)]: Done  17 tasks      | elapsed:    0.1s\n"
     ]
    },
    {
     "name": "stdout",
     "output_type": "stream",
     "text": [
      "Fitting ICA to data using 60 channels (please be patient, this may take a while)\n",
      "Selecting by number: 15 components\n"
     ]
    },
    {
     "name": "stderr",
     "output_type": "stream",
     "text": [
      "[Parallel(n_jobs=1)]: Done  60 out of  60 | elapsed:    0.2s finished\n"
     ]
    },
    {
     "name": "stdout",
     "output_type": "stream",
     "text": [
      "Fitting ICA took 0.2s.\n",
      "Applying ICA to Raw instance\n",
      "    Transforming to ICA space (15 components)\n",
      "    Zeroing out 0 ICA components\n",
      "    Projecting back using 60 PCA components\n",
      "Used Annotations descriptions: [np.str_('Comment/actiCAP Active Shield On'), np.str_('New Segment/'), np.str_('Stimulus/S  8'), np.str_('Stimulus/S  9'), np.str_('Stimulus/S 10'), np.str_('Stimulus/S 13'), np.str_('Stimulus/S 14'), np.str_('Stimulus/S 91'), np.str_('Stimulus/S101')]\n",
      "Not setting metadata\n",
      "100 matching events found\n",
      "Setting baseline interval to [-0.19921875, 0.0] s\n",
      "Applying baseline correction (mode: mean)\n",
      "0 projection items activated\n",
      "Using data from preloaded Raw for 100 events and 564 original time points ...\n",
      "    Rejecting  epoch based on EEG : ['Fp2']\n",
      "1 bad epochs dropped\n",
      "✅ Saved: session1_sub1_twist_MI.npz | Shape: (99, 60, 564)\n",
      "\n",
      "🧠 Processing: /storage/projects1/e19-4yp-mi-eeg-for-bci/rawdata/session3_sub24_twist_MI.vhdr\n",
      "Extracting parameters from /storage/projects1/e19-4yp-mi-eeg-for-bci/rawdata/session3_sub24_twist_MI.vhdr...\n",
      "Setting channel info structure...\n",
      "Reading 0 ... 2567599  =      0.000 ...  1027.040 secs...\n"
     ]
    },
    {
     "name": "stderr",
     "output_type": "stream",
     "text": [
      "/tmp/ipykernel_26682/98459583.py:27: RuntimeWarning: Online software filter detected. Using software filter settings and ignoring hardware values\n",
      "  raw = mne.io.read_raw_brainvision(vhdr_path, preload=True)\n",
      "/tmp/ipykernel_26682/98459583.py:27: RuntimeWarning: Channels contain different highpass filters. Lowest (weakest) filter setting (0.00 Hz) will be stored.\n",
      "  raw = mne.io.read_raw_brainvision(vhdr_path, preload=True)\n",
      "/tmp/ipykernel_26682/98459583.py:27: RuntimeWarning: Channels contain different lowpass filters. Highest (weakest) filter setting (1250.00 Hz, Nyquist limit) will be stored.\n",
      "  raw = mne.io.read_raw_brainvision(vhdr_path, preload=True)\n"
     ]
    },
    {
     "name": "stdout",
     "output_type": "stream",
     "text": [
      "Filtering raw data in 1 contiguous segment\n",
      "Setting up band-stop filter from 59 - 61 Hz\n",
      "\n",
      "FIR filter parameters\n",
      "---------------------\n",
      "Designing a one-pass, zero-phase, non-causal bandstop filter:\n",
      "- Windowed time-domain design (firwin) method\n",
      "- Hamming window with 0.0194 passband ripple and 53 dB stopband attenuation\n",
      "- Lower passband edge: 59.35\n",
      "- Lower transition bandwidth: 0.50 Hz (-6 dB cutoff frequency: 59.10 Hz)\n",
      "- Upper passband edge: 60.65 Hz\n",
      "- Upper transition bandwidth: 0.50 Hz (-6 dB cutoff frequency: 60.90 Hz)\n",
      "- Filter length: 1691 samples (6.605 s)\n",
      "\n",
      "Filtering raw data in 1 contiguous segment\n",
      "Setting up band-pass filter from 8 - 30 Hz\n",
      "\n",
      "FIR filter parameters\n",
      "---------------------\n",
      "Designing a one-pass, zero-phase, non-causal bandpass filter:\n",
      "- Windowed time-domain design (firwin) method\n",
      "- Hamming window with 0.0194 passband ripple and 53 dB stopband attenuation\n",
      "- Lower passband edge: 8.00\n",
      "- Lower transition bandwidth: 2.00 Hz (-6 dB cutoff frequency: 7.00 Hz)\n",
      "- Upper passband edge: 30.00 Hz\n",
      "- Upper transition bandwidth: 7.50 Hz (-6 dB cutoff frequency: 33.75 Hz)\n",
      "- Filter length: 423 samples (1.652 s)\n",
      "\n"
     ]
    },
    {
     "name": "stderr",
     "output_type": "stream",
     "text": [
      "[Parallel(n_jobs=1)]: Done  17 tasks      | elapsed:    0.1s\n",
      "[Parallel(n_jobs=1)]: Done  60 out of  60 | elapsed:    0.2s finished\n"
     ]
    },
    {
     "name": "stdout",
     "output_type": "stream",
     "text": [
      "Fitting ICA to data using 60 channels (please be patient, this may take a while)\n"
     ]
    },
    {
     "name": "stderr",
     "output_type": "stream",
     "text": [
      "[Parallel(n_jobs=1)]: Done  17 tasks      | elapsed:    0.0s\n",
      "[Parallel(n_jobs=1)]: Done  60 out of  60 | elapsed:    0.2s finished\n"
     ]
    },
    {
     "name": "stdout",
     "output_type": "stream",
     "text": [
      "Selecting by number: 15 components\n",
      "Fitting ICA took 0.2s.\n",
      "Applying ICA to Raw instance\n",
      "    Transforming to ICA space (15 components)\n",
      "    Zeroing out 0 ICA components\n",
      "    Projecting back using 60 PCA components\n",
      "Used Annotations descriptions: [np.str_('Comment/actiCAP Active Shield On'), np.str_('New Segment/'), np.str_('Stimulus/S  8'), np.str_('Stimulus/S  9'), np.str_('Stimulus/S 10'), np.str_('Stimulus/S 13'), np.str_('Stimulus/S 14'), np.str_('Stimulus/S 91'), np.str_('Stimulus/S101')]\n",
      "Not setting metadata\n",
      "100 matching events found\n",
      "Setting baseline interval to [-0.19921875, 0.0] s\n",
      "Applying baseline correction (mode: mean)\n",
      "0 projection items activated\n",
      "Using data from preloaded Raw for 100 events and 564 original time points ...\n",
      "    Rejecting  epoch based on EEG : ['FT7', 'T7', 'F8', 'FC6', 'FT8', 'C6', 'T8', 'CP6', 'TP8']\n",
      "    Rejecting  epoch based on EEG : ['T7', 'T8']\n",
      "2 bad epochs dropped\n",
      "✅ Saved: session3_sub24_twist_MI.npz | Shape: (98, 60, 564)\n",
      "\n",
      "🧠 Processing: /storage/projects1/e19-4yp-mi-eeg-for-bci/rawdata/session3_sub7_twist_MI.vhdr\n",
      "Extracting parameters from /storage/projects1/e19-4yp-mi-eeg-for-bci/rawdata/session3_sub7_twist_MI.vhdr...\n",
      "Setting channel info structure...\n",
      "Reading 0 ... 2547999  =      0.000 ...  1019.200 secs...\n"
     ]
    },
    {
     "name": "stderr",
     "output_type": "stream",
     "text": [
      "/tmp/ipykernel_26682/98459583.py:27: RuntimeWarning: Online software filter detected. Using software filter settings and ignoring hardware values\n",
      "  raw = mne.io.read_raw_brainvision(vhdr_path, preload=True)\n",
      "/tmp/ipykernel_26682/98459583.py:27: RuntimeWarning: Channels contain different highpass filters. Lowest (weakest) filter setting (0.00 Hz) will be stored.\n",
      "  raw = mne.io.read_raw_brainvision(vhdr_path, preload=True)\n",
      "/tmp/ipykernel_26682/98459583.py:27: RuntimeWarning: Channels contain different lowpass filters. Highest (weakest) filter setting (1250.00 Hz, Nyquist limit) will be stored.\n",
      "  raw = mne.io.read_raw_brainvision(vhdr_path, preload=True)\n"
     ]
    },
    {
     "name": "stdout",
     "output_type": "stream",
     "text": [
      "Filtering raw data in 1 contiguous segment\n",
      "Setting up band-stop filter from 59 - 61 Hz\n",
      "\n",
      "FIR filter parameters\n",
      "---------------------\n",
      "Designing a one-pass, zero-phase, non-causal bandstop filter:\n",
      "- Windowed time-domain design (firwin) method\n",
      "- Hamming window with 0.0194 passband ripple and 53 dB stopband attenuation\n",
      "- Lower passband edge: 59.35\n",
      "- Lower transition bandwidth: 0.50 Hz (-6 dB cutoff frequency: 59.10 Hz)\n",
      "- Upper passband edge: 60.65 Hz\n",
      "- Upper transition bandwidth: 0.50 Hz (-6 dB cutoff frequency: 60.90 Hz)\n",
      "- Filter length: 1691 samples (6.605 s)\n",
      "\n",
      "Filtering raw data in 1 contiguous segment\n",
      "Setting up band-pass filter from 8 - 30 Hz\n",
      "\n",
      "FIR filter parameters\n",
      "---------------------\n",
      "Designing a one-pass, zero-phase, non-causal bandpass filter:\n",
      "- Windowed time-domain design (firwin) method\n",
      "- Hamming window with 0.0194 passband ripple and 53 dB stopband attenuation\n",
      "- Lower passband edge: 8.00\n",
      "- Lower transition bandwidth: 2.00 Hz (-6 dB cutoff frequency: 7.00 Hz)\n",
      "- Upper passband edge: 30.00 Hz\n",
      "- Upper transition bandwidth: 7.50 Hz (-6 dB cutoff frequency: 33.75 Hz)\n",
      "- Filter length: 423 samples (1.652 s)\n",
      "\n"
     ]
    },
    {
     "name": "stderr",
     "output_type": "stream",
     "text": [
      "[Parallel(n_jobs=1)]: Done  17 tasks      | elapsed:    0.1s\n",
      "[Parallel(n_jobs=1)]: Done  60 out of  60 | elapsed:    0.2s finished\n",
      "[Parallel(n_jobs=1)]: Done  17 tasks      | elapsed:    0.0s\n"
     ]
    },
    {
     "name": "stdout",
     "output_type": "stream",
     "text": [
      "Fitting ICA to data using 60 channels (please be patient, this may take a while)\n",
      "Selecting by number: 15 components\n"
     ]
    },
    {
     "name": "stderr",
     "output_type": "stream",
     "text": [
      "[Parallel(n_jobs=1)]: Done  60 out of  60 | elapsed:    0.2s finished\n"
     ]
    },
    {
     "name": "stdout",
     "output_type": "stream",
     "text": [
      "Fitting ICA took 0.2s.\n",
      "Applying ICA to Raw instance\n",
      "    Transforming to ICA space (15 components)\n",
      "    Zeroing out 0 ICA components\n",
      "    Projecting back using 60 PCA components\n",
      "Used Annotations descriptions: [np.str_('Comment/actiCAP Data On'), np.str_('New Segment/'), np.str_('Stimulus/S  8'), np.str_('Stimulus/S  9'), np.str_('Stimulus/S 10'), np.str_('Stimulus/S 13'), np.str_('Stimulus/S 14'), np.str_('Stimulus/S 91'), np.str_('Stimulus/S101')]\n",
      "Not setting metadata\n",
      "100 matching events found\n",
      "Setting baseline interval to [-0.19921875, 0.0] s\n",
      "Applying baseline correction (mode: mean)\n",
      "0 projection items activated\n",
      "Using data from preloaded Raw for 100 events and 564 original time points ...\n",
      "0 bad epochs dropped\n",
      "✅ Saved: session3_sub7_twist_MI.npz | Shape: (100, 60, 564)\n",
      "\n",
      "🧠 Processing: /storage/projects1/e19-4yp-mi-eeg-for-bci/rawdata/session3_sub18_twist_MI.vhdr\n",
      "Extracting parameters from /storage/projects1/e19-4yp-mi-eeg-for-bci/rawdata/session3_sub18_twist_MI.vhdr...\n",
      "Setting channel info structure...\n",
      "Reading 0 ... 2565099  =      0.000 ...  1026.040 secs...\n"
     ]
    },
    {
     "name": "stderr",
     "output_type": "stream",
     "text": [
      "/tmp/ipykernel_26682/98459583.py:27: RuntimeWarning: Online software filter detected. Using software filter settings and ignoring hardware values\n",
      "  raw = mne.io.read_raw_brainvision(vhdr_path, preload=True)\n",
      "/tmp/ipykernel_26682/98459583.py:27: RuntimeWarning: Channels contain different highpass filters. Lowest (weakest) filter setting (0.00 Hz) will be stored.\n",
      "  raw = mne.io.read_raw_brainvision(vhdr_path, preload=True)\n",
      "/tmp/ipykernel_26682/98459583.py:27: RuntimeWarning: Channels contain different lowpass filters. Highest (weakest) filter setting (1250.00 Hz, Nyquist limit) will be stored.\n",
      "  raw = mne.io.read_raw_brainvision(vhdr_path, preload=True)\n"
     ]
    },
    {
     "name": "stdout",
     "output_type": "stream",
     "text": [
      "Filtering raw data in 1 contiguous segment\n",
      "Setting up band-stop filter from 59 - 61 Hz\n",
      "\n",
      "FIR filter parameters\n",
      "---------------------\n",
      "Designing a one-pass, zero-phase, non-causal bandstop filter:\n",
      "- Windowed time-domain design (firwin) method\n",
      "- Hamming window with 0.0194 passband ripple and 53 dB stopband attenuation\n",
      "- Lower passband edge: 59.35\n",
      "- Lower transition bandwidth: 0.50 Hz (-6 dB cutoff frequency: 59.10 Hz)\n",
      "- Upper passband edge: 60.65 Hz\n",
      "- Upper transition bandwidth: 0.50 Hz (-6 dB cutoff frequency: 60.90 Hz)\n",
      "- Filter length: 1691 samples (6.605 s)\n",
      "\n",
      "Filtering raw data in 1 contiguous segment\n",
      "Setting up band-pass filter from 8 - 30 Hz\n",
      "\n",
      "FIR filter parameters\n",
      "---------------------\n",
      "Designing a one-pass, zero-phase, non-causal bandpass filter:\n",
      "- Windowed time-domain design (firwin) method\n",
      "- Hamming window with 0.0194 passband ripple and 53 dB stopband attenuation\n",
      "- Lower passband edge: 8.00\n",
      "- Lower transition bandwidth: 2.00 Hz (-6 dB cutoff frequency: 7.00 Hz)\n",
      "- Upper passband edge: 30.00 Hz\n",
      "- Upper transition bandwidth: 7.50 Hz (-6 dB cutoff frequency: 33.75 Hz)\n",
      "- Filter length: 423 samples (1.652 s)\n",
      "\n"
     ]
    },
    {
     "name": "stderr",
     "output_type": "stream",
     "text": [
      "[Parallel(n_jobs=1)]: Done  17 tasks      | elapsed:    0.1s\n",
      "[Parallel(n_jobs=1)]: Done  60 out of  60 | elapsed:    0.2s finished\n"
     ]
    },
    {
     "name": "stdout",
     "output_type": "stream",
     "text": [
      "Fitting ICA to data using 60 channels (please be patient, this may take a while)\n"
     ]
    },
    {
     "name": "stderr",
     "output_type": "stream",
     "text": [
      "[Parallel(n_jobs=1)]: Done  17 tasks      | elapsed:    0.0s\n",
      "[Parallel(n_jobs=1)]: Done  60 out of  60 | elapsed:    0.2s finished\n"
     ]
    },
    {
     "name": "stdout",
     "output_type": "stream",
     "text": [
      "Selecting by number: 15 components\n",
      "Fitting ICA took 0.2s.\n",
      "Applying ICA to Raw instance\n",
      "    Transforming to ICA space (15 components)\n",
      "    Zeroing out 0 ICA components\n",
      "    Projecting back using 60 PCA components\n",
      "Used Annotations descriptions: [np.str_('Comment/actiCAP Active Shield On'), np.str_('New Segment/'), np.str_('Stimulus/S  8'), np.str_('Stimulus/S  9'), np.str_('Stimulus/S 10'), np.str_('Stimulus/S 13'), np.str_('Stimulus/S 14'), np.str_('Stimulus/S 91'), np.str_('Stimulus/S101')]\n",
      "Not setting metadata\n",
      "100 matching events found\n",
      "Setting baseline interval to [-0.19921875, 0.0] s\n",
      "Applying baseline correction (mode: mean)\n",
      "0 projection items activated\n",
      "Using data from preloaded Raw for 100 events and 564 original time points ...\n",
      "    Rejecting  epoch based on EEG : ['FT8', 'T8', 'TP8']\n",
      "    Rejecting  epoch based on EEG : ['F8', 'FC4', 'FC6', 'FT8', 'T8', 'TP8']\n",
      "    Rejecting  epoch based on EEG : ['PO4', 'PO8', 'O1', 'Oz', 'O2', 'Iz']\n",
      "    Rejecting  epoch based on EEG : ['PO8', 'O2']\n",
      "    Rejecting  epoch based on EEG : ['PO8', 'Oz', 'O2']\n",
      "    Rejecting  epoch based on EEG : ['P7', 'PO7', 'F6', 'FC4', 'FC6', 'FT8', 'T8', 'PO8', 'O1']\n",
      "    Rejecting  epoch based on EEG : ['FC4', 'FC6', 'FT8', 'C4', 'C6', 'T8', 'CP4', 'TP8']\n",
      "    Rejecting  epoch based on EEG : ['T8']\n",
      "    Rejecting  epoch based on EEG : ['C6', 'T8', 'CP4', 'TP8', 'P6']\n",
      "    Rejecting  epoch based on EEG : ['FT8', 'C6', 'T8', 'TP8']\n",
      "    Rejecting  epoch based on EEG : ['PO8']\n",
      "    Rejecting  epoch based on EEG : ['T7', 'C3', 'TP7', 'CP3', 'P5']\n",
      "    Rejecting  epoch based on EEG : ['FT7', 'T7', 'C3', 'TP7', 'CP3']\n",
      "    Rejecting  epoch based on EEG : ['Oz', 'O2', 'Iz']\n",
      "    Rejecting  epoch based on EEG : ['O2']\n",
      "15 bad epochs dropped\n",
      "✅ Saved: session3_sub18_twist_MI.npz | Shape: (85, 60, 564)\n",
      "\n",
      "🧠 Processing: /storage/projects1/e19-4yp-mi-eeg-for-bci/rawdata/session3_sub16_twist_MI.vhdr\n",
      "Extracting parameters from /storage/projects1/e19-4yp-mi-eeg-for-bci/rawdata/session3_sub16_twist_MI.vhdr...\n",
      "Setting channel info structure...\n",
      "Reading 0 ... 2613699  =      0.000 ...  1045.480 secs...\n"
     ]
    },
    {
     "name": "stderr",
     "output_type": "stream",
     "text": [
      "/tmp/ipykernel_26682/98459583.py:27: RuntimeWarning: Online software filter detected. Using software filter settings and ignoring hardware values\n",
      "  raw = mne.io.read_raw_brainvision(vhdr_path, preload=True)\n",
      "/tmp/ipykernel_26682/98459583.py:27: RuntimeWarning: Channels contain different highpass filters. Lowest (weakest) filter setting (0.00 Hz) will be stored.\n",
      "  raw = mne.io.read_raw_brainvision(vhdr_path, preload=True)\n",
      "/tmp/ipykernel_26682/98459583.py:27: RuntimeWarning: Channels contain different lowpass filters. Highest (weakest) filter setting (1250.00 Hz, Nyquist limit) will be stored.\n",
      "  raw = mne.io.read_raw_brainvision(vhdr_path, preload=True)\n"
     ]
    },
    {
     "name": "stdout",
     "output_type": "stream",
     "text": [
      "Filtering raw data in 1 contiguous segment\n",
      "Setting up band-stop filter from 59 - 61 Hz\n",
      "\n",
      "FIR filter parameters\n",
      "---------------------\n",
      "Designing a one-pass, zero-phase, non-causal bandstop filter:\n",
      "- Windowed time-domain design (firwin) method\n",
      "- Hamming window with 0.0194 passband ripple and 53 dB stopband attenuation\n",
      "- Lower passband edge: 59.35\n",
      "- Lower transition bandwidth: 0.50 Hz (-6 dB cutoff frequency: 59.10 Hz)\n",
      "- Upper passband edge: 60.65 Hz\n",
      "- Upper transition bandwidth: 0.50 Hz (-6 dB cutoff frequency: 60.90 Hz)\n",
      "- Filter length: 1691 samples (6.605 s)\n",
      "\n",
      "Filtering raw data in 1 contiguous segment\n",
      "Setting up band-pass filter from 8 - 30 Hz\n",
      "\n",
      "FIR filter parameters\n",
      "---------------------\n",
      "Designing a one-pass, zero-phase, non-causal bandpass filter:\n",
      "- Windowed time-domain design (firwin) method\n",
      "- Hamming window with 0.0194 passband ripple and 53 dB stopband attenuation\n",
      "- Lower passband edge: 8.00\n",
      "- Lower transition bandwidth: 2.00 Hz (-6 dB cutoff frequency: 7.00 Hz)\n",
      "- Upper passband edge: 30.00 Hz\n",
      "- Upper transition bandwidth: 7.50 Hz (-6 dB cutoff frequency: 33.75 Hz)\n",
      "- Filter length: 423 samples (1.652 s)\n",
      "\n"
     ]
    },
    {
     "name": "stderr",
     "output_type": "stream",
     "text": [
      "[Parallel(n_jobs=1)]: Done  17 tasks      | elapsed:    0.0s\n",
      "[Parallel(n_jobs=1)]: Done  60 out of  60 | elapsed:    0.2s finished\n",
      "[Parallel(n_jobs=1)]: Done  17 tasks      | elapsed:    0.0s\n"
     ]
    },
    {
     "name": "stdout",
     "output_type": "stream",
     "text": [
      "Fitting ICA to data using 60 channels (please be patient, this may take a while)\n",
      "Selecting by number: 15 components\n"
     ]
    },
    {
     "name": "stderr",
     "output_type": "stream",
     "text": [
      "[Parallel(n_jobs=1)]: Done  60 out of  60 | elapsed:    0.2s finished\n"
     ]
    },
    {
     "name": "stdout",
     "output_type": "stream",
     "text": [
      "Fitting ICA took 0.2s.\n",
      "Applying ICA to Raw instance\n",
      "    Transforming to ICA space (15 components)\n",
      "    Zeroing out 0 ICA components\n",
      "    Projecting back using 60 PCA components\n",
      "Used Annotations descriptions: [np.str_('Comment/actiCAP Active Shield On'), np.str_('New Segment/'), np.str_('Stimulus/S  8'), np.str_('Stimulus/S  9'), np.str_('Stimulus/S 10'), np.str_('Stimulus/S 13'), np.str_('Stimulus/S 14'), np.str_('Stimulus/S 91'), np.str_('Stimulus/S101')]\n",
      "Not setting metadata\n",
      "100 matching events found\n",
      "Setting baseline interval to [-0.19921875, 0.0] s\n",
      "Applying baseline correction (mode: mean)\n",
      "0 projection items activated\n",
      "Using data from preloaded Raw for 100 events and 564 original time points ...\n",
      "    Rejecting  epoch based on EEG : ['PO8']\n",
      "    Rejecting  epoch based on EEG : ['PO8']\n",
      "    Rejecting  epoch based on EEG : ['AF8', 'F4', 'F6', 'F8', 'FC4', 'FC6', 'FT8', 'T8', 'PO8']\n",
      "    Rejecting  epoch based on EEG : ['PO4', 'PO8']\n",
      "    Rejecting  epoch based on EEG : ['F7', 'FC5', 'T7', 'FC6']\n",
      "    Rejecting  epoch based on EEG : ['P8', 'PO4', 'PO8', 'O2']\n",
      "    Rejecting  epoch based on EEG : ['PO7', 'PO8']\n",
      "    Rejecting  epoch based on EEG : ['PO7', 'PO3', 'PO4', 'PO8', 'O2']\n",
      "    Rejecting  epoch based on EEG : ['PO4', 'PO8']\n",
      "    Rejecting  epoch based on EEG : ['PO7']\n",
      "    Rejecting  epoch based on EEG : ['PO8']\n",
      "    Rejecting  epoch based on EEG : ['PO8']\n",
      "    Rejecting  epoch based on EEG : ['PO7', 'PO3', 'O1']\n",
      "    Rejecting  epoch based on EEG : ['PO8']\n",
      "    Rejecting  epoch based on EEG : ['F7', 'FC5']\n",
      "    Rejecting  epoch based on EEG : ['FC6']\n",
      "    Rejecting  epoch based on EEG : ['FC4', 'FC6', 'FT8', 'T8']\n",
      "17 bad epochs dropped\n",
      "✅ Saved: session3_sub16_twist_MI.npz | Shape: (83, 60, 564)\n",
      "\n",
      "🧠 Processing: /storage/projects1/e19-4yp-mi-eeg-for-bci/rawdata/session3_sub6_twist_MI.vhdr\n",
      "Extracting parameters from /storage/projects1/e19-4yp-mi-eeg-for-bci/rawdata/session3_sub6_twist_MI.vhdr...\n",
      "Setting channel info structure...\n",
      "Reading 0 ... 2601999  =      0.000 ...  1040.800 secs...\n"
     ]
    },
    {
     "name": "stderr",
     "output_type": "stream",
     "text": [
      "/tmp/ipykernel_26682/98459583.py:27: RuntimeWarning: Online software filter detected. Using software filter settings and ignoring hardware values\n",
      "  raw = mne.io.read_raw_brainvision(vhdr_path, preload=True)\n",
      "/tmp/ipykernel_26682/98459583.py:27: RuntimeWarning: Channels contain different highpass filters. Lowest (weakest) filter setting (0.00 Hz) will be stored.\n",
      "  raw = mne.io.read_raw_brainvision(vhdr_path, preload=True)\n",
      "/tmp/ipykernel_26682/98459583.py:27: RuntimeWarning: Channels contain different lowpass filters. Highest (weakest) filter setting (1250.00 Hz, Nyquist limit) will be stored.\n",
      "  raw = mne.io.read_raw_brainvision(vhdr_path, preload=True)\n"
     ]
    },
    {
     "name": "stdout",
     "output_type": "stream",
     "text": [
      "Filtering raw data in 1 contiguous segment\n",
      "Setting up band-stop filter from 59 - 61 Hz\n",
      "\n",
      "FIR filter parameters\n",
      "---------------------\n",
      "Designing a one-pass, zero-phase, non-causal bandstop filter:\n",
      "- Windowed time-domain design (firwin) method\n",
      "- Hamming window with 0.0194 passband ripple and 53 dB stopband attenuation\n",
      "- Lower passband edge: 59.35\n",
      "- Lower transition bandwidth: 0.50 Hz (-6 dB cutoff frequency: 59.10 Hz)\n",
      "- Upper passband edge: 60.65 Hz\n",
      "- Upper transition bandwidth: 0.50 Hz (-6 dB cutoff frequency: 60.90 Hz)\n",
      "- Filter length: 1691 samples (6.605 s)\n",
      "\n",
      "Filtering raw data in 1 contiguous segment\n",
      "Setting up band-pass filter from 8 - 30 Hz\n",
      "\n",
      "FIR filter parameters\n",
      "---------------------\n",
      "Designing a one-pass, zero-phase, non-causal bandpass filter:\n",
      "- Windowed time-domain design (firwin) method\n",
      "- Hamming window with 0.0194 passband ripple and 53 dB stopband attenuation\n",
      "- Lower passband edge: 8.00\n",
      "- Lower transition bandwidth: 2.00 Hz (-6 dB cutoff frequency: 7.00 Hz)\n",
      "- Upper passband edge: 30.00 Hz\n",
      "- Upper transition bandwidth: 7.50 Hz (-6 dB cutoff frequency: 33.75 Hz)\n",
      "- Filter length: 423 samples (1.652 s)\n",
      "\n"
     ]
    },
    {
     "name": "stderr",
     "output_type": "stream",
     "text": [
      "[Parallel(n_jobs=1)]: Done  17 tasks      | elapsed:    0.0s\n",
      "[Parallel(n_jobs=1)]: Done  60 out of  60 | elapsed:    0.2s finished\n",
      "[Parallel(n_jobs=1)]: Done  17 tasks      | elapsed:    0.0s\n"
     ]
    },
    {
     "name": "stdout",
     "output_type": "stream",
     "text": [
      "Fitting ICA to data using 60 channels (please be patient, this may take a while)\n"
     ]
    },
    {
     "name": "stderr",
     "output_type": "stream",
     "text": [
      "[Parallel(n_jobs=1)]: Done  60 out of  60 | elapsed:    0.3s finished\n"
     ]
    },
    {
     "name": "stdout",
     "output_type": "stream",
     "text": [
      "Selecting by number: 15 components\n",
      "Fitting ICA took 0.3s.\n",
      "Applying ICA to Raw instance\n",
      "    Transforming to ICA space (15 components)\n",
      "    Zeroing out 0 ICA components\n",
      "    Projecting back using 60 PCA components\n",
      "Used Annotations descriptions: [np.str_('Comment/actiCAP Active Shield On'), np.str_('New Segment/'), np.str_('Stimulus/S  8'), np.str_('Stimulus/S  9'), np.str_('Stimulus/S 10'), np.str_('Stimulus/S 13'), np.str_('Stimulus/S 14'), np.str_('Stimulus/S 91'), np.str_('Stimulus/S101')]\n",
      "Not setting metadata\n",
      "100 matching events found\n",
      "Setting baseline interval to [-0.19921875, 0.0] s\n",
      "Applying baseline correction (mode: mean)\n",
      "0 projection items activated\n",
      "Using data from preloaded Raw for 100 events and 564 original time points ...\n",
      "    Rejecting  epoch based on EEG : ['PO8', 'O1']\n",
      "1 bad epochs dropped\n",
      "✅ Saved: session3_sub6_twist_MI.npz | Shape: (99, 60, 564)\n",
      "\n",
      "🧠 Processing: /storage/projects1/e19-4yp-mi-eeg-for-bci/rawdata/session2_sub1_twist_MI.vhdr\n",
      "Extracting parameters from /storage/projects1/e19-4yp-mi-eeg-for-bci/rawdata/session2_sub1_twist_MI.vhdr...\n",
      "Setting channel info structure...\n",
      "Reading 0 ... 2558099  =      0.000 ...  1023.240 secs...\n"
     ]
    },
    {
     "name": "stderr",
     "output_type": "stream",
     "text": [
      "/tmp/ipykernel_26682/98459583.py:27: RuntimeWarning: Online software filter detected. Using software filter settings and ignoring hardware values\n",
      "  raw = mne.io.read_raw_brainvision(vhdr_path, preload=True)\n",
      "/tmp/ipykernel_26682/98459583.py:27: RuntimeWarning: Channels contain different highpass filters. Lowest (weakest) filter setting (0.00 Hz) will be stored.\n",
      "  raw = mne.io.read_raw_brainvision(vhdr_path, preload=True)\n",
      "/tmp/ipykernel_26682/98459583.py:27: RuntimeWarning: Channels contain different lowpass filters. Highest (weakest) filter setting (1250.00 Hz, Nyquist limit) will be stored.\n",
      "  raw = mne.io.read_raw_brainvision(vhdr_path, preload=True)\n"
     ]
    },
    {
     "name": "stdout",
     "output_type": "stream",
     "text": [
      "Filtering raw data in 1 contiguous segment\n",
      "Setting up band-stop filter from 59 - 61 Hz\n",
      "\n",
      "FIR filter parameters\n",
      "---------------------\n",
      "Designing a one-pass, zero-phase, non-causal bandstop filter:\n",
      "- Windowed time-domain design (firwin) method\n",
      "- Hamming window with 0.0194 passband ripple and 53 dB stopband attenuation\n",
      "- Lower passband edge: 59.35\n",
      "- Lower transition bandwidth: 0.50 Hz (-6 dB cutoff frequency: 59.10 Hz)\n",
      "- Upper passband edge: 60.65 Hz\n",
      "- Upper transition bandwidth: 0.50 Hz (-6 dB cutoff frequency: 60.90 Hz)\n",
      "- Filter length: 1691 samples (6.605 s)\n",
      "\n",
      "Filtering raw data in 1 contiguous segment\n",
      "Setting up band-pass filter from 8 - 30 Hz\n",
      "\n",
      "FIR filter parameters\n",
      "---------------------\n",
      "Designing a one-pass, zero-phase, non-causal bandpass filter:\n",
      "- Windowed time-domain design (firwin) method\n",
      "- Hamming window with 0.0194 passband ripple and 53 dB stopband attenuation\n",
      "- Lower passband edge: 8.00\n",
      "- Lower transition bandwidth: 2.00 Hz (-6 dB cutoff frequency: 7.00 Hz)\n",
      "- Upper passband edge: 30.00 Hz\n",
      "- Upper transition bandwidth: 7.50 Hz (-6 dB cutoff frequency: 33.75 Hz)\n",
      "- Filter length: 423 samples (1.652 s)\n",
      "\n"
     ]
    },
    {
     "name": "stderr",
     "output_type": "stream",
     "text": [
      "[Parallel(n_jobs=1)]: Done  17 tasks      | elapsed:    0.1s\n",
      "[Parallel(n_jobs=1)]: Done  60 out of  60 | elapsed:    0.2s finished\n"
     ]
    },
    {
     "name": "stdout",
     "output_type": "stream",
     "text": [
      "Fitting ICA to data using 60 channels (please be patient, this may take a while)\n",
      "Selecting by number: 15 components\n"
     ]
    },
    {
     "name": "stderr",
     "output_type": "stream",
     "text": [
      "[Parallel(n_jobs=1)]: Done  17 tasks      | elapsed:    0.0s\n",
      "[Parallel(n_jobs=1)]: Done  60 out of  60 | elapsed:    0.2s finished\n"
     ]
    },
    {
     "name": "stdout",
     "output_type": "stream",
     "text": [
      "Fitting ICA took 0.2s.\n",
      "Applying ICA to Raw instance\n",
      "    Transforming to ICA space (15 components)\n",
      "    Zeroing out 0 ICA components\n",
      "    Projecting back using 60 PCA components\n",
      "Used Annotations descriptions: [np.str_('Comment/actiCAP Active Shield On'), np.str_('New Segment/'), np.str_('Stimulus/S  8'), np.str_('Stimulus/S  9'), np.str_('Stimulus/S 10'), np.str_('Stimulus/S 13'), np.str_('Stimulus/S 14'), np.str_('Stimulus/S 91'), np.str_('Stimulus/S101')]\n",
      "Not setting metadata\n",
      "100 matching events found\n",
      "Setting baseline interval to [-0.19921875, 0.0] s\n",
      "Applying baseline correction (mode: mean)\n",
      "0 projection items activated\n",
      "Using data from preloaded Raw for 100 events and 564 original time points ...\n",
      "    Rejecting  epoch based on EEG : ['PO7']\n",
      "    Rejecting  epoch based on EEG : ['PO7']\n",
      "    Rejecting  epoch based on EEG : ['FT7']\n",
      "3 bad epochs dropped\n",
      "✅ Saved: session2_sub1_twist_MI.npz | Shape: (97, 60, 564)\n",
      "\n",
      "🧠 Processing: /storage/projects1/e19-4yp-mi-eeg-for-bci/rawdata/session1_sub5_twist_MI.vhdr\n",
      "Extracting parameters from /storage/projects1/e19-4yp-mi-eeg-for-bci/rawdata/session1_sub5_twist_MI.vhdr...\n",
      "Setting channel info structure...\n",
      "Reading 0 ... 2601899  =      0.000 ...  1040.760 secs...\n"
     ]
    },
    {
     "name": "stderr",
     "output_type": "stream",
     "text": [
      "/tmp/ipykernel_26682/98459583.py:27: RuntimeWarning: Online software filter detected. Using software filter settings and ignoring hardware values\n",
      "  raw = mne.io.read_raw_brainvision(vhdr_path, preload=True)\n",
      "/tmp/ipykernel_26682/98459583.py:27: RuntimeWarning: Channels contain different highpass filters. Lowest (weakest) filter setting (0.00 Hz) will be stored.\n",
      "  raw = mne.io.read_raw_brainvision(vhdr_path, preload=True)\n",
      "/tmp/ipykernel_26682/98459583.py:27: RuntimeWarning: Channels contain different lowpass filters. Highest (weakest) filter setting (1250.00 Hz, Nyquist limit) will be stored.\n",
      "  raw = mne.io.read_raw_brainvision(vhdr_path, preload=True)\n"
     ]
    },
    {
     "name": "stdout",
     "output_type": "stream",
     "text": [
      "Filtering raw data in 1 contiguous segment\n",
      "Setting up band-stop filter from 59 - 61 Hz\n",
      "\n",
      "FIR filter parameters\n",
      "---------------------\n",
      "Designing a one-pass, zero-phase, non-causal bandstop filter:\n",
      "- Windowed time-domain design (firwin) method\n",
      "- Hamming window with 0.0194 passband ripple and 53 dB stopband attenuation\n",
      "- Lower passband edge: 59.35\n",
      "- Lower transition bandwidth: 0.50 Hz (-6 dB cutoff frequency: 59.10 Hz)\n",
      "- Upper passband edge: 60.65 Hz\n",
      "- Upper transition bandwidth: 0.50 Hz (-6 dB cutoff frequency: 60.90 Hz)\n",
      "- Filter length: 1691 samples (6.605 s)\n",
      "\n",
      "Filtering raw data in 1 contiguous segment\n",
      "Setting up band-pass filter from 8 - 30 Hz\n",
      "\n",
      "FIR filter parameters\n",
      "---------------------\n",
      "Designing a one-pass, zero-phase, non-causal bandpass filter:\n",
      "- Windowed time-domain design (firwin) method\n",
      "- Hamming window with 0.0194 passband ripple and 53 dB stopband attenuation\n",
      "- Lower passband edge: 8.00\n",
      "- Lower transition bandwidth: 2.00 Hz (-6 dB cutoff frequency: 7.00 Hz)\n",
      "- Upper passband edge: 30.00 Hz\n",
      "- Upper transition bandwidth: 7.50 Hz (-6 dB cutoff frequency: 33.75 Hz)\n",
      "- Filter length: 423 samples (1.652 s)\n",
      "\n"
     ]
    },
    {
     "name": "stderr",
     "output_type": "stream",
     "text": [
      "[Parallel(n_jobs=1)]: Done  17 tasks      | elapsed:    0.0s\n",
      "[Parallel(n_jobs=1)]: Done  60 out of  60 | elapsed:    0.2s finished\n",
      "[Parallel(n_jobs=1)]: Done  17 tasks      | elapsed:    0.0s\n"
     ]
    },
    {
     "name": "stdout",
     "output_type": "stream",
     "text": [
      "Fitting ICA to data using 60 channels (please be patient, this may take a while)\n",
      "Selecting by number: 15 components\n",
      "Fitting ICA took 0.2s.\n",
      "Applying ICA to Raw instance\n"
     ]
    },
    {
     "name": "stderr",
     "output_type": "stream",
     "text": [
      "[Parallel(n_jobs=1)]: Done  60 out of  60 | elapsed:    0.2s finished\n"
     ]
    },
    {
     "name": "stdout",
     "output_type": "stream",
     "text": [
      "    Transforming to ICA space (15 components)\n",
      "    Zeroing out 0 ICA components\n",
      "    Projecting back using 60 PCA components\n",
      "Used Annotations descriptions: [np.str_('Comment/actiCAP Active Shield On'), np.str_('New Segment/'), np.str_('Stimulus/S  8'), np.str_('Stimulus/S  9'), np.str_('Stimulus/S 10'), np.str_('Stimulus/S 13'), np.str_('Stimulus/S 14'), np.str_('Stimulus/S 91'), np.str_('Stimulus/S101')]\n",
      "Not setting metadata\n",
      "100 matching events found\n",
      "Setting baseline interval to [-0.19921875, 0.0] s\n",
      "Applying baseline correction (mode: mean)\n",
      "0 projection items activated\n",
      "Using data from preloaded Raw for 100 events and 564 original time points ...\n",
      "    Rejecting  epoch based on EEG : ['F7', 'FT7']\n",
      "    Rejecting  epoch based on EEG : ['AF7', 'F8', 'FC6', 'FT8', 'T8']\n",
      "2 bad epochs dropped\n",
      "✅ Saved: session1_sub5_twist_MI.npz | Shape: (98, 60, 564)\n",
      "\n",
      "🧠 Processing: /storage/projects1/e19-4yp-mi-eeg-for-bci/rawdata/session1_sub25_twist_MI.vhdr\n",
      "Extracting parameters from /storage/projects1/e19-4yp-mi-eeg-for-bci/rawdata/session1_sub25_twist_MI.vhdr...\n",
      "Setting channel info structure...\n",
      "Reading 0 ... 2568799  =      0.000 ...  1027.520 secs...\n"
     ]
    },
    {
     "name": "stderr",
     "output_type": "stream",
     "text": [
      "/tmp/ipykernel_26682/98459583.py:27: RuntimeWarning: Online software filter detected. Using software filter settings and ignoring hardware values\n",
      "  raw = mne.io.read_raw_brainvision(vhdr_path, preload=True)\n",
      "/tmp/ipykernel_26682/98459583.py:27: RuntimeWarning: Channels contain different highpass filters. Lowest (weakest) filter setting (0.00 Hz) will be stored.\n",
      "  raw = mne.io.read_raw_brainvision(vhdr_path, preload=True)\n",
      "/tmp/ipykernel_26682/98459583.py:27: RuntimeWarning: Channels contain different lowpass filters. Highest (weakest) filter setting (1250.00 Hz, Nyquist limit) will be stored.\n",
      "  raw = mne.io.read_raw_brainvision(vhdr_path, preload=True)\n"
     ]
    },
    {
     "name": "stdout",
     "output_type": "stream",
     "text": [
      "Filtering raw data in 1 contiguous segment\n",
      "Setting up band-stop filter from 59 - 61 Hz\n",
      "\n",
      "FIR filter parameters\n",
      "---------------------\n",
      "Designing a one-pass, zero-phase, non-causal bandstop filter:\n",
      "- Windowed time-domain design (firwin) method\n",
      "- Hamming window with 0.0194 passband ripple and 53 dB stopband attenuation\n",
      "- Lower passband edge: 59.35\n",
      "- Lower transition bandwidth: 0.50 Hz (-6 dB cutoff frequency: 59.10 Hz)\n",
      "- Upper passband edge: 60.65 Hz\n",
      "- Upper transition bandwidth: 0.50 Hz (-6 dB cutoff frequency: 60.90 Hz)\n",
      "- Filter length: 1691 samples (6.605 s)\n",
      "\n",
      "Filtering raw data in 1 contiguous segment\n",
      "Setting up band-pass filter from 8 - 30 Hz\n",
      "\n",
      "FIR filter parameters\n",
      "---------------------\n",
      "Designing a one-pass, zero-phase, non-causal bandpass filter:\n",
      "- Windowed time-domain design (firwin) method\n",
      "- Hamming window with 0.0194 passband ripple and 53 dB stopband attenuation\n",
      "- Lower passband edge: 8.00\n",
      "- Lower transition bandwidth: 2.00 Hz (-6 dB cutoff frequency: 7.00 Hz)\n",
      "- Upper passband edge: 30.00 Hz\n",
      "- Upper transition bandwidth: 7.50 Hz (-6 dB cutoff frequency: 33.75 Hz)\n",
      "- Filter length: 423 samples (1.652 s)\n",
      "\n"
     ]
    },
    {
     "name": "stderr",
     "output_type": "stream",
     "text": [
      "[Parallel(n_jobs=1)]: Done  17 tasks      | elapsed:    0.1s\n",
      "[Parallel(n_jobs=1)]: Done  60 out of  60 | elapsed:    0.2s finished\n"
     ]
    },
    {
     "name": "stdout",
     "output_type": "stream",
     "text": [
      "Fitting ICA to data using 60 channels (please be patient, this may take a while)\n"
     ]
    },
    {
     "name": "stderr",
     "output_type": "stream",
     "text": [
      "[Parallel(n_jobs=1)]: Done  17 tasks      | elapsed:    0.0s\n",
      "[Parallel(n_jobs=1)]: Done  60 out of  60 | elapsed:    0.2s finished\n"
     ]
    },
    {
     "name": "stdout",
     "output_type": "stream",
     "text": [
      "Selecting by number: 15 components\n",
      "Fitting ICA took 0.2s.\n",
      "Applying ICA to Raw instance\n",
      "    Transforming to ICA space (15 components)\n",
      "    Zeroing out 0 ICA components\n",
      "    Projecting back using 60 PCA components\n",
      "Used Annotations descriptions: [np.str_('Comment/actiCAP Active Shield On'), np.str_('New Segment/'), np.str_('Stimulus/S  8'), np.str_('Stimulus/S  9'), np.str_('Stimulus/S 10'), np.str_('Stimulus/S 13'), np.str_('Stimulus/S 14'), np.str_('Stimulus/S 91'), np.str_('Stimulus/S101')]\n",
      "Not setting metadata\n",
      "100 matching events found\n",
      "Setting baseline interval to [-0.19921875, 0.0] s\n",
      "Applying baseline correction (mode: mean)\n",
      "0 projection items activated\n",
      "Using data from preloaded Raw for 100 events and 564 original time points ...\n",
      "    Rejecting  epoch based on EEG : ['PO8', 'Oz', 'O2', 'Iz']\n",
      "1 bad epochs dropped\n",
      "✅ Saved: session1_sub25_twist_MI.npz | Shape: (99, 60, 564)\n",
      "\n",
      "🧠 Processing: /storage/projects1/e19-4yp-mi-eeg-for-bci/rawdata/session1_sub10_twist_MI.vhdr\n",
      "Extracting parameters from /storage/projects1/e19-4yp-mi-eeg-for-bci/rawdata/session1_sub10_twist_MI.vhdr...\n",
      "Setting channel info structure...\n",
      "Reading 0 ... 5389799  =      0.000 ...  2155.920 secs...\n",
      "Filtering raw data in 1 contiguous segment\n",
      "Setting up band-stop filter from 59 - 61 Hz\n",
      "\n",
      "FIR filter parameters\n",
      "---------------------\n",
      "Designing a one-pass, zero-phase, non-causal bandstop filter:\n",
      "- Windowed time-domain design (firwin) method\n",
      "- Hamming window with 0.0194 passband ripple and 53 dB stopband attenuation\n",
      "- Lower passband edge: 59.35\n",
      "- Lower transition bandwidth: 0.50 Hz (-6 dB cutoff frequency: 59.10 Hz)\n",
      "- Upper passband edge: 60.65 Hz\n",
      "- Upper transition bandwidth: 0.50 Hz (-6 dB cutoff frequency: 60.90 Hz)\n",
      "- Filter length: 1691 samples (6.605 s)\n",
      "\n"
     ]
    },
    {
     "name": "stderr",
     "output_type": "stream",
     "text": [
      "[Parallel(n_jobs=1)]: Done  17 tasks      | elapsed:    0.1s\n"
     ]
    },
    {
     "name": "stdout",
     "output_type": "stream",
     "text": [
      "Filtering raw data in 1 contiguous segment\n",
      "Setting up band-pass filter from 8 - 30 Hz\n",
      "\n",
      "FIR filter parameters\n",
      "---------------------\n",
      "Designing a one-pass, zero-phase, non-causal bandpass filter:\n",
      "- Windowed time-domain design (firwin) method\n",
      "- Hamming window with 0.0194 passband ripple and 53 dB stopband attenuation\n",
      "- Lower passband edge: 8.00\n",
      "- Lower transition bandwidth: 2.00 Hz (-6 dB cutoff frequency: 7.00 Hz)\n",
      "- Upper passband edge: 30.00 Hz\n",
      "- Upper transition bandwidth: 7.50 Hz (-6 dB cutoff frequency: 33.75 Hz)\n",
      "- Filter length: 423 samples (1.652 s)\n",
      "\n"
     ]
    },
    {
     "name": "stderr",
     "output_type": "stream",
     "text": [
      "[Parallel(n_jobs=1)]: Done  60 out of  60 | elapsed:    0.5s finished\n",
      "[Parallel(n_jobs=1)]: Done  17 tasks      | elapsed:    0.2s\n"
     ]
    },
    {
     "name": "stdout",
     "output_type": "stream",
     "text": [
      "Fitting ICA to data using 60 channels (please be patient, this may take a while)\n",
      "Selecting by number: 15 components\n"
     ]
    },
    {
     "name": "stderr",
     "output_type": "stream",
     "text": [
      "[Parallel(n_jobs=1)]: Done  60 out of  60 | elapsed:    0.5s finished\n"
     ]
    },
    {
     "name": "stdout",
     "output_type": "stream",
     "text": [
      "Fitting ICA took 0.3s.\n",
      "Applying ICA to Raw instance\n",
      "    Transforming to ICA space (15 components)\n",
      "    Zeroing out 0 ICA components\n",
      "    Projecting back using 60 PCA components\n",
      "Used Annotations descriptions: [np.str_('Comment/ControlBox is not connected via USB'), np.str_('Comment/actiCAP Data On'), np.str_('Comment/actiCAP USB Power On'), np.str_('New Segment/'), np.str_('Stimulus/S  8'), np.str_('Stimulus/S  9'), np.str_('Stimulus/S 10'), np.str_('Stimulus/S 11'), np.str_('Stimulus/S 12'), np.str_('Stimulus/S 13'), np.str_('Stimulus/S 14'), np.str_('Stimulus/S 91'), np.str_('Stimulus/S101'), np.str_('Stimulus/S111'), np.str_('Stimulus/S121')]\n",
      "Not setting metadata\n",
      "100 matching events found\n",
      "Setting baseline interval to [-0.19921875, 0.0] s\n",
      "Applying baseline correction (mode: mean)\n",
      "0 projection items activated\n",
      "Using data from preloaded Raw for 100 events and 564 original time points ...\n",
      "    Rejecting  epoch based on EEG : ['F4', 'F6', 'F8', 'FC4', 'FC6', 'FT8', 'C6', 'T8', 'CP6']\n",
      "    Rejecting  epoch based on EEG : ['PO8', 'O2']\n",
      "2 bad epochs dropped\n",
      "✅ Saved: session1_sub10_twist_MI.npz | Shape: (98, 60, 564)\n",
      "\n",
      "🧠 Processing: /storage/projects1/e19-4yp-mi-eeg-for-bci/rawdata/session1_sub7_twist_MI.vhdr\n",
      "Extracting parameters from /storage/projects1/e19-4yp-mi-eeg-for-bci/rawdata/session1_sub7_twist_MI.vhdr...\n",
      "Setting channel info structure...\n",
      "Reading 0 ... 2546099  =      0.000 ...  1018.440 secs...\n"
     ]
    },
    {
     "name": "stderr",
     "output_type": "stream",
     "text": [
      "/tmp/ipykernel_26682/98459583.py:27: RuntimeWarning: Online software filter detected. Using software filter settings and ignoring hardware values\n",
      "  raw = mne.io.read_raw_brainvision(vhdr_path, preload=True)\n",
      "/tmp/ipykernel_26682/98459583.py:27: RuntimeWarning: Channels contain different highpass filters. Lowest (weakest) filter setting (0.00 Hz) will be stored.\n",
      "  raw = mne.io.read_raw_brainvision(vhdr_path, preload=True)\n",
      "/tmp/ipykernel_26682/98459583.py:27: RuntimeWarning: Channels contain different lowpass filters. Highest (weakest) filter setting (1250.00 Hz, Nyquist limit) will be stored.\n",
      "  raw = mne.io.read_raw_brainvision(vhdr_path, preload=True)\n"
     ]
    },
    {
     "name": "stdout",
     "output_type": "stream",
     "text": [
      "Filtering raw data in 1 contiguous segment\n",
      "Setting up band-stop filter from 59 - 61 Hz\n",
      "\n",
      "FIR filter parameters\n",
      "---------------------\n",
      "Designing a one-pass, zero-phase, non-causal bandstop filter:\n",
      "- Windowed time-domain design (firwin) method\n",
      "- Hamming window with 0.0194 passband ripple and 53 dB stopband attenuation\n",
      "- Lower passband edge: 59.35\n",
      "- Lower transition bandwidth: 0.50 Hz (-6 dB cutoff frequency: 59.10 Hz)\n",
      "- Upper passband edge: 60.65 Hz\n",
      "- Upper transition bandwidth: 0.50 Hz (-6 dB cutoff frequency: 60.90 Hz)\n",
      "- Filter length: 1691 samples (6.605 s)\n",
      "\n",
      "Filtering raw data in 1 contiguous segment\n",
      "Setting up band-pass filter from 8 - 30 Hz\n",
      "\n",
      "FIR filter parameters\n",
      "---------------------\n",
      "Designing a one-pass, zero-phase, non-causal bandpass filter:\n",
      "- Windowed time-domain design (firwin) method\n",
      "- Hamming window with 0.0194 passband ripple and 53 dB stopband attenuation\n",
      "- Lower passband edge: 8.00\n",
      "- Lower transition bandwidth: 2.00 Hz (-6 dB cutoff frequency: 7.00 Hz)\n",
      "- Upper passband edge: 30.00 Hz\n",
      "- Upper transition bandwidth: 7.50 Hz (-6 dB cutoff frequency: 33.75 Hz)\n",
      "- Filter length: 423 samples (1.652 s)\n",
      "\n"
     ]
    },
    {
     "name": "stderr",
     "output_type": "stream",
     "text": [
      "[Parallel(n_jobs=1)]: Done  17 tasks      | elapsed:    0.0s\n",
      "[Parallel(n_jobs=1)]: Done  60 out of  60 | elapsed:    0.2s finished\n",
      "[Parallel(n_jobs=1)]: Done  17 tasks      | elapsed:    0.0s\n"
     ]
    },
    {
     "name": "stdout",
     "output_type": "stream",
     "text": [
      "Fitting ICA to data using 60 channels (please be patient, this may take a while)\n",
      "Selecting by number: 15 components\n"
     ]
    },
    {
     "name": "stderr",
     "output_type": "stream",
     "text": [
      "[Parallel(n_jobs=1)]: Done  60 out of  60 | elapsed:    0.2s finished\n"
     ]
    },
    {
     "name": "stdout",
     "output_type": "stream",
     "text": [
      "Fitting ICA took 0.2s.\n",
      "Applying ICA to Raw instance\n",
      "    Transforming to ICA space (15 components)\n",
      "    Zeroing out 0 ICA components\n",
      "    Projecting back using 60 PCA components\n",
      "Used Annotations descriptions: [np.str_('Comment/actiCAP Active Shield On'), np.str_('New Segment/'), np.str_('Stimulus/S  8'), np.str_('Stimulus/S  9'), np.str_('Stimulus/S 10'), np.str_('Stimulus/S 13'), np.str_('Stimulus/S 14'), np.str_('Stimulus/S 91'), np.str_('Stimulus/S101')]\n",
      "Not setting metadata\n",
      "100 matching events found\n",
      "Setting baseline interval to [-0.19921875, 0.0] s\n",
      "Applying baseline correction (mode: mean)\n",
      "0 projection items activated\n",
      "Using data from preloaded Raw for 100 events and 564 original time points ...\n",
      "0 bad epochs dropped\n",
      "✅ Saved: session1_sub7_twist_MI.npz | Shape: (100, 60, 564)\n",
      "\n",
      "🧠 Processing: /storage/projects1/e19-4yp-mi-eeg-for-bci/rawdata/session2_sub4_twist_MI.vhdr\n",
      "Extracting parameters from /storage/projects1/e19-4yp-mi-eeg-for-bci/rawdata/session2_sub4_twist_MI.vhdr...\n",
      "Setting channel info structure...\n",
      "Reading 0 ... 2583099  =      0.000 ...  1033.240 secs...\n"
     ]
    },
    {
     "name": "stderr",
     "output_type": "stream",
     "text": [
      "/tmp/ipykernel_26682/98459583.py:27: RuntimeWarning: Online software filter detected. Using software filter settings and ignoring hardware values\n",
      "  raw = mne.io.read_raw_brainvision(vhdr_path, preload=True)\n",
      "/tmp/ipykernel_26682/98459583.py:27: RuntimeWarning: Channels contain different highpass filters. Lowest (weakest) filter setting (0.00 Hz) will be stored.\n",
      "  raw = mne.io.read_raw_brainvision(vhdr_path, preload=True)\n",
      "/tmp/ipykernel_26682/98459583.py:27: RuntimeWarning: Channels contain different lowpass filters. Highest (weakest) filter setting (1250.00 Hz, Nyquist limit) will be stored.\n",
      "  raw = mne.io.read_raw_brainvision(vhdr_path, preload=True)\n"
     ]
    },
    {
     "name": "stdout",
     "output_type": "stream",
     "text": [
      "Filtering raw data in 1 contiguous segment\n",
      "Setting up band-stop filter from 59 - 61 Hz\n",
      "\n",
      "FIR filter parameters\n",
      "---------------------\n",
      "Designing a one-pass, zero-phase, non-causal bandstop filter:\n",
      "- Windowed time-domain design (firwin) method\n",
      "- Hamming window with 0.0194 passband ripple and 53 dB stopband attenuation\n",
      "- Lower passband edge: 59.35\n",
      "- Lower transition bandwidth: 0.50 Hz (-6 dB cutoff frequency: 59.10 Hz)\n",
      "- Upper passband edge: 60.65 Hz\n",
      "- Upper transition bandwidth: 0.50 Hz (-6 dB cutoff frequency: 60.90 Hz)\n",
      "- Filter length: 1691 samples (6.605 s)\n",
      "\n",
      "Filtering raw data in 1 contiguous segment\n",
      "Setting up band-pass filter from 8 - 30 Hz\n",
      "\n",
      "FIR filter parameters\n",
      "---------------------\n",
      "Designing a one-pass, zero-phase, non-causal bandpass filter:\n",
      "- Windowed time-domain design (firwin) method\n",
      "- Hamming window with 0.0194 passband ripple and 53 dB stopband attenuation\n",
      "- Lower passband edge: 8.00\n",
      "- Lower transition bandwidth: 2.00 Hz (-6 dB cutoff frequency: 7.00 Hz)\n",
      "- Upper passband edge: 30.00 Hz\n",
      "- Upper transition bandwidth: 7.50 Hz (-6 dB cutoff frequency: 33.75 Hz)\n",
      "- Filter length: 423 samples (1.652 s)\n",
      "\n"
     ]
    },
    {
     "name": "stderr",
     "output_type": "stream",
     "text": [
      "[Parallel(n_jobs=1)]: Done  17 tasks      | elapsed:    0.0s\n",
      "[Parallel(n_jobs=1)]: Done  60 out of  60 | elapsed:    0.2s finished\n",
      "[Parallel(n_jobs=1)]: Done  17 tasks      | elapsed:    0.0s\n"
     ]
    },
    {
     "name": "stdout",
     "output_type": "stream",
     "text": [
      "Fitting ICA to data using 60 channels (please be patient, this may take a while)\n",
      "Selecting by number: 15 components\n",
      "Fitting ICA took 0.2s.\n",
      "Applying ICA to Raw instance\n"
     ]
    },
    {
     "name": "stderr",
     "output_type": "stream",
     "text": [
      "[Parallel(n_jobs=1)]: Done  60 out of  60 | elapsed:    0.2s finished\n"
     ]
    },
    {
     "name": "stdout",
     "output_type": "stream",
     "text": [
      "    Transforming to ICA space (15 components)\n",
      "    Zeroing out 0 ICA components\n",
      "    Projecting back using 60 PCA components\n",
      "Used Annotations descriptions: [np.str_('Comment/actiCAP Active Shield On'), np.str_('New Segment/'), np.str_('Stimulus/S  8'), np.str_('Stimulus/S  9'), np.str_('Stimulus/S 10'), np.str_('Stimulus/S 13'), np.str_('Stimulus/S 14'), np.str_('Stimulus/S 91'), np.str_('Stimulus/S101')]\n",
      "Not setting metadata\n",
      "100 matching events found\n",
      "Setting baseline interval to [-0.19921875, 0.0] s\n",
      "Applying baseline correction (mode: mean)\n",
      "0 projection items activated\n",
      "Using data from preloaded Raw for 100 events and 564 original time points ...\n",
      "0 bad epochs dropped\n",
      "✅ Saved: session2_sub4_twist_MI.npz | Shape: (100, 60, 564)\n",
      "\n",
      "🧠 Processing: /storage/projects1/e19-4yp-mi-eeg-for-bci/rawdata/session3_sub3_twist_MI.vhdr\n",
      "Extracting parameters from /storage/projects1/e19-4yp-mi-eeg-for-bci/rawdata/session3_sub3_twist_MI.vhdr...\n",
      "Setting channel info structure...\n",
      "Reading 0 ... 3172899  =      0.000 ...  1269.160 secs...\n"
     ]
    },
    {
     "name": "stderr",
     "output_type": "stream",
     "text": [
      "/tmp/ipykernel_26682/98459583.py:27: RuntimeWarning: Online software filter detected. Using software filter settings and ignoring hardware values\n",
      "  raw = mne.io.read_raw_brainvision(vhdr_path, preload=True)\n",
      "/tmp/ipykernel_26682/98459583.py:27: RuntimeWarning: Channels contain different highpass filters. Lowest (weakest) filter setting (0.00 Hz) will be stored.\n",
      "  raw = mne.io.read_raw_brainvision(vhdr_path, preload=True)\n",
      "/tmp/ipykernel_26682/98459583.py:27: RuntimeWarning: Channels contain different lowpass filters. Highest (weakest) filter setting (1250.00 Hz, Nyquist limit) will be stored.\n",
      "  raw = mne.io.read_raw_brainvision(vhdr_path, preload=True)\n"
     ]
    },
    {
     "name": "stdout",
     "output_type": "stream",
     "text": [
      "Filtering raw data in 1 contiguous segment\n",
      "Setting up band-stop filter from 59 - 61 Hz\n",
      "\n",
      "FIR filter parameters\n",
      "---------------------\n",
      "Designing a one-pass, zero-phase, non-causal bandstop filter:\n",
      "- Windowed time-domain design (firwin) method\n",
      "- Hamming window with 0.0194 passband ripple and 53 dB stopband attenuation\n",
      "- Lower passband edge: 59.35\n",
      "- Lower transition bandwidth: 0.50 Hz (-6 dB cutoff frequency: 59.10 Hz)\n",
      "- Upper passband edge: 60.65 Hz\n",
      "- Upper transition bandwidth: 0.50 Hz (-6 dB cutoff frequency: 60.90 Hz)\n",
      "- Filter length: 1691 samples (6.605 s)\n",
      "\n",
      "Filtering raw data in 1 contiguous segment\n",
      "Setting up band-pass filter from 8 - 30 Hz\n",
      "\n",
      "FIR filter parameters\n",
      "---------------------\n",
      "Designing a one-pass, zero-phase, non-causal bandpass filter:\n",
      "- Windowed time-domain design (firwin) method\n",
      "- Hamming window with 0.0194 passband ripple and 53 dB stopband attenuation\n",
      "- Lower passband edge: 8.00\n",
      "- Lower transition bandwidth: 2.00 Hz (-6 dB cutoff frequency: 7.00 Hz)\n",
      "- Upper passband edge: 30.00 Hz\n",
      "- Upper transition bandwidth: 7.50 Hz (-6 dB cutoff frequency: 33.75 Hz)\n",
      "- Filter length: 423 samples (1.652 s)\n",
      "\n"
     ]
    },
    {
     "name": "stderr",
     "output_type": "stream",
     "text": [
      "[Parallel(n_jobs=1)]: Done  17 tasks      | elapsed:    0.1s\n",
      "[Parallel(n_jobs=1)]: Done  60 out of  60 | elapsed:    0.2s finished\n",
      "[Parallel(n_jobs=1)]: Done  17 tasks      | elapsed:    0.1s\n",
      "[Parallel(n_jobs=1)]: Done  60 out of  60 | elapsed:    0.2s finished\n"
     ]
    },
    {
     "name": "stdout",
     "output_type": "stream",
     "text": [
      "Fitting ICA to data using 60 channels (please be patient, this may take a while)\n",
      "Selecting by number: 15 components\n",
      "Fitting ICA took 0.2s.\n",
      "Applying ICA to Raw instance\n",
      "    Transforming to ICA space (15 components)\n",
      "    Zeroing out 0 ICA components\n",
      "    Projecting back using 60 PCA components\n",
      "Used Annotations descriptions: [np.str_('Comment/actiCAP Active Shield On'), np.str_('New Segment/'), np.str_('Stimulus/S  8'), np.str_('Stimulus/S  9'), np.str_('Stimulus/S 10'), np.str_('Stimulus/S 13'), np.str_('Stimulus/S 14'), np.str_('Stimulus/S 91'), np.str_('Stimulus/S101')]\n",
      "Not setting metadata\n",
      "100 matching events found\n",
      "Setting baseline interval to [-0.19921875, 0.0] s\n",
      "Applying baseline correction (mode: mean)\n",
      "0 projection items activated\n",
      "Using data from preloaded Raw for 100 events and 564 original time points ...\n",
      "    Rejecting  epoch based on EEG : ['F7']\n",
      "    Rejecting  epoch based on EEG : ['F7', 'F6', 'F8', 'FT8']\n",
      "    Rejecting  epoch based on EEG : ['F8', 'FC4', 'FT8', 'C4', 'T8', 'CP4', 'CP6']\n",
      "3 bad epochs dropped\n",
      "✅ Saved: session3_sub3_twist_MI.npz | Shape: (97, 60, 564)\n",
      "\n",
      "🧠 Processing: /storage/projects1/e19-4yp-mi-eeg-for-bci/rawdata/session3_sub15_twist_MI.vhdr\n",
      "Extracting parameters from /storage/projects1/e19-4yp-mi-eeg-for-bci/rawdata/session3_sub15_twist_MI.vhdr...\n",
      "Setting channel info structure...\n",
      "Reading 0 ... 2561199  =      0.000 ...  1024.480 secs...\n"
     ]
    },
    {
     "name": "stderr",
     "output_type": "stream",
     "text": [
      "/tmp/ipykernel_26682/98459583.py:27: RuntimeWarning: Online software filter detected. Using software filter settings and ignoring hardware values\n",
      "  raw = mne.io.read_raw_brainvision(vhdr_path, preload=True)\n",
      "/tmp/ipykernel_26682/98459583.py:27: RuntimeWarning: Channels contain different highpass filters. Lowest (weakest) filter setting (0.00 Hz) will be stored.\n",
      "  raw = mne.io.read_raw_brainvision(vhdr_path, preload=True)\n",
      "/tmp/ipykernel_26682/98459583.py:27: RuntimeWarning: Channels contain different lowpass filters. Highest (weakest) filter setting (1250.00 Hz, Nyquist limit) will be stored.\n",
      "  raw = mne.io.read_raw_brainvision(vhdr_path, preload=True)\n"
     ]
    },
    {
     "name": "stdout",
     "output_type": "stream",
     "text": [
      "Filtering raw data in 1 contiguous segment\n",
      "Setting up band-stop filter from 59 - 61 Hz\n",
      "\n",
      "FIR filter parameters\n",
      "---------------------\n",
      "Designing a one-pass, zero-phase, non-causal bandstop filter:\n",
      "- Windowed time-domain design (firwin) method\n",
      "- Hamming window with 0.0194 passband ripple and 53 dB stopband attenuation\n",
      "- Lower passband edge: 59.35\n",
      "- Lower transition bandwidth: 0.50 Hz (-6 dB cutoff frequency: 59.10 Hz)\n",
      "- Upper passband edge: 60.65 Hz\n",
      "- Upper transition bandwidth: 0.50 Hz (-6 dB cutoff frequency: 60.90 Hz)\n",
      "- Filter length: 1691 samples (6.605 s)\n",
      "\n",
      "Filtering raw data in 1 contiguous segment\n",
      "Setting up band-pass filter from 8 - 30 Hz\n",
      "\n",
      "FIR filter parameters\n",
      "---------------------\n",
      "Designing a one-pass, zero-phase, non-causal bandpass filter:\n",
      "- Windowed time-domain design (firwin) method\n",
      "- Hamming window with 0.0194 passband ripple and 53 dB stopband attenuation\n",
      "- Lower passband edge: 8.00\n",
      "- Lower transition bandwidth: 2.00 Hz (-6 dB cutoff frequency: 7.00 Hz)\n",
      "- Upper passband edge: 30.00 Hz\n",
      "- Upper transition bandwidth: 7.50 Hz (-6 dB cutoff frequency: 33.75 Hz)\n",
      "- Filter length: 423 samples (1.652 s)\n",
      "\n"
     ]
    },
    {
     "name": "stderr",
     "output_type": "stream",
     "text": [
      "[Parallel(n_jobs=1)]: Done  17 tasks      | elapsed:    0.1s\n",
      "[Parallel(n_jobs=1)]: Done  60 out of  60 | elapsed:    0.2s finished\n"
     ]
    },
    {
     "name": "stdout",
     "output_type": "stream",
     "text": [
      "Fitting ICA to data using 60 channels (please be patient, this may take a while)\n"
     ]
    },
    {
     "name": "stderr",
     "output_type": "stream",
     "text": [
      "[Parallel(n_jobs=1)]: Done  17 tasks      | elapsed:    0.0s\n",
      "[Parallel(n_jobs=1)]: Done  60 out of  60 | elapsed:    0.2s finished\n"
     ]
    },
    {
     "name": "stdout",
     "output_type": "stream",
     "text": [
      "Selecting by number: 15 components\n",
      "Fitting ICA took 0.5s.\n",
      "Applying ICA to Raw instance\n",
      "    Transforming to ICA space (15 components)\n",
      "    Zeroing out 0 ICA components\n",
      "    Projecting back using 60 PCA components\n",
      "Used Annotations descriptions: [np.str_('Comment/actiCAP Active Shield On'), np.str_('New Segment/'), np.str_('Stimulus/S  8'), np.str_('Stimulus/S  9'), np.str_('Stimulus/S 10'), np.str_('Stimulus/S 13'), np.str_('Stimulus/S 14'), np.str_('Stimulus/S 91'), np.str_('Stimulus/S101')]\n",
      "Not setting metadata\n",
      "100 matching events found\n",
      "Setting baseline interval to [-0.19921875, 0.0] s\n",
      "Applying baseline correction (mode: mean)\n",
      "0 projection items activated\n",
      "Using data from preloaded Raw for 100 events and 564 original time points ...\n",
      "0 bad epochs dropped\n",
      "✅ Saved: session3_sub15_twist_MI.npz | Shape: (100, 60, 564)\n",
      "\n",
      "🧠 Processing: /storage/projects1/e19-4yp-mi-eeg-for-bci/rawdata/session3_sub8_twist_MI.vhdr\n",
      "Extracting parameters from /storage/projects1/e19-4yp-mi-eeg-for-bci/rawdata/session3_sub8_twist_MI.vhdr...\n",
      "Setting channel info structure...\n",
      "Reading 0 ... 2562799  =      0.000 ...  1025.120 secs...\n"
     ]
    },
    {
     "name": "stderr",
     "output_type": "stream",
     "text": [
      "/tmp/ipykernel_26682/98459583.py:27: RuntimeWarning: Online software filter detected. Using software filter settings and ignoring hardware values\n",
      "  raw = mne.io.read_raw_brainvision(vhdr_path, preload=True)\n",
      "/tmp/ipykernel_26682/98459583.py:27: RuntimeWarning: Channels contain different highpass filters. Lowest (weakest) filter setting (0.00 Hz) will be stored.\n",
      "  raw = mne.io.read_raw_brainvision(vhdr_path, preload=True)\n",
      "/tmp/ipykernel_26682/98459583.py:27: RuntimeWarning: Channels contain different lowpass filters. Highest (weakest) filter setting (1250.00 Hz, Nyquist limit) will be stored.\n",
      "  raw = mne.io.read_raw_brainvision(vhdr_path, preload=True)\n"
     ]
    },
    {
     "name": "stdout",
     "output_type": "stream",
     "text": [
      "Filtering raw data in 1 contiguous segment\n",
      "Setting up band-stop filter from 59 - 61 Hz\n",
      "\n",
      "FIR filter parameters\n",
      "---------------------\n",
      "Designing a one-pass, zero-phase, non-causal bandstop filter:\n",
      "- Windowed time-domain design (firwin) method\n",
      "- Hamming window with 0.0194 passband ripple and 53 dB stopband attenuation\n",
      "- Lower passband edge: 59.35\n",
      "- Lower transition bandwidth: 0.50 Hz (-6 dB cutoff frequency: 59.10 Hz)\n",
      "- Upper passband edge: 60.65 Hz\n",
      "- Upper transition bandwidth: 0.50 Hz (-6 dB cutoff frequency: 60.90 Hz)\n",
      "- Filter length: 1691 samples (6.605 s)\n",
      "\n"
     ]
    },
    {
     "name": "stderr",
     "output_type": "stream",
     "text": [
      "[Parallel(n_jobs=1)]: Done  17 tasks      | elapsed:    0.1s\n"
     ]
    },
    {
     "name": "stdout",
     "output_type": "stream",
     "text": [
      "Filtering raw data in 1 contiguous segment\n",
      "Setting up band-pass filter from 8 - 30 Hz\n",
      "\n",
      "FIR filter parameters\n",
      "---------------------\n",
      "Designing a one-pass, zero-phase, non-causal bandpass filter:\n",
      "- Windowed time-domain design (firwin) method\n",
      "- Hamming window with 0.0194 passband ripple and 53 dB stopband attenuation\n",
      "- Lower passband edge: 8.00\n",
      "- Lower transition bandwidth: 2.00 Hz (-6 dB cutoff frequency: 7.00 Hz)\n",
      "- Upper passband edge: 30.00 Hz\n",
      "- Upper transition bandwidth: 7.50 Hz (-6 dB cutoff frequency: 33.75 Hz)\n",
      "- Filter length: 423 samples (1.652 s)\n",
      "\n"
     ]
    },
    {
     "name": "stderr",
     "output_type": "stream",
     "text": [
      "[Parallel(n_jobs=1)]: Done  60 out of  60 | elapsed:    0.3s finished\n",
      "[Parallel(n_jobs=1)]: Done  17 tasks      | elapsed:    0.1s\n"
     ]
    },
    {
     "name": "stdout",
     "output_type": "stream",
     "text": [
      "Fitting ICA to data using 60 channels (please be patient, this may take a while)\n",
      "Selecting by number: 15 components\n",
      "Fitting ICA took 0.1s.\n",
      "Applying ICA to Raw instance\n"
     ]
    },
    {
     "name": "stderr",
     "output_type": "stream",
     "text": [
      "[Parallel(n_jobs=1)]: Done  60 out of  60 | elapsed:    0.2s finished\n"
     ]
    },
    {
     "name": "stdout",
     "output_type": "stream",
     "text": [
      "    Transforming to ICA space (15 components)\n",
      "    Zeroing out 0 ICA components\n",
      "    Projecting back using 60 PCA components\n",
      "Used Annotations descriptions: [np.str_('Comment/actiCAP Active Shield On'), np.str_('New Segment/'), np.str_('Stimulus/S  8'), np.str_('Stimulus/S  9'), np.str_('Stimulus/S 10'), np.str_('Stimulus/S 13'), np.str_('Stimulus/S 14'), np.str_('Stimulus/S 91'), np.str_('Stimulus/S101')]\n",
      "Not setting metadata\n",
      "100 matching events found\n",
      "Setting baseline interval to [-0.19921875, 0.0] s\n",
      "Applying baseline correction (mode: mean)\n",
      "0 projection items activated\n",
      "Using data from preloaded Raw for 100 events and 564 original time points ...\n",
      "    Rejecting  epoch based on EEG : ['Iz']\n",
      "    Rejecting  epoch based on EEG : ['Fp1', 'F7', 'FT7', 'FC5', 'FC3', 'T7', 'C5', 'CP5', 'AF8']\n",
      "    Rejecting  epoch based on EEG : ['Fp1']\n",
      "    Rejecting  epoch based on EEG : ['Fp1', 'AF7']\n",
      "4 bad epochs dropped\n",
      "✅ Saved: session3_sub8_twist_MI.npz | Shape: (96, 60, 564)\n",
      "\n",
      "🧠 Processing: /storage/projects1/e19-4yp-mi-eeg-for-bci/rawdata/session2_sub18_twist_MI.vhdr\n",
      "Extracting parameters from /storage/projects1/e19-4yp-mi-eeg-for-bci/rawdata/session2_sub18_twist_MI.vhdr...\n",
      "Setting channel info structure...\n",
      "Reading 0 ... 2797199  =      0.000 ...  1118.880 secs...\n"
     ]
    },
    {
     "name": "stderr",
     "output_type": "stream",
     "text": [
      "/tmp/ipykernel_26682/98459583.py:27: RuntimeWarning: Online software filter detected. Using software filter settings and ignoring hardware values\n",
      "  raw = mne.io.read_raw_brainvision(vhdr_path, preload=True)\n",
      "/tmp/ipykernel_26682/98459583.py:27: RuntimeWarning: Channels contain different highpass filters. Lowest (weakest) filter setting (0.00 Hz) will be stored.\n",
      "  raw = mne.io.read_raw_brainvision(vhdr_path, preload=True)\n",
      "/tmp/ipykernel_26682/98459583.py:27: RuntimeWarning: Channels contain different lowpass filters. Highest (weakest) filter setting (1250.00 Hz, Nyquist limit) will be stored.\n",
      "  raw = mne.io.read_raw_brainvision(vhdr_path, preload=True)\n"
     ]
    },
    {
     "name": "stdout",
     "output_type": "stream",
     "text": [
      "Filtering raw data in 1 contiguous segment\n",
      "Setting up band-stop filter from 59 - 61 Hz\n",
      "\n",
      "FIR filter parameters\n",
      "---------------------\n",
      "Designing a one-pass, zero-phase, non-causal bandstop filter:\n",
      "- Windowed time-domain design (firwin) method\n",
      "- Hamming window with 0.0194 passband ripple and 53 dB stopband attenuation\n",
      "- Lower passband edge: 59.35\n",
      "- Lower transition bandwidth: 0.50 Hz (-6 dB cutoff frequency: 59.10 Hz)\n",
      "- Upper passband edge: 60.65 Hz\n",
      "- Upper transition bandwidth: 0.50 Hz (-6 dB cutoff frequency: 60.90 Hz)\n",
      "- Filter length: 1691 samples (6.605 s)\n",
      "\n",
      "Filtering raw data in 1 contiguous segment\n",
      "Setting up band-pass filter from 8 - 30 Hz\n",
      "\n",
      "FIR filter parameters\n",
      "---------------------\n",
      "Designing a one-pass, zero-phase, non-causal bandpass filter:\n",
      "- Windowed time-domain design (firwin) method\n",
      "- Hamming window with 0.0194 passband ripple and 53 dB stopband attenuation\n",
      "- Lower passband edge: 8.00\n",
      "- Lower transition bandwidth: 2.00 Hz (-6 dB cutoff frequency: 7.00 Hz)\n",
      "- Upper passband edge: 30.00 Hz\n",
      "- Upper transition bandwidth: 7.50 Hz (-6 dB cutoff frequency: 33.75 Hz)\n",
      "- Filter length: 423 samples (1.652 s)\n",
      "\n"
     ]
    },
    {
     "name": "stderr",
     "output_type": "stream",
     "text": [
      "[Parallel(n_jobs=1)]: Done  17 tasks      | elapsed:    0.0s\n",
      "[Parallel(n_jobs=1)]: Done  60 out of  60 | elapsed:    0.2s finished\n"
     ]
    },
    {
     "name": "stdout",
     "output_type": "stream",
     "text": [
      "Fitting ICA to data using 60 channels (please be patient, this may take a while)\n"
     ]
    },
    {
     "name": "stderr",
     "output_type": "stream",
     "text": [
      "[Parallel(n_jobs=1)]: Done  17 tasks      | elapsed:    0.1s\n",
      "[Parallel(n_jobs=1)]: Done  60 out of  60 | elapsed:    0.2s finished\n"
     ]
    },
    {
     "name": "stdout",
     "output_type": "stream",
     "text": [
      "Selecting by number: 15 components\n",
      "Fitting ICA took 0.2s.\n",
      "Applying ICA to Raw instance\n",
      "    Transforming to ICA space (15 components)\n",
      "    Zeroing out 0 ICA components\n",
      "    Projecting back using 60 PCA components\n",
      "Used Annotations descriptions: [np.str_('Comment/actiCAP Data On'), np.str_('New Segment/'), np.str_('Stimulus/S  8'), np.str_('Stimulus/S  9'), np.str_('Stimulus/S 10'), np.str_('Stimulus/S 13'), np.str_('Stimulus/S 14'), np.str_('Stimulus/S 91'), np.str_('Stimulus/S101')]\n",
      "Not setting metadata\n",
      "100 matching events found\n",
      "Setting baseline interval to [-0.19921875, 0.0] s\n",
      "Applying baseline correction (mode: mean)\n",
      "0 projection items activated\n",
      "Using data from preloaded Raw for 100 events and 564 original time points ...\n",
      "    Rejecting  epoch based on EEG : ['O2']\n",
      "    Rejecting  epoch based on EEG : ['PO7']\n",
      "    Rejecting  epoch based on EEG : ['O2']\n",
      "    Rejecting  epoch based on EEG : ['O2']\n",
      "    Rejecting  epoch based on EEG : ['PO7', 'P6', 'P8', 'PO8', 'O1', 'O2']\n",
      "5 bad epochs dropped\n",
      "✅ Saved: session2_sub18_twist_MI.npz | Shape: (95, 60, 564)\n",
      "\n",
      "🧠 Processing: /storage/projects1/e19-4yp-mi-eeg-for-bci/rawdata/session2_sub10_twist_MI.vhdr\n",
      "Extracting parameters from /storage/projects1/e19-4yp-mi-eeg-for-bci/rawdata/session2_sub10_twist_MI.vhdr...\n",
      "Setting channel info structure...\n",
      "Reading 0 ... 2554299  =      0.000 ...  1021.720 secs...\n"
     ]
    },
    {
     "name": "stderr",
     "output_type": "stream",
     "text": [
      "/tmp/ipykernel_26682/98459583.py:27: RuntimeWarning: Online software filter detected. Using software filter settings and ignoring hardware values\n",
      "  raw = mne.io.read_raw_brainvision(vhdr_path, preload=True)\n",
      "/tmp/ipykernel_26682/98459583.py:27: RuntimeWarning: Channels contain different highpass filters. Lowest (weakest) filter setting (0.00 Hz) will be stored.\n",
      "  raw = mne.io.read_raw_brainvision(vhdr_path, preload=True)\n",
      "/tmp/ipykernel_26682/98459583.py:27: RuntimeWarning: Channels contain different lowpass filters. Highest (weakest) filter setting (1250.00 Hz, Nyquist limit) will be stored.\n",
      "  raw = mne.io.read_raw_brainvision(vhdr_path, preload=True)\n"
     ]
    },
    {
     "name": "stdout",
     "output_type": "stream",
     "text": [
      "Filtering raw data in 1 contiguous segment\n",
      "Setting up band-stop filter from 59 - 61 Hz\n",
      "\n",
      "FIR filter parameters\n",
      "---------------------\n",
      "Designing a one-pass, zero-phase, non-causal bandstop filter:\n",
      "- Windowed time-domain design (firwin) method\n",
      "- Hamming window with 0.0194 passband ripple and 53 dB stopband attenuation\n",
      "- Lower passband edge: 59.35\n",
      "- Lower transition bandwidth: 0.50 Hz (-6 dB cutoff frequency: 59.10 Hz)\n",
      "- Upper passband edge: 60.65 Hz\n",
      "- Upper transition bandwidth: 0.50 Hz (-6 dB cutoff frequency: 60.90 Hz)\n",
      "- Filter length: 1691 samples (6.605 s)\n",
      "\n",
      "Filtering raw data in 1 contiguous segment\n",
      "Setting up band-pass filter from 8 - 30 Hz\n",
      "\n",
      "FIR filter parameters\n",
      "---------------------\n",
      "Designing a one-pass, zero-phase, non-causal bandpass filter:\n",
      "- Windowed time-domain design (firwin) method\n",
      "- Hamming window with 0.0194 passband ripple and 53 dB stopband attenuation\n",
      "- Lower passband edge: 8.00\n",
      "- Lower transition bandwidth: 2.00 Hz (-6 dB cutoff frequency: 7.00 Hz)\n",
      "- Upper passband edge: 30.00 Hz\n",
      "- Upper transition bandwidth: 7.50 Hz (-6 dB cutoff frequency: 33.75 Hz)\n",
      "- Filter length: 423 samples (1.652 s)\n",
      "\n"
     ]
    },
    {
     "name": "stderr",
     "output_type": "stream",
     "text": [
      "[Parallel(n_jobs=1)]: Done  17 tasks      | elapsed:    0.1s\n",
      "[Parallel(n_jobs=1)]: Done  60 out of  60 | elapsed:    0.2s finished\n"
     ]
    },
    {
     "name": "stdout",
     "output_type": "stream",
     "text": [
      "Fitting ICA to data using 60 channels (please be patient, this may take a while)\n"
     ]
    },
    {
     "name": "stderr",
     "output_type": "stream",
     "text": [
      "[Parallel(n_jobs=1)]: Done  17 tasks      | elapsed:    0.0s\n",
      "[Parallel(n_jobs=1)]: Done  60 out of  60 | elapsed:    0.2s finished\n"
     ]
    },
    {
     "name": "stdout",
     "output_type": "stream",
     "text": [
      "Selecting by number: 15 components\n",
      "Fitting ICA took 0.2s.\n",
      "Applying ICA to Raw instance\n",
      "    Transforming to ICA space (15 components)\n",
      "    Zeroing out 0 ICA components\n",
      "    Projecting back using 60 PCA components\n",
      "Used Annotations descriptions: [np.str_('Comment/actiCAP Data On'), np.str_('New Segment/'), np.str_('Stimulus/S  8'), np.str_('Stimulus/S  9'), np.str_('Stimulus/S 10'), np.str_('Stimulus/S 13'), np.str_('Stimulus/S 14'), np.str_('Stimulus/S 91'), np.str_('Stimulus/S101')]\n",
      "Not setting metadata\n",
      "100 matching events found\n",
      "Setting baseline interval to [-0.19921875, 0.0] s\n",
      "Applying baseline correction (mode: mean)\n",
      "0 projection items activated\n",
      "Using data from preloaded Raw for 100 events and 564 original time points ...\n",
      "0 bad epochs dropped\n",
      "✅ Saved: session2_sub10_twist_MI.npz | Shape: (100, 60, 564)\n",
      "\n",
      "🧠 Processing: /storage/projects1/e19-4yp-mi-eeg-for-bci/rawdata/session2_sub23_twist_MI.vhdr\n",
      "Extracting parameters from /storage/projects1/e19-4yp-mi-eeg-for-bci/rawdata/session2_sub23_twist_MI.vhdr...\n",
      "Setting channel info structure...\n",
      "Reading 0 ... 2761399  =      0.000 ...  1104.560 secs...\n"
     ]
    },
    {
     "name": "stderr",
     "output_type": "stream",
     "text": [
      "/tmp/ipykernel_26682/98459583.py:27: RuntimeWarning: Online software filter detected. Using software filter settings and ignoring hardware values\n",
      "  raw = mne.io.read_raw_brainvision(vhdr_path, preload=True)\n",
      "/tmp/ipykernel_26682/98459583.py:27: RuntimeWarning: Channels contain different highpass filters. Lowest (weakest) filter setting (0.00 Hz) will be stored.\n",
      "  raw = mne.io.read_raw_brainvision(vhdr_path, preload=True)\n",
      "/tmp/ipykernel_26682/98459583.py:27: RuntimeWarning: Channels contain different lowpass filters. Highest (weakest) filter setting (1250.00 Hz, Nyquist limit) will be stored.\n",
      "  raw = mne.io.read_raw_brainvision(vhdr_path, preload=True)\n"
     ]
    },
    {
     "name": "stdout",
     "output_type": "stream",
     "text": [
      "Filtering raw data in 1 contiguous segment\n",
      "Setting up band-stop filter from 59 - 61 Hz\n",
      "\n",
      "FIR filter parameters\n",
      "---------------------\n",
      "Designing a one-pass, zero-phase, non-causal bandstop filter:\n",
      "- Windowed time-domain design (firwin) method\n",
      "- Hamming window with 0.0194 passband ripple and 53 dB stopband attenuation\n",
      "- Lower passband edge: 59.35\n",
      "- Lower transition bandwidth: 0.50 Hz (-6 dB cutoff frequency: 59.10 Hz)\n",
      "- Upper passband edge: 60.65 Hz\n",
      "- Upper transition bandwidth: 0.50 Hz (-6 dB cutoff frequency: 60.90 Hz)\n",
      "- Filter length: 1691 samples (6.605 s)\n",
      "\n",
      "Filtering raw data in 1 contiguous segment\n",
      "Setting up band-pass filter from 8 - 30 Hz\n",
      "\n",
      "FIR filter parameters\n",
      "---------------------\n",
      "Designing a one-pass, zero-phase, non-causal bandpass filter:\n",
      "- Windowed time-domain design (firwin) method\n",
      "- Hamming window with 0.0194 passband ripple and 53 dB stopband attenuation\n",
      "- Lower passband edge: 8.00\n",
      "- Lower transition bandwidth: 2.00 Hz (-6 dB cutoff frequency: 7.00 Hz)\n",
      "- Upper passband edge: 30.00 Hz\n",
      "- Upper transition bandwidth: 7.50 Hz (-6 dB cutoff frequency: 33.75 Hz)\n",
      "- Filter length: 423 samples (1.652 s)\n",
      "\n"
     ]
    },
    {
     "name": "stderr",
     "output_type": "stream",
     "text": [
      "[Parallel(n_jobs=1)]: Done  17 tasks      | elapsed:    0.0s\n",
      "[Parallel(n_jobs=1)]: Done  60 out of  60 | elapsed:    0.2s finished\n"
     ]
    },
    {
     "name": "stdout",
     "output_type": "stream",
     "text": [
      "Fitting ICA to data using 60 channels (please be patient, this may take a while)\n"
     ]
    },
    {
     "name": "stderr",
     "output_type": "stream",
     "text": [
      "[Parallel(n_jobs=1)]: Done  17 tasks      | elapsed:    0.1s\n",
      "[Parallel(n_jobs=1)]: Done  60 out of  60 | elapsed:    0.2s finished\n"
     ]
    },
    {
     "name": "stdout",
     "output_type": "stream",
     "text": [
      "Selecting by number: 15 components\n",
      "Fitting ICA took 0.2s.\n",
      "Applying ICA to Raw instance\n",
      "    Transforming to ICA space (15 components)\n",
      "    Zeroing out 0 ICA components\n",
      "    Projecting back using 60 PCA components\n",
      "Used Annotations descriptions: [np.str_('Comment/actiCAP Data On'), np.str_('New Segment/'), np.str_('Stimulus/S  8'), np.str_('Stimulus/S  9'), np.str_('Stimulus/S 10'), np.str_('Stimulus/S 13'), np.str_('Stimulus/S 14'), np.str_('Stimulus/S 91'), np.str_('Stimulus/S101')]\n",
      "Not setting metadata\n",
      "100 matching events found\n",
      "Setting baseline interval to [-0.19921875, 0.0] s\n",
      "Applying baseline correction (mode: mean)\n",
      "0 projection items activated\n",
      "Using data from preloaded Raw for 100 events and 564 original time points ...\n",
      "    Rejecting  epoch based on EEG : ['AF8']\n",
      "1 bad epochs dropped\n",
      "✅ Saved: session2_sub23_twist_MI.npz | Shape: (99, 60, 564)\n",
      "\n",
      "🧠 Processing: /storage/projects1/e19-4yp-mi-eeg-for-bci/rawdata/session1_sub3_twist_MI.vhdr\n",
      "Extracting parameters from /storage/projects1/e19-4yp-mi-eeg-for-bci/rawdata/session1_sub3_twist_MI.vhdr...\n",
      "Setting channel info structure...\n",
      "Reading 0 ... 2603999  =      0.000 ...  1041.600 secs...\n"
     ]
    },
    {
     "name": "stderr",
     "output_type": "stream",
     "text": [
      "/tmp/ipykernel_26682/98459583.py:27: RuntimeWarning: Online software filter detected. Using software filter settings and ignoring hardware values\n",
      "  raw = mne.io.read_raw_brainvision(vhdr_path, preload=True)\n",
      "/tmp/ipykernel_26682/98459583.py:27: RuntimeWarning: Channels contain different highpass filters. Lowest (weakest) filter setting (0.00 Hz) will be stored.\n",
      "  raw = mne.io.read_raw_brainvision(vhdr_path, preload=True)\n",
      "/tmp/ipykernel_26682/98459583.py:27: RuntimeWarning: Channels contain different lowpass filters. Highest (weakest) filter setting (1250.00 Hz, Nyquist limit) will be stored.\n",
      "  raw = mne.io.read_raw_brainvision(vhdr_path, preload=True)\n"
     ]
    },
    {
     "name": "stdout",
     "output_type": "stream",
     "text": [
      "Filtering raw data in 1 contiguous segment\n",
      "Setting up band-stop filter from 59 - 61 Hz\n",
      "\n",
      "FIR filter parameters\n",
      "---------------------\n",
      "Designing a one-pass, zero-phase, non-causal bandstop filter:\n",
      "- Windowed time-domain design (firwin) method\n",
      "- Hamming window with 0.0194 passband ripple and 53 dB stopband attenuation\n",
      "- Lower passband edge: 59.35\n",
      "- Lower transition bandwidth: 0.50 Hz (-6 dB cutoff frequency: 59.10 Hz)\n",
      "- Upper passband edge: 60.65 Hz\n",
      "- Upper transition bandwidth: 0.50 Hz (-6 dB cutoff frequency: 60.90 Hz)\n",
      "- Filter length: 1691 samples (6.605 s)\n",
      "\n",
      "Filtering raw data in 1 contiguous segment\n",
      "Setting up band-pass filter from 8 - 30 Hz\n",
      "\n",
      "FIR filter parameters\n",
      "---------------------\n",
      "Designing a one-pass, zero-phase, non-causal bandpass filter:\n",
      "- Windowed time-domain design (firwin) method\n",
      "- Hamming window with 0.0194 passband ripple and 53 dB stopband attenuation\n",
      "- Lower passband edge: 8.00\n",
      "- Lower transition bandwidth: 2.00 Hz (-6 dB cutoff frequency: 7.00 Hz)\n",
      "- Upper passband edge: 30.00 Hz\n",
      "- Upper transition bandwidth: 7.50 Hz (-6 dB cutoff frequency: 33.75 Hz)\n",
      "- Filter length: 423 samples (1.652 s)\n",
      "\n"
     ]
    },
    {
     "name": "stderr",
     "output_type": "stream",
     "text": [
      "[Parallel(n_jobs=1)]: Done  17 tasks      | elapsed:    0.0s\n",
      "[Parallel(n_jobs=1)]: Done  60 out of  60 | elapsed:    0.2s finished\n",
      "[Parallel(n_jobs=1)]: Done  17 tasks      | elapsed:    0.0s\n"
     ]
    },
    {
     "name": "stdout",
     "output_type": "stream",
     "text": [
      "Fitting ICA to data using 60 channels (please be patient, this may take a while)\n",
      "Selecting by number: 15 components\n"
     ]
    },
    {
     "name": "stderr",
     "output_type": "stream",
     "text": [
      "[Parallel(n_jobs=1)]: Done  60 out of  60 | elapsed:    0.2s finished\n"
     ]
    },
    {
     "name": "stdout",
     "output_type": "stream",
     "text": [
      "Fitting ICA took 0.2s.\n",
      "Applying ICA to Raw instance\n",
      "    Transforming to ICA space (15 components)\n",
      "    Zeroing out 0 ICA components\n",
      "    Projecting back using 60 PCA components\n",
      "Used Annotations descriptions: [np.str_('Comment/actiCAP Active Shield On'), np.str_('New Segment/'), np.str_('Stimulus/S  8'), np.str_('Stimulus/S  9'), np.str_('Stimulus/S 10'), np.str_('Stimulus/S 13'), np.str_('Stimulus/S 14'), np.str_('Stimulus/S 91'), np.str_('Stimulus/S101')]\n",
      "Not setting metadata\n",
      "100 matching events found\n",
      "Setting baseline interval to [-0.19921875, 0.0] s\n",
      "Applying baseline correction (mode: mean)\n",
      "0 projection items activated\n",
      "Using data from preloaded Raw for 100 events and 564 original time points ...\n",
      "    Rejecting  epoch based on EEG : ['T8']\n",
      "    Rejecting  epoch based on EEG : ['FT7', 'T7', 'T8']\n",
      "    Rejecting  epoch based on EEG : ['AF8', 'F6']\n",
      "    Rejecting  epoch based on EEG : ['F6']\n",
      "4 bad epochs dropped\n",
      "✅ Saved: session1_sub3_twist_MI.npz | Shape: (96, 60, 564)\n",
      "\n",
      "🧠 Processing: /storage/projects1/e19-4yp-mi-eeg-for-bci/rawdata/session2_sub5_twist_MI.vhdr\n",
      "Extracting parameters from /storage/projects1/e19-4yp-mi-eeg-for-bci/rawdata/session2_sub5_twist_MI.vhdr...\n",
      "Setting channel info structure...\n",
      "Reading 0 ... 2574499  =      0.000 ...  1029.800 secs...\n"
     ]
    },
    {
     "name": "stderr",
     "output_type": "stream",
     "text": [
      "/tmp/ipykernel_26682/98459583.py:27: RuntimeWarning: Online software filter detected. Using software filter settings and ignoring hardware values\n",
      "  raw = mne.io.read_raw_brainvision(vhdr_path, preload=True)\n",
      "/tmp/ipykernel_26682/98459583.py:27: RuntimeWarning: Channels contain different highpass filters. Lowest (weakest) filter setting (0.00 Hz) will be stored.\n",
      "  raw = mne.io.read_raw_brainvision(vhdr_path, preload=True)\n",
      "/tmp/ipykernel_26682/98459583.py:27: RuntimeWarning: Channels contain different lowpass filters. Highest (weakest) filter setting (1250.00 Hz, Nyquist limit) will be stored.\n",
      "  raw = mne.io.read_raw_brainvision(vhdr_path, preload=True)\n"
     ]
    },
    {
     "name": "stdout",
     "output_type": "stream",
     "text": [
      "Filtering raw data in 1 contiguous segment\n",
      "Setting up band-stop filter from 59 - 61 Hz\n",
      "\n",
      "FIR filter parameters\n",
      "---------------------\n",
      "Designing a one-pass, zero-phase, non-causal bandstop filter:\n",
      "- Windowed time-domain design (firwin) method\n",
      "- Hamming window with 0.0194 passband ripple and 53 dB stopband attenuation\n",
      "- Lower passband edge: 59.35\n",
      "- Lower transition bandwidth: 0.50 Hz (-6 dB cutoff frequency: 59.10 Hz)\n",
      "- Upper passband edge: 60.65 Hz\n",
      "- Upper transition bandwidth: 0.50 Hz (-6 dB cutoff frequency: 60.90 Hz)\n",
      "- Filter length: 1691 samples (6.605 s)\n",
      "\n",
      "Filtering raw data in 1 contiguous segment\n",
      "Setting up band-pass filter from 8 - 30 Hz\n",
      "\n",
      "FIR filter parameters\n",
      "---------------------\n",
      "Designing a one-pass, zero-phase, non-causal bandpass filter:\n",
      "- Windowed time-domain design (firwin) method\n",
      "- Hamming window with 0.0194 passband ripple and 53 dB stopband attenuation\n",
      "- Lower passband edge: 8.00\n",
      "- Lower transition bandwidth: 2.00 Hz (-6 dB cutoff frequency: 7.00 Hz)\n",
      "- Upper passband edge: 30.00 Hz\n",
      "- Upper transition bandwidth: 7.50 Hz (-6 dB cutoff frequency: 33.75 Hz)\n",
      "- Filter length: 423 samples (1.652 s)\n",
      "\n"
     ]
    },
    {
     "name": "stderr",
     "output_type": "stream",
     "text": [
      "[Parallel(n_jobs=1)]: Done  17 tasks      | elapsed:    0.0s\n",
      "[Parallel(n_jobs=1)]: Done  60 out of  60 | elapsed:    0.2s finished\n"
     ]
    },
    {
     "name": "stdout",
     "output_type": "stream",
     "text": [
      "Fitting ICA to data using 60 channels (please be patient, this may take a while)\n"
     ]
    },
    {
     "name": "stderr",
     "output_type": "stream",
     "text": [
      "[Parallel(n_jobs=1)]: Done  17 tasks      | elapsed:    0.1s\n",
      "[Parallel(n_jobs=1)]: Done  60 out of  60 | elapsed:    0.3s finished\n"
     ]
    },
    {
     "name": "stdout",
     "output_type": "stream",
     "text": [
      "Selecting by number: 15 components\n",
      "Fitting ICA took 0.2s.\n",
      "Applying ICA to Raw instance\n",
      "    Transforming to ICA space (15 components)\n",
      "    Zeroing out 0 ICA components\n",
      "    Projecting back using 60 PCA components\n",
      "Used Annotations descriptions: [np.str_('Comment/actiCAP Active Shield On'), np.str_('New Segment/'), np.str_('Stimulus/S  8'), np.str_('Stimulus/S  9'), np.str_('Stimulus/S 10'), np.str_('Stimulus/S 13'), np.str_('Stimulus/S 14'), np.str_('Stimulus/S 91'), np.str_('Stimulus/S101')]\n",
      "Not setting metadata\n",
      "100 matching events found\n",
      "Setting baseline interval to [-0.19921875, 0.0] s\n",
      "Applying baseline correction (mode: mean)\n",
      "0 projection items activated\n",
      "Using data from preloaded Raw for 100 events and 564 original time points ...\n",
      "    Rejecting  epoch based on EEG : ['AF7', 'AF8']\n",
      "    Rejecting  epoch based on EEG : ['CP3']\n",
      "    Rejecting  epoch based on EEG : ['CP3']\n",
      "    Rejecting  epoch based on EEG : ['CP3']\n",
      "    Rejecting  epoch based on EEG : ['CP3']\n",
      "    Rejecting  epoch based on EEG : ['PO7']\n",
      "    Rejecting  epoch based on EEG : ['CP3']\n",
      "    Rejecting  epoch based on EEG : ['CP3', 'Fp2']\n",
      "    Rejecting  epoch based on EEG : ['CP3']\n",
      "    Rejecting  epoch based on EEG : ['CP3']\n",
      "    Rejecting  epoch based on EEG : ['CP3']\n",
      "    Rejecting  epoch based on EEG : ['CP3', 'Fp2']\n",
      "    Rejecting  epoch based on EEG : ['CP3']\n",
      "    Rejecting  epoch based on EEG : ['FT7', 'CP3']\n",
      "    Rejecting  epoch based on EEG : ['CP3']\n",
      "    Rejecting  epoch based on EEG : ['CP3']\n",
      "    Rejecting  epoch based on EEG : ['CP3']\n",
      "17 bad epochs dropped\n",
      "✅ Saved: session2_sub5_twist_MI.npz | Shape: (83, 60, 564)\n",
      "\n",
      "🧠 Processing: /storage/projects1/e19-4yp-mi-eeg-for-bci/rawdata/session3_sub10_twist_MI.vhdr\n",
      "Extracting parameters from /storage/projects1/e19-4yp-mi-eeg-for-bci/rawdata/session3_sub10_twist_MI.vhdr...\n",
      "Setting channel info structure...\n",
      "Reading 0 ... 2580299  =      0.000 ...  1032.120 secs...\n"
     ]
    },
    {
     "name": "stderr",
     "output_type": "stream",
     "text": [
      "/tmp/ipykernel_26682/98459583.py:27: RuntimeWarning: Online software filter detected. Using software filter settings and ignoring hardware values\n",
      "  raw = mne.io.read_raw_brainvision(vhdr_path, preload=True)\n",
      "/tmp/ipykernel_26682/98459583.py:27: RuntimeWarning: Channels contain different highpass filters. Lowest (weakest) filter setting (0.00 Hz) will be stored.\n",
      "  raw = mne.io.read_raw_brainvision(vhdr_path, preload=True)\n",
      "/tmp/ipykernel_26682/98459583.py:27: RuntimeWarning: Channels contain different lowpass filters. Highest (weakest) filter setting (1250.00 Hz, Nyquist limit) will be stored.\n",
      "  raw = mne.io.read_raw_brainvision(vhdr_path, preload=True)\n"
     ]
    },
    {
     "name": "stdout",
     "output_type": "stream",
     "text": [
      "Filtering raw data in 1 contiguous segment\n",
      "Setting up band-stop filter from 59 - 61 Hz\n",
      "\n",
      "FIR filter parameters\n",
      "---------------------\n",
      "Designing a one-pass, zero-phase, non-causal bandstop filter:\n",
      "- Windowed time-domain design (firwin) method\n",
      "- Hamming window with 0.0194 passband ripple and 53 dB stopband attenuation\n",
      "- Lower passband edge: 59.35\n",
      "- Lower transition bandwidth: 0.50 Hz (-6 dB cutoff frequency: 59.10 Hz)\n",
      "- Upper passband edge: 60.65 Hz\n",
      "- Upper transition bandwidth: 0.50 Hz (-6 dB cutoff frequency: 60.90 Hz)\n",
      "- Filter length: 1691 samples (6.605 s)\n",
      "\n",
      "Filtering raw data in 1 contiguous segment\n",
      "Setting up band-pass filter from 8 - 30 Hz\n",
      "\n",
      "FIR filter parameters\n",
      "---------------------\n",
      "Designing a one-pass, zero-phase, non-causal bandpass filter:\n",
      "- Windowed time-domain design (firwin) method\n",
      "- Hamming window with 0.0194 passband ripple and 53 dB stopband attenuation\n",
      "- Lower passband edge: 8.00\n",
      "- Lower transition bandwidth: 2.00 Hz (-6 dB cutoff frequency: 7.00 Hz)\n",
      "- Upper passband edge: 30.00 Hz\n",
      "- Upper transition bandwidth: 7.50 Hz (-6 dB cutoff frequency: 33.75 Hz)\n",
      "- Filter length: 423 samples (1.652 s)\n",
      "\n"
     ]
    },
    {
     "name": "stderr",
     "output_type": "stream",
     "text": [
      "[Parallel(n_jobs=1)]: Done  17 tasks      | elapsed:    0.0s\n",
      "[Parallel(n_jobs=1)]: Done  60 out of  60 | elapsed:    0.2s finished\n",
      "[Parallel(n_jobs=1)]: Done  17 tasks      | elapsed:    0.0s\n"
     ]
    },
    {
     "name": "stdout",
     "output_type": "stream",
     "text": [
      "Fitting ICA to data using 60 channels (please be patient, this may take a while)\n",
      "Selecting by number: 15 components\n"
     ]
    },
    {
     "name": "stderr",
     "output_type": "stream",
     "text": [
      "[Parallel(n_jobs=1)]: Done  60 out of  60 | elapsed:    0.2s finished\n"
     ]
    },
    {
     "name": "stdout",
     "output_type": "stream",
     "text": [
      "Fitting ICA took 0.2s.\n",
      "Applying ICA to Raw instance\n",
      "    Transforming to ICA space (15 components)\n",
      "    Zeroing out 0 ICA components\n",
      "    Projecting back using 60 PCA components\n",
      "Used Annotations descriptions: [np.str_('Comment/actiCAP Active Shield On'), np.str_('New Segment/'), np.str_('Stimulus/S  8'), np.str_('Stimulus/S  9'), np.str_('Stimulus/S 10'), np.str_('Stimulus/S 13'), np.str_('Stimulus/S 14'), np.str_('Stimulus/S 91'), np.str_('Stimulus/S101')]\n",
      "Not setting metadata\n",
      "100 matching events found\n",
      "Setting baseline interval to [-0.19921875, 0.0] s\n",
      "Applying baseline correction (mode: mean)\n",
      "0 projection items activated\n",
      "Using data from preloaded Raw for 100 events and 564 original time points ...\n",
      "0 bad epochs dropped\n",
      "✅ Saved: session3_sub10_twist_MI.npz | Shape: (100, 60, 564)\n",
      "\n",
      "🧠 Processing: /storage/projects1/e19-4yp-mi-eeg-for-bci/rawdata/session1_sub21_twist_MI.vhdr\n",
      "Extracting parameters from /storage/projects1/e19-4yp-mi-eeg-for-bci/rawdata/session1_sub21_twist_MI.vhdr...\n",
      "Setting channel info structure...\n",
      "Reading 0 ... 2923499  =      0.000 ...  1169.400 secs...\n"
     ]
    },
    {
     "name": "stderr",
     "output_type": "stream",
     "text": [
      "/tmp/ipykernel_26682/98459583.py:27: RuntimeWarning: Online software filter detected. Using software filter settings and ignoring hardware values\n",
      "  raw = mne.io.read_raw_brainvision(vhdr_path, preload=True)\n",
      "/tmp/ipykernel_26682/98459583.py:27: RuntimeWarning: Channels contain different highpass filters. Lowest (weakest) filter setting (0.00 Hz) will be stored.\n",
      "  raw = mne.io.read_raw_brainvision(vhdr_path, preload=True)\n",
      "/tmp/ipykernel_26682/98459583.py:27: RuntimeWarning: Channels contain different lowpass filters. Highest (weakest) filter setting (1250.00 Hz, Nyquist limit) will be stored.\n",
      "  raw = mne.io.read_raw_brainvision(vhdr_path, preload=True)\n"
     ]
    },
    {
     "name": "stdout",
     "output_type": "stream",
     "text": [
      "Filtering raw data in 1 contiguous segment\n",
      "Setting up band-stop filter from 59 - 61 Hz\n",
      "\n",
      "FIR filter parameters\n",
      "---------------------\n",
      "Designing a one-pass, zero-phase, non-causal bandstop filter:\n",
      "- Windowed time-domain design (firwin) method\n",
      "- Hamming window with 0.0194 passband ripple and 53 dB stopband attenuation\n",
      "- Lower passband edge: 59.35\n",
      "- Lower transition bandwidth: 0.50 Hz (-6 dB cutoff frequency: 59.10 Hz)\n",
      "- Upper passband edge: 60.65 Hz\n",
      "- Upper transition bandwidth: 0.50 Hz (-6 dB cutoff frequency: 60.90 Hz)\n",
      "- Filter length: 1691 samples (6.605 s)\n",
      "\n",
      "Filtering raw data in 1 contiguous segment\n",
      "Setting up band-pass filter from 8 - 30 Hz\n",
      "\n",
      "FIR filter parameters\n",
      "---------------------\n",
      "Designing a one-pass, zero-phase, non-causal bandpass filter:\n",
      "- Windowed time-domain design (firwin) method\n",
      "- Hamming window with 0.0194 passband ripple and 53 dB stopband attenuation\n",
      "- Lower passband edge: 8.00\n",
      "- Lower transition bandwidth: 2.00 Hz (-6 dB cutoff frequency: 7.00 Hz)\n",
      "- Upper passband edge: 30.00 Hz\n",
      "- Upper transition bandwidth: 7.50 Hz (-6 dB cutoff frequency: 33.75 Hz)\n",
      "- Filter length: 423 samples (1.652 s)\n",
      "\n"
     ]
    },
    {
     "name": "stderr",
     "output_type": "stream",
     "text": [
      "[Parallel(n_jobs=1)]: Done  17 tasks      | elapsed:    0.1s\n",
      "[Parallel(n_jobs=1)]: Done  60 out of  60 | elapsed:    0.2s finished\n"
     ]
    },
    {
     "name": "stdout",
     "output_type": "stream",
     "text": [
      "Fitting ICA to data using 60 channels (please be patient, this may take a while)\n"
     ]
    },
    {
     "name": "stderr",
     "output_type": "stream",
     "text": [
      "[Parallel(n_jobs=1)]: Done  17 tasks      | elapsed:    0.1s\n",
      "[Parallel(n_jobs=1)]: Done  60 out of  60 | elapsed:    0.2s finished\n"
     ]
    },
    {
     "name": "stdout",
     "output_type": "stream",
     "text": [
      "Selecting by number: 15 components\n",
      "Fitting ICA took 0.3s.\n",
      "Applying ICA to Raw instance\n",
      "    Transforming to ICA space (15 components)\n",
      "    Zeroing out 0 ICA components\n",
      "    Projecting back using 60 PCA components\n",
      "Used Annotations descriptions: [np.str_('Comment/actiCAP Active Shield On'), np.str_('Comment/actiCAP Data On'), np.str_('New Segment/'), np.str_('Stimulus/S  8'), np.str_('Stimulus/S  9'), np.str_('Stimulus/S 10'), np.str_('Stimulus/S 13'), np.str_('Stimulus/S 14'), np.str_('Stimulus/S 91'), np.str_('Stimulus/S101')]\n",
      "Not setting metadata\n",
      "100 matching events found\n",
      "Setting baseline interval to [-0.19921875, 0.0] s\n",
      "Applying baseline correction (mode: mean)\n",
      "0 projection items activated\n",
      "Using data from preloaded Raw for 100 events and 564 original time points ...\n",
      "    Rejecting  epoch based on EEG : ['C6']\n",
      "    Rejecting  epoch based on EEG : ['AF7']\n",
      "2 bad epochs dropped\n",
      "✅ Saved: session1_sub21_twist_MI.npz | Shape: (98, 60, 564)\n",
      "\n",
      "🧠 Processing: /storage/projects1/e19-4yp-mi-eeg-for-bci/rawdata/session3_sub19_twist_MI.vhdr\n",
      "Extracting parameters from /storage/projects1/e19-4yp-mi-eeg-for-bci/rawdata/session3_sub19_twist_MI.vhdr...\n",
      "Setting channel info structure...\n",
      "Reading 0 ... 2620299  =      0.000 ...  1048.120 secs...\n"
     ]
    },
    {
     "name": "stderr",
     "output_type": "stream",
     "text": [
      "/tmp/ipykernel_26682/98459583.py:27: RuntimeWarning: Online software filter detected. Using software filter settings and ignoring hardware values\n",
      "  raw = mne.io.read_raw_brainvision(vhdr_path, preload=True)\n",
      "/tmp/ipykernel_26682/98459583.py:27: RuntimeWarning: Channels contain different highpass filters. Lowest (weakest) filter setting (0.00 Hz) will be stored.\n",
      "  raw = mne.io.read_raw_brainvision(vhdr_path, preload=True)\n",
      "/tmp/ipykernel_26682/98459583.py:27: RuntimeWarning: Channels contain different lowpass filters. Highest (weakest) filter setting (1250.00 Hz, Nyquist limit) will be stored.\n",
      "  raw = mne.io.read_raw_brainvision(vhdr_path, preload=True)\n"
     ]
    },
    {
     "name": "stdout",
     "output_type": "stream",
     "text": [
      "Filtering raw data in 1 contiguous segment\n",
      "Setting up band-stop filter from 59 - 61 Hz\n",
      "\n",
      "FIR filter parameters\n",
      "---------------------\n",
      "Designing a one-pass, zero-phase, non-causal bandstop filter:\n",
      "- Windowed time-domain design (firwin) method\n",
      "- Hamming window with 0.0194 passband ripple and 53 dB stopband attenuation\n",
      "- Lower passband edge: 59.35\n",
      "- Lower transition bandwidth: 0.50 Hz (-6 dB cutoff frequency: 59.10 Hz)\n",
      "- Upper passband edge: 60.65 Hz\n",
      "- Upper transition bandwidth: 0.50 Hz (-6 dB cutoff frequency: 60.90 Hz)\n",
      "- Filter length: 1691 samples (6.605 s)\n",
      "\n",
      "Filtering raw data in 1 contiguous segment\n",
      "Setting up band-pass filter from 8 - 30 Hz\n",
      "\n",
      "FIR filter parameters\n",
      "---------------------\n",
      "Designing a one-pass, zero-phase, non-causal bandpass filter:\n",
      "- Windowed time-domain design (firwin) method\n",
      "- Hamming window with 0.0194 passband ripple and 53 dB stopband attenuation\n",
      "- Lower passband edge: 8.00\n",
      "- Lower transition bandwidth: 2.00 Hz (-6 dB cutoff frequency: 7.00 Hz)\n",
      "- Upper passband edge: 30.00 Hz\n",
      "- Upper transition bandwidth: 7.50 Hz (-6 dB cutoff frequency: 33.75 Hz)\n",
      "- Filter length: 423 samples (1.652 s)\n",
      "\n"
     ]
    },
    {
     "name": "stderr",
     "output_type": "stream",
     "text": [
      "[Parallel(n_jobs=1)]: Done  17 tasks      | elapsed:    0.0s\n",
      "[Parallel(n_jobs=1)]: Done  60 out of  60 | elapsed:    0.2s finished\n"
     ]
    },
    {
     "name": "stdout",
     "output_type": "stream",
     "text": [
      "Fitting ICA to data using 60 channels (please be patient, this may take a while)\n"
     ]
    },
    {
     "name": "stderr",
     "output_type": "stream",
     "text": [
      "[Parallel(n_jobs=1)]: Done  17 tasks      | elapsed:    0.1s\n",
      "[Parallel(n_jobs=1)]: Done  60 out of  60 | elapsed:    0.2s finished\n"
     ]
    },
    {
     "name": "stdout",
     "output_type": "stream",
     "text": [
      "Selecting by number: 15 components\n",
      "Fitting ICA took 0.2s.\n",
      "Applying ICA to Raw instance\n",
      "    Transforming to ICA space (15 components)\n",
      "    Zeroing out 0 ICA components\n",
      "    Projecting back using 60 PCA components\n",
      "Used Annotations descriptions: [np.str_('Comment/actiCAP Active Shield On'), np.str_('New Segment/'), np.str_('Stimulus/S  8'), np.str_('Stimulus/S  9'), np.str_('Stimulus/S 10'), np.str_('Stimulus/S 13'), np.str_('Stimulus/S 14'), np.str_('Stimulus/S 91'), np.str_('Stimulus/S101')]\n",
      "Not setting metadata\n",
      "100 matching events found\n",
      "Setting baseline interval to [-0.19921875, 0.0] s\n",
      "Applying baseline correction (mode: mean)\n",
      "0 projection items activated\n",
      "Using data from preloaded Raw for 100 events and 564 original time points ...\n",
      "0 bad epochs dropped\n",
      "✅ Saved: session3_sub19_twist_MI.npz | Shape: (100, 60, 564)\n",
      "\n",
      "🧠 Processing: /storage/projects1/e19-4yp-mi-eeg-for-bci/rawdata/session3_sub2_twist_MI.vhdr\n",
      "Extracting parameters from /storage/projects1/e19-4yp-mi-eeg-for-bci/rawdata/session3_sub2_twist_MI.vhdr...\n",
      "Setting channel info structure...\n",
      "Reading 0 ... 3116399  =      0.000 ...  1246.560 secs...\n"
     ]
    },
    {
     "name": "stderr",
     "output_type": "stream",
     "text": [
      "/tmp/ipykernel_26682/98459583.py:27: RuntimeWarning: Online software filter detected. Using software filter settings and ignoring hardware values\n",
      "  raw = mne.io.read_raw_brainvision(vhdr_path, preload=True)\n",
      "/tmp/ipykernel_26682/98459583.py:27: RuntimeWarning: Channels contain different highpass filters. Lowest (weakest) filter setting (0.00 Hz) will be stored.\n",
      "  raw = mne.io.read_raw_brainvision(vhdr_path, preload=True)\n",
      "/tmp/ipykernel_26682/98459583.py:27: RuntimeWarning: Channels contain different lowpass filters. Highest (weakest) filter setting (1250.00 Hz, Nyquist limit) will be stored.\n",
      "  raw = mne.io.read_raw_brainvision(vhdr_path, preload=True)\n"
     ]
    },
    {
     "name": "stdout",
     "output_type": "stream",
     "text": [
      "Filtering raw data in 1 contiguous segment\n",
      "Setting up band-stop filter from 59 - 61 Hz\n",
      "\n",
      "FIR filter parameters\n",
      "---------------------\n",
      "Designing a one-pass, zero-phase, non-causal bandstop filter:\n",
      "- Windowed time-domain design (firwin) method\n",
      "- Hamming window with 0.0194 passband ripple and 53 dB stopband attenuation\n",
      "- Lower passband edge: 59.35\n",
      "- Lower transition bandwidth: 0.50 Hz (-6 dB cutoff frequency: 59.10 Hz)\n",
      "- Upper passband edge: 60.65 Hz\n",
      "- Upper transition bandwidth: 0.50 Hz (-6 dB cutoff frequency: 60.90 Hz)\n",
      "- Filter length: 1691 samples (6.605 s)\n",
      "\n",
      "Filtering raw data in 1 contiguous segment\n",
      "Setting up band-pass filter from 8 - 30 Hz\n",
      "\n",
      "FIR filter parameters\n",
      "---------------------\n",
      "Designing a one-pass, zero-phase, non-causal bandpass filter:\n",
      "- Windowed time-domain design (firwin) method\n",
      "- Hamming window with 0.0194 passband ripple and 53 dB stopband attenuation\n",
      "- Lower passband edge: 8.00\n",
      "- Lower transition bandwidth: 2.00 Hz (-6 dB cutoff frequency: 7.00 Hz)\n",
      "- Upper passband edge: 30.00 Hz\n",
      "- Upper transition bandwidth: 7.50 Hz (-6 dB cutoff frequency: 33.75 Hz)\n",
      "- Filter length: 423 samples (1.652 s)\n",
      "\n"
     ]
    },
    {
     "name": "stderr",
     "output_type": "stream",
     "text": [
      "[Parallel(n_jobs=1)]: Done  17 tasks      | elapsed:    0.1s\n",
      "[Parallel(n_jobs=1)]: Done  60 out of  60 | elapsed:    0.2s finished\n"
     ]
    },
    {
     "name": "stdout",
     "output_type": "stream",
     "text": [
      "Fitting ICA to data using 60 channels (please be patient, this may take a while)\n"
     ]
    },
    {
     "name": "stderr",
     "output_type": "stream",
     "text": [
      "[Parallel(n_jobs=1)]: Done  17 tasks      | elapsed:    0.1s\n",
      "[Parallel(n_jobs=1)]: Done  60 out of  60 | elapsed:    0.2s finished\n"
     ]
    },
    {
     "name": "stdout",
     "output_type": "stream",
     "text": [
      "Selecting by number: 15 components\n",
      "Fitting ICA took 0.2s.\n",
      "Applying ICA to Raw instance\n",
      "    Transforming to ICA space (15 components)\n",
      "    Zeroing out 0 ICA components\n",
      "    Projecting back using 60 PCA components\n",
      "Used Annotations descriptions: [np.str_('Comment/actiCAP Active Shield On'), np.str_('New Segment/'), np.str_('Stimulus/S  8'), np.str_('Stimulus/S  9'), np.str_('Stimulus/S 10'), np.str_('Stimulus/S 13'), np.str_('Stimulus/S 14'), np.str_('Stimulus/S 91'), np.str_('Stimulus/S101')]\n",
      "Not setting metadata\n",
      "100 matching events found\n",
      "Setting baseline interval to [-0.19921875, 0.0] s\n",
      "Applying baseline correction (mode: mean)\n",
      "0 projection items activated\n",
      "Using data from preloaded Raw for 100 events and 564 original time points ...\n",
      "    Rejecting  epoch based on EEG : ['AF7', 'F7', 'F5', 'F3', 'FT7', 'FC5', 'FC3', 'T7', 'C5', 'C3', 'TP7', 'CP5', 'CP3', 'P7', 'P5', 'PO7', 'PO3', 'POz', 'AF8', 'F4', 'F6', 'F8', 'FC4', 'FC6', 'FT8', 'C4', 'C6', 'T8', 'CP6', 'TP8', 'P8', 'PO8', 'O1', 'Oz', 'O2', 'Iz']\n",
      "    Rejecting  epoch based on EEG : ['F7', 'FT7', 'AF8', 'F4', 'F8', 'FC4', 'FC6', 'FT8', 'C6', 'T8', 'TP8']\n",
      "    Rejecting  epoch based on EEG : ['FC6']\n",
      "    Rejecting  epoch based on EEG : ['AF7', 'F7', 'FT7', 'FC5', 'FC3', 'T7', 'C5', 'C3', 'TP7', 'AF8', 'F4', 'F6', 'F8', 'FC4', 'FC6', 'FT8', 'C6', 'T8', 'TP8', 'Iz']\n",
      "    Rejecting  epoch based on EEG : ['AF7', 'F7', 'F5', 'F3', 'FT7', 'FC5', 'FC3', 'T7', 'C5', 'C3', 'TP7', 'P7', 'PO7', 'PO3', 'POz', 'AF8', 'F6', 'F8', 'FC4', 'FC6', 'FT8', 'C4', 'C6', 'T8', 'TP8', 'P8', 'PO8', 'O1', 'Oz', 'O2', 'Iz']\n",
      "5 bad epochs dropped\n",
      "✅ Saved: session3_sub2_twist_MI.npz | Shape: (95, 60, 564)\n",
      "\n",
      "🧠 Processing: /storage/projects1/e19-4yp-mi-eeg-for-bci/rawdata/session1_sub9_twist_MI.vhdr\n",
      "Extracting parameters from /storage/projects1/e19-4yp-mi-eeg-for-bci/rawdata/session1_sub9_twist_MI.vhdr...\n",
      "Setting channel info structure...\n",
      "Reading 0 ... 2752399  =      0.000 ...  1100.960 secs...\n"
     ]
    },
    {
     "name": "stderr",
     "output_type": "stream",
     "text": [
      "/tmp/ipykernel_26682/98459583.py:27: RuntimeWarning: Online software filter detected. Using software filter settings and ignoring hardware values\n",
      "  raw = mne.io.read_raw_brainvision(vhdr_path, preload=True)\n",
      "/tmp/ipykernel_26682/98459583.py:27: RuntimeWarning: Channels contain different highpass filters. Lowest (weakest) filter setting (0.00 Hz) will be stored.\n",
      "  raw = mne.io.read_raw_brainvision(vhdr_path, preload=True)\n",
      "/tmp/ipykernel_26682/98459583.py:27: RuntimeWarning: Channels contain different lowpass filters. Highest (weakest) filter setting (1250.00 Hz, Nyquist limit) will be stored.\n",
      "  raw = mne.io.read_raw_brainvision(vhdr_path, preload=True)\n"
     ]
    },
    {
     "name": "stdout",
     "output_type": "stream",
     "text": [
      "Filtering raw data in 1 contiguous segment\n",
      "Setting up band-stop filter from 59 - 61 Hz\n",
      "\n",
      "FIR filter parameters\n",
      "---------------------\n",
      "Designing a one-pass, zero-phase, non-causal bandstop filter:\n",
      "- Windowed time-domain design (firwin) method\n",
      "- Hamming window with 0.0194 passband ripple and 53 dB stopband attenuation\n",
      "- Lower passband edge: 59.35\n",
      "- Lower transition bandwidth: 0.50 Hz (-6 dB cutoff frequency: 59.10 Hz)\n",
      "- Upper passband edge: 60.65 Hz\n",
      "- Upper transition bandwidth: 0.50 Hz (-6 dB cutoff frequency: 60.90 Hz)\n",
      "- Filter length: 1691 samples (6.605 s)\n",
      "\n",
      "Filtering raw data in 1 contiguous segment\n",
      "Setting up band-pass filter from 8 - 30 Hz\n",
      "\n",
      "FIR filter parameters\n",
      "---------------------\n",
      "Designing a one-pass, zero-phase, non-causal bandpass filter:\n",
      "- Windowed time-domain design (firwin) method\n",
      "- Hamming window with 0.0194 passband ripple and 53 dB stopband attenuation\n",
      "- Lower passband edge: 8.00\n",
      "- Lower transition bandwidth: 2.00 Hz (-6 dB cutoff frequency: 7.00 Hz)\n",
      "- Upper passband edge: 30.00 Hz\n",
      "- Upper transition bandwidth: 7.50 Hz (-6 dB cutoff frequency: 33.75 Hz)\n",
      "- Filter length: 423 samples (1.652 s)\n",
      "\n"
     ]
    },
    {
     "name": "stderr",
     "output_type": "stream",
     "text": [
      "[Parallel(n_jobs=1)]: Done  17 tasks      | elapsed:    0.0s\n",
      "[Parallel(n_jobs=1)]: Done  60 out of  60 | elapsed:    0.2s finished\n"
     ]
    },
    {
     "name": "stdout",
     "output_type": "stream",
     "text": [
      "Fitting ICA to data using 60 channels (please be patient, this may take a while)\n"
     ]
    },
    {
     "name": "stderr",
     "output_type": "stream",
     "text": [
      "[Parallel(n_jobs=1)]: Done  17 tasks      | elapsed:    0.1s\n",
      "[Parallel(n_jobs=1)]: Done  60 out of  60 | elapsed:    0.2s finished\n"
     ]
    },
    {
     "name": "stdout",
     "output_type": "stream",
     "text": [
      "Selecting by number: 15 components\n",
      "Fitting ICA took 1.5s.\n",
      "Applying ICA to Raw instance\n",
      "    Transforming to ICA space (15 components)\n",
      "    Zeroing out 0 ICA components\n",
      "    Projecting back using 60 PCA components\n",
      "Used Annotations descriptions: [np.str_('Comment/actiCAP Data On'), np.str_('New Segment/'), np.str_('Stimulus/S  8'), np.str_('Stimulus/S  9'), np.str_('Stimulus/S 10'), np.str_('Stimulus/S 13'), np.str_('Stimulus/S 14'), np.str_('Stimulus/S 91'), np.str_('Stimulus/S101')]\n",
      "Not setting metadata\n",
      "100 matching events found\n",
      "Setting baseline interval to [-0.19921875, 0.0] s\n",
      "Applying baseline correction (mode: mean)\n",
      "0 projection items activated\n",
      "Using data from preloaded Raw for 100 events and 564 original time points ...\n"
     ]
    },
    {
     "name": "stderr",
     "output_type": "stream",
     "text": [
      "/storage/projects1/e19-4yp-mi-eeg-for-bci/env/preprocess-env/lib/python3.10/site-packages/sklearn/decomposition/_fastica.py:127: ConvergenceWarning: FastICA did not converge. Consider increasing tolerance or the maximum number of iterations.\n",
      "  warnings.warn(\n"
     ]
    },
    {
     "name": "stdout",
     "output_type": "stream",
     "text": [
      "0 bad epochs dropped\n",
      "✅ Saved: session1_sub9_twist_MI.npz | Shape: (100, 60, 564)\n",
      "\n",
      "🧠 Processing: /storage/projects1/e19-4yp-mi-eeg-for-bci/rawdata/session1_sub14_twist_MI.vhdr\n",
      "Extracting parameters from /storage/projects1/e19-4yp-mi-eeg-for-bci/rawdata/session1_sub14_twist_MI.vhdr...\n",
      "Setting channel info structure...\n",
      "Reading 0 ... 6185299  =      0.000 ...  2474.120 secs...\n"
     ]
    },
    {
     "name": "stderr",
     "output_type": "stream",
     "text": [
      "/tmp/ipykernel_26682/98459583.py:27: RuntimeWarning: Online software filter detected. Using software filter settings and ignoring hardware values\n",
      "  raw = mne.io.read_raw_brainvision(vhdr_path, preload=True)\n",
      "/tmp/ipykernel_26682/98459583.py:27: RuntimeWarning: Channels contain different highpass filters. Lowest (weakest) filter setting (0.00 Hz) will be stored.\n",
      "  raw = mne.io.read_raw_brainvision(vhdr_path, preload=True)\n",
      "/tmp/ipykernel_26682/98459583.py:27: RuntimeWarning: Channels contain different lowpass filters. Highest (weakest) filter setting (1250.00 Hz, Nyquist limit) will be stored.\n",
      "  raw = mne.io.read_raw_brainvision(vhdr_path, preload=True)\n"
     ]
    },
    {
     "name": "stdout",
     "output_type": "stream",
     "text": [
      "Filtering raw data in 1 contiguous segment\n",
      "Setting up band-stop filter from 59 - 61 Hz\n",
      "\n",
      "FIR filter parameters\n",
      "---------------------\n",
      "Designing a one-pass, zero-phase, non-causal bandstop filter:\n",
      "- Windowed time-domain design (firwin) method\n",
      "- Hamming window with 0.0194 passband ripple and 53 dB stopband attenuation\n",
      "- Lower passband edge: 59.35\n",
      "- Lower transition bandwidth: 0.50 Hz (-6 dB cutoff frequency: 59.10 Hz)\n",
      "- Upper passband edge: 60.65 Hz\n",
      "- Upper transition bandwidth: 0.50 Hz (-6 dB cutoff frequency: 60.90 Hz)\n",
      "- Filter length: 1691 samples (6.605 s)\n",
      "\n"
     ]
    },
    {
     "name": "stderr",
     "output_type": "stream",
     "text": [
      "[Parallel(n_jobs=1)]: Done  17 tasks      | elapsed:    0.1s\n"
     ]
    },
    {
     "name": "stdout",
     "output_type": "stream",
     "text": [
      "Filtering raw data in 1 contiguous segment\n",
      "Setting up band-pass filter from 8 - 30 Hz\n",
      "\n",
      "FIR filter parameters\n",
      "---------------------\n",
      "Designing a one-pass, zero-phase, non-causal bandpass filter:\n",
      "- Windowed time-domain design (firwin) method\n",
      "- Hamming window with 0.0194 passband ripple and 53 dB stopband attenuation\n",
      "- Lower passband edge: 8.00\n",
      "- Lower transition bandwidth: 2.00 Hz (-6 dB cutoff frequency: 7.00 Hz)\n",
      "- Upper passband edge: 30.00 Hz\n",
      "- Upper transition bandwidth: 7.50 Hz (-6 dB cutoff frequency: 33.75 Hz)\n",
      "- Filter length: 423 samples (1.652 s)\n",
      "\n"
     ]
    },
    {
     "name": "stderr",
     "output_type": "stream",
     "text": [
      "[Parallel(n_jobs=1)]: Done  60 out of  60 | elapsed:    0.5s finished\n",
      "[Parallel(n_jobs=1)]: Done  17 tasks      | elapsed:    0.1s\n"
     ]
    },
    {
     "name": "stdout",
     "output_type": "stream",
     "text": [
      "Fitting ICA to data using 60 channels (please be patient, this may take a while)\n",
      "Selecting by number: 15 components\n"
     ]
    },
    {
     "name": "stderr",
     "output_type": "stream",
     "text": [
      "[Parallel(n_jobs=1)]: Done  60 out of  60 | elapsed:    0.4s finished\n"
     ]
    },
    {
     "name": "stdout",
     "output_type": "stream",
     "text": [
      "Fitting ICA took 0.2s.\n",
      "Applying ICA to Raw instance\n",
      "    Transforming to ICA space (15 components)\n",
      "    Zeroing out 0 ICA components\n",
      "    Projecting back using 60 PCA components\n",
      "Used Annotations descriptions: [np.str_('Comment/actiCAP Data On'), np.str_('New Segment/'), np.str_('Stimulus/S  8'), np.str_('Stimulus/S  9'), np.str_('Stimulus/S 10'), np.str_('Stimulus/S 11'), np.str_('Stimulus/S 12'), np.str_('Stimulus/S 13'), np.str_('Stimulus/S 14'), np.str_('Stimulus/S 91'), np.str_('Stimulus/S101'), np.str_('Stimulus/S111'), np.str_('Stimulus/S121')]\n",
      "Not setting metadata\n",
      "100 matching events found\n",
      "Setting baseline interval to [-0.19921875, 0.0] s\n",
      "Applying baseline correction (mode: mean)\n",
      "0 projection items activated\n",
      "Using data from preloaded Raw for 100 events and 564 original time points ...\n",
      "    Rejecting  epoch based on EEG : ['AF7', 'F7', 'FT7', 'T7']\n",
      "1 bad epochs dropped\n",
      "✅ Saved: session1_sub14_twist_MI.npz | Shape: (99, 60, 564)\n",
      "\n",
      "🧠 Processing: /storage/projects1/e19-4yp-mi-eeg-for-bci/rawdata/session3_sub9_twist_MI.vhdr\n",
      "Extracting parameters from /storage/projects1/e19-4yp-mi-eeg-for-bci/rawdata/session3_sub9_twist_MI.vhdr...\n",
      "Setting channel info structure...\n",
      "Reading 0 ... 2557299  =      0.000 ...  1022.920 secs...\n"
     ]
    },
    {
     "name": "stderr",
     "output_type": "stream",
     "text": [
      "/tmp/ipykernel_26682/98459583.py:27: RuntimeWarning: Online software filter detected. Using software filter settings and ignoring hardware values\n",
      "  raw = mne.io.read_raw_brainvision(vhdr_path, preload=True)\n",
      "/tmp/ipykernel_26682/98459583.py:27: RuntimeWarning: Channels contain different highpass filters. Lowest (weakest) filter setting (0.00 Hz) will be stored.\n",
      "  raw = mne.io.read_raw_brainvision(vhdr_path, preload=True)\n",
      "/tmp/ipykernel_26682/98459583.py:27: RuntimeWarning: Channels contain different lowpass filters. Highest (weakest) filter setting (1250.00 Hz, Nyquist limit) will be stored.\n",
      "  raw = mne.io.read_raw_brainvision(vhdr_path, preload=True)\n"
     ]
    },
    {
     "name": "stdout",
     "output_type": "stream",
     "text": [
      "Filtering raw data in 1 contiguous segment\n",
      "Setting up band-stop filter from 59 - 61 Hz\n",
      "\n",
      "FIR filter parameters\n",
      "---------------------\n",
      "Designing a one-pass, zero-phase, non-causal bandstop filter:\n",
      "- Windowed time-domain design (firwin) method\n",
      "- Hamming window with 0.0194 passband ripple and 53 dB stopband attenuation\n",
      "- Lower passband edge: 59.35\n",
      "- Lower transition bandwidth: 0.50 Hz (-6 dB cutoff frequency: 59.10 Hz)\n",
      "- Upper passband edge: 60.65 Hz\n",
      "- Upper transition bandwidth: 0.50 Hz (-6 dB cutoff frequency: 60.90 Hz)\n",
      "- Filter length: 1691 samples (6.605 s)\n",
      "\n",
      "Filtering raw data in 1 contiguous segment\n",
      "Setting up band-pass filter from 8 - 30 Hz\n",
      "\n",
      "FIR filter parameters\n",
      "---------------------\n",
      "Designing a one-pass, zero-phase, non-causal bandpass filter:\n",
      "- Windowed time-domain design (firwin) method\n",
      "- Hamming window with 0.0194 passband ripple and 53 dB stopband attenuation\n",
      "- Lower passband edge: 8.00\n",
      "- Lower transition bandwidth: 2.00 Hz (-6 dB cutoff frequency: 7.00 Hz)\n",
      "- Upper passband edge: 30.00 Hz\n",
      "- Upper transition bandwidth: 7.50 Hz (-6 dB cutoff frequency: 33.75 Hz)\n",
      "- Filter length: 423 samples (1.652 s)\n",
      "\n"
     ]
    },
    {
     "name": "stderr",
     "output_type": "stream",
     "text": [
      "[Parallel(n_jobs=1)]: Done  17 tasks      | elapsed:    0.1s\n",
      "[Parallel(n_jobs=1)]: Done  60 out of  60 | elapsed:    0.2s finished\n"
     ]
    },
    {
     "name": "stdout",
     "output_type": "stream",
     "text": [
      "Fitting ICA to data using 60 channels (please be patient, this may take a while)\n",
      "Selecting by number: 15 components\n"
     ]
    },
    {
     "name": "stderr",
     "output_type": "stream",
     "text": [
      "[Parallel(n_jobs=1)]: Done  17 tasks      | elapsed:    0.0s\n",
      "[Parallel(n_jobs=1)]: Done  60 out of  60 | elapsed:    0.2s finished\n"
     ]
    },
    {
     "name": "stdout",
     "output_type": "stream",
     "text": [
      "Fitting ICA took 0.1s.\n",
      "Applying ICA to Raw instance\n",
      "    Transforming to ICA space (15 components)\n",
      "    Zeroing out 0 ICA components\n",
      "    Projecting back using 60 PCA components\n",
      "Used Annotations descriptions: [np.str_('Comment/actiCAP Data On'), np.str_('New Segment/'), np.str_('Stimulus/S  8'), np.str_('Stimulus/S  9'), np.str_('Stimulus/S 10'), np.str_('Stimulus/S 13'), np.str_('Stimulus/S 14'), np.str_('Stimulus/S 91'), np.str_('Stimulus/S101')]\n",
      "Not setting metadata\n",
      "100 matching events found\n",
      "Setting baseline interval to [-0.19921875, 0.0] s\n",
      "Applying baseline correction (mode: mean)\n",
      "0 projection items activated\n",
      "Using data from preloaded Raw for 100 events and 564 original time points ...\n",
      "    Rejecting  epoch based on EEG : ['FC6']\n",
      "    Rejecting  epoch based on EEG : ['FC6', 'FT8']\n",
      "2 bad epochs dropped\n",
      "✅ Saved: session3_sub9_twist_MI.npz | Shape: (98, 60, 564)\n",
      "\n",
      "🧠 Processing: /storage/projects1/e19-4yp-mi-eeg-for-bci/rawdata/session2_sub9_twist_MI.vhdr\n",
      "Extracting parameters from /storage/projects1/e19-4yp-mi-eeg-for-bci/rawdata/session2_sub9_twist_MI.vhdr...\n",
      "Setting channel info structure...\n",
      "Reading 0 ... 2577899  =      0.000 ...  1031.160 secs...\n"
     ]
    },
    {
     "name": "stderr",
     "output_type": "stream",
     "text": [
      "/tmp/ipykernel_26682/98459583.py:27: RuntimeWarning: Online software filter detected. Using software filter settings and ignoring hardware values\n",
      "  raw = mne.io.read_raw_brainvision(vhdr_path, preload=True)\n",
      "/tmp/ipykernel_26682/98459583.py:27: RuntimeWarning: Channels contain different highpass filters. Lowest (weakest) filter setting (0.00 Hz) will be stored.\n",
      "  raw = mne.io.read_raw_brainvision(vhdr_path, preload=True)\n",
      "/tmp/ipykernel_26682/98459583.py:27: RuntimeWarning: Channels contain different lowpass filters. Highest (weakest) filter setting (1250.00 Hz, Nyquist limit) will be stored.\n",
      "  raw = mne.io.read_raw_brainvision(vhdr_path, preload=True)\n"
     ]
    },
    {
     "name": "stdout",
     "output_type": "stream",
     "text": [
      "Filtering raw data in 1 contiguous segment\n",
      "Setting up band-stop filter from 59 - 61 Hz\n",
      "\n",
      "FIR filter parameters\n",
      "---------------------\n",
      "Designing a one-pass, zero-phase, non-causal bandstop filter:\n",
      "- Windowed time-domain design (firwin) method\n",
      "- Hamming window with 0.0194 passband ripple and 53 dB stopband attenuation\n",
      "- Lower passband edge: 59.35\n",
      "- Lower transition bandwidth: 0.50 Hz (-6 dB cutoff frequency: 59.10 Hz)\n",
      "- Upper passband edge: 60.65 Hz\n",
      "- Upper transition bandwidth: 0.50 Hz (-6 dB cutoff frequency: 60.90 Hz)\n",
      "- Filter length: 1691 samples (6.605 s)\n",
      "\n",
      "Filtering raw data in 1 contiguous segment\n",
      "Setting up band-pass filter from 8 - 30 Hz\n",
      "\n",
      "FIR filter parameters\n",
      "---------------------\n",
      "Designing a one-pass, zero-phase, non-causal bandpass filter:\n",
      "- Windowed time-domain design (firwin) method\n",
      "- Hamming window with 0.0194 passband ripple and 53 dB stopband attenuation\n",
      "- Lower passband edge: 8.00\n",
      "- Lower transition bandwidth: 2.00 Hz (-6 dB cutoff frequency: 7.00 Hz)\n",
      "- Upper passband edge: 30.00 Hz\n",
      "- Upper transition bandwidth: 7.50 Hz (-6 dB cutoff frequency: 33.75 Hz)\n",
      "- Filter length: 423 samples (1.652 s)\n",
      "\n"
     ]
    },
    {
     "name": "stderr",
     "output_type": "stream",
     "text": [
      "[Parallel(n_jobs=1)]: Done  17 tasks      | elapsed:    0.0s\n",
      "[Parallel(n_jobs=1)]: Done  60 out of  60 | elapsed:    0.2s finished\n",
      "[Parallel(n_jobs=1)]: Done  17 tasks      | elapsed:    0.1s\n"
     ]
    },
    {
     "name": "stdout",
     "output_type": "stream",
     "text": [
      "Fitting ICA to data using 60 channels (please be patient, this may take a while)\n",
      "Selecting by number: 15 components\n",
      "Fitting ICA took 0.1s.\n",
      "Applying ICA to Raw instance\n",
      "    Transforming to ICA space (15 components)\n",
      "    Zeroing out 0 ICA components\n",
      "    Projecting back using 60 PCA components\n",
      "Used Annotations descriptions: [np.str_('Comment/actiCAP Active Shield On'), np.str_('New Segment/'), np.str_('Stimulus/S  8'), np.str_('Stimulus/S  9'), np.str_('Stimulus/S 10'), np.str_('Stimulus/S 13'), np.str_('Stimulus/S 14'), np.str_('Stimulus/S 91'), np.str_('Stimulus/S101')]\n",
      "Not setting metadata\n",
      "100 matching events found\n",
      "Setting baseline interval to [-0.19921875, 0.0] s\n",
      "Applying baseline correction (mode: mean)\n",
      "0 projection items activated\n",
      "Using data from preloaded Raw for 100 events and 564 original time points ...\n"
     ]
    },
    {
     "name": "stderr",
     "output_type": "stream",
     "text": [
      "[Parallel(n_jobs=1)]: Done  60 out of  60 | elapsed:    0.2s finished\n"
     ]
    },
    {
     "name": "stdout",
     "output_type": "stream",
     "text": [
      "0 bad epochs dropped\n",
      "✅ Saved: session2_sub9_twist_MI.npz | Shape: (100, 60, 564)\n",
      "\n",
      "🧠 Processing: /storage/projects1/e19-4yp-mi-eeg-for-bci/rawdata/session2_sub2_twist_MI.vhdr\n",
      "Extracting parameters from /storage/projects1/e19-4yp-mi-eeg-for-bci/rawdata/session2_sub2_twist_MI.vhdr...\n",
      "Setting channel info structure...\n",
      "Reading 0 ... 2607699  =      0.000 ...  1043.080 secs...\n"
     ]
    },
    {
     "name": "stderr",
     "output_type": "stream",
     "text": [
      "/tmp/ipykernel_26682/98459583.py:27: RuntimeWarning: Online software filter detected. Using software filter settings and ignoring hardware values\n",
      "  raw = mne.io.read_raw_brainvision(vhdr_path, preload=True)\n",
      "/tmp/ipykernel_26682/98459583.py:27: RuntimeWarning: Channels contain different highpass filters. Lowest (weakest) filter setting (0.00 Hz) will be stored.\n",
      "  raw = mne.io.read_raw_brainvision(vhdr_path, preload=True)\n",
      "/tmp/ipykernel_26682/98459583.py:27: RuntimeWarning: Channels contain different lowpass filters. Highest (weakest) filter setting (1250.00 Hz, Nyquist limit) will be stored.\n",
      "  raw = mne.io.read_raw_brainvision(vhdr_path, preload=True)\n"
     ]
    },
    {
     "name": "stdout",
     "output_type": "stream",
     "text": [
      "Filtering raw data in 1 contiguous segment\n",
      "Setting up band-stop filter from 59 - 61 Hz\n",
      "\n",
      "FIR filter parameters\n",
      "---------------------\n",
      "Designing a one-pass, zero-phase, non-causal bandstop filter:\n",
      "- Windowed time-domain design (firwin) method\n",
      "- Hamming window with 0.0194 passband ripple and 53 dB stopband attenuation\n",
      "- Lower passband edge: 59.35\n",
      "- Lower transition bandwidth: 0.50 Hz (-6 dB cutoff frequency: 59.10 Hz)\n",
      "- Upper passband edge: 60.65 Hz\n",
      "- Upper transition bandwidth: 0.50 Hz (-6 dB cutoff frequency: 60.90 Hz)\n",
      "- Filter length: 1691 samples (6.605 s)\n",
      "\n",
      "Filtering raw data in 1 contiguous segment\n",
      "Setting up band-pass filter from 8 - 30 Hz\n",
      "\n",
      "FIR filter parameters\n",
      "---------------------\n",
      "Designing a one-pass, zero-phase, non-causal bandpass filter:\n",
      "- Windowed time-domain design (firwin) method\n",
      "- Hamming window with 0.0194 passband ripple and 53 dB stopband attenuation\n",
      "- Lower passband edge: 8.00\n",
      "- Lower transition bandwidth: 2.00 Hz (-6 dB cutoff frequency: 7.00 Hz)\n",
      "- Upper passband edge: 30.00 Hz\n",
      "- Upper transition bandwidth: 7.50 Hz (-6 dB cutoff frequency: 33.75 Hz)\n",
      "- Filter length: 423 samples (1.652 s)\n",
      "\n"
     ]
    },
    {
     "name": "stderr",
     "output_type": "stream",
     "text": [
      "[Parallel(n_jobs=1)]: Done  17 tasks      | elapsed:    0.0s\n",
      "[Parallel(n_jobs=1)]: Done  60 out of  60 | elapsed:    0.2s finished\n",
      "[Parallel(n_jobs=1)]: Done  17 tasks      | elapsed:    0.1s\n"
     ]
    },
    {
     "name": "stdout",
     "output_type": "stream",
     "text": [
      "Fitting ICA to data using 60 channels (please be patient, this may take a while)\n",
      "Selecting by number: 15 components\n"
     ]
    },
    {
     "name": "stderr",
     "output_type": "stream",
     "text": [
      "[Parallel(n_jobs=1)]: Done  60 out of  60 | elapsed:    0.2s finished\n"
     ]
    },
    {
     "name": "stdout",
     "output_type": "stream",
     "text": [
      "Fitting ICA took 0.2s.\n",
      "Applying ICA to Raw instance\n",
      "    Transforming to ICA space (15 components)\n",
      "    Zeroing out 0 ICA components\n",
      "    Projecting back using 60 PCA components\n",
      "Used Annotations descriptions: [np.str_('Comment/actiCAP Active Shield On'), np.str_('New Segment/'), np.str_('Stimulus/S  8'), np.str_('Stimulus/S  9'), np.str_('Stimulus/S 10'), np.str_('Stimulus/S 13'), np.str_('Stimulus/S 14'), np.str_('Stimulus/S 91'), np.str_('Stimulus/S101')]\n",
      "Not setting metadata\n",
      "100 matching events found\n",
      "Setting baseline interval to [-0.19921875, 0.0] s\n",
      "Applying baseline correction (mode: mean)\n",
      "0 projection items activated\n",
      "Using data from preloaded Raw for 100 events and 564 original time points ...\n",
      "    Rejecting  epoch based on EEG : ['AF7', 'F7', 'F5', 'T7', 'F6', 'FC6', 'FT8']\n",
      "    Rejecting  epoch based on EEG : ['Fp1', 'AF7', 'AF3', 'F7', 'F5', 'FC3', 'Fp2', 'AF4']\n",
      "2 bad epochs dropped\n",
      "✅ Saved: session2_sub2_twist_MI.npz | Shape: (98, 60, 564)\n",
      "\n",
      "🧠 Processing: /storage/projects1/e19-4yp-mi-eeg-for-bci/rawdata/session3_sub17_twist_MI.vhdr\n",
      "Extracting parameters from /storage/projects1/e19-4yp-mi-eeg-for-bci/rawdata/session3_sub17_twist_MI.vhdr...\n",
      "Setting channel info structure...\n",
      "Reading 0 ... 2552299  =      0.000 ...  1020.920 secs...\n"
     ]
    },
    {
     "name": "stderr",
     "output_type": "stream",
     "text": [
      "/tmp/ipykernel_26682/98459583.py:27: RuntimeWarning: Online software filter detected. Using software filter settings and ignoring hardware values\n",
      "  raw = mne.io.read_raw_brainvision(vhdr_path, preload=True)\n",
      "/tmp/ipykernel_26682/98459583.py:27: RuntimeWarning: Channels contain different highpass filters. Lowest (weakest) filter setting (0.00 Hz) will be stored.\n",
      "  raw = mne.io.read_raw_brainvision(vhdr_path, preload=True)\n",
      "/tmp/ipykernel_26682/98459583.py:27: RuntimeWarning: Channels contain different lowpass filters. Highest (weakest) filter setting (1250.00 Hz, Nyquist limit) will be stored.\n",
      "  raw = mne.io.read_raw_brainvision(vhdr_path, preload=True)\n"
     ]
    },
    {
     "name": "stdout",
     "output_type": "stream",
     "text": [
      "Filtering raw data in 1 contiguous segment\n",
      "Setting up band-stop filter from 59 - 61 Hz\n",
      "\n",
      "FIR filter parameters\n",
      "---------------------\n",
      "Designing a one-pass, zero-phase, non-causal bandstop filter:\n",
      "- Windowed time-domain design (firwin) method\n",
      "- Hamming window with 0.0194 passband ripple and 53 dB stopband attenuation\n",
      "- Lower passband edge: 59.35\n",
      "- Lower transition bandwidth: 0.50 Hz (-6 dB cutoff frequency: 59.10 Hz)\n",
      "- Upper passband edge: 60.65 Hz\n",
      "- Upper transition bandwidth: 0.50 Hz (-6 dB cutoff frequency: 60.90 Hz)\n",
      "- Filter length: 1691 samples (6.605 s)\n",
      "\n",
      "Filtering raw data in 1 contiguous segment\n",
      "Setting up band-pass filter from 8 - 30 Hz\n",
      "\n",
      "FIR filter parameters\n",
      "---------------------\n",
      "Designing a one-pass, zero-phase, non-causal bandpass filter:\n",
      "- Windowed time-domain design (firwin) method\n",
      "- Hamming window with 0.0194 passband ripple and 53 dB stopband attenuation\n",
      "- Lower passband edge: 8.00\n",
      "- Lower transition bandwidth: 2.00 Hz (-6 dB cutoff frequency: 7.00 Hz)\n",
      "- Upper passband edge: 30.00 Hz\n",
      "- Upper transition bandwidth: 7.50 Hz (-6 dB cutoff frequency: 33.75 Hz)\n",
      "- Filter length: 423 samples (1.652 s)\n",
      "\n"
     ]
    },
    {
     "name": "stderr",
     "output_type": "stream",
     "text": [
      "[Parallel(n_jobs=1)]: Done  17 tasks      | elapsed:    0.1s\n",
      "[Parallel(n_jobs=1)]: Done  60 out of  60 | elapsed:    0.2s finished\n"
     ]
    },
    {
     "name": "stdout",
     "output_type": "stream",
     "text": [
      "Fitting ICA to data using 60 channels (please be patient, this may take a while)\n"
     ]
    },
    {
     "name": "stderr",
     "output_type": "stream",
     "text": [
      "[Parallel(n_jobs=1)]: Done  17 tasks      | elapsed:    0.0s\n",
      "[Parallel(n_jobs=1)]: Done  60 out of  60 | elapsed:    0.2s finished\n"
     ]
    },
    {
     "name": "stdout",
     "output_type": "stream",
     "text": [
      "Selecting by number: 15 components\n",
      "Fitting ICA took 0.1s.\n",
      "Applying ICA to Raw instance\n",
      "    Transforming to ICA space (15 components)\n",
      "    Zeroing out 0 ICA components\n",
      "    Projecting back using 60 PCA components\n",
      "Used Annotations descriptions: [np.str_('Comment/actiCAP Data On'), np.str_('New Segment/'), np.str_('Stimulus/S  8'), np.str_('Stimulus/S  9'), np.str_('Stimulus/S 10'), np.str_('Stimulus/S 13'), np.str_('Stimulus/S 14'), np.str_('Stimulus/S 91'), np.str_('Stimulus/S101')]\n",
      "Not setting metadata\n",
      "100 matching events found\n",
      "Setting baseline interval to [-0.19921875, 0.0] s\n",
      "Applying baseline correction (mode: mean)\n",
      "0 projection items activated\n",
      "Using data from preloaded Raw for 100 events and 564 original time points ...\n",
      "    Rejecting  epoch based on EEG : ['F5', 'FC5', 'C5', 'C3']\n",
      "    Rejecting  epoch based on EEG : ['AF7', 'F7', 'F5', 'FT7', 'FC5', 'FC3', 'T7', 'C5', 'C3', 'TP7', 'CP3', 'F6', 'F8', 'FC6', 'FT8', 'C6']\n",
      "2 bad epochs dropped\n",
      "✅ Saved: session3_sub17_twist_MI.npz | Shape: (98, 60, 564)\n",
      "\n",
      "🧠 Processing: /storage/projects1/e19-4yp-mi-eeg-for-bci/rawdata/session1_sub11_twist_MI.vhdr\n",
      "Extracting parameters from /storage/projects1/e19-4yp-mi-eeg-for-bci/rawdata/session1_sub11_twist_MI.vhdr...\n",
      "Setting channel info structure...\n",
      "Reading 0 ... 2580799  =      0.000 ...  1032.320 secs...\n"
     ]
    },
    {
     "name": "stderr",
     "output_type": "stream",
     "text": [
      "/tmp/ipykernel_26682/98459583.py:27: RuntimeWarning: Online software filter detected. Using software filter settings and ignoring hardware values\n",
      "  raw = mne.io.read_raw_brainvision(vhdr_path, preload=True)\n",
      "/tmp/ipykernel_26682/98459583.py:27: RuntimeWarning: Channels contain different highpass filters. Lowest (weakest) filter setting (0.00 Hz) will be stored.\n",
      "  raw = mne.io.read_raw_brainvision(vhdr_path, preload=True)\n",
      "/tmp/ipykernel_26682/98459583.py:27: RuntimeWarning: Channels contain different lowpass filters. Highest (weakest) filter setting (1250.00 Hz, Nyquist limit) will be stored.\n",
      "  raw = mne.io.read_raw_brainvision(vhdr_path, preload=True)\n"
     ]
    },
    {
     "name": "stdout",
     "output_type": "stream",
     "text": [
      "Filtering raw data in 1 contiguous segment\n",
      "Setting up band-stop filter from 59 - 61 Hz\n",
      "\n",
      "FIR filter parameters\n",
      "---------------------\n",
      "Designing a one-pass, zero-phase, non-causal bandstop filter:\n",
      "- Windowed time-domain design (firwin) method\n",
      "- Hamming window with 0.0194 passband ripple and 53 dB stopband attenuation\n",
      "- Lower passband edge: 59.35\n",
      "- Lower transition bandwidth: 0.50 Hz (-6 dB cutoff frequency: 59.10 Hz)\n",
      "- Upper passband edge: 60.65 Hz\n",
      "- Upper transition bandwidth: 0.50 Hz (-6 dB cutoff frequency: 60.90 Hz)\n",
      "- Filter length: 1691 samples (6.605 s)\n",
      "\n",
      "Filtering raw data in 1 contiguous segment\n",
      "Setting up band-pass filter from 8 - 30 Hz\n",
      "\n",
      "FIR filter parameters\n",
      "---------------------\n",
      "Designing a one-pass, zero-phase, non-causal bandpass filter:\n",
      "- Windowed time-domain design (firwin) method\n",
      "- Hamming window with 0.0194 passband ripple and 53 dB stopband attenuation\n",
      "- Lower passband edge: 8.00\n",
      "- Lower transition bandwidth: 2.00 Hz (-6 dB cutoff frequency: 7.00 Hz)\n",
      "- Upper passband edge: 30.00 Hz\n",
      "- Upper transition bandwidth: 7.50 Hz (-6 dB cutoff frequency: 33.75 Hz)\n",
      "- Filter length: 423 samples (1.652 s)\n",
      "\n"
     ]
    },
    {
     "name": "stderr",
     "output_type": "stream",
     "text": [
      "[Parallel(n_jobs=1)]: Done  17 tasks      | elapsed:    0.0s\n",
      "[Parallel(n_jobs=1)]: Done  60 out of  60 | elapsed:    0.2s finished\n",
      "[Parallel(n_jobs=1)]: Done  17 tasks      | elapsed:    0.0s\n"
     ]
    },
    {
     "name": "stdout",
     "output_type": "stream",
     "text": [
      "Fitting ICA to data using 60 channels (please be patient, this may take a while)\n",
      "Selecting by number: 15 components\n",
      "Fitting ICA took 0.2s.\n",
      "Applying ICA to Raw instance\n"
     ]
    },
    {
     "name": "stderr",
     "output_type": "stream",
     "text": [
      "[Parallel(n_jobs=1)]: Done  60 out of  60 | elapsed:    0.2s finished\n"
     ]
    },
    {
     "name": "stdout",
     "output_type": "stream",
     "text": [
      "    Transforming to ICA space (15 components)\n",
      "    Zeroing out 0 ICA components\n",
      "    Projecting back using 60 PCA components\n",
      "Used Annotations descriptions: [np.str_('Comment/actiCAP Active Shield On'), np.str_('New Segment/'), np.str_('Stimulus/S  8'), np.str_('Stimulus/S  9'), np.str_('Stimulus/S 10'), np.str_('Stimulus/S 13'), np.str_('Stimulus/S 14'), np.str_('Stimulus/S 91'), np.str_('Stimulus/S101')]\n",
      "Not setting metadata\n",
      "100 matching events found\n",
      "Setting baseline interval to [-0.19921875, 0.0] s\n",
      "Applying baseline correction (mode: mean)\n",
      "0 projection items activated\n",
      "Using data from preloaded Raw for 100 events and 564 original time points ...\n",
      "0 bad epochs dropped\n",
      "✅ Saved: session1_sub11_twist_MI.npz | Shape: (100, 60, 564)\n",
      "\n",
      "🧠 Processing: /storage/projects1/e19-4yp-mi-eeg-for-bci/rawdata/session2_sub16_twist_MI.vhdr\n",
      "Extracting parameters from /storage/projects1/e19-4yp-mi-eeg-for-bci/rawdata/session2_sub16_twist_MI.vhdr...\n",
      "Setting channel info structure...\n",
      "Reading 0 ... 2582799  =      0.000 ...  1033.120 secs...\n"
     ]
    },
    {
     "name": "stderr",
     "output_type": "stream",
     "text": [
      "/tmp/ipykernel_26682/98459583.py:27: RuntimeWarning: Online software filter detected. Using software filter settings and ignoring hardware values\n",
      "  raw = mne.io.read_raw_brainvision(vhdr_path, preload=True)\n",
      "/tmp/ipykernel_26682/98459583.py:27: RuntimeWarning: Channels contain different highpass filters. Lowest (weakest) filter setting (0.00 Hz) will be stored.\n",
      "  raw = mne.io.read_raw_brainvision(vhdr_path, preload=True)\n",
      "/tmp/ipykernel_26682/98459583.py:27: RuntimeWarning: Channels contain different lowpass filters. Highest (weakest) filter setting (1250.00 Hz, Nyquist limit) will be stored.\n",
      "  raw = mne.io.read_raw_brainvision(vhdr_path, preload=True)\n"
     ]
    },
    {
     "name": "stdout",
     "output_type": "stream",
     "text": [
      "Filtering raw data in 1 contiguous segment\n",
      "Setting up band-stop filter from 59 - 61 Hz\n",
      "\n",
      "FIR filter parameters\n",
      "---------------------\n",
      "Designing a one-pass, zero-phase, non-causal bandstop filter:\n",
      "- Windowed time-domain design (firwin) method\n",
      "- Hamming window with 0.0194 passband ripple and 53 dB stopband attenuation\n",
      "- Lower passband edge: 59.35\n",
      "- Lower transition bandwidth: 0.50 Hz (-6 dB cutoff frequency: 59.10 Hz)\n",
      "- Upper passband edge: 60.65 Hz\n",
      "- Upper transition bandwidth: 0.50 Hz (-6 dB cutoff frequency: 60.90 Hz)\n",
      "- Filter length: 1691 samples (6.605 s)\n",
      "\n",
      "Filtering raw data in 1 contiguous segment\n",
      "Setting up band-pass filter from 8 - 30 Hz\n",
      "\n",
      "FIR filter parameters\n",
      "---------------------\n",
      "Designing a one-pass, zero-phase, non-causal bandpass filter:\n",
      "- Windowed time-domain design (firwin) method\n",
      "- Hamming window with 0.0194 passband ripple and 53 dB stopband attenuation\n",
      "- Lower passband edge: 8.00\n",
      "- Lower transition bandwidth: 2.00 Hz (-6 dB cutoff frequency: 7.00 Hz)\n",
      "- Upper passband edge: 30.00 Hz\n",
      "- Upper transition bandwidth: 7.50 Hz (-6 dB cutoff frequency: 33.75 Hz)\n",
      "- Filter length: 423 samples (1.652 s)\n",
      "\n"
     ]
    },
    {
     "name": "stderr",
     "output_type": "stream",
     "text": [
      "[Parallel(n_jobs=1)]: Done  17 tasks      | elapsed:    0.1s\n",
      "[Parallel(n_jobs=1)]: Done  60 out of  60 | elapsed:    0.2s finished\n"
     ]
    },
    {
     "name": "stdout",
     "output_type": "stream",
     "text": [
      "Fitting ICA to data using 60 channels (please be patient, this may take a while)\n"
     ]
    },
    {
     "name": "stderr",
     "output_type": "stream",
     "text": [
      "[Parallel(n_jobs=1)]: Done  17 tasks      | elapsed:    0.1s\n",
      "[Parallel(n_jobs=1)]: Done  60 out of  60 | elapsed:    0.2s finished\n"
     ]
    },
    {
     "name": "stdout",
     "output_type": "stream",
     "text": [
      "Selecting by number: 15 components\n",
      "Fitting ICA took 0.1s.\n",
      "Applying ICA to Raw instance\n",
      "    Transforming to ICA space (15 components)\n",
      "    Zeroing out 0 ICA components\n",
      "    Projecting back using 60 PCA components\n",
      "Used Annotations descriptions: [np.str_('Comment/actiCAP Active Shield On'), np.str_('New Segment/'), np.str_('Stimulus/S  8'), np.str_('Stimulus/S  9'), np.str_('Stimulus/S 10'), np.str_('Stimulus/S 13'), np.str_('Stimulus/S 14'), np.str_('Stimulus/S 91'), np.str_('Stimulus/S101')]\n",
      "Not setting metadata\n",
      "100 matching events found\n",
      "Setting baseline interval to [-0.19921875, 0.0] s\n",
      "Applying baseline correction (mode: mean)\n",
      "0 projection items activated\n",
      "Using data from preloaded Raw for 100 events and 564 original time points ...\n",
      "    Rejecting  epoch based on EEG : ['P8', 'PO8', 'O2']\n",
      "    Rejecting  epoch based on EEG : ['PO8']\n",
      "    Rejecting  epoch based on EEG : ['FC5', 'AF4', 'F4', 'F6', 'F8', 'FC6', 'FT8']\n",
      "    Rejecting  epoch based on EEG : ['PO4', 'PO8']\n",
      "    Rejecting  epoch based on EEG : ['PO8']\n",
      "    Rejecting  epoch based on EEG : ['PO8']\n",
      "    Rejecting  epoch based on EEG : ['O1']\n",
      "    Rejecting  epoch based on EEG : ['FC6']\n",
      "    Rejecting  epoch based on EEG : ['PO8']\n",
      "    Rejecting  epoch based on EEG : ['F7', 'FT7', 'FC5', 'FC3', 'T7', 'C5', 'C3', 'CP5', 'AF4', 'F4', 'F6', 'F8', 'FC4', 'FC6', 'FT8', 'C4', 'T8']\n",
      "    Rejecting  epoch based on EEG : ['PO8', 'O2']\n",
      "    Rejecting  epoch based on EEG : ['PO8', 'O2']\n",
      "    Rejecting  epoch based on EEG : ['PO8']\n",
      "    Rejecting  epoch based on EEG : ['PO7', 'PO8', 'O1']\n",
      "    Rejecting  epoch based on EEG : ['PO7', 'P8', 'PO8', 'O1', 'Oz', 'O2']\n",
      "    Rejecting  epoch based on EEG : ['PO8']\n",
      "    Rejecting  epoch based on EEG : ['PO7', 'PO8', 'O1']\n",
      "    Rejecting  epoch based on EEG : ['PO8', 'O2']\n",
      "    Rejecting  epoch based on EEG : ['PO8']\n",
      "    Rejecting  epoch based on EEG : ['PO8']\n",
      "    Rejecting  epoch based on EEG : ['PO7', 'PO8', 'O1']\n",
      "    Rejecting  epoch based on EEG : ['PO8']\n",
      "    Rejecting  epoch based on EEG : ['PO8']\n",
      "    Rejecting  epoch based on EEG : ['AF8']\n",
      "24 bad epochs dropped\n",
      "✅ Saved: session2_sub16_twist_MI.npz | Shape: (76, 60, 564)\n",
      "\n",
      "🧠 Processing: /storage/projects1/e19-4yp-mi-eeg-for-bci/rawdata/session1_sub6_twist_MI.vhdr\n",
      "Extracting parameters from /storage/projects1/e19-4yp-mi-eeg-for-bci/rawdata/session1_sub6_twist_MI.vhdr...\n",
      "Setting channel info structure...\n",
      "Reading 0 ... 2613499  =      0.000 ...  1045.400 secs...\n"
     ]
    },
    {
     "name": "stderr",
     "output_type": "stream",
     "text": [
      "/tmp/ipykernel_26682/98459583.py:27: RuntimeWarning: Online software filter detected. Using software filter settings and ignoring hardware values\n",
      "  raw = mne.io.read_raw_brainvision(vhdr_path, preload=True)\n",
      "/tmp/ipykernel_26682/98459583.py:27: RuntimeWarning: Channels contain different highpass filters. Lowest (weakest) filter setting (0.00 Hz) will be stored.\n",
      "  raw = mne.io.read_raw_brainvision(vhdr_path, preload=True)\n",
      "/tmp/ipykernel_26682/98459583.py:27: RuntimeWarning: Channels contain different lowpass filters. Highest (weakest) filter setting (1250.00 Hz, Nyquist limit) will be stored.\n",
      "  raw = mne.io.read_raw_brainvision(vhdr_path, preload=True)\n"
     ]
    },
    {
     "name": "stdout",
     "output_type": "stream",
     "text": [
      "Filtering raw data in 1 contiguous segment\n",
      "Setting up band-stop filter from 59 - 61 Hz\n",
      "\n",
      "FIR filter parameters\n",
      "---------------------\n",
      "Designing a one-pass, zero-phase, non-causal bandstop filter:\n",
      "- Windowed time-domain design (firwin) method\n",
      "- Hamming window with 0.0194 passband ripple and 53 dB stopband attenuation\n",
      "- Lower passband edge: 59.35\n",
      "- Lower transition bandwidth: 0.50 Hz (-6 dB cutoff frequency: 59.10 Hz)\n",
      "- Upper passband edge: 60.65 Hz\n",
      "- Upper transition bandwidth: 0.50 Hz (-6 dB cutoff frequency: 60.90 Hz)\n",
      "- Filter length: 1691 samples (6.605 s)\n",
      "\n",
      "Filtering raw data in 1 contiguous segment\n",
      "Setting up band-pass filter from 8 - 30 Hz\n",
      "\n",
      "FIR filter parameters\n",
      "---------------------\n",
      "Designing a one-pass, zero-phase, non-causal bandpass filter:\n",
      "- Windowed time-domain design (firwin) method\n",
      "- Hamming window with 0.0194 passband ripple and 53 dB stopband attenuation\n",
      "- Lower passband edge: 8.00\n",
      "- Lower transition bandwidth: 2.00 Hz (-6 dB cutoff frequency: 7.00 Hz)\n",
      "- Upper passband edge: 30.00 Hz\n",
      "- Upper transition bandwidth: 7.50 Hz (-6 dB cutoff frequency: 33.75 Hz)\n",
      "- Filter length: 423 samples (1.652 s)\n",
      "\n"
     ]
    },
    {
     "name": "stderr",
     "output_type": "stream",
     "text": [
      "[Parallel(n_jobs=1)]: Done  17 tasks      | elapsed:    0.0s\n",
      "[Parallel(n_jobs=1)]: Done  60 out of  60 | elapsed:    0.2s finished\n",
      "[Parallel(n_jobs=1)]: Done  17 tasks      | elapsed:    0.0s\n"
     ]
    },
    {
     "name": "stdout",
     "output_type": "stream",
     "text": [
      "Fitting ICA to data using 60 channels (please be patient, this may take a while)\n",
      "Selecting by number: 15 components\n"
     ]
    },
    {
     "name": "stderr",
     "output_type": "stream",
     "text": [
      "[Parallel(n_jobs=1)]: Done  60 out of  60 | elapsed:    0.2s finished\n"
     ]
    },
    {
     "name": "stdout",
     "output_type": "stream",
     "text": [
      "Fitting ICA took 0.3s.\n",
      "Applying ICA to Raw instance\n",
      "    Transforming to ICA space (15 components)\n",
      "    Zeroing out 0 ICA components\n",
      "    Projecting back using 60 PCA components\n",
      "Used Annotations descriptions: [np.str_('Comment/ControlBox is not connected via USB'), np.str_('Comment/actiCAP USB Power On'), np.str_('New Segment/'), np.str_('Stimulus/S  8'), np.str_('Stimulus/S  9'), np.str_('Stimulus/S 10'), np.str_('Stimulus/S 13'), np.str_('Stimulus/S 14'), np.str_('Stimulus/S 91'), np.str_('Stimulus/S101')]\n",
      "Not setting metadata\n",
      "100 matching events found\n",
      "Setting baseline interval to [-0.19921875, 0.0] s\n",
      "Applying baseline correction (mode: mean)\n",
      "0 projection items activated\n",
      "Using data from preloaded Raw for 100 events and 564 original time points ...\n",
      "0 bad epochs dropped\n",
      "✅ Saved: session1_sub6_twist_MI.npz | Shape: (100, 60, 564)\n",
      "\n",
      "🧠 Processing: /storage/projects1/e19-4yp-mi-eeg-for-bci/rawdata/session1_sub20_twist_MI.vhdr\n",
      "Extracting parameters from /storage/projects1/e19-4yp-mi-eeg-for-bci/rawdata/session1_sub20_twist_MI.vhdr...\n",
      "Setting channel info structure...\n",
      "Reading 0 ... 2583499  =      0.000 ...  1033.400 secs...\n"
     ]
    },
    {
     "name": "stderr",
     "output_type": "stream",
     "text": [
      "/tmp/ipykernel_26682/98459583.py:27: RuntimeWarning: Online software filter detected. Using software filter settings and ignoring hardware values\n",
      "  raw = mne.io.read_raw_brainvision(vhdr_path, preload=True)\n",
      "/tmp/ipykernel_26682/98459583.py:27: RuntimeWarning: Channels contain different highpass filters. Lowest (weakest) filter setting (0.00 Hz) will be stored.\n",
      "  raw = mne.io.read_raw_brainvision(vhdr_path, preload=True)\n",
      "/tmp/ipykernel_26682/98459583.py:27: RuntimeWarning: Channels contain different lowpass filters. Highest (weakest) filter setting (1250.00 Hz, Nyquist limit) will be stored.\n",
      "  raw = mne.io.read_raw_brainvision(vhdr_path, preload=True)\n"
     ]
    },
    {
     "name": "stdout",
     "output_type": "stream",
     "text": [
      "Filtering raw data in 1 contiguous segment\n",
      "Setting up band-stop filter from 59 - 61 Hz\n",
      "\n",
      "FIR filter parameters\n",
      "---------------------\n",
      "Designing a one-pass, zero-phase, non-causal bandstop filter:\n",
      "- Windowed time-domain design (firwin) method\n",
      "- Hamming window with 0.0194 passband ripple and 53 dB stopband attenuation\n",
      "- Lower passband edge: 59.35\n",
      "- Lower transition bandwidth: 0.50 Hz (-6 dB cutoff frequency: 59.10 Hz)\n",
      "- Upper passband edge: 60.65 Hz\n",
      "- Upper transition bandwidth: 0.50 Hz (-6 dB cutoff frequency: 60.90 Hz)\n",
      "- Filter length: 1691 samples (6.605 s)\n",
      "\n",
      "Filtering raw data in 1 contiguous segment\n",
      "Setting up band-pass filter from 8 - 30 Hz\n",
      "\n",
      "FIR filter parameters\n",
      "---------------------\n",
      "Designing a one-pass, zero-phase, non-causal bandpass filter:\n",
      "- Windowed time-domain design (firwin) method\n",
      "- Hamming window with 0.0194 passband ripple and 53 dB stopband attenuation\n",
      "- Lower passband edge: 8.00\n",
      "- Lower transition bandwidth: 2.00 Hz (-6 dB cutoff frequency: 7.00 Hz)\n",
      "- Upper passband edge: 30.00 Hz\n",
      "- Upper transition bandwidth: 7.50 Hz (-6 dB cutoff frequency: 33.75 Hz)\n",
      "- Filter length: 423 samples (1.652 s)\n",
      "\n"
     ]
    },
    {
     "name": "stderr",
     "output_type": "stream",
     "text": [
      "[Parallel(n_jobs=1)]: Done  17 tasks      | elapsed:    0.0s\n",
      "[Parallel(n_jobs=1)]: Done  60 out of  60 | elapsed:    0.2s finished\n"
     ]
    },
    {
     "name": "stdout",
     "output_type": "stream",
     "text": [
      "Fitting ICA to data using 60 channels (please be patient, this may take a while)\n"
     ]
    },
    {
     "name": "stderr",
     "output_type": "stream",
     "text": [
      "[Parallel(n_jobs=1)]: Done  17 tasks      | elapsed:    0.0s\n",
      "[Parallel(n_jobs=1)]: Done  60 out of  60 | elapsed:    0.2s finished\n"
     ]
    },
    {
     "name": "stdout",
     "output_type": "stream",
     "text": [
      "Selecting by number: 15 components\n",
      "Fitting ICA took 0.1s.\n",
      "Applying ICA to Raw instance\n",
      "    Transforming to ICA space (15 components)\n",
      "    Zeroing out 0 ICA components\n",
      "    Projecting back using 60 PCA components\n",
      "Used Annotations descriptions: [np.str_('Comment/actiCAP Data On'), np.str_('New Segment/'), np.str_('Stimulus/S  8'), np.str_('Stimulus/S  9'), np.str_('Stimulus/S 10'), np.str_('Stimulus/S 13'), np.str_('Stimulus/S 14'), np.str_('Stimulus/S 91'), np.str_('Stimulus/S101')]\n",
      "Not setting metadata\n",
      "100 matching events found\n",
      "Setting baseline interval to [-0.19921875, 0.0] s\n",
      "Applying baseline correction (mode: mean)\n",
      "0 projection items activated\n",
      "Using data from preloaded Raw for 100 events and 564 original time points ...\n",
      "    Rejecting  epoch based on EEG : ['F7', 'F5', 'F3', 'FT7', 'T7', 'AF8', 'F6', 'F8', 'FC4', 'FT8', 'C4', 'T8', 'CP6']\n",
      "    Rejecting  epoch based on EEG : ['F8']\n",
      "2 bad epochs dropped\n",
      "✅ Saved: session1_sub20_twist_MI.npz | Shape: (98, 60, 564)\n",
      "\n",
      "🧠 Processing: /storage/projects1/e19-4yp-mi-eeg-for-bci/rawdata/session1_sub2_twist_MI.vhdr\n",
      "Extracting parameters from /storage/projects1/e19-4yp-mi-eeg-for-bci/rawdata/session1_sub2_twist_MI.vhdr...\n",
      "Setting channel info structure...\n",
      "Reading 0 ... 2578699  =      0.000 ...  1031.480 secs...\n"
     ]
    },
    {
     "name": "stderr",
     "output_type": "stream",
     "text": [
      "/tmp/ipykernel_26682/98459583.py:27: RuntimeWarning: Online software filter detected. Using software filter settings and ignoring hardware values\n",
      "  raw = mne.io.read_raw_brainvision(vhdr_path, preload=True)\n",
      "/tmp/ipykernel_26682/98459583.py:27: RuntimeWarning: Channels contain different highpass filters. Lowest (weakest) filter setting (0.00 Hz) will be stored.\n",
      "  raw = mne.io.read_raw_brainvision(vhdr_path, preload=True)\n",
      "/tmp/ipykernel_26682/98459583.py:27: RuntimeWarning: Channels contain different lowpass filters. Highest (weakest) filter setting (1250.00 Hz, Nyquist limit) will be stored.\n",
      "  raw = mne.io.read_raw_brainvision(vhdr_path, preload=True)\n"
     ]
    },
    {
     "name": "stdout",
     "output_type": "stream",
     "text": [
      "Filtering raw data in 1 contiguous segment\n",
      "Setting up band-stop filter from 59 - 61 Hz\n",
      "\n",
      "FIR filter parameters\n",
      "---------------------\n",
      "Designing a one-pass, zero-phase, non-causal bandstop filter:\n",
      "- Windowed time-domain design (firwin) method\n",
      "- Hamming window with 0.0194 passband ripple and 53 dB stopband attenuation\n",
      "- Lower passband edge: 59.35\n",
      "- Lower transition bandwidth: 0.50 Hz (-6 dB cutoff frequency: 59.10 Hz)\n",
      "- Upper passband edge: 60.65 Hz\n",
      "- Upper transition bandwidth: 0.50 Hz (-6 dB cutoff frequency: 60.90 Hz)\n",
      "- Filter length: 1691 samples (6.605 s)\n",
      "\n",
      "Filtering raw data in 1 contiguous segment\n",
      "Setting up band-pass filter from 8 - 30 Hz\n",
      "\n",
      "FIR filter parameters\n",
      "---------------------\n",
      "Designing a one-pass, zero-phase, non-causal bandpass filter:\n",
      "- Windowed time-domain design (firwin) method\n",
      "- Hamming window with 0.0194 passband ripple and 53 dB stopband attenuation\n",
      "- Lower passband edge: 8.00\n",
      "- Lower transition bandwidth: 2.00 Hz (-6 dB cutoff frequency: 7.00 Hz)\n",
      "- Upper passband edge: 30.00 Hz\n",
      "- Upper transition bandwidth: 7.50 Hz (-6 dB cutoff frequency: 33.75 Hz)\n",
      "- Filter length: 423 samples (1.652 s)\n",
      "\n"
     ]
    },
    {
     "name": "stderr",
     "output_type": "stream",
     "text": [
      "[Parallel(n_jobs=1)]: Done  17 tasks      | elapsed:    0.1s\n",
      "[Parallel(n_jobs=1)]: Done  60 out of  60 | elapsed:    0.2s finished\n"
     ]
    },
    {
     "name": "stdout",
     "output_type": "stream",
     "text": [
      "Fitting ICA to data using 60 channels (please be patient, this may take a while)\n"
     ]
    },
    {
     "name": "stderr",
     "output_type": "stream",
     "text": [
      "[Parallel(n_jobs=1)]: Done  17 tasks      | elapsed:    0.1s\n",
      "[Parallel(n_jobs=1)]: Done  60 out of  60 | elapsed:    0.2s finished\n"
     ]
    },
    {
     "name": "stdout",
     "output_type": "stream",
     "text": [
      "Selecting by number: 15 components\n",
      "Fitting ICA took 0.2s.\n",
      "Applying ICA to Raw instance\n",
      "    Transforming to ICA space (15 components)\n",
      "    Zeroing out 0 ICA components\n",
      "    Projecting back using 60 PCA components\n",
      "Used Annotations descriptions: [np.str_('Comment/actiCAP Active Shield On'), np.str_('New Segment/'), np.str_('Stimulus/S  8'), np.str_('Stimulus/S  9'), np.str_('Stimulus/S 10'), np.str_('Stimulus/S 13'), np.str_('Stimulus/S 14'), np.str_('Stimulus/S 91'), np.str_('Stimulus/S101')]\n",
      "Not setting metadata\n",
      "100 matching events found\n",
      "Setting baseline interval to [-0.19921875, 0.0] s\n",
      "Applying baseline correction (mode: mean)\n",
      "0 projection items activated\n",
      "Using data from preloaded Raw for 100 events and 564 original time points ...\n",
      "    Rejecting  epoch based on EEG : ['FC5']\n",
      "    Rejecting  epoch based on EEG : ['FC5', 'FC6', 'FT8', 'T8']\n",
      "    Rejecting  epoch based on EEG : ['POz', 'AF8', 'F4', 'F8', 'FC4', 'FC6', 'FT8', 'C6', 'T8', 'TP8']\n",
      "    Rejecting  epoch based on EEG : ['POz']\n",
      "    Rejecting  epoch based on EEG : ['POz']\n",
      "5 bad epochs dropped\n",
      "✅ Saved: session1_sub2_twist_MI.npz | Shape: (95, 60, 564)\n",
      "\n",
      "🧠 Processing: /storage/projects1/e19-4yp-mi-eeg-for-bci/rawdata/session2_sub21_twist_MI.vhdr\n",
      "Extracting parameters from /storage/projects1/e19-4yp-mi-eeg-for-bci/rawdata/session2_sub21_twist_MI.vhdr...\n",
      "Setting channel info structure...\n",
      "Reading 0 ... 2573699  =      0.000 ...  1029.480 secs...\n"
     ]
    },
    {
     "name": "stderr",
     "output_type": "stream",
     "text": [
      "/tmp/ipykernel_26682/98459583.py:27: RuntimeWarning: Online software filter detected. Using software filter settings and ignoring hardware values\n",
      "  raw = mne.io.read_raw_brainvision(vhdr_path, preload=True)\n",
      "/tmp/ipykernel_26682/98459583.py:27: RuntimeWarning: Channels contain different highpass filters. Lowest (weakest) filter setting (0.00 Hz) will be stored.\n",
      "  raw = mne.io.read_raw_brainvision(vhdr_path, preload=True)\n",
      "/tmp/ipykernel_26682/98459583.py:27: RuntimeWarning: Channels contain different lowpass filters. Highest (weakest) filter setting (1250.00 Hz, Nyquist limit) will be stored.\n",
      "  raw = mne.io.read_raw_brainvision(vhdr_path, preload=True)\n"
     ]
    },
    {
     "name": "stdout",
     "output_type": "stream",
     "text": [
      "Filtering raw data in 1 contiguous segment\n",
      "Setting up band-stop filter from 59 - 61 Hz\n",
      "\n",
      "FIR filter parameters\n",
      "---------------------\n",
      "Designing a one-pass, zero-phase, non-causal bandstop filter:\n",
      "- Windowed time-domain design (firwin) method\n",
      "- Hamming window with 0.0194 passband ripple and 53 dB stopband attenuation\n",
      "- Lower passband edge: 59.35\n",
      "- Lower transition bandwidth: 0.50 Hz (-6 dB cutoff frequency: 59.10 Hz)\n",
      "- Upper passband edge: 60.65 Hz\n",
      "- Upper transition bandwidth: 0.50 Hz (-6 dB cutoff frequency: 60.90 Hz)\n",
      "- Filter length: 1691 samples (6.605 s)\n",
      "\n",
      "Filtering raw data in 1 contiguous segment\n",
      "Setting up band-pass filter from 8 - 30 Hz\n",
      "\n",
      "FIR filter parameters\n",
      "---------------------\n",
      "Designing a one-pass, zero-phase, non-causal bandpass filter:\n",
      "- Windowed time-domain design (firwin) method\n",
      "- Hamming window with 0.0194 passband ripple and 53 dB stopband attenuation\n",
      "- Lower passband edge: 8.00\n",
      "- Lower transition bandwidth: 2.00 Hz (-6 dB cutoff frequency: 7.00 Hz)\n",
      "- Upper passband edge: 30.00 Hz\n",
      "- Upper transition bandwidth: 7.50 Hz (-6 dB cutoff frequency: 33.75 Hz)\n",
      "- Filter length: 423 samples (1.652 s)\n",
      "\n"
     ]
    },
    {
     "name": "stderr",
     "output_type": "stream",
     "text": [
      "[Parallel(n_jobs=1)]: Done  17 tasks      | elapsed:    0.0s\n",
      "[Parallel(n_jobs=1)]: Done  60 out of  60 | elapsed:    0.2s finished\n",
      "[Parallel(n_jobs=1)]: Done  17 tasks      | elapsed:    0.0s\n"
     ]
    },
    {
     "name": "stdout",
     "output_type": "stream",
     "text": [
      "Fitting ICA to data using 60 channels (please be patient, this may take a while)\n",
      "Selecting by number: 15 components\n"
     ]
    },
    {
     "name": "stderr",
     "output_type": "stream",
     "text": [
      "[Parallel(n_jobs=1)]: Done  60 out of  60 | elapsed:    0.2s finished\n"
     ]
    },
    {
     "name": "stdout",
     "output_type": "stream",
     "text": [
      "Fitting ICA took 0.2s.\n",
      "Applying ICA to Raw instance\n",
      "    Transforming to ICA space (15 components)\n",
      "    Zeroing out 0 ICA components\n",
      "    Projecting back using 60 PCA components\n",
      "Used Annotations descriptions: [np.str_('Comment/actiCAP Active Shield On'), np.str_('New Segment/'), np.str_('Stimulus/S  8'), np.str_('Stimulus/S  9'), np.str_('Stimulus/S 10'), np.str_('Stimulus/S 13'), np.str_('Stimulus/S 14'), np.str_('Stimulus/S 91'), np.str_('Stimulus/S101')]\n",
      "Not setting metadata\n",
      "100 matching events found\n",
      "Setting baseline interval to [-0.19921875, 0.0] s\n",
      "Applying baseline correction (mode: mean)\n",
      "0 projection items activated\n",
      "Using data from preloaded Raw for 100 events and 564 original time points ...\n",
      "    Rejecting  epoch based on EEG : ['P7', 'P5', 'P3', 'PO7', 'PO3', 'O1']\n",
      "1 bad epochs dropped\n",
      "✅ Saved: session2_sub21_twist_MI.npz | Shape: (99, 60, 564)\n",
      "\n",
      "🧠 Processing: /storage/projects1/e19-4yp-mi-eeg-for-bci/rawdata/session2_sub25_twist_MI.vhdr\n",
      "Extracting parameters from /storage/projects1/e19-4yp-mi-eeg-for-bci/rawdata/session2_sub25_twist_MI.vhdr...\n",
      "Setting channel info structure...\n",
      "Reading 0 ... 2586499  =      0.000 ...  1034.600 secs...\n"
     ]
    },
    {
     "name": "stderr",
     "output_type": "stream",
     "text": [
      "/tmp/ipykernel_26682/98459583.py:27: RuntimeWarning: Online software filter detected. Using software filter settings and ignoring hardware values\n",
      "  raw = mne.io.read_raw_brainvision(vhdr_path, preload=True)\n",
      "/tmp/ipykernel_26682/98459583.py:27: RuntimeWarning: Channels contain different highpass filters. Lowest (weakest) filter setting (0.00 Hz) will be stored.\n",
      "  raw = mne.io.read_raw_brainvision(vhdr_path, preload=True)\n",
      "/tmp/ipykernel_26682/98459583.py:27: RuntimeWarning: Channels contain different lowpass filters. Highest (weakest) filter setting (1250.00 Hz, Nyquist limit) will be stored.\n",
      "  raw = mne.io.read_raw_brainvision(vhdr_path, preload=True)\n"
     ]
    },
    {
     "name": "stdout",
     "output_type": "stream",
     "text": [
      "Filtering raw data in 1 contiguous segment\n",
      "Setting up band-stop filter from 59 - 61 Hz\n",
      "\n",
      "FIR filter parameters\n",
      "---------------------\n",
      "Designing a one-pass, zero-phase, non-causal bandstop filter:\n",
      "- Windowed time-domain design (firwin) method\n",
      "- Hamming window with 0.0194 passband ripple and 53 dB stopband attenuation\n",
      "- Lower passband edge: 59.35\n",
      "- Lower transition bandwidth: 0.50 Hz (-6 dB cutoff frequency: 59.10 Hz)\n",
      "- Upper passband edge: 60.65 Hz\n",
      "- Upper transition bandwidth: 0.50 Hz (-6 dB cutoff frequency: 60.90 Hz)\n",
      "- Filter length: 1691 samples (6.605 s)\n",
      "\n",
      "Filtering raw data in 1 contiguous segment\n",
      "Setting up band-pass filter from 8 - 30 Hz\n",
      "\n",
      "FIR filter parameters\n",
      "---------------------\n",
      "Designing a one-pass, zero-phase, non-causal bandpass filter:\n",
      "- Windowed time-domain design (firwin) method\n",
      "- Hamming window with 0.0194 passband ripple and 53 dB stopband attenuation\n",
      "- Lower passband edge: 8.00\n",
      "- Lower transition bandwidth: 2.00 Hz (-6 dB cutoff frequency: 7.00 Hz)\n",
      "- Upper passband edge: 30.00 Hz\n",
      "- Upper transition bandwidth: 7.50 Hz (-6 dB cutoff frequency: 33.75 Hz)\n",
      "- Filter length: 423 samples (1.652 s)\n",
      "\n"
     ]
    },
    {
     "name": "stderr",
     "output_type": "stream",
     "text": [
      "[Parallel(n_jobs=1)]: Done  17 tasks      | elapsed:    0.0s\n",
      "[Parallel(n_jobs=1)]: Done  60 out of  60 | elapsed:    0.2s finished\n",
      "[Parallel(n_jobs=1)]: Done  17 tasks      | elapsed:    0.0s\n"
     ]
    },
    {
     "name": "stdout",
     "output_type": "stream",
     "text": [
      "Fitting ICA to data using 60 channels (please be patient, this may take a while)\n",
      "Selecting by number: 15 components\n"
     ]
    },
    {
     "name": "stderr",
     "output_type": "stream",
     "text": [
      "[Parallel(n_jobs=1)]: Done  60 out of  60 | elapsed:    0.2s finished\n"
     ]
    },
    {
     "name": "stdout",
     "output_type": "stream",
     "text": [
      "Fitting ICA took 0.2s.\n",
      "Applying ICA to Raw instance\n",
      "    Transforming to ICA space (15 components)\n",
      "    Zeroing out 0 ICA components\n",
      "    Projecting back using 60 PCA components\n",
      "Used Annotations descriptions: [np.str_('Comment/actiCAP Active Shield On'), np.str_('New Segment/'), np.str_('Stimulus/S  8'), np.str_('Stimulus/S  9'), np.str_('Stimulus/S 10'), np.str_('Stimulus/S 13'), np.str_('Stimulus/S 14'), np.str_('Stimulus/S 91'), np.str_('Stimulus/S101')]\n",
      "Not setting metadata\n",
      "100 matching events found\n",
      "Setting baseline interval to [-0.19921875, 0.0] s\n",
      "Applying baseline correction (mode: mean)\n",
      "0 projection items activated\n",
      "Using data from preloaded Raw for 100 events and 564 original time points ...\n",
      "0 bad epochs dropped\n",
      "✅ Saved: session2_sub25_twist_MI.npz | Shape: (100, 60, 564)\n",
      "\n",
      "🧠 Processing: /storage/projects1/e19-4yp-mi-eeg-for-bci/rawdata/session1_sub8_twist_MI.vhdr\n",
      "Extracting parameters from /storage/projects1/e19-4yp-mi-eeg-for-bci/rawdata/session1_sub8_twist_MI.vhdr...\n",
      "Setting channel info structure...\n",
      "Reading 0 ... 2554599  =      0.000 ...  1021.840 secs...\n"
     ]
    },
    {
     "name": "stderr",
     "output_type": "stream",
     "text": [
      "/tmp/ipykernel_26682/98459583.py:27: RuntimeWarning: Online software filter detected. Using software filter settings and ignoring hardware values\n",
      "  raw = mne.io.read_raw_brainvision(vhdr_path, preload=True)\n",
      "/tmp/ipykernel_26682/98459583.py:27: RuntimeWarning: Channels contain different highpass filters. Lowest (weakest) filter setting (0.00 Hz) will be stored.\n",
      "  raw = mne.io.read_raw_brainvision(vhdr_path, preload=True)\n",
      "/tmp/ipykernel_26682/98459583.py:27: RuntimeWarning: Channels contain different lowpass filters. Highest (weakest) filter setting (1250.00 Hz, Nyquist limit) will be stored.\n",
      "  raw = mne.io.read_raw_brainvision(vhdr_path, preload=True)\n"
     ]
    },
    {
     "name": "stdout",
     "output_type": "stream",
     "text": [
      "Filtering raw data in 1 contiguous segment\n",
      "Setting up band-stop filter from 59 - 61 Hz\n",
      "\n",
      "FIR filter parameters\n",
      "---------------------\n",
      "Designing a one-pass, zero-phase, non-causal bandstop filter:\n",
      "- Windowed time-domain design (firwin) method\n",
      "- Hamming window with 0.0194 passband ripple and 53 dB stopband attenuation\n",
      "- Lower passband edge: 59.35\n",
      "- Lower transition bandwidth: 0.50 Hz (-6 dB cutoff frequency: 59.10 Hz)\n",
      "- Upper passband edge: 60.65 Hz\n",
      "- Upper transition bandwidth: 0.50 Hz (-6 dB cutoff frequency: 60.90 Hz)\n",
      "- Filter length: 1691 samples (6.605 s)\n",
      "\n",
      "Filtering raw data in 1 contiguous segment\n",
      "Setting up band-pass filter from 8 - 30 Hz\n",
      "\n",
      "FIR filter parameters\n",
      "---------------------\n",
      "Designing a one-pass, zero-phase, non-causal bandpass filter:\n",
      "- Windowed time-domain design (firwin) method\n",
      "- Hamming window with 0.0194 passband ripple and 53 dB stopband attenuation\n",
      "- Lower passband edge: 8.00\n",
      "- Lower transition bandwidth: 2.00 Hz (-6 dB cutoff frequency: 7.00 Hz)\n",
      "- Upper passband edge: 30.00 Hz\n",
      "- Upper transition bandwidth: 7.50 Hz (-6 dB cutoff frequency: 33.75 Hz)\n",
      "- Filter length: 423 samples (1.652 s)\n",
      "\n"
     ]
    },
    {
     "name": "stderr",
     "output_type": "stream",
     "text": [
      "[Parallel(n_jobs=1)]: Done  17 tasks      | elapsed:    0.1s\n",
      "[Parallel(n_jobs=1)]: Done  60 out of  60 | elapsed:    0.2s finished\n"
     ]
    },
    {
     "name": "stdout",
     "output_type": "stream",
     "text": [
      "Fitting ICA to data using 60 channels (please be patient, this may take a while)\n"
     ]
    },
    {
     "name": "stderr",
     "output_type": "stream",
     "text": [
      "[Parallel(n_jobs=1)]: Done  17 tasks      | elapsed:    0.0s\n",
      "[Parallel(n_jobs=1)]: Done  60 out of  60 | elapsed:    0.2s finished\n"
     ]
    },
    {
     "name": "stdout",
     "output_type": "stream",
     "text": [
      "Selecting by number: 15 components\n",
      "Fitting ICA took 0.2s.\n",
      "Applying ICA to Raw instance\n",
      "    Transforming to ICA space (15 components)\n",
      "    Zeroing out 0 ICA components\n",
      "    Projecting back using 60 PCA components\n",
      "Used Annotations descriptions: [np.str_('Comment/actiCAP Data On'), np.str_('New Segment/'), np.str_('Stimulus/S  8'), np.str_('Stimulus/S  9'), np.str_('Stimulus/S 10'), np.str_('Stimulus/S 13'), np.str_('Stimulus/S 14'), np.str_('Stimulus/S 91'), np.str_('Stimulus/S101')]\n",
      "Not setting metadata\n",
      "100 matching events found\n",
      "Setting baseline interval to [-0.19921875, 0.0] s\n",
      "Applying baseline correction (mode: mean)\n",
      "0 projection items activated\n",
      "Using data from preloaded Raw for 100 events and 564 original time points ...\n",
      "0 bad epochs dropped\n",
      "✅ Saved: session1_sub8_twist_MI.npz | Shape: (100, 60, 564)\n",
      "\n",
      "🧠 Processing: /storage/projects1/e19-4yp-mi-eeg-for-bci/rawdata/session1_sub13_twist_MI.vhdr\n",
      "Extracting parameters from /storage/projects1/e19-4yp-mi-eeg-for-bci/rawdata/session1_sub13_twist_MI.vhdr...\n",
      "Setting channel info structure...\n",
      "Reading 0 ... 2682299  =      0.000 ...  1072.920 secs...\n"
     ]
    },
    {
     "name": "stderr",
     "output_type": "stream",
     "text": [
      "/tmp/ipykernel_26682/98459583.py:27: RuntimeWarning: Online software filter detected. Using software filter settings and ignoring hardware values\n",
      "  raw = mne.io.read_raw_brainvision(vhdr_path, preload=True)\n",
      "/tmp/ipykernel_26682/98459583.py:27: RuntimeWarning: Channels contain different highpass filters. Lowest (weakest) filter setting (0.00 Hz) will be stored.\n",
      "  raw = mne.io.read_raw_brainvision(vhdr_path, preload=True)\n",
      "/tmp/ipykernel_26682/98459583.py:27: RuntimeWarning: Channels contain different lowpass filters. Highest (weakest) filter setting (1250.00 Hz, Nyquist limit) will be stored.\n",
      "  raw = mne.io.read_raw_brainvision(vhdr_path, preload=True)\n"
     ]
    },
    {
     "name": "stdout",
     "output_type": "stream",
     "text": [
      "Filtering raw data in 1 contiguous segment\n",
      "Setting up band-stop filter from 59 - 61 Hz\n",
      "\n",
      "FIR filter parameters\n",
      "---------------------\n",
      "Designing a one-pass, zero-phase, non-causal bandstop filter:\n",
      "- Windowed time-domain design (firwin) method\n",
      "- Hamming window with 0.0194 passband ripple and 53 dB stopband attenuation\n",
      "- Lower passband edge: 59.35\n",
      "- Lower transition bandwidth: 0.50 Hz (-6 dB cutoff frequency: 59.10 Hz)\n",
      "- Upper passband edge: 60.65 Hz\n",
      "- Upper transition bandwidth: 0.50 Hz (-6 dB cutoff frequency: 60.90 Hz)\n",
      "- Filter length: 1691 samples (6.605 s)\n",
      "\n",
      "Filtering raw data in 1 contiguous segment\n",
      "Setting up band-pass filter from 8 - 30 Hz\n",
      "\n",
      "FIR filter parameters\n",
      "---------------------\n",
      "Designing a one-pass, zero-phase, non-causal bandpass filter:\n",
      "- Windowed time-domain design (firwin) method\n",
      "- Hamming window with 0.0194 passband ripple and 53 dB stopband attenuation\n",
      "- Lower passband edge: 8.00\n",
      "- Lower transition bandwidth: 2.00 Hz (-6 dB cutoff frequency: 7.00 Hz)\n",
      "- Upper passband edge: 30.00 Hz\n",
      "- Upper transition bandwidth: 7.50 Hz (-6 dB cutoff frequency: 33.75 Hz)\n",
      "- Filter length: 423 samples (1.652 s)\n",
      "\n"
     ]
    },
    {
     "name": "stderr",
     "output_type": "stream",
     "text": [
      "[Parallel(n_jobs=1)]: Done  17 tasks      | elapsed:    0.1s\n",
      "[Parallel(n_jobs=1)]: Done  60 out of  60 | elapsed:    0.2s finished\n"
     ]
    },
    {
     "name": "stdout",
     "output_type": "stream",
     "text": [
      "Fitting ICA to data using 60 channels (please be patient, this may take a while)\n"
     ]
    },
    {
     "name": "stderr",
     "output_type": "stream",
     "text": [
      "[Parallel(n_jobs=1)]: Done  17 tasks      | elapsed:    0.1s\n",
      "[Parallel(n_jobs=1)]: Done  60 out of  60 | elapsed:    0.2s finished\n"
     ]
    },
    {
     "name": "stdout",
     "output_type": "stream",
     "text": [
      "Selecting by number: 15 components\n",
      "Fitting ICA took 0.2s.\n",
      "Applying ICA to Raw instance\n",
      "    Transforming to ICA space (15 components)\n",
      "    Zeroing out 0 ICA components\n",
      "    Projecting back using 60 PCA components\n",
      "Used Annotations descriptions: [np.str_('Comment/actiCAP Data On'), np.str_('New Segment/'), np.str_('Stimulus/S  8'), np.str_('Stimulus/S  9'), np.str_('Stimulus/S 10'), np.str_('Stimulus/S 13'), np.str_('Stimulus/S 14'), np.str_('Stimulus/S 91'), np.str_('Stimulus/S101')]\n",
      "Not setting metadata\n",
      "100 matching events found\n",
      "Setting baseline interval to [-0.19921875, 0.0] s\n",
      "Applying baseline correction (mode: mean)\n",
      "0 projection items activated\n",
      "Using data from preloaded Raw for 100 events and 564 original time points ...\n",
      "0 bad epochs dropped\n",
      "✅ Saved: session1_sub13_twist_MI.npz | Shape: (100, 60, 564)\n",
      "\n",
      "🧠 Processing: /storage/projects1/e19-4yp-mi-eeg-for-bci/rawdata/session1_sub16_twist_MI.vhdr\n",
      "Extracting parameters from /storage/projects1/e19-4yp-mi-eeg-for-bci/rawdata/session1_sub16_twist_MI.vhdr...\n",
      "Setting channel info structure...\n",
      "Reading 0 ... 5149099  =      0.000 ...  2059.640 secs...\n"
     ]
    },
    {
     "name": "stderr",
     "output_type": "stream",
     "text": [
      "/tmp/ipykernel_26682/98459583.py:27: RuntimeWarning: Online software filter detected. Using software filter settings and ignoring hardware values\n",
      "  raw = mne.io.read_raw_brainvision(vhdr_path, preload=True)\n",
      "/tmp/ipykernel_26682/98459583.py:27: RuntimeWarning: Channels contain different highpass filters. Lowest (weakest) filter setting (0.00 Hz) will be stored.\n",
      "  raw = mne.io.read_raw_brainvision(vhdr_path, preload=True)\n",
      "/tmp/ipykernel_26682/98459583.py:27: RuntimeWarning: Channels contain different lowpass filters. Highest (weakest) filter setting (1250.00 Hz, Nyquist limit) will be stored.\n",
      "  raw = mne.io.read_raw_brainvision(vhdr_path, preload=True)\n"
     ]
    },
    {
     "name": "stdout",
     "output_type": "stream",
     "text": [
      "Filtering raw data in 1 contiguous segment\n",
      "Setting up band-stop filter from 59 - 61 Hz\n",
      "\n",
      "FIR filter parameters\n",
      "---------------------\n",
      "Designing a one-pass, zero-phase, non-causal bandstop filter:\n",
      "- Windowed time-domain design (firwin) method\n",
      "- Hamming window with 0.0194 passband ripple and 53 dB stopband attenuation\n",
      "- Lower passband edge: 59.35\n",
      "- Lower transition bandwidth: 0.50 Hz (-6 dB cutoff frequency: 59.10 Hz)\n",
      "- Upper passband edge: 60.65 Hz\n",
      "- Upper transition bandwidth: 0.50 Hz (-6 dB cutoff frequency: 60.90 Hz)\n",
      "- Filter length: 1691 samples (6.605 s)\n",
      "\n"
     ]
    },
    {
     "name": "stderr",
     "output_type": "stream",
     "text": [
      "[Parallel(n_jobs=1)]: Done  17 tasks      | elapsed:    0.1s\n"
     ]
    },
    {
     "name": "stdout",
     "output_type": "stream",
     "text": [
      "Filtering raw data in 1 contiguous segment\n",
      "Setting up band-pass filter from 8 - 30 Hz\n",
      "\n",
      "FIR filter parameters\n",
      "---------------------\n",
      "Designing a one-pass, zero-phase, non-causal bandpass filter:\n",
      "- Windowed time-domain design (firwin) method\n",
      "- Hamming window with 0.0194 passband ripple and 53 dB stopband attenuation\n",
      "- Lower passband edge: 8.00\n",
      "- Lower transition bandwidth: 2.00 Hz (-6 dB cutoff frequency: 7.00 Hz)\n",
      "- Upper passband edge: 30.00 Hz\n",
      "- Upper transition bandwidth: 7.50 Hz (-6 dB cutoff frequency: 33.75 Hz)\n",
      "- Filter length: 423 samples (1.652 s)\n",
      "\n"
     ]
    },
    {
     "name": "stderr",
     "output_type": "stream",
     "text": [
      "[Parallel(n_jobs=1)]: Done  60 out of  60 | elapsed:    0.3s finished\n",
      "[Parallel(n_jobs=1)]: Done  17 tasks      | elapsed:    0.1s\n"
     ]
    },
    {
     "name": "stdout",
     "output_type": "stream",
     "text": [
      "Fitting ICA to data using 60 channels (please be patient, this may take a while)\n",
      "Selecting by number: 15 components\n"
     ]
    },
    {
     "name": "stderr",
     "output_type": "stream",
     "text": [
      "[Parallel(n_jobs=1)]: Done  60 out of  60 | elapsed:    0.4s finished\n"
     ]
    },
    {
     "name": "stdout",
     "output_type": "stream",
     "text": [
      "Fitting ICA took 0.2s.\n",
      "Applying ICA to Raw instance\n",
      "    Transforming to ICA space (15 components)\n",
      "    Zeroing out 0 ICA components\n",
      "    Projecting back using 60 PCA components\n",
      "Used Annotations descriptions: [np.str_('Comment/actiCAP Data On'), np.str_('New Segment/'), np.str_('Stimulus/S  8'), np.str_('Stimulus/S  9'), np.str_('Stimulus/S 10'), np.str_('Stimulus/S 11'), np.str_('Stimulus/S 12'), np.str_('Stimulus/S 13'), np.str_('Stimulus/S 14'), np.str_('Stimulus/S 91'), np.str_('Stimulus/S101'), np.str_('Stimulus/S111'), np.str_('Stimulus/S121')]\n",
      "Not setting metadata\n",
      "100 matching events found\n",
      "Setting baseline interval to [-0.19921875, 0.0] s\n",
      "Applying baseline correction (mode: mean)\n",
      "0 projection items activated\n",
      "Using data from preloaded Raw for 100 events and 564 original time points ...\n",
      "    Rejecting  epoch based on EEG : ['PO7', 'PO8', 'O1', 'O2']\n",
      "    Rejecting  epoch based on EEG : ['PO4', 'PO8', 'O2']\n",
      "    Rejecting  epoch based on EEG : ['PO8']\n",
      "    Rejecting  epoch based on EEG : ['PO7', 'PO8']\n",
      "    Rejecting  epoch based on EEG : ['PO7']\n",
      "    Rejecting  epoch based on EEG : ['PO8', 'O2']\n",
      "    Rejecting  epoch based on EEG : ['PO8', 'O2']\n",
      "    Rejecting  epoch based on EEG : ['PO7']\n",
      "    Rejecting  epoch based on EEG : ['PO7', 'PO8', 'O2']\n",
      "    Rejecting  epoch based on EEG : ['PO8']\n",
      "    Rejecting  epoch based on EEG : ['PO7']\n",
      "    Rejecting  epoch based on EEG : ['PO8']\n",
      "    Rejecting  epoch based on EEG : ['FC5']\n",
      "    Rejecting  epoch based on EEG : ['F5', 'F3', 'FT7', 'FC5', 'FC3']\n",
      "    Rejecting  epoch based on EEG : ['FC5']\n",
      "    Rejecting  epoch based on EEG : ['Fp1', 'AF7', 'AF8']\n",
      "    Rejecting  epoch based on EEG : ['AF7', 'F5', 'F3', 'FT7', 'FC5', 'FC3', 'T7', 'F8']\n",
      "    Rejecting  epoch based on EEG : ['PO7', 'PO8']\n",
      "    Rejecting  epoch based on EEG : ['PO8']\n",
      "    Rejecting  epoch based on EEG : ['PO8']\n",
      "    Rejecting  epoch based on EEG : ['PO7', 'PO8']\n",
      "    Rejecting  epoch based on EEG : ['PO8']\n",
      "    Rejecting  epoch based on EEG : ['PO7', 'PO8', 'O1', 'O2']\n",
      "    Rejecting  epoch based on EEG : ['PO7', 'PO3', 'PO8', 'O1']\n",
      "24 bad epochs dropped\n",
      "✅ Saved: session1_sub16_twist_MI.npz | Shape: (76, 60, 564)\n",
      "\n",
      "🧠 Processing: /storage/projects1/e19-4yp-mi-eeg-for-bci/rawdata/session1_sub18_twist_MI.vhdr\n",
      "Extracting parameters from /storage/projects1/e19-4yp-mi-eeg-for-bci/rawdata/session1_sub18_twist_MI.vhdr...\n",
      "Setting channel info structure...\n",
      "Reading 0 ... 5558099  =      0.000 ...  2223.240 secs...\n",
      "Filtering raw data in 1 contiguous segment\n",
      "Setting up band-stop filter from 59 - 61 Hz\n",
      "\n",
      "FIR filter parameters\n",
      "---------------------\n",
      "Designing a one-pass, zero-phase, non-causal bandstop filter:\n",
      "- Windowed time-domain design (firwin) method\n",
      "- Hamming window with 0.0194 passband ripple and 53 dB stopband attenuation\n",
      "- Lower passband edge: 59.35\n",
      "- Lower transition bandwidth: 0.50 Hz (-6 dB cutoff frequency: 59.10 Hz)\n",
      "- Upper passband edge: 60.65 Hz\n",
      "- Upper transition bandwidth: 0.50 Hz (-6 dB cutoff frequency: 60.90 Hz)\n",
      "- Filter length: 1691 samples (6.605 s)\n",
      "\n"
     ]
    },
    {
     "name": "stderr",
     "output_type": "stream",
     "text": [
      "[Parallel(n_jobs=1)]: Done  17 tasks      | elapsed:    0.1s\n"
     ]
    },
    {
     "name": "stdout",
     "output_type": "stream",
     "text": [
      "Filtering raw data in 1 contiguous segment\n",
      "Setting up band-pass filter from 8 - 30 Hz\n",
      "\n",
      "FIR filter parameters\n",
      "---------------------\n",
      "Designing a one-pass, zero-phase, non-causal bandpass filter:\n",
      "- Windowed time-domain design (firwin) method\n",
      "- Hamming window with 0.0194 passband ripple and 53 dB stopband attenuation\n",
      "- Lower passband edge: 8.00\n",
      "- Lower transition bandwidth: 2.00 Hz (-6 dB cutoff frequency: 7.00 Hz)\n",
      "- Upper passband edge: 30.00 Hz\n",
      "- Upper transition bandwidth: 7.50 Hz (-6 dB cutoff frequency: 33.75 Hz)\n",
      "- Filter length: 423 samples (1.652 s)\n",
      "\n"
     ]
    },
    {
     "name": "stderr",
     "output_type": "stream",
     "text": [
      "[Parallel(n_jobs=1)]: Done  60 out of  60 | elapsed:    0.4s finished\n",
      "[Parallel(n_jobs=1)]: Done  17 tasks      | elapsed:    0.1s\n"
     ]
    },
    {
     "name": "stdout",
     "output_type": "stream",
     "text": [
      "Fitting ICA to data using 60 channels (please be patient, this may take a while)\n",
      "Selecting by number: 15 components\n"
     ]
    },
    {
     "name": "stderr",
     "output_type": "stream",
     "text": [
      "[Parallel(n_jobs=1)]: Done  60 out of  60 | elapsed:    0.4s finished\n"
     ]
    },
    {
     "name": "stdout",
     "output_type": "stream",
     "text": [
      "Fitting ICA took 0.2s.\n",
      "Applying ICA to Raw instance\n",
      "    Transforming to ICA space (15 components)\n",
      "    Zeroing out 0 ICA components\n",
      "    Projecting back using 60 PCA components\n",
      "Used Annotations descriptions: [np.str_('Comment/ControlBox is not connected via USB'), np.str_('Comment/actiCAP Data On'), np.str_('Comment/actiCAP USB Power On'), np.str_('New Segment/'), np.str_('Stimulus/S  8'), np.str_('Stimulus/S  9'), np.str_('Stimulus/S 10'), np.str_('Stimulus/S 11'), np.str_('Stimulus/S 12'), np.str_('Stimulus/S 13'), np.str_('Stimulus/S 14'), np.str_('Stimulus/S 91'), np.str_('Stimulus/S101'), np.str_('Stimulus/S111'), np.str_('Stimulus/S121')]\n",
      "Not setting metadata\n",
      "100 matching events found\n",
      "Setting baseline interval to [-0.19921875, 0.0] s\n",
      "Applying baseline correction (mode: mean)\n",
      "0 projection items activated\n",
      "Using data from preloaded Raw for 100 events and 564 original time points ...\n",
      "    Rejecting  epoch based on EEG : ['P8', 'PO8', 'Oz', 'O2', 'Iz']\n",
      "    Rejecting  epoch based on EEG : ['F7', 'FT7', 'FC5', 'T7', 'C5', 'TP7']\n",
      "    Rejecting  epoch based on EEG : ['P8', 'PO8', 'Oz', 'O2', 'Iz']\n",
      "    Rejecting  epoch based on EEG : ['AF8', 'F8', 'FC4', 'FC6', 'FT8', 'C4', 'T8', 'CP6', 'TP8', 'P6']\n",
      "    Rejecting  epoch based on EEG : ['F7', 'F5', 'FT7', 'FC5', 'T7', 'C5', 'C3', 'TP7', 'CP5', 'CP3', 'P7', 'P5', 'P3', 'PO7', 'AF8', 'F6', 'F8', 'FC4', 'FC6', 'FT8', 'C4', 'C6', 'T8', 'CP4', 'CP6', 'TP8', 'P6', 'P8']\n",
      "    Rejecting  epoch based on EEG : ['F7', 'F5', 'FT7', 'FC5', 'T7', 'C5', 'C3', 'TP7', 'P5', 'Iz']\n",
      "    Rejecting  epoch based on EEG : ['FC5', 'T7', 'Iz']\n",
      "    Rejecting  epoch based on EEG : ['O1', 'Oz', 'O2', 'Iz']\n",
      "    Rejecting  epoch based on EEG : ['Fp2', 'Iz']\n",
      "    Rejecting  epoch based on EEG : ['F7', 'F5', 'FT7', 'FC5', 'T7', 'C3', 'TP7']\n",
      "    Rejecting  epoch based on EEG : ['F7', 'F5', 'FT7', 'FC5', 'FC3', 'T7', 'C5', 'C3', 'TP7', 'CP3', 'P5']\n",
      "    Rejecting  epoch based on EEG : ['PO8', 'O1', 'Oz', 'O2', 'Iz']\n",
      "    Rejecting  epoch based on EEG : ['Iz']\n",
      "    Rejecting  epoch based on EEG : ['F8', 'FC4', 'FC6', 'FT8', 'C4', 'C6', 'T8', 'CP6', 'TP8']\n",
      "    Rejecting  epoch based on EEG : ['F8', 'FC4', 'FC6', 'FT8', 'C4', 'C6', 'T8', 'CP6', 'TP8']\n",
      "    Rejecting  epoch based on EEG : ['Iz']\n",
      "    Rejecting  epoch based on EEG : ['AF8', 'F4', 'F6', 'F8', 'FC4', 'FC6', 'FT8', 'C4', 'C6', 'T8', 'CP4', 'CP6', 'TP8', 'P6', 'P8']\n",
      "    Rejecting  epoch based on EEG : ['AF7', 'F7', 'F5', 'FT7', 'FC5', 'T7', 'TP7', 'CP5']\n",
      "    Rejecting  epoch based on EEG : ['TP8']\n",
      "    Rejecting  epoch based on EEG : ['F7', 'FT7', 'FC5', 'T7', 'C5', 'C3', 'TP7', 'CP5', 'CP3', 'P5']\n",
      "    Rejecting  epoch based on EEG : ['T7']\n",
      "    Rejecting  epoch based on EEG : ['AF8', 'FC4', 'FC6', 'FT8', 'C4', 'T8', 'CP6', 'TP8', 'P6']\n",
      "    Rejecting  epoch based on EEG : ['PO8', 'Oz', 'O2', 'Iz']\n",
      "    Rejecting  epoch based on EEG : ['Iz']\n",
      "    Rejecting  epoch based on EEG : ['PO8', 'O2', 'Iz']\n",
      "    Rejecting  epoch based on EEG : ['F7', 'F5', 'FT7', 'FC5', 'T7', 'C5', 'C3', 'TP7', 'CP3', 'P7', 'P5', 'P3', 'PO3', 'AF8', 'F6', 'F8', 'FC4', 'FC6', 'FT8', 'C4', 'C6', 'T8', 'CP4', 'CP6', 'TP8', 'P6']\n",
      "    Rejecting  epoch based on EEG : ['F7', 'FC5', 'T7', 'C5', 'C3', 'TP7', 'CP5', 'CP3', 'P5', 'P3', 'TP8', 'PO8', 'Oz', 'O2', 'Iz']\n",
      "    Rejecting  epoch based on EEG : ['Fp1', 'AF7', 'F7', 'F5', 'FT7', 'FC5', 'T7', 'C5', 'C3', 'TP7', 'CP5', 'AF8', 'F6', 'F8', 'FC4', 'FC6', 'FT8', 'C4', 'T8', 'CP4', 'CP6', 'Iz']\n",
      "    Rejecting  epoch based on EEG : ['F7', 'F5', 'FT7', 'FC5', 'T7', 'C5', 'C3', 'TP7', 'CP5', 'CP3', 'P5']\n",
      "    Rejecting  epoch based on EEG : ['FT7', 'T7', 'C5']\n",
      "    Rejecting  epoch based on EEG : ['T8', 'CP6']\n",
      "    Rejecting  epoch based on EEG : ['PO7', 'PO8', 'O1', 'Oz', 'O2', 'Iz']\n",
      "    Rejecting  epoch based on EEG : ['O2', 'Iz']\n",
      "    Rejecting  epoch based on EEG : ['F7', 'FT7', 'FC5', 'FC3', 'T7', 'C5', 'C3', 'TP7', 'CP3', 'P5', 'P3', 'AF8', 'F8', 'FC4', 'FC6', 'FT8', 'C6', 'T8']\n",
      "    Rejecting  epoch based on EEG : ['FC6', 'FT8', 'T8']\n",
      "    Rejecting  epoch based on EEG : ['PO8', 'O2', 'Iz']\n",
      "    Rejecting  epoch based on EEG : ['F7', 'F5', 'FT7', 'FC5', 'FC3', 'T7', 'C5', 'C3', 'TP7', 'CP3', 'P5', 'P3', 'AF8', 'F6', 'F8', 'FC4', 'FC6', 'FT8', 'C6', 'T8', 'CP6', 'TP8', 'P6']\n",
      "    Rejecting  epoch based on EEG : ['Iz']\n",
      "    Rejecting  epoch based on EEG : ['P8', 'PO8', 'O2']\n",
      "    Rejecting  epoch based on EEG : ['T7', 'TP7']\n",
      "    Rejecting  epoch based on EEG : ['P5']\n",
      "    Rejecting  epoch based on EEG : ['AF7', 'F7', 'F5', 'FT7', 'FC5', 'T7', 'C5', 'C3', 'TP7', 'P7', 'P5', 'PO7', 'AF8', 'F6', 'F8', 'FC4', 'FC6', 'FT8', 'C4', 'C6', 'T8', 'CP4', 'CP6', 'TP8', 'P6', 'Iz']\n",
      "42 bad epochs dropped\n",
      "✅ Saved: session1_sub18_twist_MI.npz | Shape: (58, 60, 564)\n",
      "\n",
      "🧠 Processing: /storage/projects1/e19-4yp-mi-eeg-for-bci/rawdata/session3_sub5_twist_MI.vhdr\n",
      "Extracting parameters from /storage/projects1/e19-4yp-mi-eeg-for-bci/rawdata/session3_sub5_twist_MI.vhdr...\n",
      "Setting channel info structure...\n",
      "Reading 0 ... 2584299  =      0.000 ...  1033.720 secs...\n"
     ]
    },
    {
     "name": "stderr",
     "output_type": "stream",
     "text": [
      "/tmp/ipykernel_26682/98459583.py:27: RuntimeWarning: Online software filter detected. Using software filter settings and ignoring hardware values\n",
      "  raw = mne.io.read_raw_brainvision(vhdr_path, preload=True)\n",
      "/tmp/ipykernel_26682/98459583.py:27: RuntimeWarning: Channels contain different highpass filters. Lowest (weakest) filter setting (0.00 Hz) will be stored.\n",
      "  raw = mne.io.read_raw_brainvision(vhdr_path, preload=True)\n",
      "/tmp/ipykernel_26682/98459583.py:27: RuntimeWarning: Channels contain different lowpass filters. Highest (weakest) filter setting (1250.00 Hz, Nyquist limit) will be stored.\n",
      "  raw = mne.io.read_raw_brainvision(vhdr_path, preload=True)\n"
     ]
    },
    {
     "name": "stdout",
     "output_type": "stream",
     "text": [
      "Filtering raw data in 1 contiguous segment\n",
      "Setting up band-stop filter from 59 - 61 Hz\n",
      "\n",
      "FIR filter parameters\n",
      "---------------------\n",
      "Designing a one-pass, zero-phase, non-causal bandstop filter:\n",
      "- Windowed time-domain design (firwin) method\n",
      "- Hamming window with 0.0194 passband ripple and 53 dB stopband attenuation\n",
      "- Lower passband edge: 59.35\n",
      "- Lower transition bandwidth: 0.50 Hz (-6 dB cutoff frequency: 59.10 Hz)\n",
      "- Upper passband edge: 60.65 Hz\n",
      "- Upper transition bandwidth: 0.50 Hz (-6 dB cutoff frequency: 60.90 Hz)\n",
      "- Filter length: 1691 samples (6.605 s)\n",
      "\n",
      "Filtering raw data in 1 contiguous segment\n",
      "Setting up band-pass filter from 8 - 30 Hz\n",
      "\n",
      "FIR filter parameters\n",
      "---------------------\n",
      "Designing a one-pass, zero-phase, non-causal bandpass filter:\n",
      "- Windowed time-domain design (firwin) method\n",
      "- Hamming window with 0.0194 passband ripple and 53 dB stopband attenuation\n",
      "- Lower passband edge: 8.00\n",
      "- Lower transition bandwidth: 2.00 Hz (-6 dB cutoff frequency: 7.00 Hz)\n",
      "- Upper passband edge: 30.00 Hz\n",
      "- Upper transition bandwidth: 7.50 Hz (-6 dB cutoff frequency: 33.75 Hz)\n",
      "- Filter length: 423 samples (1.652 s)\n",
      "\n"
     ]
    },
    {
     "name": "stderr",
     "output_type": "stream",
     "text": [
      "[Parallel(n_jobs=1)]: Done  17 tasks      | elapsed:    0.0s\n",
      "[Parallel(n_jobs=1)]: Done  60 out of  60 | elapsed:    0.2s finished\n",
      "[Parallel(n_jobs=1)]: Done  17 tasks      | elapsed:    0.0s\n"
     ]
    },
    {
     "name": "stdout",
     "output_type": "stream",
     "text": [
      "Fitting ICA to data using 60 channels (please be patient, this may take a while)\n",
      "Selecting by number: 15 components\n"
     ]
    },
    {
     "name": "stderr",
     "output_type": "stream",
     "text": [
      "[Parallel(n_jobs=1)]: Done  60 out of  60 | elapsed:    0.2s finished\n"
     ]
    },
    {
     "name": "stdout",
     "output_type": "stream",
     "text": [
      "Fitting ICA took 0.2s.\n",
      "Applying ICA to Raw instance\n",
      "    Transforming to ICA space (15 components)\n",
      "    Zeroing out 0 ICA components\n",
      "    Projecting back using 60 PCA components\n",
      "Used Annotations descriptions: [np.str_('Comment/ControlBox is not connected via USB'), np.str_('Comment/actiCAP Active Shield On'), np.str_('New Segment/'), np.str_('Stimulus/S  8'), np.str_('Stimulus/S  9'), np.str_('Stimulus/S 10'), np.str_('Stimulus/S 13'), np.str_('Stimulus/S 14'), np.str_('Stimulus/S 91'), np.str_('Stimulus/S101')]\n",
      "Not setting metadata\n",
      "100 matching events found\n",
      "Setting baseline interval to [-0.19921875, 0.0] s\n",
      "Applying baseline correction (mode: mean)\n",
      "0 projection items activated\n",
      "Using data from preloaded Raw for 100 events and 564 original time points ...\n",
      "0 bad epochs dropped\n",
      "✅ Saved: session3_sub5_twist_MI.npz | Shape: (100, 60, 564)\n",
      "\n",
      "🧠 Processing: /storage/projects1/e19-4yp-mi-eeg-for-bci/rawdata/session3_sub23_twist_MI.vhdr\n",
      "Extracting parameters from /storage/projects1/e19-4yp-mi-eeg-for-bci/rawdata/session3_sub23_twist_MI.vhdr...\n",
      "Setting channel info structure...\n",
      "Reading 0 ... 2600499  =      0.000 ...  1040.200 secs...\n"
     ]
    },
    {
     "name": "stderr",
     "output_type": "stream",
     "text": [
      "/tmp/ipykernel_26682/98459583.py:27: RuntimeWarning: Online software filter detected. Using software filter settings and ignoring hardware values\n",
      "  raw = mne.io.read_raw_brainvision(vhdr_path, preload=True)\n",
      "/tmp/ipykernel_26682/98459583.py:27: RuntimeWarning: Channels contain different highpass filters. Lowest (weakest) filter setting (0.00 Hz) will be stored.\n",
      "  raw = mne.io.read_raw_brainvision(vhdr_path, preload=True)\n",
      "/tmp/ipykernel_26682/98459583.py:27: RuntimeWarning: Channels contain different lowpass filters. Highest (weakest) filter setting (1250.00 Hz, Nyquist limit) will be stored.\n",
      "  raw = mne.io.read_raw_brainvision(vhdr_path, preload=True)\n"
     ]
    },
    {
     "name": "stdout",
     "output_type": "stream",
     "text": [
      "Filtering raw data in 1 contiguous segment\n",
      "Setting up band-stop filter from 59 - 61 Hz\n",
      "\n",
      "FIR filter parameters\n",
      "---------------------\n",
      "Designing a one-pass, zero-phase, non-causal bandstop filter:\n",
      "- Windowed time-domain design (firwin) method\n",
      "- Hamming window with 0.0194 passband ripple and 53 dB stopband attenuation\n",
      "- Lower passband edge: 59.35\n",
      "- Lower transition bandwidth: 0.50 Hz (-6 dB cutoff frequency: 59.10 Hz)\n",
      "- Upper passband edge: 60.65 Hz\n",
      "- Upper transition bandwidth: 0.50 Hz (-6 dB cutoff frequency: 60.90 Hz)\n",
      "- Filter length: 1691 samples (6.605 s)\n",
      "\n",
      "Filtering raw data in 1 contiguous segment\n",
      "Setting up band-pass filter from 8 - 30 Hz\n",
      "\n",
      "FIR filter parameters\n",
      "---------------------\n",
      "Designing a one-pass, zero-phase, non-causal bandpass filter:\n",
      "- Windowed time-domain design (firwin) method\n",
      "- Hamming window with 0.0194 passband ripple and 53 dB stopband attenuation\n",
      "- Lower passband edge: 8.00\n",
      "- Lower transition bandwidth: 2.00 Hz (-6 dB cutoff frequency: 7.00 Hz)\n",
      "- Upper passband edge: 30.00 Hz\n",
      "- Upper transition bandwidth: 7.50 Hz (-6 dB cutoff frequency: 33.75 Hz)\n",
      "- Filter length: 423 samples (1.652 s)\n",
      "\n"
     ]
    },
    {
     "name": "stderr",
     "output_type": "stream",
     "text": [
      "[Parallel(n_jobs=1)]: Done  17 tasks      | elapsed:    0.0s\n",
      "[Parallel(n_jobs=1)]: Done  60 out of  60 | elapsed:    0.2s finished\n",
      "[Parallel(n_jobs=1)]: Done  17 tasks      | elapsed:    0.0s\n"
     ]
    },
    {
     "name": "stdout",
     "output_type": "stream",
     "text": [
      "Fitting ICA to data using 60 channels (please be patient, this may take a while)\n",
      "Selecting by number: 15 components\n"
     ]
    },
    {
     "name": "stderr",
     "output_type": "stream",
     "text": [
      "[Parallel(n_jobs=1)]: Done  60 out of  60 | elapsed:    0.2s finished\n"
     ]
    },
    {
     "name": "stdout",
     "output_type": "stream",
     "text": [
      "Fitting ICA took 0.2s.\n",
      "Applying ICA to Raw instance\n",
      "    Transforming to ICA space (15 components)\n",
      "    Zeroing out 0 ICA components\n",
      "    Projecting back using 60 PCA components\n",
      "Used Annotations descriptions: [np.str_('Comment/actiCAP Active Shield On'), np.str_('New Segment/'), np.str_('Stimulus/S  8'), np.str_('Stimulus/S  9'), np.str_('Stimulus/S 10'), np.str_('Stimulus/S 13'), np.str_('Stimulus/S 14'), np.str_('Stimulus/S 91'), np.str_('Stimulus/S101')]\n",
      "Not setting metadata\n",
      "100 matching events found\n",
      "Setting baseline interval to [-0.19921875, 0.0] s\n",
      "Applying baseline correction (mode: mean)\n",
      "0 projection items activated\n",
      "Using data from preloaded Raw for 100 events and 564 original time points ...\n",
      "    Rejecting  epoch based on EEG : ['Fp1', 'AF7', 'F7', 'F5', 'FT7', 'FC5', 'FC3', 'T7', 'C3', 'TP7', 'P7', 'PO7', 'Fp2', 'AF8', 'F8', 'FC4', 'FC6', 'FT8', 'C6', 'T8', 'CP6', 'TP8', 'Iz']\n",
      "    Rejecting  epoch based on EEG : ['Fp2', 'AF8']\n",
      "    Rejecting  epoch based on EEG : ['PO7']\n",
      "3 bad epochs dropped\n",
      "✅ Saved: session3_sub23_twist_MI.npz | Shape: (97, 60, 564)\n",
      "\n",
      "🧠 Processing: /storage/projects1/e19-4yp-mi-eeg-for-bci/rawdata/session2_sub13_twist_MI.vhdr\n",
      "Extracting parameters from /storage/projects1/e19-4yp-mi-eeg-for-bci/rawdata/session2_sub13_twist_MI.vhdr...\n",
      "Setting channel info structure...\n",
      "Reading 0 ... 2615799  =      0.000 ...  1046.320 secs...\n"
     ]
    },
    {
     "name": "stderr",
     "output_type": "stream",
     "text": [
      "/tmp/ipykernel_26682/98459583.py:27: RuntimeWarning: Online software filter detected. Using software filter settings and ignoring hardware values\n",
      "  raw = mne.io.read_raw_brainvision(vhdr_path, preload=True)\n",
      "/tmp/ipykernel_26682/98459583.py:27: RuntimeWarning: Channels contain different highpass filters. Lowest (weakest) filter setting (0.00 Hz) will be stored.\n",
      "  raw = mne.io.read_raw_brainvision(vhdr_path, preload=True)\n",
      "/tmp/ipykernel_26682/98459583.py:27: RuntimeWarning: Channels contain different lowpass filters. Highest (weakest) filter setting (1250.00 Hz, Nyquist limit) will be stored.\n",
      "  raw = mne.io.read_raw_brainvision(vhdr_path, preload=True)\n"
     ]
    },
    {
     "name": "stdout",
     "output_type": "stream",
     "text": [
      "Filtering raw data in 1 contiguous segment\n",
      "Setting up band-stop filter from 59 - 61 Hz\n",
      "\n",
      "FIR filter parameters\n",
      "---------------------\n",
      "Designing a one-pass, zero-phase, non-causal bandstop filter:\n",
      "- Windowed time-domain design (firwin) method\n",
      "- Hamming window with 0.0194 passband ripple and 53 dB stopband attenuation\n",
      "- Lower passband edge: 59.35\n",
      "- Lower transition bandwidth: 0.50 Hz (-6 dB cutoff frequency: 59.10 Hz)\n",
      "- Upper passband edge: 60.65 Hz\n",
      "- Upper transition bandwidth: 0.50 Hz (-6 dB cutoff frequency: 60.90 Hz)\n",
      "- Filter length: 1691 samples (6.605 s)\n",
      "\n",
      "Filtering raw data in 1 contiguous segment\n",
      "Setting up band-pass filter from 8 - 30 Hz\n",
      "\n",
      "FIR filter parameters\n",
      "---------------------\n",
      "Designing a one-pass, zero-phase, non-causal bandpass filter:\n",
      "- Windowed time-domain design (firwin) method\n",
      "- Hamming window with 0.0194 passband ripple and 53 dB stopband attenuation\n",
      "- Lower passband edge: 8.00\n",
      "- Lower transition bandwidth: 2.00 Hz (-6 dB cutoff frequency: 7.00 Hz)\n",
      "- Upper passband edge: 30.00 Hz\n",
      "- Upper transition bandwidth: 7.50 Hz (-6 dB cutoff frequency: 33.75 Hz)\n",
      "- Filter length: 423 samples (1.652 s)\n",
      "\n"
     ]
    },
    {
     "name": "stderr",
     "output_type": "stream",
     "text": [
      "[Parallel(n_jobs=1)]: Done  17 tasks      | elapsed:    0.1s\n",
      "[Parallel(n_jobs=1)]: Done  60 out of  60 | elapsed:    0.2s finished\n"
     ]
    },
    {
     "name": "stdout",
     "output_type": "stream",
     "text": [
      "Fitting ICA to data using 60 channels (please be patient, this may take a while)\n"
     ]
    },
    {
     "name": "stderr",
     "output_type": "stream",
     "text": [
      "[Parallel(n_jobs=1)]: Done  17 tasks      | elapsed:    0.1s\n",
      "[Parallel(n_jobs=1)]: Done  60 out of  60 | elapsed:    0.2s finished\n"
     ]
    },
    {
     "name": "stdout",
     "output_type": "stream",
     "text": [
      "Selecting by number: 15 components\n",
      "Fitting ICA took 0.2s.\n",
      "Applying ICA to Raw instance\n",
      "    Transforming to ICA space (15 components)\n",
      "    Zeroing out 0 ICA components\n",
      "    Projecting back using 60 PCA components\n",
      "Used Annotations descriptions: [np.str_('Comment/actiCAP Active Shield On'), np.str_('Comment/actiCAP Data On'), np.str_('New Segment/'), np.str_('Stimulus/S  8'), np.str_('Stimulus/S  9'), np.str_('Stimulus/S 10'), np.str_('Stimulus/S 13'), np.str_('Stimulus/S 14'), np.str_('Stimulus/S 91'), np.str_('Stimulus/S101')]\n",
      "Not setting metadata\n",
      "100 matching events found\n",
      "Setting baseline interval to [-0.19921875, 0.0] s\n",
      "Applying baseline correction (mode: mean)\n",
      "0 projection items activated\n",
      "Using data from preloaded Raw for 100 events and 564 original time points ...\n",
      "    Rejecting  epoch based on EEG : ['F7', 'FT7', 'F8', 'T8']\n",
      "    Rejecting  epoch based on EEG : ['PO8']\n",
      "    Rejecting  epoch based on EEG : ['P6', 'PO4', 'PO8', 'O2']\n",
      "3 bad epochs dropped\n",
      "✅ Saved: session2_sub13_twist_MI.npz | Shape: (97, 60, 564)\n",
      "\n",
      "🧠 Processing: /storage/projects1/e19-4yp-mi-eeg-for-bci/rawdata/session2_sub19_twist_MI.vhdr\n",
      "Extracting parameters from /storage/projects1/e19-4yp-mi-eeg-for-bci/rawdata/session2_sub19_twist_MI.vhdr...\n",
      "Setting channel info structure...\n",
      "Reading 0 ... 2587599  =      0.000 ...  1035.040 secs...\n"
     ]
    },
    {
     "name": "stderr",
     "output_type": "stream",
     "text": [
      "/tmp/ipykernel_26682/98459583.py:27: RuntimeWarning: Online software filter detected. Using software filter settings and ignoring hardware values\n",
      "  raw = mne.io.read_raw_brainvision(vhdr_path, preload=True)\n",
      "/tmp/ipykernel_26682/98459583.py:27: RuntimeWarning: Channels contain different highpass filters. Lowest (weakest) filter setting (0.00 Hz) will be stored.\n",
      "  raw = mne.io.read_raw_brainvision(vhdr_path, preload=True)\n",
      "/tmp/ipykernel_26682/98459583.py:27: RuntimeWarning: Channels contain different lowpass filters. Highest (weakest) filter setting (1250.00 Hz, Nyquist limit) will be stored.\n",
      "  raw = mne.io.read_raw_brainvision(vhdr_path, preload=True)\n"
     ]
    },
    {
     "name": "stdout",
     "output_type": "stream",
     "text": [
      "Filtering raw data in 1 contiguous segment\n",
      "Setting up band-stop filter from 59 - 61 Hz\n",
      "\n",
      "FIR filter parameters\n",
      "---------------------\n",
      "Designing a one-pass, zero-phase, non-causal bandstop filter:\n",
      "- Windowed time-domain design (firwin) method\n",
      "- Hamming window with 0.0194 passband ripple and 53 dB stopband attenuation\n",
      "- Lower passband edge: 59.35\n",
      "- Lower transition bandwidth: 0.50 Hz (-6 dB cutoff frequency: 59.10 Hz)\n",
      "- Upper passband edge: 60.65 Hz\n",
      "- Upper transition bandwidth: 0.50 Hz (-6 dB cutoff frequency: 60.90 Hz)\n",
      "- Filter length: 1691 samples (6.605 s)\n",
      "\n",
      "Filtering raw data in 1 contiguous segment\n",
      "Setting up band-pass filter from 8 - 30 Hz\n",
      "\n",
      "FIR filter parameters\n",
      "---------------------\n",
      "Designing a one-pass, zero-phase, non-causal bandpass filter:\n",
      "- Windowed time-domain design (firwin) method\n",
      "- Hamming window with 0.0194 passband ripple and 53 dB stopband attenuation\n",
      "- Lower passband edge: 8.00\n",
      "- Lower transition bandwidth: 2.00 Hz (-6 dB cutoff frequency: 7.00 Hz)\n",
      "- Upper passband edge: 30.00 Hz\n",
      "- Upper transition bandwidth: 7.50 Hz (-6 dB cutoff frequency: 33.75 Hz)\n",
      "- Filter length: 423 samples (1.652 s)\n",
      "\n"
     ]
    },
    {
     "name": "stderr",
     "output_type": "stream",
     "text": [
      "[Parallel(n_jobs=1)]: Done  17 tasks      | elapsed:    0.0s\n",
      "[Parallel(n_jobs=1)]: Done  60 out of  60 | elapsed:    0.2s finished\n",
      "[Parallel(n_jobs=1)]: Done  17 tasks      | elapsed:    0.1s\n"
     ]
    },
    {
     "name": "stdout",
     "output_type": "stream",
     "text": [
      "Fitting ICA to data using 60 channels (please be patient, this may take a while)\n",
      "Selecting by number: 15 components\n"
     ]
    },
    {
     "name": "stderr",
     "output_type": "stream",
     "text": [
      "[Parallel(n_jobs=1)]: Done  60 out of  60 | elapsed:    0.2s finished\n"
     ]
    },
    {
     "name": "stdout",
     "output_type": "stream",
     "text": [
      "Fitting ICA took 0.3s.\n",
      "Applying ICA to Raw instance\n",
      "    Transforming to ICA space (15 components)\n",
      "    Zeroing out 0 ICA components\n",
      "    Projecting back using 60 PCA components\n",
      "Used Annotations descriptions: [np.str_('Comment/actiCAP Active Shield On'), np.str_('New Segment/'), np.str_('Stimulus/S  8'), np.str_('Stimulus/S  9'), np.str_('Stimulus/S 10'), np.str_('Stimulus/S 13'), np.str_('Stimulus/S 14'), np.str_('Stimulus/S 91'), np.str_('Stimulus/S101')]\n",
      "Not setting metadata\n",
      "100 matching events found\n",
      "Setting baseline interval to [-0.19921875, 0.0] s\n",
      "Applying baseline correction (mode: mean)\n",
      "0 projection items activated\n",
      "Using data from preloaded Raw for 100 events and 564 original time points ...\n",
      "0 bad epochs dropped\n",
      "✅ Saved: session2_sub19_twist_MI.npz | Shape: (100, 60, 564)\n",
      "\n",
      "🧠 Processing: /storage/projects1/e19-4yp-mi-eeg-for-bci/rawdata/session1_sub22_twist_MI.vhdr\n",
      "Extracting parameters from /storage/projects1/e19-4yp-mi-eeg-for-bci/rawdata/session1_sub22_twist_MI.vhdr...\n",
      "Setting channel info structure...\n",
      "Reading 0 ... 2580799  =      0.000 ...  1032.320 secs...\n"
     ]
    },
    {
     "name": "stderr",
     "output_type": "stream",
     "text": [
      "/tmp/ipykernel_26682/98459583.py:27: RuntimeWarning: Online software filter detected. Using software filter settings and ignoring hardware values\n",
      "  raw = mne.io.read_raw_brainvision(vhdr_path, preload=True)\n",
      "/tmp/ipykernel_26682/98459583.py:27: RuntimeWarning: Channels contain different highpass filters. Lowest (weakest) filter setting (0.00 Hz) will be stored.\n",
      "  raw = mne.io.read_raw_brainvision(vhdr_path, preload=True)\n",
      "/tmp/ipykernel_26682/98459583.py:27: RuntimeWarning: Channels contain different lowpass filters. Highest (weakest) filter setting (1250.00 Hz, Nyquist limit) will be stored.\n",
      "  raw = mne.io.read_raw_brainvision(vhdr_path, preload=True)\n"
     ]
    },
    {
     "name": "stdout",
     "output_type": "stream",
     "text": [
      "Filtering raw data in 1 contiguous segment\n",
      "Setting up band-stop filter from 59 - 61 Hz\n",
      "\n",
      "FIR filter parameters\n",
      "---------------------\n",
      "Designing a one-pass, zero-phase, non-causal bandstop filter:\n",
      "- Windowed time-domain design (firwin) method\n",
      "- Hamming window with 0.0194 passband ripple and 53 dB stopband attenuation\n",
      "- Lower passband edge: 59.35\n",
      "- Lower transition bandwidth: 0.50 Hz (-6 dB cutoff frequency: 59.10 Hz)\n",
      "- Upper passband edge: 60.65 Hz\n",
      "- Upper transition bandwidth: 0.50 Hz (-6 dB cutoff frequency: 60.90 Hz)\n",
      "- Filter length: 1691 samples (6.605 s)\n",
      "\n",
      "Filtering raw data in 1 contiguous segment\n",
      "Setting up band-pass filter from 8 - 30 Hz\n",
      "\n",
      "FIR filter parameters\n",
      "---------------------\n",
      "Designing a one-pass, zero-phase, non-causal bandpass filter:\n",
      "- Windowed time-domain design (firwin) method\n",
      "- Hamming window with 0.0194 passband ripple and 53 dB stopband attenuation\n",
      "- Lower passband edge: 8.00\n",
      "- Lower transition bandwidth: 2.00 Hz (-6 dB cutoff frequency: 7.00 Hz)\n",
      "- Upper passband edge: 30.00 Hz\n",
      "- Upper transition bandwidth: 7.50 Hz (-6 dB cutoff frequency: 33.75 Hz)\n",
      "- Filter length: 423 samples (1.652 s)\n",
      "\n"
     ]
    },
    {
     "name": "stderr",
     "output_type": "stream",
     "text": [
      "[Parallel(n_jobs=1)]: Done  17 tasks      | elapsed:    0.1s\n",
      "[Parallel(n_jobs=1)]: Done  60 out of  60 | elapsed:    0.2s finished\n"
     ]
    },
    {
     "name": "stdout",
     "output_type": "stream",
     "text": [
      "Fitting ICA to data using 60 channels (please be patient, this may take a while)\n"
     ]
    },
    {
     "name": "stderr",
     "output_type": "stream",
     "text": [
      "[Parallel(n_jobs=1)]: Done  17 tasks      | elapsed:    0.1s\n",
      "[Parallel(n_jobs=1)]: Done  60 out of  60 | elapsed:    0.2s finished\n"
     ]
    },
    {
     "name": "stdout",
     "output_type": "stream",
     "text": [
      "Selecting by number: 15 components\n",
      "Fitting ICA took 0.2s.\n",
      "Applying ICA to Raw instance\n",
      "    Transforming to ICA space (15 components)\n",
      "    Zeroing out 0 ICA components\n",
      "    Projecting back using 60 PCA components\n",
      "Used Annotations descriptions: [np.str_('Comment/actiCAP Active Shield On'), np.str_('Comment/actiCAP Data On'), np.str_('New Segment/'), np.str_('Stimulus/S  8'), np.str_('Stimulus/S  9'), np.str_('Stimulus/S 10'), np.str_('Stimulus/S 13'), np.str_('Stimulus/S 14'), np.str_('Stimulus/S 91'), np.str_('Stimulus/S101')]\n",
      "Not setting metadata\n",
      "100 matching events found\n",
      "Setting baseline interval to [-0.19921875, 0.0] s\n",
      "Applying baseline correction (mode: mean)\n",
      "0 projection items activated\n",
      "Using data from preloaded Raw for 100 events and 564 original time points ...\n",
      "    Rejecting  epoch based on EEG : ['Fp1', 'AF7', 'Fp2', 'AF8', 'F6']\n",
      "    Rejecting  epoch based on EEG : ['Fp1', 'AF7', 'F7', 'Fp2', 'AF4', 'AF8', 'F6', 'F8']\n",
      "    Rejecting  epoch based on EEG : ['Fp1', 'AF7', 'F7', 'F5', 'F3', 'Fp2', 'AF4', 'AF8', 'F6', 'F8']\n",
      "    Rejecting  epoch based on EEG : ['Fp1', 'AF7', 'F7', 'Fp2', 'AF4', 'AF8', 'F6', 'F8', 'FC4', 'TP8']\n",
      "    Rejecting  epoch based on EEG : ['Fp1', 'AF7', 'F7', 'Fp2', 'AF4', 'AF8', 'F6', 'F8', 'TP8']\n",
      "    Rejecting  epoch based on EEG : ['Fp1', 'AF7', 'F7', 'Fp2', 'AF4', 'AF8', 'F6', 'F8']\n",
      "    Rejecting  epoch based on EEG : ['Fp1', 'AF7', 'Fp2', 'AF4', 'AF8', 'F6', 'F8']\n",
      "    Rejecting  epoch based on EEG : ['Fp1', 'AF7', 'Fp2', 'AF4', 'AF8', 'F6', 'F8']\n",
      "    Rejecting  epoch based on EEG : ['Fp1', 'Fp2', 'AF8', 'F6', 'F8']\n",
      "    Rejecting  epoch based on EEG : ['Fp1', 'AF7', 'F7', 'Fp2', 'AF4', 'AF8', 'F6', 'F8']\n",
      "    Rejecting  epoch based on EEG : ['Fp1', 'AF7', 'F7', 'F5', 'F3', 'Fp2', 'AF4', 'AF8', 'F6', 'F8']\n",
      "    Rejecting  epoch based on EEG : ['Fp1', 'AF7', 'F7', 'F5', 'F3', 'Fp2', 'AF4', 'AF8', 'F6', 'F8']\n",
      "    Rejecting  epoch based on EEG : ['Fp1', 'AF7', 'F7', 'Fp2', 'AF4', 'AF8', 'F6', 'F8', 'FC4']\n",
      "    Rejecting  epoch based on EEG : ['Fp1', 'AF7', 'F7', 'Fp2', 'AF4', 'AF8', 'F6', 'F8']\n",
      "    Rejecting  epoch based on EEG : ['Fp1', 'AF7', 'Fp2', 'AF8', 'F6']\n",
      "    Rejecting  epoch based on EEG : ['Fp1', 'AF7', 'Fp2', 'AF4', 'AF8', 'F6', 'F8']\n",
      "    Rejecting  epoch based on EEG : ['Fp1', 'AF7', 'AFz', 'F7', 'Fp2', 'AF4', 'AF8', 'F6', 'F8', 'TP8']\n",
      "    Rejecting  epoch based on EEG : ['Fp1', 'AF7', 'F7', 'Fp2', 'AF4', 'AF8', 'F6', 'F8']\n",
      "    Rejecting  epoch based on EEG : ['Fp1', 'AF7', 'Fp2', 'AF8', 'F6']\n",
      "    Rejecting  epoch based on EEG : ['Fp1', 'AF7', 'Fp2', 'AF8']\n",
      "    Rejecting  epoch based on EEG : ['Fp1', 'Fp2', 'AF8']\n",
      "    Rejecting  epoch based on EEG : ['Fp1', 'AF7', 'F7', 'Fp2', 'AF4', 'AF8', 'F6', 'F8']\n",
      "    Rejecting  epoch based on EEG : ['Fp1', 'AF7', 'AFz', 'F7', 'F5', 'F3', 'Fp2', 'AF4', 'AF8', 'F6', 'F8', 'FC4']\n",
      "    Rejecting  epoch based on EEG : ['Fp1', 'AF7', 'AFz', 'F7', 'F5', 'F3', 'Fp2', 'AF4', 'AF8', 'F6', 'F8', 'TP8']\n",
      "    Rejecting  epoch based on EEG : ['Fp1', 'AF7', 'Fp2', 'AF4', 'AF8', 'F6', 'F8']\n",
      "    Rejecting  epoch based on EEG : ['Fp1', 'AF7', 'Fp2', 'AF4', 'AF8', 'F6', 'F8']\n",
      "    Rejecting  epoch based on EEG : ['Fp1', 'AF7', 'F7', 'F5', 'F3', 'Fp2', 'AF4', 'AF8', 'F6', 'F8']\n",
      "    Rejecting  epoch based on EEG : ['Fp1', 'AF7', 'F7', 'Fp2', 'AF4', 'AF8', 'F6', 'F8']\n",
      "    Rejecting  epoch based on EEG : ['Fp1', 'AF7', 'AFz', 'F7', 'F5', 'F3', 'Fp2', 'AF4', 'AF8', 'F6', 'F8', 'FC4', 'TP8']\n",
      "    Rejecting  epoch based on EEG : ['Fp1', 'AF7', 'F7', 'F5', 'F3', 'Fp2', 'AF4', 'AF8', 'F6', 'F8', 'FC4']\n",
      "    Rejecting  epoch based on EEG : ['Fp1', 'AF7', 'F7', 'F5', 'F3', 'FT7', 'Fp2', 'AF4', 'AF8', 'F6', 'F8', 'FC4', 'TP8']\n",
      "    Rejecting  epoch based on EEG : ['AF8', 'F6']\n",
      "    Rejecting  epoch based on EEG : ['Fp1', 'AF7', 'Fp2', 'AF4', 'AF8', 'F6', 'F8']\n",
      "    Rejecting  epoch based on EEG : ['Fp1', 'AF7', 'F7', 'F5', 'F3', 'Fp2', 'AF4', 'AF8', 'F6', 'F8']\n",
      "    Rejecting  epoch based on EEG : ['Fp1', 'AF7', 'AFz', 'F7', 'FT7', 'Fp2', 'AF4', 'AF8', 'F6', 'F8', 'TP8']\n",
      "    Rejecting  epoch based on EEG : ['Fp1', 'Fp2', 'AF8']\n",
      "    Rejecting  epoch based on EEG : ['Fp1', 'Fp2', 'AF8']\n",
      "    Rejecting  epoch based on EEG : ['Fp1', 'AF7', 'Fp2', 'AF4', 'AF8', 'F6', 'F8']\n",
      "    Rejecting  epoch based on EEG : ['Fp1', 'AF7', 'F7', 'F5', 'F3', 'Fp2', 'AF4', 'AF8', 'F6', 'F8']\n",
      "    Rejecting  epoch based on EEG : ['Fp1', 'AF7', 'Fp2', 'AF4', 'AF8', 'F6', 'F8']\n",
      "    Rejecting  epoch based on EEG : ['AF8', 'F6']\n",
      "    Rejecting  epoch based on EEG : ['Fp1', 'AF7', 'F7', 'Fp2', 'AF4', 'AF8', 'F6', 'F8']\n",
      "    Rejecting  epoch based on EEG : ['Fp1', 'AF7', 'AFz', 'F7', 'F5', 'F3', 'Fp2', 'AF4', 'AF8', 'F6', 'F8', 'FC4', 'TP8']\n",
      "    Rejecting  epoch based on EEG : ['Fp1', 'AF7', 'AFz', 'F7', 'F1', 'Fp2', 'AF4', 'AF8', 'F6', 'F8', 'TP8']\n",
      "    Rejecting  epoch based on EEG : ['Fp1', 'AF7', 'Fp2', 'AF8', 'F6', 'F8']\n",
      "    Rejecting  epoch based on EEG : ['Fp1', 'AF7', 'AFz', 'F7', 'FT7', 'Fp2', 'AF4', 'AF8', 'F6', 'F8', 'TP8']\n",
      "    Rejecting  epoch based on EEG : ['Fp1', 'AF7', 'F7', 'F5', 'F3', 'FT7', 'Fp2', 'AF4', 'AF8', 'F6', 'F8', 'FC4', 'TP8']\n",
      "    Rejecting  epoch based on EEG : ['Fp1', 'AF7', 'Fp2', 'AF8', 'F6']\n",
      "    Rejecting  epoch based on EEG : ['Fp1']\n",
      "    Rejecting  epoch based on EEG : ['FT7', 'FC5', 'FC3', 'C5', 'AF8', 'F8', 'FC4', 'FC6', 'FT8', 'C4', 'C6', 'T8', 'TP8']\n",
      "    Rejecting  epoch based on EEG : ['Fp1', 'AF7', 'F7', 'Fp2', 'AF4', 'AF8', 'F6', 'F8']\n",
      "    Rejecting  epoch based on EEG : ['Fp1', 'AF7', 'AFz', 'F7', 'F5', 'F3', 'Fp2', 'AF4', 'AF8', 'F6', 'F8', 'TP8']\n",
      "    Rejecting  epoch based on EEG : ['Fp1', 'AF7', 'AFz', 'F7', 'Fp2', 'AF4', 'AF8', 'F6', 'F8']\n",
      "    Rejecting  epoch based on EEG : ['Fp1', 'AF7', 'AFz', 'F7', 'Fp2', 'AF4', 'AF8', 'F6', 'F8', 'FC4', 'TP8']\n",
      "    Rejecting  epoch based on EEG : ['Fp1', 'AF7', 'Fp2', 'AF8', 'F6', 'F8']\n",
      "    Rejecting  epoch based on EEG : ['Fp1', 'AF7', 'F7', 'F5', 'F3', 'Fp2', 'AF4', 'AF8', 'F6', 'F8']\n",
      "    Rejecting  epoch based on EEG : ['Fp1', 'AF7', 'F7', 'F5', 'F3', 'Fp2', 'AF4', 'AF8', 'F6', 'F8']\n",
      "    Rejecting  epoch based on EEG : ['Fp1', 'AF7', 'F7', 'Fp2', 'AF4', 'AF8', 'F6', 'F8']\n",
      "    Rejecting  epoch based on EEG : ['Fp1', 'AF7', 'F7', 'Fp2', 'AF4', 'AF8', 'F6', 'F8', 'TP8']\n",
      "    Rejecting  epoch based on EEG : ['Fp1', 'AF7', 'Fp2', 'AF8', 'F6']\n",
      "    Rejecting  epoch based on EEG : ['Fp1', 'AF7', 'F7', 'F5', 'F3', 'Fp2', 'AF4', 'AF8', 'F6', 'F8']\n",
      "    Rejecting  epoch based on EEG : ['Fp1', 'AF7', 'Fp2', 'AF4', 'AF8', 'F6', 'F8']\n",
      "    Rejecting  epoch based on EEG : ['Fp1', 'AF7', 'F7', 'Fp2', 'AF4', 'AF8', 'F6', 'F8']\n",
      "    Rejecting  epoch based on EEG : ['Fp1', 'AF7', 'F7', 'Fp2', 'AF4', 'AF8', 'F6', 'F8']\n",
      "    Rejecting  epoch based on EEG : ['Fp1', 'AF7', 'F7', 'F5', 'F3', 'Fp2', 'AF4', 'AF8', 'F6', 'F8']\n",
      "    Rejecting  epoch based on EEG : ['Fp1', 'AF7', 'Fp2', 'AF4', 'AF8', 'F6']\n",
      "    Rejecting  epoch based on EEG : ['Fp1', 'AF7', 'F7', 'Fp2', 'AF4', 'AF8', 'F6', 'F8', 'FC4']\n",
      "    Rejecting  epoch based on EEG : ['Fp1', 'AF7', 'F7', 'Fp2', 'AF4', 'AF8', 'F6', 'F8', 'TP8']\n",
      "    Rejecting  epoch based on EEG : ['Fp1', 'AF7', 'Fp2', 'AF8', 'F6']\n",
      "    Rejecting  epoch based on EEG : ['Fp1', 'AF7', 'F7', 'Fp2', 'AF4', 'AF8', 'F6', 'F8']\n",
      "    Rejecting  epoch based on EEG : ['Fp1', 'AF7', 'F7', 'F5', 'F3', 'Fp2', 'AF4', 'AF8', 'F6', 'F8']\n",
      "    Rejecting  epoch based on EEG : ['Fp1', 'AF7', 'F7', 'F5', 'F3', 'Fp2', 'AF4', 'AF8', 'F6', 'F8']\n",
      "    Rejecting  epoch based on EEG : ['AF7', 'FT7', 'FC5', 'FC3', 'T7', 'C5', 'C3', 'TP7', 'CP3']\n",
      "    Rejecting  epoch based on EEG : ['Fp1', 'AF7', 'F7', 'Fp2', 'AF4', 'AF8', 'F6', 'F8']\n",
      "    Rejecting  epoch based on EEG : ['Fp1', 'AF7', 'AFz', 'F7', 'F5', 'F3', 'Fp2', 'AF4', 'AF8', 'F6', 'F8', 'FC4', 'TP8']\n",
      "    Rejecting  epoch based on EEG : ['Fp1', 'AF7', 'AFz', 'F7', 'FT7', 'Fp2', 'AF4', 'AF8', 'F6', 'F8', 'FC4', 'TP8']\n",
      "    Rejecting  epoch based on EEG : ['Fp1', 'AF7', 'F7', 'C5', 'Fp2', 'AF8', 'F6']\n",
      "    Rejecting  epoch based on EEG : ['Fp1', 'AF7', 'AFz', 'F7', 'F5', 'F3', 'F1', 'FT7', 'Fp2', 'AF4', 'AF8', 'F6', 'F8', 'FC4', 'TP8']\n",
      "    Rejecting  epoch based on EEG : ['Fp1', 'AF7', 'AFz', 'F7', 'F5', 'F3', 'FT7', 'Fp2', 'AF4', 'AF8', 'F6', 'F8', 'FC4', 'TP8']\n",
      "    Rejecting  epoch based on EEG : ['Fp1', 'AF7', 'F7', 'F5', 'F3', 'Fp2', 'AF4', 'AF8', 'F6', 'F8']\n",
      "    Rejecting  epoch based on EEG : ['Fp1', 'AF7', 'Fp2', 'AF8', 'F6', 'F8']\n",
      "    Rejecting  epoch based on EEG : ['TP7', 'FC6', 'C4', 'C6']\n",
      "    Rejecting  epoch based on EEG : ['Fp1', 'AF7', 'F7', 'FC5', 'Fp2', 'AF4', 'AF8', 'F6', 'F8', 'FC4', 'TP8']\n",
      "    Rejecting  epoch based on EEG : ['Fp1', 'AF7', 'AFz', 'F7', 'F1', 'FT7', 'Fp2', 'AF4', 'AF8', 'F6', 'F8', 'FC4', 'TP8']\n",
      "    Rejecting  epoch based on EEG : ['Fp1', 'AF7', 'Fp2', 'AF8']\n",
      "    Rejecting  epoch based on EEG : ['Fp1', 'AF7', 'Fp2', 'AF4', 'AF8', 'F6', 'F8']\n",
      "    Rejecting  epoch based on EEG : ['Fp1', 'AF7', 'F7', 'F5', 'F3', 'Fp2', 'AF4', 'AF8', 'F6', 'F8', 'FC4']\n",
      "    Rejecting  epoch based on EEG : ['Fp1', 'AF7', 'F7', 'F5', 'F3', 'Fp2', 'AF4', 'AF8', 'F6', 'F8']\n",
      "    Rejecting  epoch based on EEG : ['Fp1', 'AF7', 'F7', 'Fp2', 'AF4', 'AF8', 'F6', 'F8']\n",
      "89 bad epochs dropped\n",
      "✅ Saved: session1_sub22_twist_MI.npz | Shape: (11, 60, 564)\n",
      "\n",
      "🧠 Processing: /storage/projects1/e19-4yp-mi-eeg-for-bci/rawdata/session1_sub12_twist_MI.vhdr\n",
      "Extracting parameters from /storage/projects1/e19-4yp-mi-eeg-for-bci/rawdata/session1_sub12_twist_MI.vhdr...\n",
      "Setting channel info structure...\n",
      "Reading 0 ... 5418399  =      0.000 ...  2167.360 secs...\n",
      "Filtering raw data in 1 contiguous segment\n",
      "Setting up band-stop filter from 59 - 61 Hz\n",
      "\n",
      "FIR filter parameters\n",
      "---------------------\n",
      "Designing a one-pass, zero-phase, non-causal bandstop filter:\n",
      "- Windowed time-domain design (firwin) method\n",
      "- Hamming window with 0.0194 passband ripple and 53 dB stopband attenuation\n",
      "- Lower passband edge: 59.35\n",
      "- Lower transition bandwidth: 0.50 Hz (-6 dB cutoff frequency: 59.10 Hz)\n",
      "- Upper passband edge: 60.65 Hz\n",
      "- Upper transition bandwidth: 0.50 Hz (-6 dB cutoff frequency: 60.90 Hz)\n",
      "- Filter length: 1691 samples (6.605 s)\n",
      "\n"
     ]
    },
    {
     "name": "stderr",
     "output_type": "stream",
     "text": [
      "[Parallel(n_jobs=1)]: Done  17 tasks      | elapsed:    0.1s\n"
     ]
    },
    {
     "name": "stdout",
     "output_type": "stream",
     "text": [
      "Filtering raw data in 1 contiguous segment\n",
      "Setting up band-pass filter from 8 - 30 Hz\n",
      "\n",
      "FIR filter parameters\n",
      "---------------------\n",
      "Designing a one-pass, zero-phase, non-causal bandpass filter:\n",
      "- Windowed time-domain design (firwin) method\n",
      "- Hamming window with 0.0194 passband ripple and 53 dB stopband attenuation\n",
      "- Lower passband edge: 8.00\n",
      "- Lower transition bandwidth: 2.00 Hz (-6 dB cutoff frequency: 7.00 Hz)\n",
      "- Upper passband edge: 30.00 Hz\n",
      "- Upper transition bandwidth: 7.50 Hz (-6 dB cutoff frequency: 33.75 Hz)\n",
      "- Filter length: 423 samples (1.652 s)\n",
      "\n"
     ]
    },
    {
     "name": "stderr",
     "output_type": "stream",
     "text": [
      "[Parallel(n_jobs=1)]: Done  60 out of  60 | elapsed:    0.4s finished\n",
      "[Parallel(n_jobs=1)]: Done  17 tasks      | elapsed:    0.1s\n"
     ]
    },
    {
     "name": "stdout",
     "output_type": "stream",
     "text": [
      "Fitting ICA to data using 60 channels (please be patient, this may take a while)\n",
      "Selecting by number: 15 components\n"
     ]
    },
    {
     "name": "stderr",
     "output_type": "stream",
     "text": [
      "[Parallel(n_jobs=1)]: Done  60 out of  60 | elapsed:    0.4s finished\n"
     ]
    },
    {
     "name": "stdout",
     "output_type": "stream",
     "text": [
      "Fitting ICA took 0.2s.\n",
      "Applying ICA to Raw instance\n",
      "    Transforming to ICA space (15 components)\n",
      "    Zeroing out 0 ICA components\n",
      "    Projecting back using 60 PCA components\n",
      "Used Annotations descriptions: [np.str_('Comment/actiCAP Data On'), np.str_('New Segment/'), np.str_('Stimulus/S  8'), np.str_('Stimulus/S  9'), np.str_('Stimulus/S 10'), np.str_('Stimulus/S 11'), np.str_('Stimulus/S 12'), np.str_('Stimulus/S 13'), np.str_('Stimulus/S 14'), np.str_('Stimulus/S 91'), np.str_('Stimulus/S101'), np.str_('Stimulus/S111'), np.str_('Stimulus/S121')]\n",
      "Not setting metadata\n",
      "100 matching events found\n",
      "Setting baseline interval to [-0.19921875, 0.0] s\n",
      "Applying baseline correction (mode: mean)\n",
      "0 projection items activated\n",
      "Using data from preloaded Raw for 100 events and 564 original time points ...\n",
      "    Rejecting  epoch based on EEG : ['F6', 'F8']\n",
      "    Rejecting  epoch based on EEG : ['O1']\n",
      "2 bad epochs dropped\n",
      "✅ Saved: session1_sub12_twist_MI.npz | Shape: (98, 60, 564)\n",
      "\n",
      "🧠 Processing: /storage/projects1/e19-4yp-mi-eeg-for-bci/rawdata/session3_sub1_twist_MI.vhdr\n",
      "Extracting parameters from /storage/projects1/e19-4yp-mi-eeg-for-bci/rawdata/session3_sub1_twist_MI.vhdr...\n",
      "Setting channel info structure...\n",
      "Reading 0 ... 2620599  =      0.000 ...  1048.240 secs...\n"
     ]
    },
    {
     "name": "stderr",
     "output_type": "stream",
     "text": [
      "/tmp/ipykernel_26682/98459583.py:27: RuntimeWarning: Online software filter detected. Using software filter settings and ignoring hardware values\n",
      "  raw = mne.io.read_raw_brainvision(vhdr_path, preload=True)\n",
      "/tmp/ipykernel_26682/98459583.py:27: RuntimeWarning: Channels contain different highpass filters. Lowest (weakest) filter setting (0.00 Hz) will be stored.\n",
      "  raw = mne.io.read_raw_brainvision(vhdr_path, preload=True)\n",
      "/tmp/ipykernel_26682/98459583.py:27: RuntimeWarning: Channels contain different lowpass filters. Highest (weakest) filter setting (1250.00 Hz, Nyquist limit) will be stored.\n",
      "  raw = mne.io.read_raw_brainvision(vhdr_path, preload=True)\n"
     ]
    },
    {
     "name": "stdout",
     "output_type": "stream",
     "text": [
      "Filtering raw data in 1 contiguous segment\n",
      "Setting up band-stop filter from 59 - 61 Hz\n",
      "\n",
      "FIR filter parameters\n",
      "---------------------\n",
      "Designing a one-pass, zero-phase, non-causal bandstop filter:\n",
      "- Windowed time-domain design (firwin) method\n",
      "- Hamming window with 0.0194 passband ripple and 53 dB stopband attenuation\n",
      "- Lower passband edge: 59.35\n",
      "- Lower transition bandwidth: 0.50 Hz (-6 dB cutoff frequency: 59.10 Hz)\n",
      "- Upper passband edge: 60.65 Hz\n",
      "- Upper transition bandwidth: 0.50 Hz (-6 dB cutoff frequency: 60.90 Hz)\n",
      "- Filter length: 1691 samples (6.605 s)\n",
      "\n",
      "Filtering raw data in 1 contiguous segment\n",
      "Setting up band-pass filter from 8 - 30 Hz\n",
      "\n",
      "FIR filter parameters\n",
      "---------------------\n",
      "Designing a one-pass, zero-phase, non-causal bandpass filter:\n",
      "- Windowed time-domain design (firwin) method\n",
      "- Hamming window with 0.0194 passband ripple and 53 dB stopband attenuation\n",
      "- Lower passband edge: 8.00\n",
      "- Lower transition bandwidth: 2.00 Hz (-6 dB cutoff frequency: 7.00 Hz)\n",
      "- Upper passband edge: 30.00 Hz\n",
      "- Upper transition bandwidth: 7.50 Hz (-6 dB cutoff frequency: 33.75 Hz)\n",
      "- Filter length: 423 samples (1.652 s)\n",
      "\n"
     ]
    },
    {
     "name": "stderr",
     "output_type": "stream",
     "text": [
      "[Parallel(n_jobs=1)]: Done  17 tasks      | elapsed:    0.1s\n",
      "[Parallel(n_jobs=1)]: Done  60 out of  60 | elapsed:    0.2s finished\n",
      "[Parallel(n_jobs=1)]: Done  17 tasks      | elapsed:    0.0s\n"
     ]
    },
    {
     "name": "stdout",
     "output_type": "stream",
     "text": [
      "Fitting ICA to data using 60 channels (please be patient, this may take a while)\n",
      "Selecting by number: 15 components\n",
      "Fitting ICA took 0.1s.\n",
      "Applying ICA to Raw instance\n"
     ]
    },
    {
     "name": "stderr",
     "output_type": "stream",
     "text": [
      "[Parallel(n_jobs=1)]: Done  60 out of  60 | elapsed:    0.2s finished\n"
     ]
    },
    {
     "name": "stdout",
     "output_type": "stream",
     "text": [
      "    Transforming to ICA space (15 components)\n",
      "    Zeroing out 0 ICA components\n",
      "    Projecting back using 60 PCA components\n",
      "Used Annotations descriptions: [np.str_('Comment/actiCAP Active Shield On'), np.str_('New Segment/'), np.str_('Stimulus/S  8'), np.str_('Stimulus/S  9'), np.str_('Stimulus/S 10'), np.str_('Stimulus/S 13'), np.str_('Stimulus/S 14'), np.str_('Stimulus/S 91'), np.str_('Stimulus/S101')]\n",
      "Not setting metadata\n",
      "100 matching events found\n",
      "Setting baseline interval to [-0.19921875, 0.0] s\n",
      "Applying baseline correction (mode: mean)\n",
      "0 projection items activated\n",
      "Using data from preloaded Raw for 100 events and 564 original time points ...\n",
      "0 bad epochs dropped\n",
      "✅ Saved: session3_sub1_twist_MI.npz | Shape: (100, 60, 564)\n",
      "\n",
      "🧠 Processing: /storage/projects1/e19-4yp-mi-eeg-for-bci/rawdata/session1_sub19_twist_MI.vhdr\n",
      "Extracting parameters from /storage/projects1/e19-4yp-mi-eeg-for-bci/rawdata/session1_sub19_twist_MI.vhdr...\n",
      "Setting channel info structure...\n",
      "Reading 0 ... 2550399  =      0.000 ...  1020.160 secs...\n"
     ]
    },
    {
     "name": "stderr",
     "output_type": "stream",
     "text": [
      "/tmp/ipykernel_26682/98459583.py:27: RuntimeWarning: Online software filter detected. Using software filter settings and ignoring hardware values\n",
      "  raw = mne.io.read_raw_brainvision(vhdr_path, preload=True)\n",
      "/tmp/ipykernel_26682/98459583.py:27: RuntimeWarning: Channels contain different highpass filters. Lowest (weakest) filter setting (0.00 Hz) will be stored.\n",
      "  raw = mne.io.read_raw_brainvision(vhdr_path, preload=True)\n",
      "/tmp/ipykernel_26682/98459583.py:27: RuntimeWarning: Channels contain different lowpass filters. Highest (weakest) filter setting (1250.00 Hz, Nyquist limit) will be stored.\n",
      "  raw = mne.io.read_raw_brainvision(vhdr_path, preload=True)\n"
     ]
    },
    {
     "name": "stdout",
     "output_type": "stream",
     "text": [
      "Filtering raw data in 1 contiguous segment\n",
      "Setting up band-stop filter from 59 - 61 Hz\n",
      "\n",
      "FIR filter parameters\n",
      "---------------------\n",
      "Designing a one-pass, zero-phase, non-causal bandstop filter:\n",
      "- Windowed time-domain design (firwin) method\n",
      "- Hamming window with 0.0194 passband ripple and 53 dB stopband attenuation\n",
      "- Lower passband edge: 59.35\n",
      "- Lower transition bandwidth: 0.50 Hz (-6 dB cutoff frequency: 59.10 Hz)\n",
      "- Upper passband edge: 60.65 Hz\n",
      "- Upper transition bandwidth: 0.50 Hz (-6 dB cutoff frequency: 60.90 Hz)\n",
      "- Filter length: 1691 samples (6.605 s)\n",
      "\n",
      "Filtering raw data in 1 contiguous segment\n",
      "Setting up band-pass filter from 8 - 30 Hz\n",
      "\n",
      "FIR filter parameters\n",
      "---------------------\n",
      "Designing a one-pass, zero-phase, non-causal bandpass filter:\n",
      "- Windowed time-domain design (firwin) method\n",
      "- Hamming window with 0.0194 passband ripple and 53 dB stopband attenuation\n",
      "- Lower passband edge: 8.00\n",
      "- Lower transition bandwidth: 2.00 Hz (-6 dB cutoff frequency: 7.00 Hz)\n",
      "- Upper passband edge: 30.00 Hz\n",
      "- Upper transition bandwidth: 7.50 Hz (-6 dB cutoff frequency: 33.75 Hz)\n",
      "- Filter length: 423 samples (1.652 s)\n",
      "\n"
     ]
    },
    {
     "name": "stderr",
     "output_type": "stream",
     "text": [
      "[Parallel(n_jobs=1)]: Done  17 tasks      | elapsed:    0.1s\n",
      "[Parallel(n_jobs=1)]: Done  60 out of  60 | elapsed:    0.2s finished\n"
     ]
    },
    {
     "name": "stdout",
     "output_type": "stream",
     "text": [
      "Fitting ICA to data using 60 channels (please be patient, this may take a while)\n"
     ]
    },
    {
     "name": "stderr",
     "output_type": "stream",
     "text": [
      "[Parallel(n_jobs=1)]: Done  17 tasks      | elapsed:    0.1s\n",
      "[Parallel(n_jobs=1)]: Done  60 out of  60 | elapsed:    0.2s finished\n"
     ]
    },
    {
     "name": "stdout",
     "output_type": "stream",
     "text": [
      "Selecting by number: 15 components\n",
      "Fitting ICA took 0.2s.\n",
      "Applying ICA to Raw instance\n",
      "    Transforming to ICA space (15 components)\n",
      "    Zeroing out 0 ICA components\n",
      "    Projecting back using 60 PCA components\n",
      "Used Annotations descriptions: [np.str_('Comment/actiCAP Active Shield On'), np.str_('New Segment/'), np.str_('Stimulus/S  8'), np.str_('Stimulus/S  9'), np.str_('Stimulus/S 10'), np.str_('Stimulus/S 13'), np.str_('Stimulus/S 14'), np.str_('Stimulus/S 91'), np.str_('Stimulus/S101')]\n",
      "Not setting metadata\n",
      "100 matching events found\n",
      "Setting baseline interval to [-0.19921875, 0.0] s\n",
      "Applying baseline correction (mode: mean)\n",
      "0 projection items activated\n",
      "Using data from preloaded Raw for 100 events and 564 original time points ...\n",
      "0 bad epochs dropped\n",
      "✅ Saved: session1_sub19_twist_MI.npz | Shape: (100, 60, 564)\n",
      "\n",
      "🧠 Processing: /storage/projects1/e19-4yp-mi-eeg-for-bci/rawdata/session3_sub12_twist_MI.vhdr\n",
      "Extracting parameters from /storage/projects1/e19-4yp-mi-eeg-for-bci/rawdata/session3_sub12_twist_MI.vhdr...\n",
      "Setting channel info structure...\n",
      "Reading 0 ... 2561899  =      0.000 ...  1024.760 secs...\n"
     ]
    },
    {
     "name": "stderr",
     "output_type": "stream",
     "text": [
      "/tmp/ipykernel_26682/98459583.py:27: RuntimeWarning: Online software filter detected. Using software filter settings and ignoring hardware values\n",
      "  raw = mne.io.read_raw_brainvision(vhdr_path, preload=True)\n",
      "/tmp/ipykernel_26682/98459583.py:27: RuntimeWarning: Channels contain different highpass filters. Lowest (weakest) filter setting (0.00 Hz) will be stored.\n",
      "  raw = mne.io.read_raw_brainvision(vhdr_path, preload=True)\n",
      "/tmp/ipykernel_26682/98459583.py:27: RuntimeWarning: Channels contain different lowpass filters. Highest (weakest) filter setting (1250.00 Hz, Nyquist limit) will be stored.\n",
      "  raw = mne.io.read_raw_brainvision(vhdr_path, preload=True)\n"
     ]
    },
    {
     "name": "stdout",
     "output_type": "stream",
     "text": [
      "Filtering raw data in 1 contiguous segment\n",
      "Setting up band-stop filter from 59 - 61 Hz\n",
      "\n",
      "FIR filter parameters\n",
      "---------------------\n",
      "Designing a one-pass, zero-phase, non-causal bandstop filter:\n",
      "- Windowed time-domain design (firwin) method\n",
      "- Hamming window with 0.0194 passband ripple and 53 dB stopband attenuation\n",
      "- Lower passband edge: 59.35\n",
      "- Lower transition bandwidth: 0.50 Hz (-6 dB cutoff frequency: 59.10 Hz)\n",
      "- Upper passband edge: 60.65 Hz\n",
      "- Upper transition bandwidth: 0.50 Hz (-6 dB cutoff frequency: 60.90 Hz)\n",
      "- Filter length: 1691 samples (6.605 s)\n",
      "\n",
      "Filtering raw data in 1 contiguous segment\n",
      "Setting up band-pass filter from 8 - 30 Hz\n",
      "\n",
      "FIR filter parameters\n",
      "---------------------\n",
      "Designing a one-pass, zero-phase, non-causal bandpass filter:\n",
      "- Windowed time-domain design (firwin) method\n",
      "- Hamming window with 0.0194 passband ripple and 53 dB stopband attenuation\n",
      "- Lower passband edge: 8.00\n",
      "- Lower transition bandwidth: 2.00 Hz (-6 dB cutoff frequency: 7.00 Hz)\n",
      "- Upper passband edge: 30.00 Hz\n",
      "- Upper transition bandwidth: 7.50 Hz (-6 dB cutoff frequency: 33.75 Hz)\n",
      "- Filter length: 423 samples (1.652 s)\n",
      "\n"
     ]
    },
    {
     "name": "stderr",
     "output_type": "stream",
     "text": [
      "[Parallel(n_jobs=1)]: Done  17 tasks      | elapsed:    0.1s\n",
      "[Parallel(n_jobs=1)]: Done  60 out of  60 | elapsed:    0.2s finished\n"
     ]
    },
    {
     "name": "stdout",
     "output_type": "stream",
     "text": [
      "Fitting ICA to data using 60 channels (please be patient, this may take a while)\n"
     ]
    },
    {
     "name": "stderr",
     "output_type": "stream",
     "text": [
      "[Parallel(n_jobs=1)]: Done  17 tasks      | elapsed:    0.0s\n",
      "[Parallel(n_jobs=1)]: Done  60 out of  60 | elapsed:    0.2s finished\n"
     ]
    },
    {
     "name": "stdout",
     "output_type": "stream",
     "text": [
      "Selecting by number: 15 components\n",
      "Fitting ICA took 0.2s.\n",
      "Applying ICA to Raw instance\n",
      "    Transforming to ICA space (15 components)\n",
      "    Zeroing out 0 ICA components\n",
      "    Projecting back using 60 PCA components\n",
      "Used Annotations descriptions: [np.str_('Comment/actiCAP Active Shield On'), np.str_('New Segment/'), np.str_('Stimulus/S  8'), np.str_('Stimulus/S  9'), np.str_('Stimulus/S 10'), np.str_('Stimulus/S 13'), np.str_('Stimulus/S 14'), np.str_('Stimulus/S 91'), np.str_('Stimulus/S101')]\n",
      "Not setting metadata\n",
      "100 matching events found\n",
      "Setting baseline interval to [-0.19921875, 0.0] s\n",
      "Applying baseline correction (mode: mean)\n",
      "0 projection items activated\n",
      "Using data from preloaded Raw for 100 events and 564 original time points ...\n",
      "0 bad epochs dropped\n",
      "✅ Saved: session3_sub12_twist_MI.npz | Shape: (100, 60, 564)\n",
      "\n",
      "🧠 Processing: /storage/projects1/e19-4yp-mi-eeg-for-bci/rawdata/session2_sub22_twist_MI.vhdr\n",
      "Extracting parameters from /storage/projects1/e19-4yp-mi-eeg-for-bci/rawdata/session2_sub22_twist_MI.vhdr...\n",
      "Setting channel info structure...\n",
      "Reading 0 ... 2578599  =      0.000 ...  1031.440 secs...\n"
     ]
    },
    {
     "name": "stderr",
     "output_type": "stream",
     "text": [
      "/tmp/ipykernel_26682/98459583.py:27: RuntimeWarning: Online software filter detected. Using software filter settings and ignoring hardware values\n",
      "  raw = mne.io.read_raw_brainvision(vhdr_path, preload=True)\n",
      "/tmp/ipykernel_26682/98459583.py:27: RuntimeWarning: Channels contain different highpass filters. Lowest (weakest) filter setting (0.00 Hz) will be stored.\n",
      "  raw = mne.io.read_raw_brainvision(vhdr_path, preload=True)\n",
      "/tmp/ipykernel_26682/98459583.py:27: RuntimeWarning: Channels contain different lowpass filters. Highest (weakest) filter setting (1250.00 Hz, Nyquist limit) will be stored.\n",
      "  raw = mne.io.read_raw_brainvision(vhdr_path, preload=True)\n"
     ]
    },
    {
     "name": "stdout",
     "output_type": "stream",
     "text": [
      "Filtering raw data in 1 contiguous segment\n",
      "Setting up band-stop filter from 59 - 61 Hz\n",
      "\n",
      "FIR filter parameters\n",
      "---------------------\n",
      "Designing a one-pass, zero-phase, non-causal bandstop filter:\n",
      "- Windowed time-domain design (firwin) method\n",
      "- Hamming window with 0.0194 passband ripple and 53 dB stopband attenuation\n",
      "- Lower passband edge: 59.35\n",
      "- Lower transition bandwidth: 0.50 Hz (-6 dB cutoff frequency: 59.10 Hz)\n",
      "- Upper passband edge: 60.65 Hz\n",
      "- Upper transition bandwidth: 0.50 Hz (-6 dB cutoff frequency: 60.90 Hz)\n",
      "- Filter length: 1691 samples (6.605 s)\n",
      "\n",
      "Filtering raw data in 1 contiguous segment\n",
      "Setting up band-pass filter from 8 - 30 Hz\n",
      "\n",
      "FIR filter parameters\n",
      "---------------------\n",
      "Designing a one-pass, zero-phase, non-causal bandpass filter:\n",
      "- Windowed time-domain design (firwin) method\n",
      "- Hamming window with 0.0194 passband ripple and 53 dB stopband attenuation\n",
      "- Lower passband edge: 8.00\n",
      "- Lower transition bandwidth: 2.00 Hz (-6 dB cutoff frequency: 7.00 Hz)\n",
      "- Upper passband edge: 30.00 Hz\n",
      "- Upper transition bandwidth: 7.50 Hz (-6 dB cutoff frequency: 33.75 Hz)\n",
      "- Filter length: 423 samples (1.652 s)\n",
      "\n"
     ]
    },
    {
     "name": "stderr",
     "output_type": "stream",
     "text": [
      "[Parallel(n_jobs=1)]: Done  17 tasks      | elapsed:    0.1s\n",
      "[Parallel(n_jobs=1)]: Done  60 out of  60 | elapsed:    0.2s finished\n"
     ]
    },
    {
     "name": "stdout",
     "output_type": "stream",
     "text": [
      "Fitting ICA to data using 60 channels (please be patient, this may take a while)\n"
     ]
    },
    {
     "name": "stderr",
     "output_type": "stream",
     "text": [
      "[Parallel(n_jobs=1)]: Done  17 tasks      | elapsed:    0.1s\n",
      "[Parallel(n_jobs=1)]: Done  60 out of  60 | elapsed:    0.2s finished\n"
     ]
    },
    {
     "name": "stdout",
     "output_type": "stream",
     "text": [
      "Selecting by number: 15 components\n",
      "Fitting ICA took 0.2s.\n",
      "Applying ICA to Raw instance\n",
      "    Transforming to ICA space (15 components)\n",
      "    Zeroing out 0 ICA components\n",
      "    Projecting back using 60 PCA components\n",
      "Used Annotations descriptions: [np.str_('Comment/actiCAP Active Shield On'), np.str_('New Segment/'), np.str_('Stimulus/S  8'), np.str_('Stimulus/S  9'), np.str_('Stimulus/S 10'), np.str_('Stimulus/S 13'), np.str_('Stimulus/S 14'), np.str_('Stimulus/S 91'), np.str_('Stimulus/S101')]\n",
      "Not setting metadata\n",
      "100 matching events found\n",
      "Setting baseline interval to [-0.19921875, 0.0] s\n",
      "Applying baseline correction (mode: mean)\n",
      "0 projection items activated\n",
      "Using data from preloaded Raw for 100 events and 564 original time points ...\n",
      "    Rejecting  epoch based on EEG : ['F6']\n",
      "    Rejecting  epoch based on EEG : ['Fp1', 'AF7', 'AF3', 'F7', 'F5', 'Fp2', 'AF8', 'F6']\n",
      "    Rejecting  epoch based on EEG : ['Fp1', 'AF7', 'Fp2', 'AF8', 'F6']\n",
      "    Rejecting  epoch based on EEG : ['Fp1', 'AF7', 'AF3', 'F5', 'Fp2', 'AF4', 'AF8', 'F6', 'F8']\n",
      "    Rejecting  epoch based on EEG : ['Fp2', 'AF8']\n",
      "    Rejecting  epoch based on EEG : ['Fp2', 'AF4', 'AF8', 'F6']\n",
      "    Rejecting  epoch based on EEG : ['F6']\n",
      "    Rejecting  epoch based on EEG : ['Fp2', 'AF8', 'F6']\n",
      "    Rejecting  epoch based on EEG : ['Fp1', 'AF7', 'Fp2', 'AF8', 'F6']\n",
      "    Rejecting  epoch based on EEG : ['Fp1', 'AF7', 'AF3', 'F5', 'Fp2', 'AF4', 'AF8', 'F6']\n",
      "    Rejecting  epoch based on EEG : ['AF7', 'Fp2', 'AF4', 'AF8', 'F6']\n",
      "    Rejecting  epoch based on EEG : ['AF7', 'Fp2', 'AF8', 'F6']\n",
      "    Rejecting  epoch based on EEG : ['Fp1', 'AF7', 'AF3', 'F5', 'Fp2', 'AF4', 'AF8', 'F6']\n",
      "    Rejecting  epoch based on EEG : ['Fp1', 'AF7', 'AF3', 'F7', 'F5', 'FT7', 'FC5', 'T7', 'C5', 'TP7', 'CP5', 'P7', 'P5', 'PO7', 'PO3', 'POz', 'Fp2', 'AF4', 'AF8', 'F4', 'F6', 'F8', 'FC4', 'FC6', 'FT8', 'C4', 'C6', 'T8', 'TP8', 'P6', 'P8', 'PO4', 'PO8', 'O1', 'Oz', 'O2', 'Iz']\n",
      "    Rejecting  epoch based on EEG : ['FC5', 'T7', 'C5', 'Fp2', 'AF8', 'F6', 'F8', 'FC6', 'T8']\n",
      "    Rejecting  epoch based on EEG : ['AF7', 'Fp2', 'AF8', 'F6']\n",
      "    Rejecting  epoch based on EEG : ['Fp1', 'AF7', 'AF3', 'F7', 'F5', 'Fp2', 'AF4', 'AF8', 'F6', 'F8', 'TP8']\n",
      "    Rejecting  epoch based on EEG : ['Fp1', 'AF7', 'AF3', 'F7', 'F5', 'Fp2', 'AF4', 'AF8', 'F6', 'F8', 'TP8']\n",
      "    Rejecting  epoch based on EEG : ['Fp1', 'AF7', 'AF3', 'F5', 'Fp2', 'AF4', 'AF8', 'F6']\n",
      "    Rejecting  epoch based on EEG : ['Fp1', 'AF7', 'AF3', 'F7', 'F5', 'Fp2', 'AF4', 'AF8', 'F6', 'F8', 'TP8']\n",
      "    Rejecting  epoch based on EEG : ['Fp1', 'AF7', 'Fp2', 'AF8', 'F6']\n",
      "    Rejecting  epoch based on EEG : ['Fp1', 'AF7', 'AF3', 'F7', 'F5', 'Fp2', 'AF4', 'AF8', 'F6', 'F8', 'TP8']\n",
      "    Rejecting  epoch based on EEG : ['Fp1', 'AF7', 'AF3', 'F7', 'F5', 'Fp2', 'AF4', 'AF8', 'F6', 'F8', 'TP8']\n",
      "    Rejecting  epoch based on EEG : ['Fp2', 'AF8', 'F6']\n",
      "    Rejecting  epoch based on EEG : ['Fp1', 'AF7', 'AF3', 'F7', 'F5', 'Fp2', 'AF4', 'AF8', 'F6', 'F8', 'TP8']\n",
      "    Rejecting  epoch based on EEG : ['Fp1', 'AF7', 'Fp2', 'AF4', 'AF8', 'F6']\n",
      "    Rejecting  epoch based on EEG : ['Fp2', 'AF8', 'F6']\n",
      "    Rejecting  epoch based on EEG : ['Fp1', 'AF7', 'AF3', 'F7', 'F5', 'Fp2', 'AF4', 'AF8', 'F6', 'F8', 'TP8']\n",
      "    Rejecting  epoch based on EEG : ['Fp2']\n",
      "    Rejecting  epoch based on EEG : ['Fp1', 'AF7', 'AF3', 'Fp2', 'AF4', 'AF8', 'F6']\n",
      "    Rejecting  epoch based on EEG : ['Fp1', 'AF7', 'F7', 'Fp2', 'AF4', 'AF8', 'F6', 'F8']\n",
      "    Rejecting  epoch based on EEG : ['Fp1', 'AF7', 'AF3', 'F7', 'F5', 'F3', 'FT7', 'Fp2', 'AF4', 'AF8', 'F6', 'F8', 'TP8']\n",
      "    Rejecting  epoch based on EEG : ['Fp1', 'AF7', 'AF3', 'F7', 'F5', 'F3', 'FT7', 'Fp2', 'AF4', 'AF8', 'F6', 'F8', 'TP8']\n",
      "    Rejecting  epoch based on EEG : ['Fp1', 'AF7', 'AF3', 'F7', 'F5', 'Fp2', 'AF4', 'AF8', 'F6', 'F8', 'TP8']\n",
      "    Rejecting  epoch based on EEG : ['Fp1', 'AF7', 'AF3', 'F5', 'Fp2', 'AF4', 'AF8', 'F6']\n",
      "    Rejecting  epoch based on EEG : ['Fp1', 'AF7', 'AF3', 'F7', 'F5', 'Fp2', 'AF4', 'AF8', 'F6', 'F8', 'TP8']\n",
      "    Rejecting  epoch based on EEG : ['Fp1', 'AF7', 'AF3', 'F7', 'F5', 'Fp2', 'AF4', 'AF8', 'F6']\n",
      "    Rejecting  epoch based on EEG : ['Fp1', 'AF7', 'AF3', 'F5', 'Fp2', 'AF4', 'AF8', 'F6']\n",
      "    Rejecting  epoch based on EEG : ['Fp2', 'F6']\n",
      "    Rejecting  epoch based on EEG : ['Fp2', 'AF8', 'F6']\n",
      "    Rejecting  epoch based on EEG : ['Fp1', 'AF7', 'AF3', 'F7', 'F5', 'Fp2', 'AF4', 'AF8', 'F6', 'F8']\n",
      "    Rejecting  epoch based on EEG : ['Fp1', 'AF7', 'AF3', 'F5', 'Fp2', 'AF4', 'AF8', 'F6', 'TP8']\n",
      "    Rejecting  epoch based on EEG : ['Fp1', 'AF7', 'AF3', 'F7', 'F5', 'Fp2', 'AF4', 'AF8', 'F6', 'F8', 'TP8']\n",
      "    Rejecting  epoch based on EEG : ['Fp1', 'AF7', 'AF3', 'F7', 'F5', 'Fp2', 'AF4', 'AF8', 'F6', 'F8', 'TP8']\n",
      "    Rejecting  epoch based on EEG : ['Fp1', 'AF7', 'AF3', 'F7', 'F5', 'Fp2', 'AF4', 'AF8', 'F6', 'F8', 'TP8']\n",
      "    Rejecting  epoch based on EEG : ['Fp1', 'AF7', 'AF3', 'F7', 'F5', 'FT7', 'Fp2', 'AF4', 'AF8', 'F6', 'F8', 'TP8']\n",
      "    Rejecting  epoch based on EEG : ['Fp1', 'AF7', 'AF3', 'F7', 'F5', 'Fp2', 'AF4', 'AF8', 'F6', 'F8', 'TP8']\n",
      "    Rejecting  epoch based on EEG : ['Fp1', 'AF7', 'AF3', 'F7', 'F5', 'Fp2', 'AF4', 'AF8', 'F6', 'F8']\n",
      "    Rejecting  epoch based on EEG : ['Fp1', 'AF7', 'AF3', 'F7', 'F5', 'Fp2', 'AF4', 'AF8', 'F6']\n",
      "    Rejecting  epoch based on EEG : ['Fp1', 'AF7', 'AF3', 'F7', 'F5', 'Fp2', 'AF4', 'AF8', 'F6', 'F8', 'TP8']\n",
      "    Rejecting  epoch based on EEG : ['Fp1', 'AF7', 'AF3', 'F7', 'F5', 'FT7', 'Fp2', 'AF4', 'AF8', 'F6', 'F8', 'TP8']\n",
      "    Rejecting  epoch based on EEG : ['Fp1', 'AF7', 'AF3', 'F7', 'F5', 'FT7', 'Fp2', 'AF4', 'AF8', 'F6', 'F8', 'TP8']\n",
      "    Rejecting  epoch based on EEG : ['Fp1', 'AF7', 'AF3', 'F5', 'Fp2']\n",
      "    Rejecting  epoch based on EEG : ['Fp1', 'AF7', 'AF3', 'F7', 'F5', 'Fp2', 'AF4', 'AF8', 'F6', 'F8']\n",
      "    Rejecting  epoch based on EEG : ['Fp1', 'AF7', 'Fp2', 'F6']\n",
      "    Rejecting  epoch based on EEG : ['Fp1', 'AF7', 'Fp2', 'AF8', 'F6']\n",
      "    Rejecting  epoch based on EEG : ['Fp1', 'AF7', 'AF3', 'F7', 'F5', 'Fp2', 'AF4', 'AF8', 'F6', 'F8', 'TP8']\n",
      "    Rejecting  epoch based on EEG : ['Fp1', 'AF7', 'AF3', 'F5', 'Fp2', 'AF4', 'AF8', 'F6']\n",
      "    Rejecting  epoch based on EEG : ['Fp1', 'AF7', 'AF3', 'F7', 'F5', 'FT7', 'Fp2', 'AF4', 'AF8', 'F6', 'F8', 'TP8']\n",
      "    Rejecting  epoch based on EEG : ['Fp1', 'AF7', 'AF3', 'F7', 'F5', 'F3', 'FT7', 'Fp2', 'AF4', 'AF8', 'F6', 'F8', 'TP8']\n",
      "    Rejecting  epoch based on EEG : ['Fp1', 'AF7', 'AF3', 'Fp2', 'AF4', 'AF8', 'F6', 'F8', 'TP8']\n",
      "    Rejecting  epoch based on EEG : ['Fp1', 'AF7', 'AF3', 'F7', 'F5', 'Fp2', 'AF4', 'AF8', 'F6', 'F8', 'TP8']\n",
      "    Rejecting  epoch based on EEG : ['Fp1', 'AF7', 'AF3', 'F7', 'F5', 'FT7', 'Fp2', 'AF4', 'AF8', 'F6', 'F8', 'TP8']\n",
      "    Rejecting  epoch based on EEG : ['Fp1', 'AF7', 'AF3', 'F7', 'F5', 'Fp2', 'AF4', 'AF8', 'F6', 'F8']\n",
      "    Rejecting  epoch based on EEG : ['Fp1', 'AF7', 'AF3', 'F7', 'F5', 'Fp2', 'AF4', 'AF8', 'F6', 'F8', 'TP8']\n",
      "    Rejecting  epoch based on EEG : ['Fp1', 'AF7', 'AF3', 'F7', 'F5', 'Fp2', 'AF4', 'AF8', 'F6']\n",
      "    Rejecting  epoch based on EEG : ['Fp1', 'AF7', 'AF3', 'F7', 'F5', 'Fp2', 'AF4', 'AF8', 'F6', 'F8', 'TP8']\n",
      "    Rejecting  epoch based on EEG : ['Fp1', 'AF7', 'AF3', 'F7', 'F5', 'Fp2', 'AF4', 'AF8', 'F6', 'F8', 'TP8']\n",
      "    Rejecting  epoch based on EEG : ['Fp1', 'AF7', 'AF3', 'F7', 'F5', 'Fp2', 'AF4', 'AF8', 'F6', 'F8']\n",
      "    Rejecting  epoch based on EEG : ['Fp1', 'AF7', 'AF3', 'F7', 'F5', 'FT7', 'Fp2', 'AF4', 'AF8', 'F6', 'F8', 'TP8']\n",
      "    Rejecting  epoch based on EEG : ['Fp1', 'AF7', 'AF3', 'F7', 'F5', 'Fp2', 'AF4', 'AF8', 'F6', 'F8', 'TP8']\n",
      "    Rejecting  epoch based on EEG : ['Fp1', 'AF7', 'AF3', 'Fp2', 'AF4', 'AF8', 'F6']\n",
      "    Rejecting  epoch based on EEG : ['Fp1', 'AF7', 'AF3', 'F5', 'Fp2', 'AF8', 'F6']\n",
      "    Rejecting  epoch based on EEG : ['Fp1', 'AF7', 'Fp2', 'F6']\n",
      "    Rejecting  epoch based on EEG : ['AF7']\n",
      "    Rejecting  epoch based on EEG : ['Fp1', 'AF7', 'AF3', 'F7', 'F5', 'F3', 'FT7', 'Fp2', 'AF4', 'AF8', 'F6', 'F8', 'TP8']\n",
      "    Rejecting  epoch based on EEG : ['Fp1', 'AF7', 'Fp2', 'F6']\n",
      "    Rejecting  epoch based on EEG : ['Fp1', 'AF7', 'AF3', 'F7', 'F5', 'Fp2', 'AF4', 'AF8', 'F6', 'F8', 'TP8']\n",
      "    Rejecting  epoch based on EEG : ['Fp1', 'AF7', 'AF3', 'F7', 'F5', 'Fp2', 'AF4', 'AF8', 'F6', 'F8', 'TP8']\n",
      "    Rejecting  epoch based on EEG : ['Fp1', 'AF7', 'AF3', 'F7', 'F5', 'F3', 'FT7', 'Fp2', 'AF4', 'AF8', 'F6', 'F8', 'TP8']\n",
      "    Rejecting  epoch based on EEG : ['Fp1']\n",
      "    Rejecting  epoch based on EEG : ['Fp1', 'AF7', 'AF3', 'F7', 'F5', 'Fp2', 'AF8', 'F6']\n",
      "    Rejecting  epoch based on EEG : ['Fp1', 'AF7', 'AF3', 'F5', 'Fp2', 'AF4', 'AF8', 'F6']\n",
      "    Rejecting  epoch based on EEG : ['Fp1', 'AF7', 'AF3', 'F7', 'F5', 'Fp2', 'AF4', 'AF8', 'F6']\n",
      "84 bad epochs dropped\n",
      "✅ Saved: session2_sub22_twist_MI.npz | Shape: (16, 60, 564)\n",
      "\n",
      "🧠 Processing: /storage/projects1/e19-4yp-mi-eeg-for-bci/rawdata/session2_sub20_twist_MI.vhdr\n",
      "Extracting parameters from /storage/projects1/e19-4yp-mi-eeg-for-bci/rawdata/session2_sub20_twist_MI.vhdr...\n",
      "Setting channel info structure...\n",
      "Reading 0 ... 2666899  =      0.000 ...  1066.760 secs...\n"
     ]
    },
    {
     "name": "stderr",
     "output_type": "stream",
     "text": [
      "/tmp/ipykernel_26682/98459583.py:27: RuntimeWarning: Online software filter detected. Using software filter settings and ignoring hardware values\n",
      "  raw = mne.io.read_raw_brainvision(vhdr_path, preload=True)\n",
      "/tmp/ipykernel_26682/98459583.py:27: RuntimeWarning: Channels contain different highpass filters. Lowest (weakest) filter setting (0.00 Hz) will be stored.\n",
      "  raw = mne.io.read_raw_brainvision(vhdr_path, preload=True)\n",
      "/tmp/ipykernel_26682/98459583.py:27: RuntimeWarning: Channels contain different lowpass filters. Highest (weakest) filter setting (1250.00 Hz, Nyquist limit) will be stored.\n",
      "  raw = mne.io.read_raw_brainvision(vhdr_path, preload=True)\n"
     ]
    },
    {
     "name": "stdout",
     "output_type": "stream",
     "text": [
      "Filtering raw data in 1 contiguous segment\n",
      "Setting up band-stop filter from 59 - 61 Hz\n",
      "\n",
      "FIR filter parameters\n",
      "---------------------\n",
      "Designing a one-pass, zero-phase, non-causal bandstop filter:\n",
      "- Windowed time-domain design (firwin) method\n",
      "- Hamming window with 0.0194 passband ripple and 53 dB stopband attenuation\n",
      "- Lower passband edge: 59.35\n",
      "- Lower transition bandwidth: 0.50 Hz (-6 dB cutoff frequency: 59.10 Hz)\n",
      "- Upper passband edge: 60.65 Hz\n",
      "- Upper transition bandwidth: 0.50 Hz (-6 dB cutoff frequency: 60.90 Hz)\n",
      "- Filter length: 1691 samples (6.605 s)\n",
      "\n",
      "Filtering raw data in 1 contiguous segment\n",
      "Setting up band-pass filter from 8 - 30 Hz\n",
      "\n",
      "FIR filter parameters\n",
      "---------------------\n",
      "Designing a one-pass, zero-phase, non-causal bandpass filter:\n",
      "- Windowed time-domain design (firwin) method\n",
      "- Hamming window with 0.0194 passband ripple and 53 dB stopband attenuation\n",
      "- Lower passband edge: 8.00\n",
      "- Lower transition bandwidth: 2.00 Hz (-6 dB cutoff frequency: 7.00 Hz)\n",
      "- Upper passband edge: 30.00 Hz\n",
      "- Upper transition bandwidth: 7.50 Hz (-6 dB cutoff frequency: 33.75 Hz)\n",
      "- Filter length: 423 samples (1.652 s)\n",
      "\n"
     ]
    },
    {
     "name": "stderr",
     "output_type": "stream",
     "text": [
      "[Parallel(n_jobs=1)]: Done  17 tasks      | elapsed:    0.0s\n",
      "[Parallel(n_jobs=1)]: Done  60 out of  60 | elapsed:    0.2s finished\n",
      "[Parallel(n_jobs=1)]: Done  17 tasks      | elapsed:    0.1s\n"
     ]
    },
    {
     "name": "stdout",
     "output_type": "stream",
     "text": [
      "Fitting ICA to data using 60 channels (please be patient, this may take a while)\n",
      "Selecting by number: 15 components\n"
     ]
    },
    {
     "name": "stderr",
     "output_type": "stream",
     "text": [
      "[Parallel(n_jobs=1)]: Done  60 out of  60 | elapsed:    0.2s finished\n"
     ]
    },
    {
     "name": "stdout",
     "output_type": "stream",
     "text": [
      "Fitting ICA took 0.3s.\n",
      "Applying ICA to Raw instance\n",
      "    Transforming to ICA space (15 components)\n",
      "    Zeroing out 0 ICA components\n",
      "    Projecting back using 60 PCA components\n",
      "Used Annotations descriptions: [np.str_('Comment/ControlBox is not connected via USB'), np.str_('Comment/actiCAP Data On'), np.str_('Comment/actiCAP USB Power On'), np.str_('New Segment/'), np.str_('Stimulus/S  8'), np.str_('Stimulus/S  9'), np.str_('Stimulus/S 10'), np.str_('Stimulus/S 13'), np.str_('Stimulus/S 14'), np.str_('Stimulus/S 91'), np.str_('Stimulus/S101')]\n",
      "Not setting metadata\n",
      "100 matching events found\n",
      "Setting baseline interval to [-0.19921875, 0.0] s\n",
      "Applying baseline correction (mode: mean)\n",
      "0 projection items activated\n",
      "Using data from preloaded Raw for 100 events and 564 original time points ...\n",
      "    Rejecting  epoch based on EEG : ['Fp2']\n",
      "    Rejecting  epoch based on EEG : ['Fp1', 'AF7', 'AF3', 'F7', 'F5', 'Fp2']\n",
      "    Rejecting  epoch based on EEG : ['Fp1', 'AF7', 'F7', 'F5', 'Fp2']\n",
      "    Rejecting  epoch based on EEG : ['Fp1']\n",
      "    Rejecting  epoch based on EEG : ['Fp1', 'AF7', 'F7', 'F5', 'Fp2', 'AF8']\n",
      "    Rejecting  epoch based on EEG : ['Fp1', 'AF7', 'AF3', 'F7', 'F5', 'Fp2', 'AF8']\n",
      "    Rejecting  epoch based on EEG : ['Fp2', 'AF8']\n",
      "    Rejecting  epoch based on EEG : ['Fp1', 'AF7', 'AF3', 'F7', 'F5', 'Fp2', 'AF8']\n",
      "    Rejecting  epoch based on EEG : ['Fp1', 'AF7', 'AF3', 'AFz', 'F7', 'F5', 'Fp2', 'AF4', 'AF8']\n",
      "    Rejecting  epoch based on EEG : ['Fp2']\n",
      "    Rejecting  epoch based on EEG : ['FC3']\n",
      "    Rejecting  epoch based on EEG : ['Fp1', 'AF3']\n",
      "    Rejecting  epoch based on EEG : ['Fp1', 'AF7', 'AF3', 'F7', 'F5', 'Fp2', 'AF8']\n",
      "    Rejecting  epoch based on EEG : ['Fp1', 'Fp2']\n",
      "    Rejecting  epoch based on EEG : ['Fp1', 'AF7', 'AF3', 'F7', 'F5', 'Fp2', 'AF8']\n",
      "    Rejecting  epoch based on EEG : ['Fp2', 'AF8']\n",
      "    Rejecting  epoch based on EEG : ['Fp1', 'AF7', 'AF3', 'F5', 'Fp2', 'AF8']\n",
      "    Rejecting  epoch based on EEG : ['Fp1', 'AF3', 'Fp2', 'AF8']\n",
      "    Rejecting  epoch based on EEG : ['Fp1', 'AF7', 'AF3', 'F7', 'F5', 'Fp2', 'AF8']\n",
      "    Rejecting  epoch based on EEG : ['Fp2']\n",
      "    Rejecting  epoch based on EEG : ['AF3']\n",
      "    Rejecting  epoch based on EEG : ['Fp2']\n",
      "    Rejecting  epoch based on EEG : ['Fp1', 'AF3', 'Fp2', 'AF8']\n",
      "    Rejecting  epoch based on EEG : ['Fp2']\n",
      "    Rejecting  epoch based on EEG : ['Fp1', 'AF7', 'AF3', 'Fp2']\n",
      "    Rejecting  epoch based on EEG : ['Fp1', 'AF7', 'AF3', 'F7', 'F5', 'Fp2', 'AF8']\n",
      "    Rejecting  epoch based on EEG : ['Fp1', 'AF7', 'AF3', 'F7', 'F5', 'Fp2', 'AF8']\n",
      "    Rejecting  epoch based on EEG : ['AF3', 'Fp2']\n",
      "    Rejecting  epoch based on EEG : ['Fp1', 'AF7', 'AF3', 'F5', 'Fp2', 'AF8']\n",
      "    Rejecting  epoch based on EEG : ['Fp1', 'AF3', 'Fp2']\n",
      "    Rejecting  epoch based on EEG : ['Fp1', 'AF7', 'AF3', 'F5', 'Fp2', 'AF8']\n",
      "    Rejecting  epoch based on EEG : ['Fp1', 'AF3', 'Fp2']\n",
      "    Rejecting  epoch based on EEG : ['Fp1', 'Fp2']\n",
      "    Rejecting  epoch based on EEG : ['Fp1', 'Fp2']\n",
      "    Rejecting  epoch based on EEG : ['Fp1', 'AF7', 'AF3', 'AFz', 'F7', 'F5', 'Fp2', 'AF4', 'AF8']\n",
      "    Rejecting  epoch based on EEG : ['Fp1', 'AF7', 'AF3', 'F7', 'F5', 'Fp2', 'AF4', 'AF8']\n",
      "    Rejecting  epoch based on EEG : ['Fp2']\n",
      "    Rejecting  epoch based on EEG : ['Fp1', 'Fp2', 'AF8']\n",
      "    Rejecting  epoch based on EEG : ['Fp1', 'AF7', 'AF3', 'Fp2', 'AF8']\n",
      "    Rejecting  epoch based on EEG : ['Fp2']\n",
      "    Rejecting  epoch based on EEG : ['Fp1', 'Fp2']\n",
      "    Rejecting  epoch based on EEG : ['Fp1', 'AF7', 'AF3', 'F5', 'Fp2', 'AF8']\n",
      "    Rejecting  epoch based on EEG : ['Fp1', 'Fp2']\n",
      "    Rejecting  epoch based on EEG : ['Fp1']\n",
      "44 bad epochs dropped\n",
      "✅ Saved: session2_sub20_twist_MI.npz | Shape: (56, 60, 564)\n",
      "\n",
      "🧠 Processing: /storage/projects1/e19-4yp-mi-eeg-for-bci/rawdata/session1_sub24_twist_MI.vhdr\n",
      "Extracting parameters from /storage/projects1/e19-4yp-mi-eeg-for-bci/rawdata/session1_sub24_twist_MI.vhdr...\n",
      "Setting channel info structure...\n",
      "Reading 0 ... 2564799  =      0.000 ...  1025.920 secs...\n"
     ]
    },
    {
     "name": "stderr",
     "output_type": "stream",
     "text": [
      "/tmp/ipykernel_26682/98459583.py:27: RuntimeWarning: Online software filter detected. Using software filter settings and ignoring hardware values\n",
      "  raw = mne.io.read_raw_brainvision(vhdr_path, preload=True)\n",
      "/tmp/ipykernel_26682/98459583.py:27: RuntimeWarning: Channels contain different highpass filters. Lowest (weakest) filter setting (0.00 Hz) will be stored.\n",
      "  raw = mne.io.read_raw_brainvision(vhdr_path, preload=True)\n",
      "/tmp/ipykernel_26682/98459583.py:27: RuntimeWarning: Channels contain different lowpass filters. Highest (weakest) filter setting (1250.00 Hz, Nyquist limit) will be stored.\n",
      "  raw = mne.io.read_raw_brainvision(vhdr_path, preload=True)\n"
     ]
    },
    {
     "name": "stdout",
     "output_type": "stream",
     "text": [
      "Filtering raw data in 1 contiguous segment\n",
      "Setting up band-stop filter from 59 - 61 Hz\n",
      "\n",
      "FIR filter parameters\n",
      "---------------------\n",
      "Designing a one-pass, zero-phase, non-causal bandstop filter:\n",
      "- Windowed time-domain design (firwin) method\n",
      "- Hamming window with 0.0194 passband ripple and 53 dB stopband attenuation\n",
      "- Lower passband edge: 59.35\n",
      "- Lower transition bandwidth: 0.50 Hz (-6 dB cutoff frequency: 59.10 Hz)\n",
      "- Upper passband edge: 60.65 Hz\n",
      "- Upper transition bandwidth: 0.50 Hz (-6 dB cutoff frequency: 60.90 Hz)\n",
      "- Filter length: 1691 samples (6.605 s)\n",
      "\n",
      "Filtering raw data in 1 contiguous segment\n",
      "Setting up band-pass filter from 8 - 30 Hz\n",
      "\n",
      "FIR filter parameters\n",
      "---------------------\n",
      "Designing a one-pass, zero-phase, non-causal bandpass filter:\n",
      "- Windowed time-domain design (firwin) method\n",
      "- Hamming window with 0.0194 passband ripple and 53 dB stopband attenuation\n",
      "- Lower passband edge: 8.00\n",
      "- Lower transition bandwidth: 2.00 Hz (-6 dB cutoff frequency: 7.00 Hz)\n",
      "- Upper passband edge: 30.00 Hz\n",
      "- Upper transition bandwidth: 7.50 Hz (-6 dB cutoff frequency: 33.75 Hz)\n",
      "- Filter length: 423 samples (1.652 s)\n",
      "\n"
     ]
    },
    {
     "name": "stderr",
     "output_type": "stream",
     "text": [
      "[Parallel(n_jobs=1)]: Done  17 tasks      | elapsed:    0.1s\n",
      "[Parallel(n_jobs=1)]: Done  60 out of  60 | elapsed:    0.2s finished\n"
     ]
    },
    {
     "name": "stdout",
     "output_type": "stream",
     "text": [
      "Fitting ICA to data using 60 channels (please be patient, this may take a while)\n"
     ]
    },
    {
     "name": "stderr",
     "output_type": "stream",
     "text": [
      "[Parallel(n_jobs=1)]: Done  17 tasks      | elapsed:    0.0s\n",
      "[Parallel(n_jobs=1)]: Done  60 out of  60 | elapsed:    0.2s finished\n"
     ]
    },
    {
     "name": "stdout",
     "output_type": "stream",
     "text": [
      "Selecting by number: 15 components\n",
      "Fitting ICA took 0.2s.\n",
      "Applying ICA to Raw instance\n",
      "    Transforming to ICA space (15 components)\n",
      "    Zeroing out 0 ICA components\n",
      "    Projecting back using 60 PCA components\n",
      "Used Annotations descriptions: [np.str_('Comment/actiCAP Active Shield On'), np.str_('Comment/actiCAP Data On'), np.str_('New Segment/'), np.str_('Stimulus/S  8'), np.str_('Stimulus/S  9'), np.str_('Stimulus/S 10'), np.str_('Stimulus/S 13'), np.str_('Stimulus/S 14'), np.str_('Stimulus/S 91'), np.str_('Stimulus/S101')]\n",
      "Not setting metadata\n",
      "100 matching events found\n",
      "Setting baseline interval to [-0.19921875, 0.0] s\n",
      "Applying baseline correction (mode: mean)\n",
      "0 projection items activated\n",
      "Using data from preloaded Raw for 100 events and 564 original time points ...\n",
      "    Rejecting  epoch based on EEG : ['PO8', 'O2']\n",
      "    Rejecting  epoch based on EEG : ['PO4', 'PO8', 'O2']\n",
      "2 bad epochs dropped\n",
      "✅ Saved: session1_sub24_twist_MI.npz | Shape: (98, 60, 564)\n",
      "\n",
      "🧠 Processing: /storage/projects1/e19-4yp-mi-eeg-for-bci/rawdata/session2_sub15_twist_MI.vhdr\n",
      "Extracting parameters from /storage/projects1/e19-4yp-mi-eeg-for-bci/rawdata/session2_sub15_twist_MI.vhdr...\n",
      "Setting channel info structure...\n",
      "Reading 0 ... 2609899  =      0.000 ...  1043.960 secs...\n"
     ]
    },
    {
     "name": "stderr",
     "output_type": "stream",
     "text": [
      "/tmp/ipykernel_26682/98459583.py:27: RuntimeWarning: Online software filter detected. Using software filter settings and ignoring hardware values\n",
      "  raw = mne.io.read_raw_brainvision(vhdr_path, preload=True)\n",
      "/tmp/ipykernel_26682/98459583.py:27: RuntimeWarning: Channels contain different highpass filters. Lowest (weakest) filter setting (0.00 Hz) will be stored.\n",
      "  raw = mne.io.read_raw_brainvision(vhdr_path, preload=True)\n",
      "/tmp/ipykernel_26682/98459583.py:27: RuntimeWarning: Channels contain different lowpass filters. Highest (weakest) filter setting (1250.00 Hz, Nyquist limit) will be stored.\n",
      "  raw = mne.io.read_raw_brainvision(vhdr_path, preload=True)\n"
     ]
    },
    {
     "name": "stdout",
     "output_type": "stream",
     "text": [
      "Filtering raw data in 1 contiguous segment\n",
      "Setting up band-stop filter from 59 - 61 Hz\n",
      "\n",
      "FIR filter parameters\n",
      "---------------------\n",
      "Designing a one-pass, zero-phase, non-causal bandstop filter:\n",
      "- Windowed time-domain design (firwin) method\n",
      "- Hamming window with 0.0194 passband ripple and 53 dB stopband attenuation\n",
      "- Lower passband edge: 59.35\n",
      "- Lower transition bandwidth: 0.50 Hz (-6 dB cutoff frequency: 59.10 Hz)\n",
      "- Upper passband edge: 60.65 Hz\n",
      "- Upper transition bandwidth: 0.50 Hz (-6 dB cutoff frequency: 60.90 Hz)\n",
      "- Filter length: 1691 samples (6.605 s)\n",
      "\n",
      "Filtering raw data in 1 contiguous segment\n",
      "Setting up band-pass filter from 8 - 30 Hz\n",
      "\n",
      "FIR filter parameters\n",
      "---------------------\n",
      "Designing a one-pass, zero-phase, non-causal bandpass filter:\n",
      "- Windowed time-domain design (firwin) method\n",
      "- Hamming window with 0.0194 passband ripple and 53 dB stopband attenuation\n",
      "- Lower passband edge: 8.00\n",
      "- Lower transition bandwidth: 2.00 Hz (-6 dB cutoff frequency: 7.00 Hz)\n",
      "- Upper passband edge: 30.00 Hz\n",
      "- Upper transition bandwidth: 7.50 Hz (-6 dB cutoff frequency: 33.75 Hz)\n",
      "- Filter length: 423 samples (1.652 s)\n",
      "\n"
     ]
    },
    {
     "name": "stderr",
     "output_type": "stream",
     "text": [
      "[Parallel(n_jobs=1)]: Done  17 tasks      | elapsed:    0.0s\n",
      "[Parallel(n_jobs=1)]: Done  60 out of  60 | elapsed:    0.2s finished\n",
      "[Parallel(n_jobs=1)]: Done  17 tasks      | elapsed:    0.0s\n"
     ]
    },
    {
     "name": "stdout",
     "output_type": "stream",
     "text": [
      "Fitting ICA to data using 60 channels (please be patient, this may take a while)\n",
      "Selecting by number: 15 components\n"
     ]
    },
    {
     "name": "stderr",
     "output_type": "stream",
     "text": [
      "[Parallel(n_jobs=1)]: Done  60 out of  60 | elapsed:    0.2s finished\n"
     ]
    },
    {
     "name": "stdout",
     "output_type": "stream",
     "text": [
      "Fitting ICA took 0.3s.\n",
      "Applying ICA to Raw instance\n",
      "    Transforming to ICA space (15 components)\n",
      "    Zeroing out 0 ICA components\n",
      "    Projecting back using 60 PCA components\n",
      "Used Annotations descriptions: [np.str_('Comment/actiCAP Data On'), np.str_('New Segment/'), np.str_('Stimulus/S  8'), np.str_('Stimulus/S  9'), np.str_('Stimulus/S 10'), np.str_('Stimulus/S 13'), np.str_('Stimulus/S 14'), np.str_('Stimulus/S 91'), np.str_('Stimulus/S101')]\n",
      "Not setting metadata\n",
      "100 matching events found\n",
      "Setting baseline interval to [-0.19921875, 0.0] s\n",
      "Applying baseline correction (mode: mean)\n",
      "0 projection items activated\n",
      "Using data from preloaded Raw for 100 events and 564 original time points ...\n",
      "0 bad epochs dropped\n",
      "✅ Saved: session2_sub15_twist_MI.npz | Shape: (100, 60, 564)\n",
      "\n",
      "🧠 Processing: /storage/projects1/e19-4yp-mi-eeg-for-bci/rawdata/session3_sub21_twist_MI.vhdr\n",
      "Extracting parameters from /storage/projects1/e19-4yp-mi-eeg-for-bci/rawdata/session3_sub21_twist_MI.vhdr...\n",
      "Setting channel info structure...\n",
      "Reading 0 ... 2579499  =      0.000 ...  1031.800 secs...\n"
     ]
    },
    {
     "name": "stderr",
     "output_type": "stream",
     "text": [
      "/tmp/ipykernel_26682/98459583.py:27: RuntimeWarning: Online software filter detected. Using software filter settings and ignoring hardware values\n",
      "  raw = mne.io.read_raw_brainvision(vhdr_path, preload=True)\n",
      "/tmp/ipykernel_26682/98459583.py:27: RuntimeWarning: Channels contain different highpass filters. Lowest (weakest) filter setting (0.00 Hz) will be stored.\n",
      "  raw = mne.io.read_raw_brainvision(vhdr_path, preload=True)\n",
      "/tmp/ipykernel_26682/98459583.py:27: RuntimeWarning: Channels contain different lowpass filters. Highest (weakest) filter setting (1250.00 Hz, Nyquist limit) will be stored.\n",
      "  raw = mne.io.read_raw_brainvision(vhdr_path, preload=True)\n"
     ]
    },
    {
     "name": "stdout",
     "output_type": "stream",
     "text": [
      "Filtering raw data in 1 contiguous segment\n",
      "Setting up band-stop filter from 59 - 61 Hz\n",
      "\n",
      "FIR filter parameters\n",
      "---------------------\n",
      "Designing a one-pass, zero-phase, non-causal bandstop filter:\n",
      "- Windowed time-domain design (firwin) method\n",
      "- Hamming window with 0.0194 passband ripple and 53 dB stopband attenuation\n",
      "- Lower passband edge: 59.35\n",
      "- Lower transition bandwidth: 0.50 Hz (-6 dB cutoff frequency: 59.10 Hz)\n",
      "- Upper passband edge: 60.65 Hz\n",
      "- Upper transition bandwidth: 0.50 Hz (-6 dB cutoff frequency: 60.90 Hz)\n",
      "- Filter length: 1691 samples (6.605 s)\n",
      "\n",
      "Filtering raw data in 1 contiguous segment\n",
      "Setting up band-pass filter from 8 - 30 Hz\n",
      "\n",
      "FIR filter parameters\n",
      "---------------------\n",
      "Designing a one-pass, zero-phase, non-causal bandpass filter:\n",
      "- Windowed time-domain design (firwin) method\n",
      "- Hamming window with 0.0194 passband ripple and 53 dB stopband attenuation\n",
      "- Lower passband edge: 8.00\n",
      "- Lower transition bandwidth: 2.00 Hz (-6 dB cutoff frequency: 7.00 Hz)\n",
      "- Upper passband edge: 30.00 Hz\n",
      "- Upper transition bandwidth: 7.50 Hz (-6 dB cutoff frequency: 33.75 Hz)\n",
      "- Filter length: 423 samples (1.652 s)\n",
      "\n"
     ]
    },
    {
     "name": "stderr",
     "output_type": "stream",
     "text": [
      "[Parallel(n_jobs=1)]: Done  17 tasks      | elapsed:    0.0s\n",
      "[Parallel(n_jobs=1)]: Done  60 out of  60 | elapsed:    0.2s finished\n",
      "[Parallel(n_jobs=1)]: Done  17 tasks      | elapsed:    0.0s\n"
     ]
    },
    {
     "name": "stdout",
     "output_type": "stream",
     "text": [
      "Fitting ICA to data using 60 channels (please be patient, this may take a while)\n",
      "Selecting by number: 15 components\n",
      "Fitting ICA took 0.2s.\n"
     ]
    },
    {
     "name": "stderr",
     "output_type": "stream",
     "text": [
      "[Parallel(n_jobs=1)]: Done  60 out of  60 | elapsed:    0.2s finished\n"
     ]
    },
    {
     "name": "stdout",
     "output_type": "stream",
     "text": [
      "Applying ICA to Raw instance\n",
      "    Transforming to ICA space (15 components)\n",
      "    Zeroing out 0 ICA components\n",
      "    Projecting back using 60 PCA components\n",
      "Used Annotations descriptions: [np.str_('Comment/actiCAP Active Shield On'), np.str_('New Segment/'), np.str_('Stimulus/S  8'), np.str_('Stimulus/S  9'), np.str_('Stimulus/S 10'), np.str_('Stimulus/S 13'), np.str_('Stimulus/S 14'), np.str_('Stimulus/S 91'), np.str_('Stimulus/S101')]\n",
      "Not setting metadata\n",
      "100 matching events found\n",
      "Setting baseline interval to [-0.19921875, 0.0] s\n",
      "Applying baseline correction (mode: mean)\n",
      "0 projection items activated\n",
      "Using data from preloaded Raw for 100 events and 564 original time points ...\n",
      "    Rejecting  epoch based on EEG : ['PO7', 'PO3', 'O1']\n",
      "    Rejecting  epoch based on EEG : ['FT7', 'FC5', 'T7', 'C5']\n",
      "    Rejecting  epoch based on EEG : ['F5', 'T8']\n",
      "    Rejecting  epoch based on EEG : ['Fp1', 'T7', 'C5', 'CP5', 'T8']\n",
      "    Rejecting  epoch based on EEG : ['T8']\n",
      "    Rejecting  epoch based on EEG : ['POz']\n",
      "    Rejecting  epoch based on EEG : ['AF8']\n",
      "7 bad epochs dropped\n",
      "✅ Saved: session3_sub21_twist_MI.npz | Shape: (93, 60, 564)\n",
      "\n",
      "🧠 Processing: /storage/projects1/e19-4yp-mi-eeg-for-bci/rawdata/session3_sub25_twist_MI.vhdr\n",
      "Extracting parameters from /storage/projects1/e19-4yp-mi-eeg-for-bci/rawdata/session3_sub25_twist_MI.vhdr...\n",
      "Setting channel info structure...\n",
      "Reading 0 ... 2667499  =      0.000 ...  1067.000 secs...\n"
     ]
    },
    {
     "name": "stderr",
     "output_type": "stream",
     "text": [
      "/tmp/ipykernel_26682/98459583.py:27: RuntimeWarning: Online software filter detected. Using software filter settings and ignoring hardware values\n",
      "  raw = mne.io.read_raw_brainvision(vhdr_path, preload=True)\n",
      "/tmp/ipykernel_26682/98459583.py:27: RuntimeWarning: Channels contain different highpass filters. Lowest (weakest) filter setting (0.00 Hz) will be stored.\n",
      "  raw = mne.io.read_raw_brainvision(vhdr_path, preload=True)\n",
      "/tmp/ipykernel_26682/98459583.py:27: RuntimeWarning: Channels contain different lowpass filters. Highest (weakest) filter setting (1250.00 Hz, Nyquist limit) will be stored.\n",
      "  raw = mne.io.read_raw_brainvision(vhdr_path, preload=True)\n"
     ]
    },
    {
     "name": "stdout",
     "output_type": "stream",
     "text": [
      "Filtering raw data in 1 contiguous segment\n",
      "Setting up band-stop filter from 59 - 61 Hz\n",
      "\n",
      "FIR filter parameters\n",
      "---------------------\n",
      "Designing a one-pass, zero-phase, non-causal bandstop filter:\n",
      "- Windowed time-domain design (firwin) method\n",
      "- Hamming window with 0.0194 passband ripple and 53 dB stopband attenuation\n",
      "- Lower passband edge: 59.35\n",
      "- Lower transition bandwidth: 0.50 Hz (-6 dB cutoff frequency: 59.10 Hz)\n",
      "- Upper passband edge: 60.65 Hz\n",
      "- Upper transition bandwidth: 0.50 Hz (-6 dB cutoff frequency: 60.90 Hz)\n",
      "- Filter length: 1691 samples (6.605 s)\n",
      "\n",
      "Filtering raw data in 1 contiguous segment\n",
      "Setting up band-pass filter from 8 - 30 Hz\n",
      "\n",
      "FIR filter parameters\n",
      "---------------------\n",
      "Designing a one-pass, zero-phase, non-causal bandpass filter:\n",
      "- Windowed time-domain design (firwin) method\n",
      "- Hamming window with 0.0194 passband ripple and 53 dB stopband attenuation\n",
      "- Lower passband edge: 8.00\n",
      "- Lower transition bandwidth: 2.00 Hz (-6 dB cutoff frequency: 7.00 Hz)\n",
      "- Upper passband edge: 30.00 Hz\n",
      "- Upper transition bandwidth: 7.50 Hz (-6 dB cutoff frequency: 33.75 Hz)\n",
      "- Filter length: 423 samples (1.652 s)\n",
      "\n"
     ]
    },
    {
     "name": "stderr",
     "output_type": "stream",
     "text": [
      "[Parallel(n_jobs=1)]: Done  17 tasks      | elapsed:    0.0s\n",
      "[Parallel(n_jobs=1)]: Done  60 out of  60 | elapsed:    0.2s finished\n",
      "[Parallel(n_jobs=1)]: Done  17 tasks      | elapsed:    0.0s\n"
     ]
    },
    {
     "name": "stdout",
     "output_type": "stream",
     "text": [
      "Fitting ICA to data using 60 channels (please be patient, this may take a while)\n",
      "Selecting by number: 15 components\n"
     ]
    },
    {
     "name": "stderr",
     "output_type": "stream",
     "text": [
      "[Parallel(n_jobs=1)]: Done  60 out of  60 | elapsed:    0.2s finished\n"
     ]
    },
    {
     "name": "stdout",
     "output_type": "stream",
     "text": [
      "Fitting ICA took 0.2s.\n",
      "Applying ICA to Raw instance\n",
      "    Transforming to ICA space (15 components)\n",
      "    Zeroing out 0 ICA components\n",
      "    Projecting back using 60 PCA components\n",
      "Used Annotations descriptions: [np.str_('Comment/actiCAP USB Power On'), np.str_('New Segment/'), np.str_('Stimulus/S  8'), np.str_('Stimulus/S  9'), np.str_('Stimulus/S 10'), np.str_('Stimulus/S 13'), np.str_('Stimulus/S 14'), np.str_('Stimulus/S 91'), np.str_('Stimulus/S101')]\n",
      "Not setting metadata\n",
      "100 matching events found\n",
      "Setting baseline interval to [-0.19921875, 0.0] s\n",
      "Applying baseline correction (mode: mean)\n",
      "0 projection items activated\n",
      "Using data from preloaded Raw for 100 events and 564 original time points ...\n",
      "    Rejecting  epoch based on EEG : ['PO8']\n",
      "1 bad epochs dropped\n",
      "✅ Saved: session3_sub25_twist_MI.npz | Shape: (99, 60, 564)\n",
      "\n",
      "🧠 Processing: /storage/projects1/e19-4yp-mi-eeg-for-bci/rawdata/session3_sub14_twist_MI.vhdr\n",
      "Extracting parameters from /storage/projects1/e19-4yp-mi-eeg-for-bci/rawdata/session3_sub14_twist_MI.vhdr...\n",
      "Setting channel info structure...\n",
      "Reading 0 ... 2622999  =      0.000 ...  1049.200 secs...\n"
     ]
    },
    {
     "name": "stderr",
     "output_type": "stream",
     "text": [
      "/tmp/ipykernel_26682/98459583.py:27: RuntimeWarning: Online software filter detected. Using software filter settings and ignoring hardware values\n",
      "  raw = mne.io.read_raw_brainvision(vhdr_path, preload=True)\n",
      "/tmp/ipykernel_26682/98459583.py:27: RuntimeWarning: Channels contain different highpass filters. Lowest (weakest) filter setting (0.00 Hz) will be stored.\n",
      "  raw = mne.io.read_raw_brainvision(vhdr_path, preload=True)\n",
      "/tmp/ipykernel_26682/98459583.py:27: RuntimeWarning: Channels contain different lowpass filters. Highest (weakest) filter setting (1250.00 Hz, Nyquist limit) will be stored.\n",
      "  raw = mne.io.read_raw_brainvision(vhdr_path, preload=True)\n"
     ]
    },
    {
     "name": "stdout",
     "output_type": "stream",
     "text": [
      "Filtering raw data in 1 contiguous segment\n",
      "Setting up band-stop filter from 59 - 61 Hz\n",
      "\n",
      "FIR filter parameters\n",
      "---------------------\n",
      "Designing a one-pass, zero-phase, non-causal bandstop filter:\n",
      "- Windowed time-domain design (firwin) method\n",
      "- Hamming window with 0.0194 passband ripple and 53 dB stopband attenuation\n",
      "- Lower passband edge: 59.35\n",
      "- Lower transition bandwidth: 0.50 Hz (-6 dB cutoff frequency: 59.10 Hz)\n",
      "- Upper passband edge: 60.65 Hz\n",
      "- Upper transition bandwidth: 0.50 Hz (-6 dB cutoff frequency: 60.90 Hz)\n",
      "- Filter length: 1691 samples (6.605 s)\n",
      "\n",
      "Filtering raw data in 1 contiguous segment\n",
      "Setting up band-pass filter from 8 - 30 Hz\n",
      "\n",
      "FIR filter parameters\n",
      "---------------------\n",
      "Designing a one-pass, zero-phase, non-causal bandpass filter:\n",
      "- Windowed time-domain design (firwin) method\n",
      "- Hamming window with 0.0194 passband ripple and 53 dB stopband attenuation\n",
      "- Lower passband edge: 8.00\n",
      "- Lower transition bandwidth: 2.00 Hz (-6 dB cutoff frequency: 7.00 Hz)\n",
      "- Upper passband edge: 30.00 Hz\n",
      "- Upper transition bandwidth: 7.50 Hz (-6 dB cutoff frequency: 33.75 Hz)\n",
      "- Filter length: 423 samples (1.652 s)\n",
      "\n"
     ]
    },
    {
     "name": "stderr",
     "output_type": "stream",
     "text": [
      "[Parallel(n_jobs=1)]: Done  17 tasks      | elapsed:    0.0s\n",
      "[Parallel(n_jobs=1)]: Done  60 out of  60 | elapsed:    0.2s finished\n",
      "[Parallel(n_jobs=1)]: Done  17 tasks      | elapsed:    0.0s\n"
     ]
    },
    {
     "name": "stdout",
     "output_type": "stream",
     "text": [
      "Fitting ICA to data using 60 channels (please be patient, this may take a while)\n",
      "Selecting by number: 15 components\n"
     ]
    },
    {
     "name": "stderr",
     "output_type": "stream",
     "text": [
      "[Parallel(n_jobs=1)]: Done  60 out of  60 | elapsed:    0.2s finished\n"
     ]
    },
    {
     "name": "stdout",
     "output_type": "stream",
     "text": [
      "Fitting ICA took 0.2s.\n",
      "Applying ICA to Raw instance\n",
      "    Transforming to ICA space (15 components)\n",
      "    Zeroing out 0 ICA components\n",
      "    Projecting back using 60 PCA components\n",
      "Used Annotations descriptions: [np.str_('Comment/actiCAP Active Shield On'), np.str_('New Segment/'), np.str_('Stimulus/S  8'), np.str_('Stimulus/S  9'), np.str_('Stimulus/S 10'), np.str_('Stimulus/S 13'), np.str_('Stimulus/S 14'), np.str_('Stimulus/S 91'), np.str_('Stimulus/S101')]\n",
      "Not setting metadata\n",
      "100 matching events found\n",
      "Setting baseline interval to [-0.19921875, 0.0] s\n",
      "Applying baseline correction (mode: mean)\n",
      "0 projection items activated\n",
      "Using data from preloaded Raw for 100 events and 564 original time points ...\n",
      "    Rejecting  epoch based on EEG : ['F7']\n",
      "    Rejecting  epoch based on EEG : ['FC4']\n",
      "2 bad epochs dropped\n",
      "✅ Saved: session3_sub14_twist_MI.npz | Shape: (98, 60, 564)\n",
      "\n",
      "🧠 Processing: /storage/projects1/e19-4yp-mi-eeg-for-bci/rawdata/session3_sub11_twist_MI.vhdr\n",
      "Extracting parameters from /storage/projects1/e19-4yp-mi-eeg-for-bci/rawdata/session3_sub11_twist_MI.vhdr...\n",
      "Setting channel info structure...\n",
      "Reading 0 ... 2642999  =      0.000 ...  1057.200 secs...\n"
     ]
    },
    {
     "name": "stderr",
     "output_type": "stream",
     "text": [
      "/tmp/ipykernel_26682/98459583.py:27: RuntimeWarning: Online software filter detected. Using software filter settings and ignoring hardware values\n",
      "  raw = mne.io.read_raw_brainvision(vhdr_path, preload=True)\n",
      "/tmp/ipykernel_26682/98459583.py:27: RuntimeWarning: Channels contain different highpass filters. Lowest (weakest) filter setting (0.00 Hz) will be stored.\n",
      "  raw = mne.io.read_raw_brainvision(vhdr_path, preload=True)\n",
      "/tmp/ipykernel_26682/98459583.py:27: RuntimeWarning: Channels contain different lowpass filters. Highest (weakest) filter setting (1250.00 Hz, Nyquist limit) will be stored.\n",
      "  raw = mne.io.read_raw_brainvision(vhdr_path, preload=True)\n"
     ]
    },
    {
     "name": "stdout",
     "output_type": "stream",
     "text": [
      "Filtering raw data in 1 contiguous segment\n",
      "Setting up band-stop filter from 59 - 61 Hz\n",
      "\n",
      "FIR filter parameters\n",
      "---------------------\n",
      "Designing a one-pass, zero-phase, non-causal bandstop filter:\n",
      "- Windowed time-domain design (firwin) method\n",
      "- Hamming window with 0.0194 passband ripple and 53 dB stopband attenuation\n",
      "- Lower passband edge: 59.35\n",
      "- Lower transition bandwidth: 0.50 Hz (-6 dB cutoff frequency: 59.10 Hz)\n",
      "- Upper passband edge: 60.65 Hz\n",
      "- Upper transition bandwidth: 0.50 Hz (-6 dB cutoff frequency: 60.90 Hz)\n",
      "- Filter length: 1691 samples (6.605 s)\n",
      "\n",
      "Filtering raw data in 1 contiguous segment\n",
      "Setting up band-pass filter from 8 - 30 Hz\n",
      "\n",
      "FIR filter parameters\n",
      "---------------------\n",
      "Designing a one-pass, zero-phase, non-causal bandpass filter:\n",
      "- Windowed time-domain design (firwin) method\n",
      "- Hamming window with 0.0194 passband ripple and 53 dB stopband attenuation\n",
      "- Lower passband edge: 8.00\n",
      "- Lower transition bandwidth: 2.00 Hz (-6 dB cutoff frequency: 7.00 Hz)\n",
      "- Upper passband edge: 30.00 Hz\n",
      "- Upper transition bandwidth: 7.50 Hz (-6 dB cutoff frequency: 33.75 Hz)\n",
      "- Filter length: 423 samples (1.652 s)\n",
      "\n"
     ]
    },
    {
     "name": "stderr",
     "output_type": "stream",
     "text": [
      "[Parallel(n_jobs=1)]: Done  17 tasks      | elapsed:    0.0s\n",
      "[Parallel(n_jobs=1)]: Done  60 out of  60 | elapsed:    0.2s finished\n",
      "[Parallel(n_jobs=1)]: Done  17 tasks      | elapsed:    0.0s\n"
     ]
    },
    {
     "name": "stdout",
     "output_type": "stream",
     "text": [
      "Fitting ICA to data using 60 channels (please be patient, this may take a while)\n",
      "Selecting by number: 15 components\n"
     ]
    },
    {
     "name": "stderr",
     "output_type": "stream",
     "text": [
      "[Parallel(n_jobs=1)]: Done  60 out of  60 | elapsed:    0.2s finished\n"
     ]
    },
    {
     "name": "stdout",
     "output_type": "stream",
     "text": [
      "Fitting ICA took 0.2s.\n",
      "Applying ICA to Raw instance\n",
      "    Transforming to ICA space (15 components)\n",
      "    Zeroing out 0 ICA components\n",
      "    Projecting back using 60 PCA components\n",
      "Used Annotations descriptions: [np.str_('Comment/actiCAP Data On'), np.str_('New Segment/'), np.str_('Stimulus/S  8'), np.str_('Stimulus/S  9'), np.str_('Stimulus/S 10'), np.str_('Stimulus/S 13'), np.str_('Stimulus/S 14'), np.str_('Stimulus/S 91'), np.str_('Stimulus/S101')]\n",
      "Not setting metadata\n",
      "100 matching events found\n",
      "Setting baseline interval to [-0.19921875, 0.0] s\n",
      "Applying baseline correction (mode: mean)\n",
      "0 projection items activated\n",
      "Using data from preloaded Raw for 100 events and 564 original time points ...\n",
      "    Rejecting  epoch based on EEG : ['AF7', 'Fp2', 'AF8']\n",
      "1 bad epochs dropped\n",
      "✅ Saved: session3_sub11_twist_MI.npz | Shape: (99, 60, 564)\n",
      "\n",
      "🧠 Processing: /storage/projects1/e19-4yp-mi-eeg-for-bci/rawdata/session3_sub4_twist_MI.vhdr\n",
      "Extracting parameters from /storage/projects1/e19-4yp-mi-eeg-for-bci/rawdata/session3_sub4_twist_MI.vhdr...\n",
      "Setting channel info structure...\n",
      "Reading 0 ... 3148199  =      0.000 ...  1259.280 secs...\n"
     ]
    },
    {
     "name": "stderr",
     "output_type": "stream",
     "text": [
      "/tmp/ipykernel_26682/98459583.py:27: RuntimeWarning: Online software filter detected. Using software filter settings and ignoring hardware values\n",
      "  raw = mne.io.read_raw_brainvision(vhdr_path, preload=True)\n",
      "/tmp/ipykernel_26682/98459583.py:27: RuntimeWarning: Channels contain different highpass filters. Lowest (weakest) filter setting (0.00 Hz) will be stored.\n",
      "  raw = mne.io.read_raw_brainvision(vhdr_path, preload=True)\n",
      "/tmp/ipykernel_26682/98459583.py:27: RuntimeWarning: Channels contain different lowpass filters. Highest (weakest) filter setting (1250.00 Hz, Nyquist limit) will be stored.\n",
      "  raw = mne.io.read_raw_brainvision(vhdr_path, preload=True)\n"
     ]
    },
    {
     "name": "stdout",
     "output_type": "stream",
     "text": [
      "Filtering raw data in 1 contiguous segment\n",
      "Setting up band-stop filter from 59 - 61 Hz\n",
      "\n",
      "FIR filter parameters\n",
      "---------------------\n",
      "Designing a one-pass, zero-phase, non-causal bandstop filter:\n",
      "- Windowed time-domain design (firwin) method\n",
      "- Hamming window with 0.0194 passband ripple and 53 dB stopband attenuation\n",
      "- Lower passband edge: 59.35\n",
      "- Lower transition bandwidth: 0.50 Hz (-6 dB cutoff frequency: 59.10 Hz)\n",
      "- Upper passband edge: 60.65 Hz\n",
      "- Upper transition bandwidth: 0.50 Hz (-6 dB cutoff frequency: 60.90 Hz)\n",
      "- Filter length: 1691 samples (6.605 s)\n",
      "\n",
      "Filtering raw data in 1 contiguous segment\n",
      "Setting up band-pass filter from 8 - 30 Hz\n",
      "\n",
      "FIR filter parameters\n",
      "---------------------\n",
      "Designing a one-pass, zero-phase, non-causal bandpass filter:\n",
      "- Windowed time-domain design (firwin) method\n",
      "- Hamming window with 0.0194 passband ripple and 53 dB stopband attenuation\n",
      "- Lower passband edge: 8.00\n",
      "- Lower transition bandwidth: 2.00 Hz (-6 dB cutoff frequency: 7.00 Hz)\n",
      "- Upper passband edge: 30.00 Hz\n",
      "- Upper transition bandwidth: 7.50 Hz (-6 dB cutoff frequency: 33.75 Hz)\n",
      "- Filter length: 423 samples (1.652 s)\n",
      "\n"
     ]
    },
    {
     "name": "stderr",
     "output_type": "stream",
     "text": [
      "[Parallel(n_jobs=1)]: Done  17 tasks      | elapsed:    0.1s\n",
      "[Parallel(n_jobs=1)]: Done  60 out of  60 | elapsed:    0.2s finished\n",
      "[Parallel(n_jobs=1)]: Done  17 tasks      | elapsed:    0.1s\n",
      "[Parallel(n_jobs=1)]: Done  60 out of  60 | elapsed:    0.2s finished\n"
     ]
    },
    {
     "name": "stdout",
     "output_type": "stream",
     "text": [
      "Fitting ICA to data using 60 channels (please be patient, this may take a while)\n",
      "Selecting by number: 15 components\n",
      "Fitting ICA took 0.2s.\n",
      "Applying ICA to Raw instance\n",
      "    Transforming to ICA space (15 components)\n",
      "    Zeroing out 0 ICA components\n",
      "    Projecting back using 60 PCA components\n",
      "Used Annotations descriptions: [np.str_('Comment/actiCAP Active Shield On'), np.str_('New Segment/'), np.str_('Stimulus/S  8'), np.str_('Stimulus/S  9'), np.str_('Stimulus/S 10'), np.str_('Stimulus/S 13'), np.str_('Stimulus/S 14'), np.str_('Stimulus/S 91'), np.str_('Stimulus/S101')]\n",
      "Not setting metadata\n",
      "100 matching events found\n",
      "Setting baseline interval to [-0.19921875, 0.0] s\n",
      "Applying baseline correction (mode: mean)\n",
      "0 projection items activated\n",
      "Using data from preloaded Raw for 100 events and 564 original time points ...\n",
      "0 bad epochs dropped\n",
      "✅ Saved: session3_sub4_twist_MI.npz | Shape: (100, 60, 564)\n",
      "\n",
      "🧠 Processing: /storage/projects1/e19-4yp-mi-eeg-for-bci/rawdata/session1_sub4_twist_MI.vhdr\n",
      "Extracting parameters from /storage/projects1/e19-4yp-mi-eeg-for-bci/rawdata/session1_sub4_twist_MI.vhdr...\n",
      "Setting channel info structure...\n",
      "Reading 0 ... 2581999  =      0.000 ...  1032.800 secs...\n"
     ]
    },
    {
     "name": "stderr",
     "output_type": "stream",
     "text": [
      "/tmp/ipykernel_26682/98459583.py:27: RuntimeWarning: Online software filter detected. Using software filter settings and ignoring hardware values\n",
      "  raw = mne.io.read_raw_brainvision(vhdr_path, preload=True)\n",
      "/tmp/ipykernel_26682/98459583.py:27: RuntimeWarning: Channels contain different highpass filters. Lowest (weakest) filter setting (0.00 Hz) will be stored.\n",
      "  raw = mne.io.read_raw_brainvision(vhdr_path, preload=True)\n",
      "/tmp/ipykernel_26682/98459583.py:27: RuntimeWarning: Channels contain different lowpass filters. Highest (weakest) filter setting (1250.00 Hz, Nyquist limit) will be stored.\n",
      "  raw = mne.io.read_raw_brainvision(vhdr_path, preload=True)\n"
     ]
    },
    {
     "name": "stdout",
     "output_type": "stream",
     "text": [
      "Filtering raw data in 1 contiguous segment\n",
      "Setting up band-stop filter from 59 - 61 Hz\n",
      "\n",
      "FIR filter parameters\n",
      "---------------------\n",
      "Designing a one-pass, zero-phase, non-causal bandstop filter:\n",
      "- Windowed time-domain design (firwin) method\n",
      "- Hamming window with 0.0194 passband ripple and 53 dB stopband attenuation\n",
      "- Lower passband edge: 59.35\n",
      "- Lower transition bandwidth: 0.50 Hz (-6 dB cutoff frequency: 59.10 Hz)\n",
      "- Upper passband edge: 60.65 Hz\n",
      "- Upper transition bandwidth: 0.50 Hz (-6 dB cutoff frequency: 60.90 Hz)\n",
      "- Filter length: 1691 samples (6.605 s)\n",
      "\n",
      "Filtering raw data in 1 contiguous segment\n",
      "Setting up band-pass filter from 8 - 30 Hz\n",
      "\n",
      "FIR filter parameters\n",
      "---------------------\n",
      "Designing a one-pass, zero-phase, non-causal bandpass filter:\n",
      "- Windowed time-domain design (firwin) method\n",
      "- Hamming window with 0.0194 passband ripple and 53 dB stopband attenuation\n",
      "- Lower passband edge: 8.00\n",
      "- Lower transition bandwidth: 2.00 Hz (-6 dB cutoff frequency: 7.00 Hz)\n",
      "- Upper passband edge: 30.00 Hz\n",
      "- Upper transition bandwidth: 7.50 Hz (-6 dB cutoff frequency: 33.75 Hz)\n",
      "- Filter length: 423 samples (1.652 s)\n",
      "\n"
     ]
    },
    {
     "name": "stderr",
     "output_type": "stream",
     "text": [
      "[Parallel(n_jobs=1)]: Done  17 tasks      | elapsed:    0.0s\n",
      "[Parallel(n_jobs=1)]: Done  60 out of  60 | elapsed:    0.2s finished\n",
      "[Parallel(n_jobs=1)]: Done  17 tasks      | elapsed:    0.0s\n"
     ]
    },
    {
     "name": "stdout",
     "output_type": "stream",
     "text": [
      "Fitting ICA to data using 60 channels (please be patient, this may take a while)\n",
      "Selecting by number: 15 components\n"
     ]
    },
    {
     "name": "stderr",
     "output_type": "stream",
     "text": [
      "[Parallel(n_jobs=1)]: Done  60 out of  60 | elapsed:    0.2s finished\n"
     ]
    },
    {
     "name": "stdout",
     "output_type": "stream",
     "text": [
      "Fitting ICA took 0.2s.\n",
      "Applying ICA to Raw instance\n",
      "    Transforming to ICA space (15 components)\n",
      "    Zeroing out 0 ICA components\n",
      "    Projecting back using 60 PCA components\n",
      "Used Annotations descriptions: [np.str_('Comment/actiCAP Active Shield On'), np.str_('New Segment/'), np.str_('Stimulus/S  8'), np.str_('Stimulus/S  9'), np.str_('Stimulus/S 10'), np.str_('Stimulus/S 13'), np.str_('Stimulus/S 14'), np.str_('Stimulus/S 91'), np.str_('Stimulus/S101')]\n",
      "Not setting metadata\n",
      "100 matching events found\n",
      "Setting baseline interval to [-0.19921875, 0.0] s\n",
      "Applying baseline correction (mode: mean)\n",
      "0 projection items activated\n",
      "Using data from preloaded Raw for 100 events and 564 original time points ...\n",
      "0 bad epochs dropped\n",
      "✅ Saved: session1_sub4_twist_MI.npz | Shape: (100, 60, 564)\n",
      "\n",
      "🧠 Processing: /storage/projects1/e19-4yp-mi-eeg-for-bci/rawdata/session3_sub20_twist_MI.vhdr\n",
      "Extracting parameters from /storage/projects1/e19-4yp-mi-eeg-for-bci/rawdata/session3_sub20_twist_MI.vhdr...\n",
      "Setting channel info structure...\n",
      "Reading 0 ... 2564299  =      0.000 ...  1025.720 secs...\n"
     ]
    },
    {
     "name": "stderr",
     "output_type": "stream",
     "text": [
      "/tmp/ipykernel_26682/98459583.py:27: RuntimeWarning: Online software filter detected. Using software filter settings and ignoring hardware values\n",
      "  raw = mne.io.read_raw_brainvision(vhdr_path, preload=True)\n",
      "/tmp/ipykernel_26682/98459583.py:27: RuntimeWarning: Channels contain different highpass filters. Lowest (weakest) filter setting (0.00 Hz) will be stored.\n",
      "  raw = mne.io.read_raw_brainvision(vhdr_path, preload=True)\n",
      "/tmp/ipykernel_26682/98459583.py:27: RuntimeWarning: Channels contain different lowpass filters. Highest (weakest) filter setting (1250.00 Hz, Nyquist limit) will be stored.\n",
      "  raw = mne.io.read_raw_brainvision(vhdr_path, preload=True)\n"
     ]
    },
    {
     "name": "stdout",
     "output_type": "stream",
     "text": [
      "Filtering raw data in 1 contiguous segment\n",
      "Setting up band-stop filter from 59 - 61 Hz\n",
      "\n",
      "FIR filter parameters\n",
      "---------------------\n",
      "Designing a one-pass, zero-phase, non-causal bandstop filter:\n",
      "- Windowed time-domain design (firwin) method\n",
      "- Hamming window with 0.0194 passband ripple and 53 dB stopband attenuation\n",
      "- Lower passband edge: 59.35\n",
      "- Lower transition bandwidth: 0.50 Hz (-6 dB cutoff frequency: 59.10 Hz)\n",
      "- Upper passband edge: 60.65 Hz\n",
      "- Upper transition bandwidth: 0.50 Hz (-6 dB cutoff frequency: 60.90 Hz)\n",
      "- Filter length: 1691 samples (6.605 s)\n",
      "\n",
      "Filtering raw data in 1 contiguous segment\n",
      "Setting up band-pass filter from 8 - 30 Hz\n",
      "\n",
      "FIR filter parameters\n",
      "---------------------\n",
      "Designing a one-pass, zero-phase, non-causal bandpass filter:\n",
      "- Windowed time-domain design (firwin) method\n",
      "- Hamming window with 0.0194 passband ripple and 53 dB stopband attenuation\n",
      "- Lower passband edge: 8.00\n",
      "- Lower transition bandwidth: 2.00 Hz (-6 dB cutoff frequency: 7.00 Hz)\n",
      "- Upper passband edge: 30.00 Hz\n",
      "- Upper transition bandwidth: 7.50 Hz (-6 dB cutoff frequency: 33.75 Hz)\n",
      "- Filter length: 423 samples (1.652 s)\n",
      "\n"
     ]
    },
    {
     "name": "stderr",
     "output_type": "stream",
     "text": [
      "[Parallel(n_jobs=1)]: Done  17 tasks      | elapsed:    0.1s\n",
      "[Parallel(n_jobs=1)]: Done  60 out of  60 | elapsed:    0.2s finished\n"
     ]
    },
    {
     "name": "stdout",
     "output_type": "stream",
     "text": [
      "Fitting ICA to data using 60 channels (please be patient, this may take a while)\n"
     ]
    },
    {
     "name": "stderr",
     "output_type": "stream",
     "text": [
      "[Parallel(n_jobs=1)]: Done  17 tasks      | elapsed:    0.0s\n",
      "[Parallel(n_jobs=1)]: Done  60 out of  60 | elapsed:    0.2s finished\n"
     ]
    },
    {
     "name": "stdout",
     "output_type": "stream",
     "text": [
      "Selecting by number: 15 components\n",
      "Fitting ICA took 0.2s.\n",
      "Applying ICA to Raw instance\n",
      "    Transforming to ICA space (15 components)\n",
      "    Zeroing out 0 ICA components\n",
      "    Projecting back using 60 PCA components\n",
      "Used Annotations descriptions: [np.str_('Comment/actiCAP Active Shield On'), np.str_('New Segment/'), np.str_('Stimulus/S  8'), np.str_('Stimulus/S  9'), np.str_('Stimulus/S 10'), np.str_('Stimulus/S 13'), np.str_('Stimulus/S 14'), np.str_('Stimulus/S 91'), np.str_('Stimulus/S101')]\n",
      "Not setting metadata\n",
      "100 matching events found\n",
      "Setting baseline interval to [-0.19921875, 0.0] s\n",
      "Applying baseline correction (mode: mean)\n",
      "0 projection items activated\n",
      "Using data from preloaded Raw for 100 events and 564 original time points ...\n",
      "    Rejecting  epoch based on EEG : ['Fp1']\n",
      "    Rejecting  epoch based on EEG : ['F7', 'F5', 'FT7', 'T7', 'AF8', 'FC6', 'FT8', 'T8']\n",
      "    Rejecting  epoch based on EEG : ['Fp1']\n",
      "    Rejecting  epoch based on EEG : ['AF8']\n",
      "    Rejecting  epoch based on EEG : ['Fp1', 'AF7']\n",
      "    Rejecting  epoch based on EEG : ['FT7', 'F8']\n",
      "    Rejecting  epoch based on EEG : ['F7', 'FT7', 'FC6', 'FT8']\n",
      "    Rejecting  epoch based on EEG : ['AF3', 'AF8']\n",
      "8 bad epochs dropped\n",
      "✅ Saved: session3_sub20_twist_MI.npz | Shape: (92, 60, 564)\n",
      "\n",
      "🧠 Processing: /storage/projects1/e19-4yp-mi-eeg-for-bci/rawdata/session2_sub11_twist_MI.vhdr\n",
      "Extracting parameters from /storage/projects1/e19-4yp-mi-eeg-for-bci/rawdata/session2_sub11_twist_MI.vhdr...\n",
      "Setting channel info structure...\n",
      "Reading 0 ... 2577799  =      0.000 ...  1031.120 secs...\n"
     ]
    },
    {
     "name": "stderr",
     "output_type": "stream",
     "text": [
      "/tmp/ipykernel_26682/98459583.py:27: RuntimeWarning: Online software filter detected. Using software filter settings and ignoring hardware values\n",
      "  raw = mne.io.read_raw_brainvision(vhdr_path, preload=True)\n",
      "/tmp/ipykernel_26682/98459583.py:27: RuntimeWarning: Channels contain different highpass filters. Lowest (weakest) filter setting (0.00 Hz) will be stored.\n",
      "  raw = mne.io.read_raw_brainvision(vhdr_path, preload=True)\n",
      "/tmp/ipykernel_26682/98459583.py:27: RuntimeWarning: Channels contain different lowpass filters. Highest (weakest) filter setting (1250.00 Hz, Nyquist limit) will be stored.\n",
      "  raw = mne.io.read_raw_brainvision(vhdr_path, preload=True)\n"
     ]
    },
    {
     "name": "stdout",
     "output_type": "stream",
     "text": [
      "Filtering raw data in 1 contiguous segment\n",
      "Setting up band-stop filter from 59 - 61 Hz\n",
      "\n",
      "FIR filter parameters\n",
      "---------------------\n",
      "Designing a one-pass, zero-phase, non-causal bandstop filter:\n",
      "- Windowed time-domain design (firwin) method\n",
      "- Hamming window with 0.0194 passband ripple and 53 dB stopband attenuation\n",
      "- Lower passband edge: 59.35\n",
      "- Lower transition bandwidth: 0.50 Hz (-6 dB cutoff frequency: 59.10 Hz)\n",
      "- Upper passband edge: 60.65 Hz\n",
      "- Upper transition bandwidth: 0.50 Hz (-6 dB cutoff frequency: 60.90 Hz)\n",
      "- Filter length: 1691 samples (6.605 s)\n",
      "\n",
      "Filtering raw data in 1 contiguous segment\n",
      "Setting up band-pass filter from 8 - 30 Hz\n",
      "\n",
      "FIR filter parameters\n",
      "---------------------\n",
      "Designing a one-pass, zero-phase, non-causal bandpass filter:\n",
      "- Windowed time-domain design (firwin) method\n",
      "- Hamming window with 0.0194 passband ripple and 53 dB stopband attenuation\n",
      "- Lower passband edge: 8.00\n",
      "- Lower transition bandwidth: 2.00 Hz (-6 dB cutoff frequency: 7.00 Hz)\n",
      "- Upper passband edge: 30.00 Hz\n",
      "- Upper transition bandwidth: 7.50 Hz (-6 dB cutoff frequency: 33.75 Hz)\n",
      "- Filter length: 423 samples (1.652 s)\n",
      "\n"
     ]
    },
    {
     "name": "stderr",
     "output_type": "stream",
     "text": [
      "[Parallel(n_jobs=1)]: Done  17 tasks      | elapsed:    0.0s\n",
      "[Parallel(n_jobs=1)]: Done  60 out of  60 | elapsed:    0.2s finished\n"
     ]
    },
    {
     "name": "stdout",
     "output_type": "stream",
     "text": [
      "Fitting ICA to data using 60 channels (please be patient, this may take a while)\n"
     ]
    },
    {
     "name": "stderr",
     "output_type": "stream",
     "text": [
      "[Parallel(n_jobs=1)]: Done  17 tasks      | elapsed:    0.1s\n",
      "[Parallel(n_jobs=1)]: Done  60 out of  60 | elapsed:    0.2s finished\n"
     ]
    },
    {
     "name": "stdout",
     "output_type": "stream",
     "text": [
      "Selecting by number: 15 components\n",
      "Fitting ICA took 0.3s.\n",
      "Applying ICA to Raw instance\n",
      "    Transforming to ICA space (15 components)\n",
      "    Zeroing out 0 ICA components\n",
      "    Projecting back using 60 PCA components\n",
      "Used Annotations descriptions: [np.str_('Comment/actiCAP Active Shield On'), np.str_('New Segment/'), np.str_('Stimulus/S  8'), np.str_('Stimulus/S  9'), np.str_('Stimulus/S 10'), np.str_('Stimulus/S 13'), np.str_('Stimulus/S 14'), np.str_('Stimulus/S 91'), np.str_('Stimulus/S101')]\n",
      "Not setting metadata\n",
      "100 matching events found\n",
      "Setting baseline interval to [-0.19921875, 0.0] s\n",
      "Applying baseline correction (mode: mean)\n",
      "0 projection items activated\n",
      "Using data from preloaded Raw for 100 events and 564 original time points ...\n",
      "0 bad epochs dropped\n",
      "✅ Saved: session2_sub11_twist_MI.npz | Shape: (100, 60, 564)\n",
      "\n",
      "🧠 Processing: /storage/projects1/e19-4yp-mi-eeg-for-bci/rawdata/session2_sub8_twist_MI.vhdr\n",
      "Extracting parameters from /storage/projects1/e19-4yp-mi-eeg-for-bci/rawdata/session2_sub8_twist_MI.vhdr...\n",
      "Setting channel info structure...\n",
      "Reading 0 ... 2607399  =      0.000 ...  1042.960 secs...\n"
     ]
    },
    {
     "name": "stderr",
     "output_type": "stream",
     "text": [
      "/tmp/ipykernel_26682/98459583.py:27: RuntimeWarning: Online software filter detected. Using software filter settings and ignoring hardware values\n",
      "  raw = mne.io.read_raw_brainvision(vhdr_path, preload=True)\n",
      "/tmp/ipykernel_26682/98459583.py:27: RuntimeWarning: Channels contain different highpass filters. Lowest (weakest) filter setting (0.00 Hz) will be stored.\n",
      "  raw = mne.io.read_raw_brainvision(vhdr_path, preload=True)\n",
      "/tmp/ipykernel_26682/98459583.py:27: RuntimeWarning: Channels contain different lowpass filters. Highest (weakest) filter setting (1250.00 Hz, Nyquist limit) will be stored.\n",
      "  raw = mne.io.read_raw_brainvision(vhdr_path, preload=True)\n"
     ]
    },
    {
     "name": "stdout",
     "output_type": "stream",
     "text": [
      "Filtering raw data in 1 contiguous segment\n",
      "Setting up band-stop filter from 59 - 61 Hz\n",
      "\n",
      "FIR filter parameters\n",
      "---------------------\n",
      "Designing a one-pass, zero-phase, non-causal bandstop filter:\n",
      "- Windowed time-domain design (firwin) method\n",
      "- Hamming window with 0.0194 passband ripple and 53 dB stopband attenuation\n",
      "- Lower passband edge: 59.35\n",
      "- Lower transition bandwidth: 0.50 Hz (-6 dB cutoff frequency: 59.10 Hz)\n",
      "- Upper passband edge: 60.65 Hz\n",
      "- Upper transition bandwidth: 0.50 Hz (-6 dB cutoff frequency: 60.90 Hz)\n",
      "- Filter length: 1691 samples (6.605 s)\n",
      "\n",
      "Filtering raw data in 1 contiguous segment\n",
      "Setting up band-pass filter from 8 - 30 Hz\n",
      "\n",
      "FIR filter parameters\n",
      "---------------------\n",
      "Designing a one-pass, zero-phase, non-causal bandpass filter:\n",
      "- Windowed time-domain design (firwin) method\n",
      "- Hamming window with 0.0194 passband ripple and 53 dB stopband attenuation\n",
      "- Lower passband edge: 8.00\n",
      "- Lower transition bandwidth: 2.00 Hz (-6 dB cutoff frequency: 7.00 Hz)\n",
      "- Upper passband edge: 30.00 Hz\n",
      "- Upper transition bandwidth: 7.50 Hz (-6 dB cutoff frequency: 33.75 Hz)\n",
      "- Filter length: 423 samples (1.652 s)\n",
      "\n"
     ]
    },
    {
     "name": "stderr",
     "output_type": "stream",
     "text": [
      "[Parallel(n_jobs=1)]: Done  17 tasks      | elapsed:    0.0s\n",
      "[Parallel(n_jobs=1)]: Done  60 out of  60 | elapsed:    0.2s finished\n",
      "[Parallel(n_jobs=1)]: Done  17 tasks      | elapsed:    0.0s\n"
     ]
    },
    {
     "name": "stdout",
     "output_type": "stream",
     "text": [
      "Fitting ICA to data using 60 channels (please be patient, this may take a while)\n",
      "Selecting by number: 15 components\n"
     ]
    },
    {
     "name": "stderr",
     "output_type": "stream",
     "text": [
      "[Parallel(n_jobs=1)]: Done  60 out of  60 | elapsed:    0.2s finished\n"
     ]
    },
    {
     "name": "stdout",
     "output_type": "stream",
     "text": [
      "Fitting ICA took 0.2s.\n",
      "Applying ICA to Raw instance\n",
      "    Transforming to ICA space (15 components)\n",
      "    Zeroing out 0 ICA components\n",
      "    Projecting back using 60 PCA components\n",
      "Used Annotations descriptions: [np.str_('Comment/actiCAP Active Shield On'), np.str_('New Segment/'), np.str_('Stimulus/S  8'), np.str_('Stimulus/S  9'), np.str_('Stimulus/S 10'), np.str_('Stimulus/S 13'), np.str_('Stimulus/S 14'), np.str_('Stimulus/S 91'), np.str_('Stimulus/S101')]\n",
      "Not setting metadata\n",
      "100 matching events found\n",
      "Setting baseline interval to [-0.19921875, 0.0] s\n",
      "Applying baseline correction (mode: mean)\n",
      "0 projection items activated\n",
      "Using data from preloaded Raw for 100 events and 564 original time points ...\n",
      "0 bad epochs dropped\n",
      "✅ Saved: session2_sub8_twist_MI.npz | Shape: (100, 60, 564)\n",
      "\n",
      "🧠 Processing: /storage/projects1/e19-4yp-mi-eeg-for-bci/rawdata/session3_sub22_twist_MI.vhdr\n",
      "Extracting parameters from /storage/projects1/e19-4yp-mi-eeg-for-bci/rawdata/session3_sub22_twist_MI.vhdr...\n",
      "Setting channel info structure...\n",
      "Reading 0 ... 2572799  =      0.000 ...  1029.120 secs...\n"
     ]
    },
    {
     "name": "stderr",
     "output_type": "stream",
     "text": [
      "/tmp/ipykernel_26682/98459583.py:27: RuntimeWarning: Online software filter detected. Using software filter settings and ignoring hardware values\n",
      "  raw = mne.io.read_raw_brainvision(vhdr_path, preload=True)\n",
      "/tmp/ipykernel_26682/98459583.py:27: RuntimeWarning: Channels contain different highpass filters. Lowest (weakest) filter setting (0.00 Hz) will be stored.\n",
      "  raw = mne.io.read_raw_brainvision(vhdr_path, preload=True)\n",
      "/tmp/ipykernel_26682/98459583.py:27: RuntimeWarning: Channels contain different lowpass filters. Highest (weakest) filter setting (1250.00 Hz, Nyquist limit) will be stored.\n",
      "  raw = mne.io.read_raw_brainvision(vhdr_path, preload=True)\n"
     ]
    },
    {
     "name": "stdout",
     "output_type": "stream",
     "text": [
      "Filtering raw data in 1 contiguous segment\n",
      "Setting up band-stop filter from 59 - 61 Hz\n",
      "\n",
      "FIR filter parameters\n",
      "---------------------\n",
      "Designing a one-pass, zero-phase, non-causal bandstop filter:\n",
      "- Windowed time-domain design (firwin) method\n",
      "- Hamming window with 0.0194 passband ripple and 53 dB stopband attenuation\n",
      "- Lower passband edge: 59.35\n",
      "- Lower transition bandwidth: 0.50 Hz (-6 dB cutoff frequency: 59.10 Hz)\n",
      "- Upper passband edge: 60.65 Hz\n",
      "- Upper transition bandwidth: 0.50 Hz (-6 dB cutoff frequency: 60.90 Hz)\n",
      "- Filter length: 1691 samples (6.605 s)\n",
      "\n",
      "Filtering raw data in 1 contiguous segment\n",
      "Setting up band-pass filter from 8 - 30 Hz\n",
      "\n",
      "FIR filter parameters\n",
      "---------------------\n",
      "Designing a one-pass, zero-phase, non-causal bandpass filter:\n",
      "- Windowed time-domain design (firwin) method\n",
      "- Hamming window with 0.0194 passband ripple and 53 dB stopband attenuation\n",
      "- Lower passband edge: 8.00\n",
      "- Lower transition bandwidth: 2.00 Hz (-6 dB cutoff frequency: 7.00 Hz)\n",
      "- Upper passband edge: 30.00 Hz\n",
      "- Upper transition bandwidth: 7.50 Hz (-6 dB cutoff frequency: 33.75 Hz)\n",
      "- Filter length: 423 samples (1.652 s)\n",
      "\n"
     ]
    },
    {
     "name": "stderr",
     "output_type": "stream",
     "text": [
      "[Parallel(n_jobs=1)]: Done  17 tasks      | elapsed:    0.0s\n",
      "[Parallel(n_jobs=1)]: Done  60 out of  60 | elapsed:    0.2s finished\n"
     ]
    },
    {
     "name": "stdout",
     "output_type": "stream",
     "text": [
      "Fitting ICA to data using 60 channels (please be patient, this may take a while)\n"
     ]
    },
    {
     "name": "stderr",
     "output_type": "stream",
     "text": [
      "[Parallel(n_jobs=1)]: Done  17 tasks      | elapsed:    0.1s\n",
      "[Parallel(n_jobs=1)]: Done  60 out of  60 | elapsed:    0.2s finished\n"
     ]
    },
    {
     "name": "stdout",
     "output_type": "stream",
     "text": [
      "Selecting by number: 15 components\n",
      "Fitting ICA took 0.2s.\n",
      "Applying ICA to Raw instance\n",
      "    Transforming to ICA space (15 components)\n",
      "    Zeroing out 0 ICA components\n",
      "    Projecting back using 60 PCA components\n",
      "Used Annotations descriptions: [np.str_('Comment/actiCAP Active Shield On'), np.str_('New Segment/'), np.str_('Stimulus/S  8'), np.str_('Stimulus/S  9'), np.str_('Stimulus/S 10'), np.str_('Stimulus/S 13'), np.str_('Stimulus/S 14'), np.str_('Stimulus/S 91'), np.str_('Stimulus/S101')]\n",
      "Not setting metadata\n",
      "100 matching events found\n",
      "Setting baseline interval to [-0.19921875, 0.0] s\n",
      "Applying baseline correction (mode: mean)\n",
      "0 projection items activated\n",
      "Using data from preloaded Raw for 100 events and 564 original time points ...\n",
      "    Rejecting  epoch based on EEG : ['F7', 'F5', 'FT7', 'FC5', 'FC3', 'T7', 'C5', 'C3', 'TP7', 'FC4', 'FC6', 'FT8', 'C4', 'C6', 'T8', 'CP4', 'CP6', 'TP8']\n",
      "    Rejecting  epoch based on EEG : ['F5', 'FT7', 'FC5', 'FC3', 'T7', 'C5', 'C3', 'TP7', 'FC6', 'FT8', 'C6', 'T8', 'CP6', 'TP8']\n",
      "    Rejecting  epoch based on EEG : ['F7', 'F5', 'FT7', 'FC5', 'FC3', 'T7', 'C5', 'C3', 'TP7', 'F8', 'FC4', 'FC6', 'FT8', 'C4', 'C6', 'T8', 'CP4', 'CP6', 'TP8']\n",
      "    Rejecting  epoch based on EEG : ['FC6', 'C6', 'CP6']\n",
      "    Rejecting  epoch based on EEG : ['F7', 'F5', 'FT7', 'FC3', 'T7', 'C5', 'C3', 'TP7']\n",
      "    Rejecting  epoch based on EEG : ['AF7', 'T7', 'C5', 'TP7']\n",
      "    Rejecting  epoch based on EEG : ['F7', 'F5', 'FT7', 'FC5', 'FC3', 'T7', 'C5']\n",
      "    Rejecting  epoch based on EEG : ['T7', 'C5', 'TP7']\n",
      "    Rejecting  epoch based on EEG : ['FC6']\n",
      "    Rejecting  epoch based on EEG : ['TP7']\n",
      "    Rejecting  epoch based on EEG : ['FC5', 'C5', 'TP7']\n",
      "    Rejecting  epoch based on EEG : ['AF7']\n",
      "    Rejecting  epoch based on EEG : ['F7', 'F5', 'FT7', 'FC5', 'FC3', 'T7', 'C5', 'C3', 'TP7']\n",
      "13 bad epochs dropped\n",
      "✅ Saved: session3_sub22_twist_MI.npz | Shape: (87, 60, 564)\n",
      "\n",
      "🧠 Processing: /storage/projects1/e19-4yp-mi-eeg-for-bci/rawdata/session2_sub17_twist_MI.vhdr\n",
      "Extracting parameters from /storage/projects1/e19-4yp-mi-eeg-for-bci/rawdata/session2_sub17_twist_MI.vhdr...\n",
      "Setting channel info structure...\n",
      "Reading 0 ... 2857999  =      0.000 ...  1143.200 secs...\n"
     ]
    },
    {
     "name": "stderr",
     "output_type": "stream",
     "text": [
      "/tmp/ipykernel_26682/98459583.py:27: RuntimeWarning: Online software filter detected. Using software filter settings and ignoring hardware values\n",
      "  raw = mne.io.read_raw_brainvision(vhdr_path, preload=True)\n",
      "/tmp/ipykernel_26682/98459583.py:27: RuntimeWarning: Channels contain different highpass filters. Lowest (weakest) filter setting (0.00 Hz) will be stored.\n",
      "  raw = mne.io.read_raw_brainvision(vhdr_path, preload=True)\n",
      "/tmp/ipykernel_26682/98459583.py:27: RuntimeWarning: Channels contain different lowpass filters. Highest (weakest) filter setting (1250.00 Hz, Nyquist limit) will be stored.\n",
      "  raw = mne.io.read_raw_brainvision(vhdr_path, preload=True)\n"
     ]
    },
    {
     "name": "stdout",
     "output_type": "stream",
     "text": [
      "Filtering raw data in 1 contiguous segment\n",
      "Setting up band-stop filter from 59 - 61 Hz\n",
      "\n",
      "FIR filter parameters\n",
      "---------------------\n",
      "Designing a one-pass, zero-phase, non-causal bandstop filter:\n",
      "- Windowed time-domain design (firwin) method\n",
      "- Hamming window with 0.0194 passband ripple and 53 dB stopband attenuation\n",
      "- Lower passband edge: 59.35\n",
      "- Lower transition bandwidth: 0.50 Hz (-6 dB cutoff frequency: 59.10 Hz)\n",
      "- Upper passband edge: 60.65 Hz\n",
      "- Upper transition bandwidth: 0.50 Hz (-6 dB cutoff frequency: 60.90 Hz)\n",
      "- Filter length: 1691 samples (6.605 s)\n",
      "\n",
      "Filtering raw data in 1 contiguous segment\n",
      "Setting up band-pass filter from 8 - 30 Hz\n",
      "\n",
      "FIR filter parameters\n",
      "---------------------\n",
      "Designing a one-pass, zero-phase, non-causal bandpass filter:\n",
      "- Windowed time-domain design (firwin) method\n",
      "- Hamming window with 0.0194 passband ripple and 53 dB stopband attenuation\n",
      "- Lower passband edge: 8.00\n",
      "- Lower transition bandwidth: 2.00 Hz (-6 dB cutoff frequency: 7.00 Hz)\n",
      "- Upper passband edge: 30.00 Hz\n",
      "- Upper transition bandwidth: 7.50 Hz (-6 dB cutoff frequency: 33.75 Hz)\n",
      "- Filter length: 423 samples (1.652 s)\n",
      "\n"
     ]
    },
    {
     "name": "stderr",
     "output_type": "stream",
     "text": [
      "[Parallel(n_jobs=1)]: Done  17 tasks      | elapsed:    0.1s\n",
      "[Parallel(n_jobs=1)]: Done  60 out of  60 | elapsed:    0.2s finished\n"
     ]
    },
    {
     "name": "stdout",
     "output_type": "stream",
     "text": [
      "Fitting ICA to data using 60 channels (please be patient, this may take a while)\n"
     ]
    },
    {
     "name": "stderr",
     "output_type": "stream",
     "text": [
      "[Parallel(n_jobs=1)]: Done  17 tasks      | elapsed:    0.1s\n",
      "[Parallel(n_jobs=1)]: Done  60 out of  60 | elapsed:    0.2s finished\n"
     ]
    },
    {
     "name": "stdout",
     "output_type": "stream",
     "text": [
      "Selecting by number: 15 components\n",
      "Fitting ICA took 0.1s.\n",
      "Applying ICA to Raw instance\n",
      "    Transforming to ICA space (15 components)\n",
      "    Zeroing out 0 ICA components\n",
      "    Projecting back using 60 PCA components\n",
      "Used Annotations descriptions: [np.str_('Comment/actiCAP Active Shield On'), np.str_('New Segment/'), np.str_('Stimulus/S  8'), np.str_('Stimulus/S  9'), np.str_('Stimulus/S 10'), np.str_('Stimulus/S 13'), np.str_('Stimulus/S 14'), np.str_('Stimulus/S 91'), np.str_('Stimulus/S101')]\n",
      "Not setting metadata\n",
      "100 matching events found\n",
      "Setting baseline interval to [-0.19921875, 0.0] s\n",
      "Applying baseline correction (mode: mean)\n",
      "0 projection items activated\n",
      "Using data from preloaded Raw for 100 events and 564 original time points ...\n",
      "    Rejecting  epoch based on EEG : ['FC6', 'C4', 'C6']\n",
      "1 bad epochs dropped\n",
      "✅ Saved: session2_sub17_twist_MI.npz | Shape: (99, 60, 564)\n"
     ]
    }
   ],
   "source": [
    "import os\n",
    "import glob\n",
    "import numpy as np\n",
    "import mne\n",
    "import gc\n",
    "import time\n",
    "from sklearn.preprocessing import StandardScaler\n",
    "\n",
    "\n",
    "# ---------- Paths ----------\n",
    "eeg_data = '/storage/projects1/e19-4yp-mi-eeg-for-bci/rawdata'\n",
    "output_dir = '/storage/projects1/e19-4yp-mi-eeg-for-bci/ashan/processed_data3'\n",
    "os.makedirs(output_dir, exist_ok=True)\n",
    "\n",
    "# ---------- Files to skip ----------\n",
    "skip_files = ['session3_sub13', 'session1_sub23', 'session2_sub7', 'session2_sub12', 'session2_sub6']\n",
    "all_vhdr_files = glob.glob(os.path.join(eeg_data, '*.vhdr'))\n",
    "vhdr_paths = [f for f in all_vhdr_files if 'Move' not in os.path.basename(f) and all(skip not in f for skip in skip_files)]\n",
    "\n",
    "# ---------- Class mapping ----------\n",
    "wrist_events = {'pronation': 91, 'supination': 101}\n",
    "\n",
    "# ---------- Process each file ----------\n",
    "for vhdr_path in vhdr_paths:\n",
    "    try:\n",
    "        print(f\"\\n🧠 Processing: {vhdr_path}\")\n",
    "        raw = mne.io.read_raw_brainvision(vhdr_path, preload=True)\n",
    "\n",
    "        # Drop EOG & EMG channels\n",
    "        raw.drop_channels([ch for ch in raw.ch_names if 'EOG' in ch or 'EMG' in ch])\n",
    "\n",
    "        # Crop to reduce memory usage (optional: adjust tmax based on your needs)\n",
    "        # raw.crop(tmin=0, tmax=180)  # First 3 minutes only\n",
    "\n",
    "        # Downsample early to save memory\n",
    "        raw.resample(256, npad=\"auto\")\n",
    "\n",
    "        # Filter\n",
    "        raw.notch_filter(freqs=[60])\n",
    "        raw.filter(8., 30., fir_design='firwin')\n",
    "\n",
    "        # ICA on cropped data for efficiency\n",
    "        ica = mne.preprocessing.ICA(n_components=15, random_state=97, max_iter='auto')\n",
    "        ica.fit(raw.copy().crop(tmax=60))  # Only first 60s for fitting\n",
    "        raw = ica.apply(raw)\n",
    "\n",
    "        # Extract events\n",
    "        events, event_id = mne.events_from_annotations(raw)\n",
    "\n",
    "        # Epoching\n",
    "        epochs = mne.Epochs(\n",
    "            raw, events, event_id=wrist_events,\n",
    "            tmin=-0.2, tmax=2.0,\n",
    "            baseline=(None, 0),\n",
    "            preload=True,\n",
    "            reject=dict(eeg=150e-6)  # Remove high amplitude artifacts\n",
    "        )\n",
    "\n",
    "        if len(epochs) == 0:\n",
    "            print(f\"⚠️ All epochs rejected for {vhdr_path}\")\n",
    "            continue\n",
    "\n",
    "        # Extract data and labels\n",
    "        X = epochs.get_data().astype(np.float32)  # (n_epochs, n_channels, n_times)\n",
    "        y = np.array([0 if ev[-1] == 91 else 1 for ev in epochs.events], dtype=np.int8)\n",
    "\n",
    "        # Standardize channel-wise\n",
    "        for i in range(X.shape[0]):\n",
    "            X[i] = StandardScaler().fit_transform(X[i].T).T\n",
    "\n",
    "        # Save\n",
    "        filename = os.path.splitext(os.path.basename(vhdr_path))[0]\n",
    "        np.savez_compressed(os.path.join(output_dir, f\"{filename}.npz\"), X=X, y=y)\n",
    "\n",
    "        print(f\"✅ Saved: {filename}.npz | Shape: {X.shape}\")\n",
    "\n",
    "        # Cleanup\n",
    "        del raw, epochs, X, y, ica\n",
    "        gc.collect()\n",
    "        time.sleep(1)  # Allow time for memory to clean up\n",
    "\n",
    "    except Exception as e:\n",
    "        print(f\"❌ Error processing {vhdr_path}: {e}\")\n"
   ]
  },
  {
   "cell_type": "code",
   "execution_count": null,
   "id": "c6e1583d-16f6-42f6-b0ef-d561465c6a28",
   "metadata": {},
   "outputs": [],
   "source": []
  }
 ],
 "metadata": {
  "kernelspec": {
   "display_name": "preprocess-env",
   "language": "python",
   "name": "preprocess-env"
  },
  "language_info": {
   "codemirror_mode": {
    "name": "ipython",
    "version": 3
   },
   "file_extension": ".py",
   "mimetype": "text/x-python",
   "name": "python",
   "nbconvert_exporter": "python",
   "pygments_lexer": "ipython3",
   "version": "3.10.17"
  }
 },
 "nbformat": 4,
 "nbformat_minor": 5
}
